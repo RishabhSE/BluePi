{
 "cells": [
  {
   "cell_type": "markdown",
   "metadata": {},
   "source": [
    "##  1) EC2\n",
    "\n",
    "1. Before **Launching** our first instance, we should create a **key-pair**\n",
    "2. Launch **Instance**\n",
    "3. Select OS\n",
    "4. **...**\n",
    "5. Launch Instance and wait for **Instance State** to start running\n",
    "6. Open **TERMINAL**\n",
    "7. Copy **IPv4 IP Address** \n",
    "    - To check the connectivity\n",
    "    - `telnet 34.219.75.27 22`\n",
    "    - press **Ctrl+]** to go out of telnet\n",
    "    - `quit`\n",
    "8. Connect to Linux Server\n",
    "    - Since SSH works with **port no. 22**, therefore we want to check the connectivity\n",
    "        as stated above\n",
    "    - --> `ssh ec2-user@34.219.75.27`\n",
    "    > ec2-user@34.219.75.27: Permission denied (publickey).\n",
    "    - since we have downloaded the key, change its permission & add \n",
    "        - `chmod 600 rishabh-bluepi.pem`\n",
    "        - `ssh -i /home/bluepi/Documents/rishabh-bluepi.pem ec2-user@34.219.75.27`\n",
    "9. Now, we have automatically logged-in to the ***EC2** Instance now\n",
    "10. Go to the root account\n",
    "    - `sudo su -`\n",
    "    - insall nginx\n",
    "        - `yum -y install nginx`\n",
    "    - Check nginx status\n",
    "        - `service nginx status`\n",
    "    - if stopped, start nginx service\n",
    "        - `service nginx start`\n",
    "    - On which port nginx is running\n",
    "        `netstat -ntlp`\n",
    "    > nginx port_no. = 80 & ssh port_no. = 22\n",
    "    - Check whether we are able to connect to nginx service\n",
    "        - `telnet 34.219.75.27 80`\n",
    "        - If not connected \n",
    "            - **Reason**\n",
    "            - Firewall(Security Group) is only allowing port 22 [inbound rules]\n",
    "            - Add custom inbound rule to port 80\n",
    "\n",
    "11. Copy the IP and add it to the new tab\n",
    "12. To Edit the page\n",
    "    - `cd/usr/share/nginx/html/`\n",
    "    - The given page has been rendered from **index.html**\n",
    "    - `nano index.html`\n",
    "    - to remove all the content( blank file )\n",
    "    - `echo >index.html`\n",
    "    - nano index.html\n",
    "    - now add custom message\n",
    "13. **DONE**\n",
    "\n",
    "## 2) Network ACL( Access Ctrl List )\n",
    "\n",
    "> A network access control list (ACL) is an optional layer of security for your VPC that acts as a firewall for controlling traffic in and out of one or more subnets.\n",
    "\n",
    "- **Network ACL** work at subnet level instead of instance level like in **Security Group**\n",
    "- One Subnet can contain hundreds of instances\n",
    "- A single Network ACL can be associated with multiple subnets\n",
    "\n",
    "> *Let we have to block a particular IP which is attacking our systems(let we have 500 servers) then this cannot be done by Security Groups as we cannot block IP address for these many servers using Security Groups. Therefore, Network ACL is used*\n",
    "  \n",
    "- Whenever we create a NEW VPC AWS will create a Network ACL\n",
    "\n",
    "1. In order to access **Network ACL** we have to open **VPC Console**\n",
    "2. Select VPC from **VPC DashBoard** *(select a VPC) BOX*\n",
    "3. **Goto** \n",
    "    - Security --> Network ACL --> InBound Rules\n",
    "    > InBound Rules --> In Network ACL **The lower the number, the higher the priority it will take**\n",
    "4. `ping 54.190.42.141` we can see the output\n",
    "5. Edit Inbound Rules\n",
    "    - Add rule with rule No. 99 and deny it\n",
    "6. Now ping again --> no Output\n",
    "\n",
    "\n",
    "\n",
    "\n",
    "\n",
    "\n",
    "\n",
    "\n"
   ]
  }
 ],
 "metadata": {
  "kernelspec": {
   "display_name": "Python 3",
   "language": "python",
   "name": "python3"
  },
  "language_info": {
   "codemirror_mode": {
    "name": "ipython",
    "version": 3
   },
   "file_extension": ".py",
   "mimetype": "text/x-python",
   "name": "python",
   "nbconvert_exporter": "python",
   "pygments_lexer": "ipython3",
   "version": "3.7.4"
  },
  "varInspector": {
   "cols": {
    "lenName": 16,
    "lenType": 16,
    "lenVar": 40
   },
   "kernels_config": {
    "python": {
     "delete_cmd_postfix": "",
     "delete_cmd_prefix": "del ",
     "library": "var_list.py",
     "varRefreshCmd": "print(var_dic_list())"
    },
    "r": {
     "delete_cmd_postfix": ") ",
     "delete_cmd_prefix": "rm(",
     "library": "var_list.r",
     "varRefreshCmd": "cat(var_dic_list()) "
    }
   },
   "types_to_exclude": [
    "module",
    "function",
    "builtin_function_or_method",
    "instance",
    "_Feature"
   ],
   "window_display": false
  }
 },
 "nbformat": 4,
 "nbformat_minor": 4
}
