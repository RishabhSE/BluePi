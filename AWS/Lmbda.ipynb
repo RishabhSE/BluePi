{
 "cells": [
  {
   "cell_type": "markdown",
   "metadata": {},
   "source": [
    "## AWS Lambda\n",
    "\n",
    "### 1) OverView\n",
    "\n",
    "1. **ARN (Amazon Resource Name )** -- It stays unique throughout the AWS . It is used to uniquely identify any resources within the AWS.\n",
    "\n",
    "2.  - **Function Policy** -- It defines which AWS resources are allowed to invoke this **lambda function**.\n",
    "    - **Execution Role** -- It defines which AWS resources to which this **lambda function** has access to.\n",
    "    \n",
    "3. **Handlers** -- It defines two things :-\n",
    "               - Name of the main file\n",
    "               - name of the main function\n",
    "                    - Eg:- lambda_function_name.lamda_main_function_name ( this is our handler name )\n",
    "    - If these ( handler name & ( main file + main function) name ) are not same then error will be thrown\n",
    "\n",
    "4. **Tags** -- Advantages :-\n",
    "        - grouping and filtering\n",
    "        - Cost allocation \n",
    "\n",
    "5. **Concurrency** --  No. of lambda executions taking at a time\n"
   ]
  }
 ],
 "metadata": {
  "hide_input": false,
  "kernelspec": {
   "display_name": "Python 3",
   "language": "python",
   "name": "python3"
  },
  "language_info": {
   "codemirror_mode": {
    "name": "ipython",
    "version": 3
   },
   "file_extension": ".py",
   "mimetype": "text/x-python",
   "name": "python",
   "nbconvert_exporter": "python",
   "pygments_lexer": "ipython3",
   "version": "3.7.7"
  },
  "varInspector": {
   "cols": {
    "lenName": 16,
    "lenType": 16,
    "lenVar": 40
   },
   "kernels_config": {
    "python": {
     "delete_cmd_postfix": "",
     "delete_cmd_prefix": "del ",
     "library": "var_list.py",
     "varRefreshCmd": "print(var_dic_list())"
    },
    "r": {
     "delete_cmd_postfix": ") ",
     "delete_cmd_prefix": "rm(",
     "library": "var_list.r",
     "varRefreshCmd": "cat(var_dic_list()) "
    }
   },
   "types_to_exclude": [
    "module",
    "function",
    "builtin_function_or_method",
    "instance",
    "_Feature"
   ],
   "window_display": false
  }
 },
 "nbformat": 4,
 "nbformat_minor": 4
}
