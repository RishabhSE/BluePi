{
 "cells": [
  {
   "cell_type": "markdown",
   "metadata": {},
   "source": [
    "# SageMaker\n",
    "\n",
    "1. Go to notobook instance and create notebook instance\n",
    "2. create bucket\n",
    "    - same region for samgemaker and buket\n",
    "3. choose\n",
    "    - instance name,type(ml.t2.medium) - begin with small instance ( AWS Guide)\n",
    "    - IAM role\n",
    "        - choose specific bucket\n",
    "    - root ascess\n",
    "    - VPC, if default AWS VPC is choosen\n",
    "4. Open Jupyter notebook\n",
    "5. Go to SM examples\n",
    "    - [Link to Github](https://github.com/awslabs/amazon-sagemaker-examples)\n",
    "        - [NoteBook Following](https://github.com/awslabs/amazon-sagemaker-examples/blob/master/introduction_to_amazon_algorithms/linear_learner_mnist/linear_learner_mnist.ipynb)\n",
    "6. Running the notebook\n",
    "    - In Running Stage\n",
    "        - **Container** and **data** goes to the instance\n",
    "        - Training and Deployment machine can be different eg: training-c4 and deploy m4\n",
    "        \n",
    "7. After running\n",
    "    - Goto Monitor Section\n",
    "    - Goto Logs\n"
   ]
  },
  {
   "cell_type": "code",
   "execution_count": null,
   "metadata": {},
   "outputs": [],
   "source": []
  }
 ],
 "metadata": {
  "hide_input": false,
  "kernelspec": {
   "display_name": "Python 3",
   "language": "python",
   "name": "python3"
  },
  "language_info": {
   "codemirror_mode": {
    "name": "ipython",
    "version": 3
   },
   "file_extension": ".py",
   "mimetype": "text/x-python",
   "name": "python",
   "nbconvert_exporter": "python",
   "pygments_lexer": "ipython3",
   "version": "3.7.7"
  },
  "toc": {
   "base_numbering": 1,
   "nav_menu": {},
   "number_sections": true,
   "sideBar": true,
   "skip_h1_title": false,
   "title_cell": "Table of Contents",
   "title_sidebar": "Contents",
   "toc_cell": false,
   "toc_position": {},
   "toc_section_display": true,
   "toc_window_display": false
  },
  "varInspector": {
   "cols": {
    "lenName": 16,
    "lenType": 16,
    "lenVar": 40
   },
   "kernels_config": {
    "python": {
     "delete_cmd_postfix": "",
     "delete_cmd_prefix": "del ",
     "library": "var_list.py",
     "varRefreshCmd": "print(var_dic_list())"
    },
    "r": {
     "delete_cmd_postfix": ") ",
     "delete_cmd_prefix": "rm(",
     "library": "var_list.r",
     "varRefreshCmd": "cat(var_dic_list()) "
    }
   },
   "types_to_exclude": [
    "module",
    "function",
    "builtin_function_or_method",
    "instance",
    "_Feature"
   ],
   "window_display": false
  }
 },
 "nbformat": 4,
 "nbformat_minor": 4
}
