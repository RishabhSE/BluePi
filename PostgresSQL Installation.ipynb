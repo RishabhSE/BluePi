{
 "cells": [
  {
   "cell_type": "markdown",
   "metadata": {},
   "source": [
    "# Installation\n",
    "\n",
    "1. ```sudo apt-get update```\n",
    "2. ```sudo apt-get install postgresql postgresql-contrib```\n",
    "3. In order to check the **status** of the PostgreSQL\n",
    "    - `service postgresql status`\n",
    "    \n",
    "4.  In order to use PostgreSQL, the default user is **postgres**. Therefore we will use this user\n",
    "    - ` sudo su postgres`\n",
    "    \n",
    "5. In order to use postgreSQL commandline tool, there is a command\n",
    "    - `psql`\n",
    "    \n",
    "6. Default databases present in the postgres\n",
    "    - `\\l`\n",
    "7. Number of users present in the postgres\n",
    "    - `\\du`\n",
    "8. In order to change the password of the default user **postgres**\n",
    "    - `ALTER USER postgres WITH PASSWORD 'test123';`\n",
    "        - Output **ALTER USER** means the password has changed for the root user\n",
    "9. Creating a new User\n",
    "    - `CREATE USER rishabh WITH PASSWORD 'test123'; `\n",
    "        - Output **CREATE ROLE** means new user has been created\n",
    "10. Giving the new user the privilages of a **superuser**\n",
    "    - `ALTER USER rishabh WITH SUPERUSER;`\n",
    "        - Output **ALTER ROLE** means the role of the user has been changed\n",
    "\n",
    "11. Dropping a User\n",
    "    - `DROP USER rishabh; `\n",
    "        - Output **DROP ROLE** means user has been dropped\n",
    "        \n",
    "- `man psql` command can be used to get doc."
   ]
  }
 ],
 "metadata": {
  "hide_input": false,
  "kernelspec": {
   "display_name": "Python 3.7.7 64-bit ('base': conda)",
   "language": "python",
   "name": "python37764bitbasecondab772c2f225e9407498cf0f02256d7022"
  },
  "language_info": {
   "codemirror_mode": {
    "name": "ipython",
    "version": 3
   },
   "file_extension": ".py",
   "mimetype": "text/x-python",
   "name": "python",
   "nbconvert_exporter": "python",
   "pygments_lexer": "ipython3",
   "version": "3.7.7"
  },
  "toc": {
   "base_numbering": 1,
   "nav_menu": {},
   "number_sections": true,
   "sideBar": true,
   "skip_h1_title": false,
   "title_cell": "Table of Contents",
   "title_sidebar": "Contents",
   "toc_cell": false,
   "toc_position": {},
   "toc_section_display": true,
   "toc_window_display": false
  },
  "varInspector": {
   "cols": {
    "lenName": 16,
    "lenType": 16,
    "lenVar": 40
   },
   "kernels_config": {
    "python": {
     "delete_cmd_postfix": "",
     "delete_cmd_prefix": "del ",
     "library": "var_list.py",
     "varRefreshCmd": "print(var_dic_list())"
    },
    "r": {
     "delete_cmd_postfix": ") ",
     "delete_cmd_prefix": "rm(",
     "library": "var_list.r",
     "varRefreshCmd": "cat(var_dic_list()) "
    }
   },
   "types_to_exclude": [
    "module",
    "function",
    "builtin_function_or_method",
    "instance",
    "_Feature"
   ],
   "window_display": false
  }
 },
 "nbformat": 4,
 "nbformat_minor": 4
}
