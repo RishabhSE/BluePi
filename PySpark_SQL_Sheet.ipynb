{
 "cells": [
  {
   "cell_type": "markdown",
   "metadata": {},
   "source": [
    "# SQL Session"
   ]
  },
  {
   "cell_type": "markdown",
   "metadata": {},
   "source": [
    "### Main entry point for DataFrame and SQL functionality"
   ]
  },
  {
   "cell_type": "code",
   "execution_count": 1,
   "metadata": {
    "ExecuteTime": {
     "end_time": "2020-03-05T15:18:24.168894Z",
     "start_time": "2020-03-05T15:18:24.163065Z"
    }
   },
   "outputs": [],
   "source": [
    "from pyspark.sql import SparkSession\n",
    "# SparkSession --> entry point to programming Spark with the Dataset and DataFrame API"
   ]
  },
  {
   "cell_type": "markdown",
   "metadata": {},
   "source": [
    "### Start SPARK session"
   ]
  },
  {
   "cell_type": "code",
   "execution_count": 2,
   "metadata": {
    "ExecuteTime": {
     "end_time": "2020-03-05T15:18:24.204254Z",
     "start_time": "2020-03-05T15:18:24.173676Z"
    }
   },
   "outputs": [],
   "source": [
    "spark = SparkSession.builder.appName('Basics').getOrCreate()\n",
    "\n",
    "# Builder Class ---> To create SparkSession Instances\n",
    "# AppName ---> Sets a name for the application, which will be shown in the Spark web UI\n"
   ]
  },
  {
   "cell_type": "markdown",
   "metadata": {},
   "source": [
    "### Import JSON File"
   ]
  },
  {
   "cell_type": "code",
   "execution_count": 3,
   "metadata": {
    "ExecuteTime": {
     "end_time": "2020-03-05T15:18:29.009433Z",
     "start_time": "2020-03-05T15:18:24.207147Z"
    }
   },
   "outputs": [],
   "source": [
    "Apply =spark.read.json('/home/bluepi/Documents/BluePi/Apply.json')\n",
    "College =spark.read.json('/home/bluepi/Documents/BluePi/College.json')\n",
    "Student =spark.read.json('/home/bluepi/Documents/BluePi/Student.json')"
   ]
  },
  {
   "cell_type": "markdown",
   "metadata": {},
   "source": [
    "### Show the Data"
   ]
  },
  {
   "cell_type": "code",
   "execution_count": 4,
   "metadata": {
    "ExecuteTime": {
     "end_time": "2020-03-05T15:18:29.599821Z",
     "start_time": "2020-03-05T15:18:29.011397Z"
    },
    "scrolled": false
   },
   "outputs": [
    {
     "name": "stdout",
     "output_type": "stream",
     "text": [
      "+--------+--------+--------------+---+\n",
      "|   cName|decision|         major|sID|\n",
      "+--------+--------+--------------+---+\n",
      "|Stanford|       Y|            CS|123|\n",
      "|Stanford|       N|            EE|123|\n",
      "|Berkeley|       Y|            CS|123|\n",
      "| Cornell|       Y|            EE|123|\n",
      "|Berkeley|       N|       biology|234|\n",
      "|     MIT|       Y|bioengineering|345|\n",
      "| Cornell|       N|bioengineering|345|\n",
      "| Cornell|       Y|            CS|345|\n",
      "| Cornell|       N|            EE|345|\n",
      "|Stanford|       Y|       history|678|\n",
      "|Stanford|       Y|            CS|987|\n",
      "|Berkeley|       Y|            CS|987|\n",
      "|Stanford|       N|            CS|876|\n",
      "|     MIT|       Y|       biology|876|\n",
      "|     MIT|       N|marine biology|876|\n",
      "|Stanford|       Y|       history|765|\n",
      "| Cornell|       N|       history|765|\n",
      "| Cornell|       Y|    psychology|765|\n",
      "|     MIT|       N|            CS|543|\n",
      "+--------+--------+--------------+---+\n",
      "\n"
     ]
    }
   ],
   "source": [
    "Apply.show()"
   ]
  },
  {
   "cell_type": "code",
   "execution_count": 5,
   "metadata": {
    "ExecuteTime": {
     "end_time": "2020-03-05T15:18:30.093845Z",
     "start_time": "2020-03-05T15:18:29.602059Z"
    }
   },
   "outputs": [
    {
     "name": "stdout",
     "output_type": "stream",
     "text": [
      "+--------+----------+-----+\n",
      "|   cName|enrollment|state|\n",
      "+--------+----------+-----+\n",
      "|Stanford|     15000|   CA|\n",
      "|Berkeley|     36000|   CA|\n",
      "|     MIT|     10000|   MA|\n",
      "| Cornell|     21000|   NY|\n",
      "| Harvard|     50040|   MA|\n",
      "+--------+----------+-----+\n",
      "\n"
     ]
    }
   ],
   "source": [
    "College.show()"
   ]
  },
  {
   "cell_type": "code",
   "execution_count": 6,
   "metadata": {
    "ExecuteTime": {
     "end_time": "2020-03-05T15:18:30.503822Z",
     "start_time": "2020-03-05T15:18:30.097350Z"
    }
   },
   "outputs": [
    {
     "name": "stdout",
     "output_type": "stream",
     "text": [
      "+---+---+------+------+\n",
      "|GPA|sID| sName|sizeHS|\n",
      "+---+---+------+------+\n",
      "|3.9|123|   Amy|  1000|\n",
      "|3.6|234|   Bob|  1500|\n",
      "|3.5|345| Craig|   500|\n",
      "|3.9|456| Doris|  1000|\n",
      "|2.9|567|Edward|  2000|\n",
      "|3.8|678|   Fay|   200|\n",
      "|3.4|789|  Gary|   800|\n",
      "|3.7|987| Helen|   800|\n",
      "|3.9|876| Irene|   400|\n",
      "|2.9|765|   Jay|  1500|\n",
      "|3.9|654|   Amy|  1000|\n",
      "|3.4|543| Craig|  2000|\n",
      "+---+---+------+------+\n",
      "\n"
     ]
    }
   ],
   "source": [
    "Student.show()"
   ]
  },
  {
   "cell_type": "markdown",
   "metadata": {},
   "source": [
    "### PRINT Schema of DataFrame"
   ]
  },
  {
   "cell_type": "code",
   "execution_count": 7,
   "metadata": {
    "ExecuteTime": {
     "end_time": "2020-03-05T15:18:30.546075Z",
     "start_time": "2020-03-05T15:18:30.514886Z"
    }
   },
   "outputs": [
    {
     "name": "stdout",
     "output_type": "stream",
     "text": [
      "root\n",
      " |-- cName: string (nullable = true)\n",
      " |-- decision: string (nullable = true)\n",
      " |-- major: string (nullable = true)\n",
      " |-- sID: long (nullable = true)\n",
      "\n"
     ]
    }
   ],
   "source": [
    "\n",
    "Apply.printSchema()"
   ]
  },
  {
   "cell_type": "code",
   "execution_count": 8,
   "metadata": {
    "ExecuteTime": {
     "end_time": "2020-03-05T15:18:30.567100Z",
     "start_time": "2020-03-05T15:18:30.548944Z"
    },
    "scrolled": true
   },
   "outputs": [
    {
     "name": "stdout",
     "output_type": "stream",
     "text": [
      "root\n",
      " |-- cName: string (nullable = true)\n",
      " |-- enrollment: long (nullable = true)\n",
      " |-- state: string (nullable = true)\n",
      "\n"
     ]
    }
   ],
   "source": [
    "College.printSchema()"
   ]
  },
  {
   "cell_type": "code",
   "execution_count": 9,
   "metadata": {
    "ExecuteTime": {
     "end_time": "2020-03-05T15:18:30.590197Z",
     "start_time": "2020-03-05T15:18:30.575562Z"
    }
   },
   "outputs": [
    {
     "name": "stdout",
     "output_type": "stream",
     "text": [
      "root\n",
      " |-- GPA: double (nullable = true)\n",
      " |-- sID: long (nullable = true)\n",
      " |-- sName: string (nullable = true)\n",
      " |-- sizeHS: long (nullable = true)\n",
      "\n"
     ]
    }
   ],
   "source": [
    "Student.printSchema()"
   ]
  },
  {
   "cell_type": "markdown",
   "metadata": {},
   "source": [
    "### Registering DataFrame as a SQL temp VIEW"
   ]
  },
  {
   "cell_type": "code",
   "execution_count": 10,
   "metadata": {
    "ExecuteTime": {
     "end_time": "2020-03-05T15:18:30.915280Z",
     "start_time": "2020-03-05T15:18:30.593641Z"
    }
   },
   "outputs": [],
   "source": [
    "Apply.createOrReplaceTempView(\"ApplyTable\")\n",
    "College.createOrReplaceTempView(\"CollegeTable\")\n",
    "Student.createOrReplaceTempView(\"StudentTable\")"
   ]
  },
  {
   "cell_type": "markdown",
   "metadata": {},
   "source": [
    "### To run SQL Queries Directly"
   ]
  },
  {
   "cell_type": "code",
   "execution_count": 11,
   "metadata": {
    "ExecuteTime": {
     "end_time": "2020-03-05T15:18:34.605561Z",
     "start_time": "2020-03-05T15:18:30.918054Z"
    },
    "scrolled": true
   },
   "outputs": [
    {
     "name": "stdout",
     "output_type": "stream",
     "text": [
      "+---+---+------+------+\n",
      "|GPA|sID| sName|sizeHS|\n",
      "+---+---+------+------+\n",
      "|3.9|123|   Amy|  1000|\n",
      "|3.6|234|   Bob|  1500|\n",
      "|3.5|345| Craig|   500|\n",
      "|3.9|456| Doris|  1000|\n",
      "|2.9|567|Edward|  2000|\n",
      "|3.8|678|   Fay|   200|\n",
      "|3.4|789|  Gary|   800|\n",
      "|3.7|987| Helen|   800|\n",
      "|3.9|876| Irene|   400|\n",
      "|2.9|765|   Jay|  1500|\n",
      "|3.9|654|   Amy|  1000|\n",
      "|3.4|543| Craig|  2000|\n",
      "+---+---+------+------+\n",
      "\n"
     ]
    }
   ],
   "source": [
    "result = spark.sql(\"SELECT * FROM StudentTable\")\n",
    "result.show()"
   ]
  },
  {
   "cell_type": "markdown",
   "metadata": {},
   "source": [
    "- Q1 Produce a combine table in which each student is combine with every other application."
   ]
  },
  {
   "cell_type": "code",
   "execution_count": 15,
   "metadata": {
    "ExecuteTime": {
     "end_time": "2020-03-05T15:20:10.182672Z",
     "start_time": "2020-03-05T15:20:08.928785Z"
    }
   },
   "outputs": [
    {
     "name": "stdout",
     "output_type": "stream",
     "text": [
      "+---+---+------+------+--------+--------+--------------+\n",
      "|GPA|sID| sName|sizeHS|   cName|decision|         major|\n",
      "+---+---+------+------+--------+--------+--------------+\n",
      "|3.9|876| Irene|   400|Stanford|       N|            CS|\n",
      "|3.9|876| Irene|   400|     MIT|       Y|       biology|\n",
      "|3.9|876| Irene|   400|     MIT|       N|marine biology|\n",
      "|3.4|789|  Gary|   800|    null|    null|          null|\n",
      "|3.6|234|   Bob|  1500|Berkeley|       N|       biology|\n",
      "|3.8|678|   Fay|   200|Stanford|       Y|       history|\n",
      "|3.9|654|   Amy|  1000|    null|    null|          null|\n",
      "|3.9|123|   Amy|  1000|Stanford|       Y|            CS|\n",
      "|3.9|123|   Amy|  1000|Stanford|       N|            EE|\n",
      "|3.9|123|   Amy|  1000|Berkeley|       Y|            CS|\n",
      "|3.9|123|   Amy|  1000| Cornell|       Y|            EE|\n",
      "|3.5|345| Craig|   500|     MIT|       Y|bioengineering|\n",
      "|3.5|345| Craig|   500| Cornell|       N|bioengineering|\n",
      "|3.5|345| Craig|   500| Cornell|       Y|            CS|\n",
      "|3.5|345| Craig|   500| Cornell|       N|            EE|\n",
      "|2.9|567|Edward|  2000|    null|    null|          null|\n",
      "|3.4|543| Craig|  2000|     MIT|       N|            CS|\n",
      "|2.9|765|   Jay|  1500|Stanford|       Y|       history|\n",
      "|2.9|765|   Jay|  1500| Cornell|       N|       history|\n",
      "|2.9|765|   Jay|  1500| Cornell|       Y|    psychology|\n",
      "+---+---+------+------+--------+--------+--------------+\n",
      "only showing top 20 rows\n",
      "\n"
     ]
    }
   ],
   "source": [
    "spark.sql(\" select S.GPA,s.sID,s.sName,s.sizeHS,a.cName,a.decision,a.major \\\n",
    "              from StudentTable S full outer join ApplyTable A \\\n",
    "                  on s.sid = a.sid \").show()"
   ]
  },
  {
   "cell_type": "markdown",
   "metadata": {},
   "source": [
    "- Q2 Give Student ID, name, GPA and name of college and major each student applied to."
   ]
  },
  {
   "cell_type": "code",
   "execution_count": 16,
   "metadata": {
    "ExecuteTime": {
     "end_time": "2020-03-05T15:20:11.467684Z",
     "start_time": "2020-03-05T15:20:10.994831Z"
    }
   },
   "outputs": [
    {
     "name": "stdout",
     "output_type": "stream",
     "text": [
      "+---+-----+---+--------+--------------+\n",
      "|sid|sname|gpa|   cname|         major|\n",
      "+---+-----+---+--------+--------------+\n",
      "|123|  Amy|3.9|Stanford|            CS|\n",
      "|123|  Amy|3.9|Stanford|            EE|\n",
      "|123|  Amy|3.9|Berkeley|            CS|\n",
      "|123|  Amy|3.9| Cornell|            EE|\n",
      "|234|  Bob|3.6|Berkeley|       biology|\n",
      "|345|Craig|3.5|     MIT|bioengineering|\n",
      "|345|Craig|3.5| Cornell|bioengineering|\n",
      "|345|Craig|3.5| Cornell|            CS|\n",
      "|345|Craig|3.5| Cornell|            EE|\n",
      "|678|  Fay|3.8|Stanford|       history|\n",
      "|987|Helen|3.7|Stanford|            CS|\n",
      "|987|Helen|3.7|Berkeley|            CS|\n",
      "|876|Irene|3.9|Stanford|            CS|\n",
      "|876|Irene|3.9|     MIT|       biology|\n",
      "|876|Irene|3.9|     MIT|marine biology|\n",
      "|765|  Jay|2.9|Stanford|       history|\n",
      "|765|  Jay|2.9| Cornell|       history|\n",
      "|765|  Jay|2.9| Cornell|    psychology|\n",
      "|543|Craig|3.4|     MIT|            CS|\n",
      "+---+-----+---+--------+--------------+\n",
      "\n"
     ]
    }
   ],
   "source": [
    "spark.sql(\" select s.sid, s.sname, s.gpa, a.cname, a.major from studenttable s inner join applytable a \\\n",
    "                on s.sid = a.sid \").show()"
   ]
  },
  {
   "cell_type": "markdown",
   "metadata": {},
   "source": [
    "- Q3. Find detail of applications who applied to California State."
   ]
  },
  {
   "cell_type": "code",
   "execution_count": 17,
   "metadata": {
    "ExecuteTime": {
     "end_time": "2020-03-05T15:20:13.758858Z",
     "start_time": "2020-03-05T15:20:13.480888Z"
    }
   },
   "outputs": [
    {
     "name": "stdout",
     "output_type": "stream",
     "text": [
      "+---+--------+-------+--------+\n",
      "|sid|   cname|  major|decision|\n",
      "+---+--------+-------+--------+\n",
      "|123|Stanford|     CS|       Y|\n",
      "|123|Stanford|     EE|       N|\n",
      "|123|Berkeley|     CS|       Y|\n",
      "|234|Berkeley|biology|       N|\n",
      "|678|Stanford|history|       Y|\n",
      "|987|Stanford|     CS|       Y|\n",
      "|987|Berkeley|     CS|       Y|\n",
      "|876|Stanford|     CS|       N|\n",
      "|765|Stanford|history|       Y|\n",
      "+---+--------+-------+--------+\n",
      "\n"
     ]
    }
   ],
   "source": [
    "spark.sql(\" select a.sid,a.cname,a.major,a.decision from ApplyTable A left join CollegeTable C \\\n",
    "                on a.cname = c.cname where c.state = 'CA' \").show()"
   ]
  },
  {
   "cell_type": "markdown",
   "metadata": {},
   "source": [
    "- Q4. IDs, name, GPA of students and name of college with GPA > 3.7 applying to Stanford"
   ]
  },
  {
   "cell_type": "code",
   "execution_count": 18,
   "metadata": {
    "ExecuteTime": {
     "end_time": "2020-03-05T15:20:15.078235Z",
     "start_time": "2020-03-05T15:20:14.722835Z"
    }
   },
   "outputs": [
    {
     "name": "stdout",
     "output_type": "stream",
     "text": [
      "+---+-----+---+--------+\n",
      "|sid|sname|gpa|   cname|\n",
      "+---+-----+---+--------+\n",
      "|123|  Amy|3.9|Stanford|\n",
      "|123|  Amy|3.9|Stanford|\n",
      "|123|  Amy|3.9|Berkeley|\n",
      "|123|  Amy|3.9| Cornell|\n",
      "|678|  Fay|3.8|Stanford|\n",
      "|876|Irene|3.9|Stanford|\n",
      "|876|Irene|3.9|     MIT|\n",
      "|876|Irene|3.9|     MIT|\n",
      "+---+-----+---+--------+\n",
      "\n"
     ]
    }
   ],
   "source": [
    "spark.sql(\" select s.sid, s.sname, s.gpa, a.cname from studenttable s inner join applytable a \\\n",
    "                on s.sid = a.sid where gpa > 3.7 \").show()"
   ]
  },
  {
   "cell_type": "markdown",
   "metadata": {},
   "source": [
    "- Q5. Find detail of Student who apply to CS major and their application are rejected"
   ]
  },
  {
   "cell_type": "code",
   "execution_count": 19,
   "metadata": {
    "ExecuteTime": {
     "end_time": "2020-03-05T15:20:16.019108Z",
     "start_time": "2020-03-05T15:20:15.763556Z"
    }
   },
   "outputs": [
    {
     "name": "stdout",
     "output_type": "stream",
     "text": [
      "+---+-----+---+\n",
      "|sid|sname|gpa|\n",
      "+---+-----+---+\n",
      "|876|Irene|3.9|\n",
      "|543|Craig|3.4|\n",
      "+---+-----+---+\n",
      "\n"
     ]
    }
   ],
   "source": [
    "spark.sql(\" select s.sid, s.sname, s.gpa from studenttable s inner join applytable a \\\n",
    "                on s.sid = a.sid where a.major = 'CS' and a.decision = 'N' \").show()"
   ]
  },
  {
   "cell_type": "markdown",
   "metadata": {},
   "source": [
    "- Q6. Find detail of student and application who applied to colleges at New York\n"
   ]
  },
  {
   "cell_type": "code",
   "execution_count": 20,
   "metadata": {
    "ExecuteTime": {
     "end_time": "2020-03-05T15:20:17.072802Z",
     "start_time": "2020-03-05T15:20:16.761136Z"
    }
   },
   "outputs": [
    {
     "name": "stdout",
     "output_type": "stream",
     "text": [
      "+---+-----+---+-------+--------------+--------+\n",
      "|sid|sname|gpa|  cname|         major|decision|\n",
      "+---+-----+---+-------+--------------+--------+\n",
      "|123|  Amy|3.9|Cornell|            EE|       Y|\n",
      "|345|Craig|3.5|Cornell|bioengineering|       N|\n",
      "|345|Craig|3.5|Cornell|            CS|       Y|\n",
      "|345|Craig|3.5|Cornell|            EE|       N|\n",
      "|765|  Jay|2.9|Cornell|       history|       N|\n",
      "|765|  Jay|2.9|Cornell|    psychology|       Y|\n",
      "+---+-----+---+-------+--------------+--------+\n",
      "\n"
     ]
    }
   ],
   "source": [
    "spark.sql(\" select s.sid, s.sname, s.gpa, a.cname, a.major, a.decision \\\n",
    "                from studenttable s inner join applytable a \\\n",
    "                    on s.sid = a.sid \\\n",
    "                        inner join collegetable c \\\n",
    "                            on a.cname = c.cname \\\n",
    "                                where c.state = 'NY' \").show()"
   ]
  },
  {
   "cell_type": "markdown",
   "metadata": {},
   "source": [
    "- Q7. Find detail of student who have not applied to any of college\n"
   ]
  },
  {
   "cell_type": "code",
   "execution_count": 21,
   "metadata": {
    "ExecuteTime": {
     "end_time": "2020-03-05T15:20:18.084493Z",
     "start_time": "2020-03-05T15:20:17.765811Z"
    }
   },
   "outputs": [
    {
     "name": "stdout",
     "output_type": "stream",
     "text": [
      "+---+------+---+\n",
      "|sid| sname|gpa|\n",
      "+---+------+---+\n",
      "|456| Doris|3.9|\n",
      "|567|Edward|2.9|\n",
      "|789|  Gary|3.4|\n",
      "|654|   Amy|3.9|\n",
      "+---+------+---+\n",
      "\n"
     ]
    }
   ],
   "source": [
    "#spark.sql(\" select s.sid, s.sname, s.gpa from studenttable s where s.sid not in ( select sid from applytable ) \").show()\n",
    "spark.sql(\" select s.sid, s.sname, s.gpa from studenttable s left join applytable a \\\n",
    "                on s.sid = a.sid where a.cname is NULL \").show()"
   ]
  },
  {
   "cell_type": "markdown",
   "metadata": {},
   "source": [
    "- Q8. Find college where no student have applied\n"
   ]
  },
  {
   "cell_type": "code",
   "execution_count": 22,
   "metadata": {
    "ExecuteTime": {
     "end_time": "2020-03-05T15:20:19.071015Z",
     "start_time": "2020-03-05T15:20:18.834368Z"
    }
   },
   "outputs": [
    {
     "name": "stdout",
     "output_type": "stream",
     "text": [
      "+-------+\n",
      "|  cname|\n",
      "+-------+\n",
      "|Harvard|\n",
      "+-------+\n",
      "\n"
     ]
    }
   ],
   "source": [
    "# spark.sql(\" select cname from collegetable where cname not in ( select cname from applytable)\").show()\n",
    "spark.sql(\" select c.cname from collegetable c left join applytable a on c.cname = a.cname \\\n",
    "                where a.sid is NULL \").show()"
   ]
  },
  {
   "cell_type": "markdown",
   "metadata": {},
   "source": [
    "- Q9. Find sID who have only one application\n"
   ]
  },
  {
   "cell_type": "code",
   "execution_count": 23,
   "metadata": {
    "ExecuteTime": {
     "end_time": "2020-03-05T15:20:20.947630Z",
     "start_time": "2020-03-05T15:20:19.832770Z"
    }
   },
   "outputs": [
    {
     "name": "stdout",
     "output_type": "stream",
     "text": [
      "+---+\n",
      "|sid|\n",
      "+---+\n",
      "|234|\n",
      "|678|\n",
      "|543|\n",
      "+---+\n",
      "\n"
     ]
    }
   ],
   "source": [
    "spark.sql(\" select a1.sid from applytable as a1 inner join \\\n",
    "          (select sid, count(sid) as c_sid from applytable group by sid having count(sid) = 1) as a2 \\\n",
    "          on a1.sid = a2.sid\").show()\n",
    "\n"
   ]
  },
  {
   "cell_type": "markdown",
   "metadata": {},
   "source": [
    "- Q10. Find name and GPA of applicants who apply to any college whose enrollment is not more than 25000.\n"
   ]
  },
  {
   "cell_type": "code",
   "execution_count": 24,
   "metadata": {
    "ExecuteTime": {
     "end_time": "2020-03-05T15:20:22.374164Z",
     "start_time": "2020-03-05T15:20:21.961869Z"
    }
   },
   "outputs": [
    {
     "name": "stdout",
     "output_type": "stream",
     "text": [
      "+-----+---+\n",
      "|sname|gpa|\n",
      "+-----+---+\n",
      "|  Amy|3.9|\n",
      "|  Amy|3.9|\n",
      "|  Amy|3.9|\n",
      "|Craig|3.5|\n",
      "|Craig|3.5|\n",
      "|Craig|3.5|\n",
      "|Craig|3.5|\n",
      "|  Fay|3.8|\n",
      "|Helen|3.7|\n",
      "|Irene|3.9|\n",
      "|Irene|3.9|\n",
      "|Irene|3.9|\n",
      "|  Jay|2.9|\n",
      "|  Jay|2.9|\n",
      "|  Jay|2.9|\n",
      "|Craig|3.4|\n",
      "+-----+---+\n",
      "\n"
     ]
    }
   ],
   "source": [
    "spark.sql(\" select s.sname, s.gpa from studenttable as s \\\n",
    "                inner join applytable as a on s.sid=a.sid \\\n",
    "                      inner join collegetable as c on a.cname=c.cname \\\n",
    "                          where c.enrollment < 25000 \").show()"
   ]
  },
  {
   "cell_type": "markdown",
   "metadata": {},
   "source": [
    "- **Q11. Find pair of students (sID) having same GPA. (each pair should occur just once in result)** ?\n"
   ]
  },
  {
   "cell_type": "code",
   "execution_count": 44,
   "metadata": {
    "ExecuteTime": {
     "end_time": "2020-03-05T18:26:22.183863Z",
     "start_time": "2020-03-05T18:26:22.024125Z"
    },
    "scrolled": true
   },
   "outputs": [
    {
     "name": "stdout",
     "output_type": "stream",
     "text": [
      "+---+---+\n",
      "| s1| s2|\n",
      "+---+---+\n",
      "|123|654|\n",
      "|123|876|\n",
      "|123|456|\n",
      "|456|654|\n",
      "|456|876|\n",
      "|456|123|\n",
      "|567|765|\n",
      "|789|543|\n",
      "|876|654|\n",
      "|876|456|\n",
      "|876|123|\n",
      "|765|567|\n",
      "|654|876|\n",
      "|654|456|\n",
      "|654|123|\n",
      "|543|789|\n",
      "+---+---+\n",
      "\n"
     ]
    }
   ],
   "source": [
    "spark.sql(\"  select s1.sid as s1, s2.sid as s2 from studenttable as s1 left join studenttable as s2 \\\n",
    "                where s1.sid <> s2.sid and s1.gpa = s2.gpa \").show()"
   ]
  },
  {
   "cell_type": "markdown",
   "metadata": {},
   "source": [
    "- Q12. Find various majors student applied in at college in state MA. "
   ]
  },
  {
   "cell_type": "code",
   "execution_count": 45,
   "metadata": {
    "ExecuteTime": {
     "end_time": "2020-03-05T18:32:11.717390Z",
     "start_time": "2020-03-05T18:32:11.501909Z"
    }
   },
   "outputs": [
    {
     "name": "stdout",
     "output_type": "stream",
     "text": [
      "+---+-----+--------------+\n",
      "|sid|sname|         major|\n",
      "+---+-----+--------------+\n",
      "|345|Craig|bioengineering|\n",
      "|876|Irene|       biology|\n",
      "|876|Irene|marine biology|\n",
      "|543|Craig|            CS|\n",
      "+---+-----+--------------+\n",
      "\n"
     ]
    }
   ],
   "source": [
    "spark.sql(\" select s.sid,s.sname,a.major from studenttable s inner join applytable a \\\n",
    "                on s.sid = a.sid inner join collegetable c on a.cname = c.cname \\\n",
    "                    where c.state = 'MA' \").show()"
   ]
  },
  {
   "cell_type": "markdown",
   "metadata": {},
   "source": [
    "- Find the college name in which student has not applyed"
   ]
  },
  {
   "cell_type": "code",
   "execution_count": null,
   "metadata": {},
   "outputs": [],
   "source": []
  },
  {
   "cell_type": "markdown",
   "metadata": {},
   "source": [
    "1. IDs and names of students who have applied to major in CS at some college.\n",
    "2. Find ID and name of student having same high school size as Jay.\n",
    "3. Find ID and name of student having same high school size as Jay but result should not\n",
    "    include Jay.\n",
    "4. Find the name of student with their GPA and Sid whose GPA not equal to GPA of\n",
    "    Irene?\n",
    "5. Find college where any student having their name started from J have applied?\n",
    "6. Find all different major where Irene has applied?\n",
    "7. Find IDs of student and major who applied in any of major Irene had applied to?\n",
    "8. Find IDs of student and major who applied in any of major Irene had applied to? But\n",
    "    this time exclude Irene sID from the list.\n",
    "9. Give the number of colleges Jay applied to? (Remember count each college once no\n",
    "    matter if he applied to same college twice with different major)\n",
    "10. Find sID of student who applied to more or same number of college where Jay has\n",
    "    applied?\n",
    "11. Find details of Students who applied to major CS but not applied to major EE? (sID\n",
    "    987, 876, 543 should only be include in result)\n",
    "12. All colleges such that some other college is in same state. (Cornell should not be part\n",
    "    of result as no other college in New York Hint: use exists)\n",
    "13. Find the college with highest enrollment.\n",
    "14. Find name of student having lowest GPA."
   ]
  },
  {
   "cell_type": "code",
   "execution_count": null,
   "metadata": {},
   "outputs": [],
   "source": []
  },
  {
   "cell_type": "code",
   "execution_count": null,
   "metadata": {},
   "outputs": [],
   "source": [
    "spark.sql(\" select sname, sid from studenttable \\\n",
    "                where gpa in ( select gpa from studenttable where  ) \")"
   ]
  }
 ],
 "metadata": {
  "kernelspec": {
   "display_name": "Python 3",
   "language": "python",
   "name": "python3"
  },
  "language_info": {
   "codemirror_mode": {
    "name": "ipython",
    "version": 3
   },
   "file_extension": ".py",
   "mimetype": "text/x-python",
   "name": "python",
   "nbconvert_exporter": "python",
   "pygments_lexer": "ipython3",
   "version": "3.7.4"
  },
  "varInspector": {
   "cols": {
    "lenName": 16,
    "lenType": 16,
    "lenVar": 40
   },
   "kernels_config": {
    "python": {
     "delete_cmd_postfix": "",
     "delete_cmd_prefix": "del ",
     "library": "var_list.py",
     "varRefreshCmd": "print(var_dic_list())"
    },
    "r": {
     "delete_cmd_postfix": ") ",
     "delete_cmd_prefix": "rm(",
     "library": "var_list.r",
     "varRefreshCmd": "cat(var_dic_list()) "
    }
   },
   "types_to_exclude": [
    "module",
    "function",
    "builtin_function_or_method",
    "instance",
    "_Feature"
   ],
   "window_display": false
  }
 },
 "nbformat": 4,
 "nbformat_minor": 4
}
