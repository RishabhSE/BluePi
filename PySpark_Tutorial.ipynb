{
 "cells": [
  {
   "cell_type": "markdown",
   "metadata": {},
   "source": [
    "# Session : 1"
   ]
  },
  {
   "cell_type": "markdown",
   "metadata": {},
   "source": [
    "### Main entry point for DataFrame and SQL functionality"
   ]
  },
  {
   "cell_type": "code",
   "execution_count": 1,
   "metadata": {
    "ExecuteTime": {
     "end_time": "2020-02-18T11:37:41.998187Z",
     "start_time": "2020-02-18T11:37:41.855180Z"
    }
   },
   "outputs": [],
   "source": [
    "from pyspark.sql import SparkSession\n",
    "# SparkSession --> entry point to programming Spark with the Dataset and DataFrame API"
   ]
  },
  {
   "cell_type": "markdown",
   "metadata": {},
   "source": [
    "### Start SPARK session"
   ]
  },
  {
   "cell_type": "code",
   "execution_count": 2,
   "metadata": {
    "ExecuteTime": {
     "end_time": "2020-02-18T11:37:47.398979Z",
     "start_time": "2020-02-18T11:37:42.000555Z"
    }
   },
   "outputs": [],
   "source": [
    "spark = SparkSession.builder.appName('Basics').getOrCreate()\n",
    "\n",
    "# Builder Class ---> To create SparkSession Instances\n",
    "# AppName ---> Sets a name for the application, which will be shown in the Spark web UI\n"
   ]
  },
  {
   "cell_type": "markdown",
   "metadata": {},
   "source": [
    "### Import JSON File"
   ]
  },
  {
   "cell_type": "code",
   "execution_count": 3,
   "metadata": {
    "ExecuteTime": {
     "end_time": "2020-02-18T11:37:51.772452Z",
     "start_time": "2020-02-18T11:37:47.401700Z"
    }
   },
   "outputs": [],
   "source": [
    "df =spark.read.json('/home/bluepi/Documents/MOCK_DATA.json')"
   ]
  },
  {
   "cell_type": "markdown",
   "metadata": {},
   "source": [
    "### Show the Data"
   ]
  },
  {
   "cell_type": "code",
   "execution_count": 4,
   "metadata": {
    "ExecuteTime": {
     "end_time": "2020-02-18T11:37:52.210153Z",
     "start_time": "2020-02-18T11:37:51.774350Z"
    },
    "scrolled": true
   },
   "outputs": [
    {
     "name": "stdout",
     "output_type": "stream",
     "text": [
      "+----+----------+\n",
      "| age|      name|\n",
      "+----+----------+\n",
      "|null|Wilhelmina|\n",
      "|null| Raffaello|\n",
      "|  27|   Johnath|\n",
      "|  29|    Luella|\n",
      "|  41|     Kacie|\n",
      "|null|     Geoff|\n",
      "|  37|  Jocelyne|\n",
      "|  29|     Dodie|\n",
      "|null|   Desmund|\n",
      "|null|    Kaiser|\n",
      "+----+----------+\n",
      "\n"
     ]
    }
   ],
   "source": [
    "df.show()"
   ]
  },
  {
   "cell_type": "markdown",
   "metadata": {},
   "source": [
    "### PRINT Schema of DataFrame"
   ]
  },
  {
   "cell_type": "code",
   "execution_count": 5,
   "metadata": {
    "ExecuteTime": {
     "end_time": "2020-02-18T11:37:52.231271Z",
     "start_time": "2020-02-18T11:37:52.212838Z"
    }
   },
   "outputs": [
    {
     "name": "stdout",
     "output_type": "stream",
     "text": [
      "root\n",
      " |-- age: long (nullable = true)\n",
      " |-- name: string (nullable = true)\n",
      "\n"
     ]
    }
   ],
   "source": [
    "\n",
    "df.printSchema()"
   ]
  },
  {
   "cell_type": "code",
   "execution_count": 6,
   "metadata": {
    "ExecuteTime": {
     "end_time": "2020-02-18T11:37:52.291556Z",
     "start_time": "2020-02-18T11:37:52.233249Z"
    }
   },
   "outputs": [
    {
     "data": {
      "text/plain": [
       "['age', 'name']"
      ]
     },
     "execution_count": 6,
     "metadata": {},
     "output_type": "execute_result"
    }
   ],
   "source": [
    "df.columns"
   ]
  },
  {
   "cell_type": "code",
   "execution_count": 7,
   "metadata": {
    "ExecuteTime": {
     "end_time": "2020-02-18T11:37:53.363154Z",
     "start_time": "2020-02-18T11:37:52.297954Z"
    }
   },
   "outputs": [
    {
     "name": "stdout",
     "output_type": "stream",
     "text": [
      "+-------+----------------+----------+\n",
      "|summary|             age|      name|\n",
      "+-------+----------------+----------+\n",
      "|  count|               5|        10|\n",
      "|   mean|            32.6|      null|\n",
      "| stddev|6.06630035524124|      null|\n",
      "|    min|              27|   Desmund|\n",
      "|    max|              41|Wilhelmina|\n",
      "+-------+----------------+----------+\n",
      "\n"
     ]
    }
   ],
   "source": [
    "df.describe().show()"
   ]
  },
  {
   "cell_type": "markdown",
   "metadata": {},
   "source": [
    "### Manually set DataFrame Schema"
   ]
  },
  {
   "cell_type": "code",
   "execution_count": 8,
   "metadata": {
    "ExecuteTime": {
     "end_time": "2020-02-18T11:37:53.371385Z",
     "start_time": "2020-02-18T11:37:53.367374Z"
    }
   },
   "outputs": [],
   "source": [
    "from pyspark.sql.types import StructField,IntegerType,StringType,StructType"
   ]
  },
  {
   "cell_type": "code",
   "execution_count": 9,
   "metadata": {
    "ExecuteTime": {
     "end_time": "2020-02-18T11:37:53.381998Z",
     "start_time": "2020-02-18T11:37:53.375208Z"
    }
   },
   "outputs": [],
   "source": [
    "# Create the list of structure fields--> three parameters ---> Name, DataType, Nulables\n",
    "data_schema = [ StructField('age',IntegerType(),True),\n",
    "                  StructField('name',StringType(),True)]"
   ]
  },
  {
   "cell_type": "code",
   "execution_count": 10,
   "metadata": {
    "ExecuteTime": {
     "end_time": "2020-02-18T11:37:53.388812Z",
     "start_time": "2020-02-18T11:37:53.385100Z"
    }
   },
   "outputs": [],
   "source": [
    "# Schema which we are accepting \n",
    "final_struc = StructType( fields=data_schema)"
   ]
  },
  {
   "cell_type": "code",
   "execution_count": 11,
   "metadata": {
    "ExecuteTime": {
     "end_time": "2020-02-18T11:37:53.504316Z",
     "start_time": "2020-02-18T11:37:53.391890Z"
    }
   },
   "outputs": [],
   "source": [
    "# taking \"final_struc\" as a final schema of our dataset\n",
    "df = spark.read.json('/home/bluepi/Documents/MOCK_DATA.json',schema=final_struc)"
   ]
  },
  {
   "cell_type": "code",
   "execution_count": 12,
   "metadata": {
    "ExecuteTime": {
     "end_time": "2020-02-18T11:37:53.512476Z",
     "start_time": "2020-02-18T11:37:53.506334Z"
    }
   },
   "outputs": [
    {
     "name": "stdout",
     "output_type": "stream",
     "text": [
      "root\n",
      " |-- age: integer (nullable = true)\n",
      " |-- name: string (nullable = true)\n",
      "\n"
     ]
    }
   ],
   "source": [
    "df.printSchema()"
   ]
  },
  {
   "cell_type": "markdown",
   "metadata": {},
   "source": [
    "# SPARK DataFrame Basics"
   ]
  },
  {
   "cell_type": "markdown",
   "metadata": {},
   "source": [
    "### Select v/s Grab Data"
   ]
  },
  {
   "cell_type": "code",
   "execution_count": 13,
   "metadata": {
    "ExecuteTime": {
     "end_time": "2020-02-18T11:37:53.727643Z",
     "start_time": "2020-02-18T11:37:53.516401Z"
    }
   },
   "outputs": [
    {
     "data": {
      "text/plain": [
       "Column<b'age'>"
      ]
     },
     "execution_count": 13,
     "metadata": {},
     "output_type": "execute_result"
    }
   ],
   "source": [
    "# By running this we get an column object\n",
    "df['age']"
   ]
  },
  {
   "cell_type": "code",
   "execution_count": 14,
   "metadata": {
    "ExecuteTime": {
     "end_time": "2020-02-18T11:37:53.737028Z",
     "start_time": "2020-02-18T11:37:53.731197Z"
    }
   },
   "outputs": [
    {
     "data": {
      "text/plain": [
       "pyspark.sql.column.Column"
      ]
     },
     "execution_count": 14,
     "metadata": {},
     "output_type": "execute_result"
    }
   ],
   "source": [
    "type( df['age'] )\n",
    "# Column object returned"
   ]
  },
  {
   "cell_type": "code",
   "execution_count": 15,
   "metadata": {
    "ExecuteTime": {
     "end_time": "2020-02-18T11:37:53.764941Z",
     "start_time": "2020-02-18T11:37:53.739252Z"
    }
   },
   "outputs": [
    {
     "data": {
      "text/plain": [
       "DataFrame[age: int]"
      ]
     },
     "execution_count": 15,
     "metadata": {},
     "output_type": "execute_result"
    }
   ],
   "source": [
    "# To get a dataFrame \n",
    "df.select('age')"
   ]
  },
  {
   "cell_type": "code",
   "execution_count": 16,
   "metadata": {
    "ExecuteTime": {
     "end_time": "2020-02-18T11:37:54.039328Z",
     "start_time": "2020-02-18T11:37:53.767443Z"
    }
   },
   "outputs": [
    {
     "name": "stdout",
     "output_type": "stream",
     "text": [
      "+----+\n",
      "| age|\n",
      "+----+\n",
      "|null|\n",
      "|null|\n",
      "|  27|\n",
      "|  29|\n",
      "|  41|\n",
      "|null|\n",
      "|  37|\n",
      "|  29|\n",
      "|null|\n",
      "|null|\n",
      "+----+\n",
      "\n"
     ]
    }
   ],
   "source": [
    "df.select('age').show()"
   ]
  },
  {
   "cell_type": "code",
   "execution_count": 17,
   "metadata": {
    "ExecuteTime": {
     "end_time": "2020-02-18T11:37:54.058652Z",
     "start_time": "2020-02-18T11:37:54.041693Z"
    }
   },
   "outputs": [
    {
     "data": {
      "text/plain": [
       "pyspark.sql.dataframe.DataFrame"
      ]
     },
     "execution_count": 17,
     "metadata": {},
     "output_type": "execute_result"
    }
   ],
   "source": [
    "type(df.select('age'))"
   ]
  },
  {
   "cell_type": "code",
   "execution_count": 18,
   "metadata": {
    "ExecuteTime": {
     "end_time": "2020-02-18T11:37:54.273952Z",
     "start_time": "2020-02-18T11:37:54.061061Z"
    },
    "scrolled": true
   },
   "outputs": [
    {
     "name": "stdout",
     "output_type": "stream",
     "text": [
      "+----+----------+\n",
      "| age|      name|\n",
      "+----+----------+\n",
      "|null|Wilhelmina|\n",
      "|null| Raffaello|\n",
      "|  27|   Johnath|\n",
      "|  29|    Luella|\n",
      "|  41|     Kacie|\n",
      "|null|     Geoff|\n",
      "|  37|  Jocelyne|\n",
      "|  29|     Dodie|\n",
      "|null|   Desmund|\n",
      "|null|    Kaiser|\n",
      "+----+----------+\n",
      "\n"
     ]
    }
   ],
   "source": [
    "# Select multiple Columns\n",
    "df.select(['age','name']).show()"
   ]
  },
  {
   "cell_type": "markdown",
   "metadata": {},
   "source": [
    "### Create NEW Columns or replace EXISTING Columns"
   ]
  },
  {
   "cell_type": "code",
   "execution_count": 19,
   "metadata": {
    "ExecuteTime": {
     "end_time": "2020-02-18T11:37:54.464742Z",
     "start_time": "2020-02-18T11:37:54.276003Z"
    }
   },
   "outputs": [
    {
     "name": "stdout",
     "output_type": "stream",
     "text": [
      "+----+----------+-------+\n",
      "| age|      name|new_age|\n",
      "+----+----------+-------+\n",
      "|null|Wilhelmina|   null|\n",
      "|null| Raffaello|   null|\n",
      "|  27|   Johnath|     54|\n",
      "|  29|    Luella|     58|\n",
      "|  41|     Kacie|     82|\n",
      "|null|     Geoff|   null|\n",
      "|  37|  Jocelyne|     74|\n",
      "|  29|     Dodie|     58|\n",
      "|null|   Desmund|   null|\n",
      "|null|    Kaiser|   null|\n",
      "+----+----------+-------+\n",
      "\n"
     ]
    }
   ],
   "source": [
    "# PASS --> Name of the column & a column\n",
    "df.withColumn('new_age',df['age']*2).show()"
   ]
  },
  {
   "cell_type": "code",
   "execution_count": 20,
   "metadata": {
    "ExecuteTime": {
     "end_time": "2020-02-18T11:37:54.603604Z",
     "start_time": "2020-02-18T11:37:54.466742Z"
    },
    "scrolled": true
   },
   "outputs": [
    {
     "name": "stdout",
     "output_type": "stream",
     "text": [
      "+----+----------+\n",
      "| AGE|      name|\n",
      "+----+----------+\n",
      "|null|Wilhelmina|\n",
      "|null| Raffaello|\n",
      "|  27|   Johnath|\n",
      "|  29|    Luella|\n",
      "|  41|     Kacie|\n",
      "|null|     Geoff|\n",
      "|  37|  Jocelyne|\n",
      "|  29|     Dodie|\n",
      "|null|   Desmund|\n",
      "|null|    Kaiser|\n",
      "+----+----------+\n",
      "\n"
     ]
    }
   ],
   "source": [
    "# Rename Column name\n",
    "df.withColumnRenamed('age','AGE').show()"
   ]
  },
  {
   "cell_type": "markdown",
   "metadata": {},
   "source": [
    "### Registering DataFrame as a SQL temp VIEW"
   ]
  },
  {
   "cell_type": "code",
   "execution_count": 21,
   "metadata": {
    "ExecuteTime": {
     "end_time": "2020-02-18T11:37:54.884327Z",
     "start_time": "2020-02-18T11:37:54.607706Z"
    }
   },
   "outputs": [],
   "source": [
    "df.createOrReplaceTempView(\"MOCK_DATA\")"
   ]
  },
  {
   "cell_type": "markdown",
   "metadata": {},
   "source": [
    "### To run SQL Queries Directly"
   ]
  },
  {
   "cell_type": "code",
   "execution_count": 23,
   "metadata": {
    "ExecuteTime": {
     "end_time": "2020-02-18T11:37:55.119806Z",
     "start_time": "2020-02-18T11:37:54.885905Z"
    }
   },
   "outputs": [],
   "source": [
    "result = spark.sql(\"SELECT * FROM MOCK_DATA WHERE name IN ('Geoff','Kaiser')\")"
   ]
  },
  {
   "cell_type": "code",
   "execution_count": 24,
   "metadata": {
    "ExecuteTime": {
     "end_time": "2020-02-18T11:37:55.351855Z",
     "start_time": "2020-02-18T11:37:55.128306Z"
    }
   },
   "outputs": [
    {
     "name": "stdout",
     "output_type": "stream",
     "text": [
      "+----+------+\n",
      "| age|  name|\n",
      "+----+------+\n",
      "|null| Geoff|\n",
      "|null|Kaiser|\n",
      "+----+------+\n",
      "\n"
     ]
    }
   ],
   "source": [
    "# TO show the result\n",
    "result.show()"
   ]
  },
  {
   "cell_type": "markdown",
   "metadata": {},
   "source": [
    "# Session  : 2"
   ]
  },
  {
   "cell_type": "code",
   "execution_count": 25,
   "metadata": {
    "ExecuteTime": {
     "end_time": "2020-02-18T11:37:55.889479Z",
     "start_time": "2020-02-18T11:37:55.363506Z"
    }
   },
   "outputs": [],
   "source": [
    "df = spark.read.csv('/home/bluepi/Documents/AAPL.csv',inferSchema=True, header=True )"
   ]
  },
  {
   "cell_type": "code",
   "execution_count": 26,
   "metadata": {
    "ExecuteTime": {
     "end_time": "2020-02-18T11:37:55.903586Z",
     "start_time": "2020-02-18T11:37:55.891451Z"
    }
   },
   "outputs": [
    {
     "name": "stdout",
     "output_type": "stream",
     "text": [
      "root\n",
      " |-- Date: timestamp (nullable = true)\n",
      " |-- Open: double (nullable = true)\n",
      " |-- High: double (nullable = true)\n",
      " |-- Low: double (nullable = true)\n",
      " |-- Close: double (nullable = true)\n",
      " |-- Adj Close: double (nullable = true)\n",
      " |-- Volume: integer (nullable = true)\n",
      "\n"
     ]
    }
   ],
   "source": [
    "df.printSchema()"
   ]
  },
  {
   "cell_type": "code",
   "execution_count": 29,
   "metadata": {
    "ExecuteTime": {
     "end_time": "2020-02-18T11:37:56.136954Z",
     "start_time": "2020-02-18T11:37:55.908023Z"
    },
    "scrolled": true
   },
   "outputs": [
    {
     "name": "stdout",
     "output_type": "stream",
     "text": [
      "+-------------------+----------+----------+----------+----------+----------+---------+\n",
      "|               Date|      Open|      High|       Low|     Close| Adj Close|   Volume|\n",
      "+-------------------+----------+----------+----------+----------+----------+---------+\n",
      "|2014-09-29 00:00:00|100.589996|100.690002| 98.040001| 99.620003|  93.51429|142718700|\n",
      "|2014-10-06 00:00:00| 99.949997|102.379997| 98.309998|100.730003| 94.556244|280258200|\n",
      "|2014-10-13 00:00:00|101.330002|101.779999|     95.18| 97.669998| 91.683792|358539800|\n",
      "|2014-10-20 00:00:00|     98.32|105.489998| 98.220001|105.220001| 98.771042|358532900|\n",
      "|2014-10-27 00:00:00|104.849998|108.040001|104.699997|     108.0|101.380676|220230600|\n",
      "|2014-11-03 00:00:00|108.220001|110.300003|107.720001|109.010002|102.328766|199952900|\n",
      "|2014-11-10 00:00:00|109.019997|114.190002|108.400002|    114.18|107.646675|205166700|\n",
      "|2014-11-17 00:00:00|114.269997|    117.57|113.300003|116.470001|109.805626|233414700|\n",
      "|2014-11-24 00:00:00|116.849998|    119.75|116.620003|    118.93|112.124863|181873900|\n",
      "|2014-12-01 00:00:00|118.809998|    119.25|111.269997|     115.0|108.419746|266589700|\n",
      "|2014-12-08 00:00:00|114.099998|114.849998|109.349998|109.730003|103.451294|259868000|\n",
      "|2014-12-15 00:00:00|110.699997|113.239998|106.260002|111.779999| 105.38398|328856600|\n",
      "|2014-12-22 00:00:00|112.160004|114.519997|111.970001|113.989998|107.467529|119396500|\n",
      "|2014-12-29 00:00:00|113.790001|114.769997|107.349998|109.330002|103.074181|152088400|\n",
      "|2015-01-05 00:00:00|108.290001|    113.25|104.629997|112.010002| 105.60083|283252500|\n",
      "|2015-01-12 00:00:00|112.599998|112.800003|105.199997|105.989998| 99.925285|303607000|\n",
      "|2015-01-19 00:00:00|107.839996|    113.75|     106.5|112.980003|106.515343|198737000|\n",
      "|2015-01-26 00:00:00|113.739998|     120.0|109.029999|117.160004|110.456146|465842700|\n",
      "|2015-02-02 00:00:00|118.050003|120.510002|116.080002|    118.93|112.124863|270757300|\n",
      "|2015-02-09 00:00:00|118.550003|127.480003|    118.43|127.080002|120.281372|303206800|\n",
      "+-------------------+----------+----------+----------+----------+----------+---------+\n",
      "only showing top 20 rows\n",
      "\n"
     ]
    }
   ],
   "source": [
    "df.show()"
   ]
  },
  {
   "cell_type": "code",
   "execution_count": 37,
   "metadata": {
    "ExecuteTime": {
     "end_time": "2020-02-18T11:37:56.319344Z",
     "start_time": "2020-02-18T11:37:56.139216Z"
    }
   },
   "outputs": [
    {
     "data": {
      "text/plain": [
       "Row(Date=datetime.datetime(2014, 9, 29, 0, 0), Open=100.589996, High=100.690002, Low=98.040001, Close=99.620003, Adj Close=93.51429, Volume=142718700)"
      ]
     },
     "execution_count": 37,
     "metadata": {},
     "output_type": "execute_result"
    }
   ],
   "source": [
    "df.head(1)[0]"
   ]
  },
  {
   "cell_type": "markdown",
   "metadata": {},
   "source": [
    "### **filter()** --> filter rows using given condition"
   ]
  },
  {
   "cell_type": "code",
   "execution_count": 39,
   "metadata": {
    "ExecuteTime": {
     "end_time": "2020-02-18T11:37:56.552447Z",
     "start_time": "2020-02-18T11:37:56.325792Z"
    },
    "scrolled": true
   },
   "outputs": [
    {
     "name": "stdout",
     "output_type": "stream",
     "text": [
      "+-------------------+----------+----------+----------+----------+----------+---------+\n",
      "|               Date|      Open|      High|       Low|     Close| Adj Close|   Volume|\n",
      "+-------------------+----------+----------+----------+----------+----------+---------+\n",
      "|2014-09-29 00:00:00|100.589996|100.690002| 98.040001| 99.620003|  93.51429|142718700|\n",
      "|2014-10-06 00:00:00| 99.949997|102.379997| 98.309998|100.730003| 94.556244|280258200|\n",
      "|2014-10-13 00:00:00|101.330002|101.779999|     95.18| 97.669998| 91.683792|358539800|\n",
      "|2014-10-20 00:00:00|     98.32|105.489998| 98.220001|105.220001| 98.771042|358532900|\n",
      "|2014-10-27 00:00:00|104.849998|108.040001|104.699997|     108.0|101.380676|220230600|\n",
      "|2014-11-03 00:00:00|108.220001|110.300003|107.720001|109.010002|102.328766|199952900|\n",
      "|2014-11-10 00:00:00|109.019997|114.190002|108.400002|    114.18|107.646675|205166700|\n",
      "|2014-11-17 00:00:00|114.269997|    117.57|113.300003|116.470001|109.805626|233414700|\n",
      "|2014-11-24 00:00:00|116.849998|    119.75|116.620003|    118.93|112.124863|181873900|\n",
      "|2014-12-01 00:00:00|118.809998|    119.25|111.269997|     115.0|108.419746|266589700|\n",
      "|2014-12-08 00:00:00|114.099998|114.849998|109.349998|109.730003|103.451294|259868000|\n",
      "|2014-12-15 00:00:00|110.699997|113.239998|106.260002|111.779999| 105.38398|328856600|\n",
      "|2014-12-22 00:00:00|112.160004|114.519997|111.970001|113.989998|107.467529|119396500|\n",
      "|2014-12-29 00:00:00|113.790001|114.769997|107.349998|109.330002|103.074181|152088400|\n",
      "|2015-01-05 00:00:00|108.290001|    113.25|104.629997|112.010002| 105.60083|283252500|\n",
      "|2015-01-12 00:00:00|112.599998|112.800003|105.199997|105.989998| 99.925285|303607000|\n",
      "|2015-01-19 00:00:00|107.839996|    113.75|     106.5|112.980003|106.515343|198737000|\n",
      "|2015-01-26 00:00:00|113.739998|     120.0|109.029999|117.160004|110.456146|465842700|\n",
      "|2015-02-02 00:00:00|118.050003|120.510002|116.080002|    118.93|112.124863|270757300|\n",
      "|2015-02-09 00:00:00|118.550003|127.480003|    118.43|127.080002|120.281372|303206800|\n",
      "+-------------------+----------+----------+----------+----------+----------+---------+\n",
      "only showing top 20 rows\n",
      "\n"
     ]
    }
   ],
   "source": [
    "# Method 1 :\n",
    "df.filter(\"Close < 500\").show()"
   ]
  },
  {
   "cell_type": "code",
   "execution_count": 40,
   "metadata": {
    "ExecuteTime": {
     "end_time": "2020-02-18T11:37:56.765159Z",
     "start_time": "2020-02-18T11:37:56.554955Z"
    }
   },
   "outputs": [
    {
     "name": "stdout",
     "output_type": "stream",
     "text": [
      "+----------+\n",
      "|      Open|\n",
      "+----------+\n",
      "|100.589996|\n",
      "| 99.949997|\n",
      "|101.330002|\n",
      "|     98.32|\n",
      "|104.849998|\n",
      "|108.220001|\n",
      "|109.019997|\n",
      "|114.269997|\n",
      "|116.849998|\n",
      "|118.809998|\n",
      "|114.099998|\n",
      "|110.699997|\n",
      "|112.160004|\n",
      "|113.790001|\n",
      "|108.290001|\n",
      "|112.599998|\n",
      "|107.839996|\n",
      "|113.739998|\n",
      "|118.050003|\n",
      "|118.550003|\n",
      "+----------+\n",
      "only showing top 20 rows\n",
      "\n"
     ]
    }
   ],
   "source": [
    "# Selecting columns using \"select\"\n",
    "df.filter(\"Close < 500\").select('Open').show()"
   ]
  },
  {
   "cell_type": "code",
   "execution_count": 41,
   "metadata": {
    "ExecuteTime": {
     "end_time": "2020-02-18T11:37:56.985680Z",
     "start_time": "2020-02-18T11:37:56.767427Z"
    }
   },
   "outputs": [
    {
     "name": "stdout",
     "output_type": "stream",
     "text": [
      "+----------+\n",
      "|      Open|\n",
      "+----------+\n",
      "|100.589996|\n",
      "| 99.949997|\n",
      "|101.330002|\n",
      "|     98.32|\n",
      "|104.849998|\n",
      "|108.220001|\n",
      "|109.019997|\n",
      "|114.269997|\n",
      "|116.849998|\n",
      "|118.809998|\n",
      "|114.099998|\n",
      "|110.699997|\n",
      "|112.160004|\n",
      "|113.790001|\n",
      "|108.290001|\n",
      "|112.599998|\n",
      "|107.839996|\n",
      "|113.739998|\n",
      "|118.050003|\n",
      "|118.550003|\n",
      "+----------+\n",
      "only showing top 20 rows\n",
      "\n"
     ]
    }
   ],
   "source": [
    "df.filter(df['Close'] < 500 ).select('Open').show()"
   ]
  },
  {
   "cell_type": "code",
   "execution_count": 43,
   "metadata": {
    "ExecuteTime": {
     "end_time": "2020-02-18T11:37:57.225856Z",
     "start_time": "2020-02-18T11:37:56.988114Z"
    }
   },
   "outputs": [
    {
     "name": "stdout",
     "output_type": "stream",
     "text": [
      "+-------------------+----------+----------+----------+----------+----------+---------+\n",
      "|               Date|      Open|      High|       Low|     Close| Adj Close|   Volume|\n",
      "+-------------------+----------+----------+----------+----------+----------+---------+\n",
      "|2014-10-06 00:00:00| 99.949997|102.379997| 98.309998|100.730003| 94.556244|280258200|\n",
      "|2016-01-18 00:00:00| 98.410004|101.459999| 93.419998|101.419998| 97.245926|243384100|\n",
      "|2016-02-29 00:00:00| 96.860001|    103.75| 96.650002|103.010002|  99.30645|201803800|\n",
      "|2016-03-07 00:00:00|102.389999|102.830002|100.150002|102.260002| 98.583405|155514300|\n",
      "|2016-05-23 00:00:00| 95.870003|100.730003| 95.669998|100.349998| 97.331093|203888300|\n",
      "|2016-07-25 00:00:00|     98.25|104.550003| 96.419998|104.209999|101.074974|256571000|\n",
      "|2016-09-05 00:00:00|107.900002|108.760002|103.129997|103.129997|100.569328|168803700|\n",
      "+-------------------+----------+----------+----------+----------+----------+---------+\n",
      "\n"
     ]
    }
   ],
   "source": [
    "# Filtering based on multiple conditions\n",
    "\n",
    "# Mistakes -->\n",
    "# df.filter( df['Close'] <500 and df['Close'] > 450 ).show()\n",
    "\n",
    "# Required to give seperate columns\n",
    "# df.filter( df['Close'] <500 & df['Close'] > 450 ).show()\n",
    "\n",
    "df.filter( (df['Close'] <105) & (df['Close'] > 100) ).show()"
   ]
  },
  {
   "cell_type": "code",
   "execution_count": 44,
   "metadata": {
    "ExecuteTime": {
     "end_time": "2020-02-18T11:37:57.409802Z",
     "start_time": "2020-02-18T11:37:57.229823Z"
    }
   },
   "outputs": [
    {
     "name": "stdout",
     "output_type": "stream",
     "text": [
      "+-------------------+----------+----------+---------+---------+---------+---------+\n",
      "|               Date|      Open|      High|      Low|    Close|Adj Close|   Volume|\n",
      "+-------------------+----------+----------+---------+---------+---------+---------+\n",
      "|2014-09-29 00:00:00|100.589996|100.690002|98.040001|99.620003| 93.51429|142718700|\n",
      "|2014-10-13 00:00:00|101.330002|101.779999|    95.18|97.669998|91.683792|358539800|\n",
      "|2016-01-04 00:00:00|102.610001|105.849998|    96.43|96.959999| 92.96949|343790200|\n",
      "|2016-01-11 00:00:00| 98.970001|101.190002|95.360001|97.129997|93.132492|303513300|\n",
      "|2016-01-25 00:00:00|101.519997|101.529999|92.389999|97.339996|93.333847|380336500|\n",
      "|2016-02-01 00:00:00| 96.470001| 97.330002|93.690002|94.019997|90.150482|217154800|\n",
      "|2016-02-08 00:00:00| 93.129997| 96.349998|92.589996|93.989998|90.610756|231122300|\n",
      "|2016-02-15 00:00:00| 95.019997| 98.889999|94.610001|96.040001|92.587051|168316300|\n",
      "|2016-02-22 00:00:00| 96.309998| 98.019997|    93.32|96.910004|93.425774|159052900|\n",
      "|2016-04-25 00:00:00|     105.0|105.650002|92.510002|93.739998|90.369751|349424100|\n",
      "|2016-05-02 00:00:00| 93.970001| 95.900002|91.849998|92.720001|89.386421|225365600|\n",
      "|2016-05-09 00:00:00|      93.0| 93.769997|89.470001|90.519997|87.796822|216049800|\n",
      "|2016-05-16 00:00:00| 92.389999|     95.43|91.650002|95.220001|92.355438|212707200|\n",
      "|2016-05-30 00:00:00| 99.599998|100.400002|96.629997|97.919998| 94.97419|139735000|\n",
      "|2016-06-06 00:00:00| 97.989998|101.889999|97.550003|98.830002|95.856812|124864400|\n",
      "|2016-06-13 00:00:00| 98.690002| 99.120003|95.300003|95.330002|92.462112|191732600|\n",
      "|2016-06-20 00:00:00|      96.0| 96.889999|92.650002|93.400002|90.590179|206729000|\n",
      "|2016-06-27 00:00:00|      93.0| 96.470001|     91.5|95.889999|93.005264|184328400|\n",
      "|2016-07-04 00:00:00| 95.389999| 96.889999|94.370003|    96.68|93.771507|112706000|\n",
      "|2016-07-11 00:00:00|     96.75| 99.300003|96.730003|98.779999|95.808327|142910600|\n",
      "+-------------------+----------+----------+---------+---------+---------+---------+\n",
      "only showing top 20 rows\n",
      "\n"
     ]
    }
   ],
   "source": [
    "# using NOT Symbol\n",
    "df.filter( (df['Close'] <105) & ~(df['Close'] > 100) ).show()"
   ]
  },
  {
   "cell_type": "markdown",
   "metadata": {},
   "source": [
    "Using __collect()__ method to return a **list of row objects** instead of printing the result"
   ]
  },
  {
   "cell_type": "code",
   "execution_count": 45,
   "metadata": {
    "ExecuteTime": {
     "end_time": "2020-02-18T11:37:57.602454Z",
     "start_time": "2020-02-18T11:37:57.411889Z"
    },
    "scrolled": true
   },
   "outputs": [
    {
     "name": "stdout",
     "output_type": "stream",
     "text": [
      "+-------------------+----------+----------+-----+---------+---------+---------+\n",
      "|               Date|      Open|      High|  Low|    Close|Adj Close|   Volume|\n",
      "+-------------------+----------+----------+-----+---------+---------+---------+\n",
      "|2014-10-13 00:00:00|101.330002|101.779999|95.18|97.669998|91.683792|358539800|\n",
      "+-------------------+----------+----------+-----+---------+---------+---------+\n",
      "\n"
     ]
    }
   ],
   "source": [
    "\n",
    "df.filter( df['Low'] == 95.18 ).show()"
   ]
  },
  {
   "cell_type": "code",
   "execution_count": 53,
   "metadata": {
    "ExecuteTime": {
     "end_time": "2020-02-18T11:37:57.815317Z",
     "start_time": "2020-02-18T11:37:57.604499Z"
    }
   },
   "outputs": [
    {
     "data": {
      "text/plain": [
       "[Row(Date=datetime.datetime(2014, 10, 13, 0, 0), Open=101.330002, High=101.779999, Low=95.18, Close=97.669998, Adj Close=91.683792, Volume=358539800)]"
      ]
     },
     "execution_count": 53,
     "metadata": {},
     "output_type": "execute_result"
    }
   ],
   "source": [
    "df.filter( df['Low'] == 95.18 ).collect()"
   ]
  },
  {
   "cell_type": "code",
   "execution_count": 58,
   "metadata": {
    "ExecuteTime": {
     "end_time": "2020-02-18T11:37:57.974974Z",
     "start_time": "2020-02-18T11:37:57.823885Z"
    }
   },
   "outputs": [
    {
     "data": {
      "text/plain": [
       "[Row(Date=datetime.datetime(2014, 10, 13, 0, 0), Open=101.330002, High=101.779999, Low=95.18, Close=97.669998, Adj Close=91.683792, Volume=358539800)]"
      ]
     },
     "execution_count": 58,
     "metadata": {},
     "output_type": "execute_result"
    }
   ],
   "source": [
    "result = df.filter( df['Low'] == 95.18 ).collect()\n",
    "# list is stored in result\n",
    "result"
   ]
  },
  {
   "cell_type": "code",
   "execution_count": 59,
   "metadata": {
    "ExecuteTime": {
     "end_time": "2020-02-18T11:37:57.987689Z",
     "start_time": "2020-02-18T11:37:57.979616Z"
    }
   },
   "outputs": [
    {
     "data": {
      "text/plain": [
       "Row(Date=datetime.datetime(2014, 10, 13, 0, 0), Open=101.330002, High=101.779999, Low=95.18, Close=97.669998, Adj Close=91.683792, Volume=358539800)"
      ]
     },
     "execution_count": 59,
     "metadata": {},
     "output_type": "execute_result"
    }
   ],
   "source": [
    "# getting first item of the list\n",
    "row = result[0]\n",
    "result[0]"
   ]
  },
  {
   "cell_type": "code",
   "execution_count": 60,
   "metadata": {
    "ExecuteTime": {
     "end_time": "2020-02-18T11:37:57.998706Z",
     "start_time": "2020-02-18T11:37:57.990126Z"
    }
   },
   "outputs": [
    {
     "data": {
      "text/plain": [
       "{'Date': datetime.datetime(2014, 10, 13, 0, 0),\n",
       " 'Open': 101.330002,\n",
       " 'High': 101.779999,\n",
       " 'Low': 95.18,\n",
       " 'Close': 97.669998,\n",
       " 'Adj Close': 91.683792,\n",
       " 'Volume': 358539800}"
      ]
     },
     "execution_count": 60,
     "metadata": {},
     "output_type": "execute_result"
    }
   ],
   "source": [
    "# getting elements as a dictionary\n",
    "row.asDict()"
   ]
  },
  {
   "cell_type": "markdown",
   "metadata": {},
   "source": [
    "Grabing __keys__ from dictionary"
   ]
  },
  {
   "cell_type": "code",
   "execution_count": 61,
   "metadata": {
    "ExecuteTime": {
     "end_time": "2020-02-18T11:37:58.007282Z",
     "start_time": "2020-02-18T11:37:58.001606Z"
    }
   },
   "outputs": [
    {
     "data": {
      "text/plain": [
       "101.330002"
      ]
     },
     "execution_count": 61,
     "metadata": {},
     "output_type": "execute_result"
    }
   ],
   "source": [
    "row.asDict()['Open']"
   ]
  },
  {
   "cell_type": "markdown",
   "metadata": {},
   "source": [
    "# Session  : 3 "
   ]
  },
  {
   "cell_type": "markdown",
   "metadata": {},
   "source": [
    "### GroupBy and Aggregate functions"
   ]
  },
  {
   "cell_type": "markdown",
   "metadata": {},
   "source": [
    "* **GroupBy** can group values together based on some column values\n",
    "* **Aggregate** will combines multiple rows of data into a single output\n",
    "    - it takes dictionary as a arguments key:value --> column:operation\n"
   ]
  },
  {
   "cell_type": "code",
   "execution_count": 62,
   "metadata": {
    "ExecuteTime": {
     "end_time": "2020-02-18T11:37:58.646751Z",
     "start_time": "2020-02-18T11:37:58.010482Z"
    }
   },
   "outputs": [
    {
     "name": "stdout",
     "output_type": "stream",
     "text": [
      "+-------+-------+-----+\n",
      "|Company| Person|Sales|\n",
      "+-------+-------+-----+\n",
      "|   GOOG|    Sam|200.0|\n",
      "|   GOOG|Charlie|120.0|\n",
      "|   GOOG|  Frank|340.0|\n",
      "|   MSFT|   Tina|600.0|\n",
      "|   MSFT|    Amy|124.0|\n",
      "|   MSFT|Vanessa|243.0|\n",
      "|     FB|   Carl|870.0|\n",
      "|     FB|  Sarah|350.0|\n",
      "|   APPL|   John|250.0|\n",
      "|   APPL|  Linda|130.0|\n",
      "|   APPL|   Mike|750.0|\n",
      "|   APPL|  Chris|350.0|\n",
      "+-------+-------+-----+\n",
      "\n"
     ]
    }
   ],
   "source": [
    "df = spark.read.csv('/home/bluepi/Documents/sales_info.csv', inferSchema=True, header=True )\n",
    "df.show()"
   ]
  },
  {
   "cell_type": "code",
   "execution_count": 63,
   "metadata": {
    "ExecuteTime": {
     "end_time": "2020-02-18T11:37:58.674484Z",
     "start_time": "2020-02-18T11:37:58.648857Z"
    }
   },
   "outputs": [
    {
     "name": "stdout",
     "output_type": "stream",
     "text": [
      "root\n",
      " |-- Company: string (nullable = true)\n",
      " |-- Person: string (nullable = true)\n",
      " |-- Sales: double (nullable = true)\n",
      "\n"
     ]
    }
   ],
   "source": [
    "df.printSchema()"
   ]
  },
  {
   "cell_type": "code",
   "execution_count": 64,
   "metadata": {
    "ExecuteTime": {
     "end_time": "2020-02-18T11:38:00.689827Z",
     "start_time": "2020-02-18T11:37:58.676723Z"
    }
   },
   "outputs": [
    {
     "name": "stdout",
     "output_type": "stream",
     "text": [
      "+-------+-----+\n",
      "|Company|count|\n",
      "+-------+-----+\n",
      "|   APPL|    4|\n",
      "|   GOOG|    3|\n",
      "|     FB|    2|\n",
      "|   MSFT|    3|\n",
      "+-------+-----+\n",
      "\n"
     ]
    }
   ],
   "source": [
    "# Counting total number of companies\n",
    "df.groupBy(\"Company\").count().show()"
   ]
  },
  {
   "cell_type": "code",
   "execution_count": 65,
   "metadata": {},
   "outputs": [
    {
     "name": "stdout",
     "output_type": "stream",
     "text": [
      "+-----------------+\n",
      "|       avg(Sales)|\n",
      "+-----------------+\n",
      "|360.5833333333333|\n",
      "+-----------------+\n",
      "\n"
     ]
    }
   ],
   "source": [
    "df.agg( {'Sales':'avg'} ).show()"
   ]
  },
  {
   "cell_type": "markdown",
   "metadata": {},
   "source": [
    "### Various Functions"
   ]
  },
  {
   "cell_type": "code",
   "execution_count": 66,
   "metadata": {},
   "outputs": [],
   "source": [
    "from pyspark.sql.functions import countDistinct,avg,stddev"
   ]
  },
  {
   "cell_type": "code",
   "execution_count": 67,
   "metadata": {},
   "outputs": [
    {
     "name": "stdout",
     "output_type": "stream",
     "text": [
      "+-----------------+\n",
      "|    Average Sales|\n",
      "+-----------------+\n",
      "|360.5833333333333|\n",
      "+-----------------+\n",
      "\n"
     ]
    }
   ],
   "source": [
    "# finding average\n",
    "df.select(avg('Sales').alias('Average Sales')).show()"
   ]
  },
  {
   "cell_type": "code",
   "execution_count": 68,
   "metadata": {},
   "outputs": [
    {
     "name": "stdout",
     "output_type": "stream",
     "text": [
      "+------------------+\n",
      "|         STD Sales|\n",
      "+------------------+\n",
      "|250.08742410799007|\n",
      "+------------------+\n",
      "\n"
     ]
    }
   ],
   "source": [
    "# finding Standard Deviation\n",
    "df.select(stddev('Sales').alias('STD Sales')).show()"
   ]
  },
  {
   "cell_type": "code",
   "execution_count": 71,
   "metadata": {},
   "outputs": [
    {
     "name": "stdout",
     "output_type": "stream",
     "text": [
      "+------+\n",
      "|   STD|\n",
      "+------+\n",
      "|250.09|\n",
      "+------+\n",
      "\n"
     ]
    }
   ],
   "source": [
    "# format_number takes 2 arguments column_name & no. of decimal places\n",
    "from pyspark.sql.functions import format_number\n",
    "df.select(stddev('Sales').alias('STD Sales')).select(format_number( 'STD Sales',2 ).alias('STD') ).show()"
   ]
  },
  {
   "cell_type": "code",
   "execution_count": 72,
   "metadata": {},
   "outputs": [
    {
     "name": "stdout",
     "output_type": "stream",
     "text": [
      "+-------+-------+-----+\n",
      "|Company| Person|Sales|\n",
      "+-------+-------+-----+\n",
      "|   GOOG|Charlie|120.0|\n",
      "|   MSFT|    Amy|124.0|\n",
      "|   APPL|  Linda|130.0|\n",
      "|   GOOG|    Sam|200.0|\n",
      "|   MSFT|Vanessa|243.0|\n",
      "|   APPL|   John|250.0|\n",
      "|   GOOG|  Frank|340.0|\n",
      "|     FB|  Sarah|350.0|\n",
      "|   APPL|  Chris|350.0|\n",
      "|   MSFT|   Tina|600.0|\n",
      "|   APPL|   Mike|750.0|\n",
      "|     FB|   Carl|870.0|\n",
      "+-------+-------+-----+\n",
      "\n"
     ]
    }
   ],
   "source": [
    "# Sorting Ascending\n",
    "df.orderBy('Sales').show()"
   ]
  },
  {
   "cell_type": "code",
   "execution_count": 73,
   "metadata": {},
   "outputs": [
    {
     "name": "stdout",
     "output_type": "stream",
     "text": [
      "+-------+-------+-----+\n",
      "|Company| Person|Sales|\n",
      "+-------+-------+-----+\n",
      "|     FB|   Carl|870.0|\n",
      "|   APPL|   Mike|750.0|\n",
      "|   MSFT|   Tina|600.0|\n",
      "|     FB|  Sarah|350.0|\n",
      "|   APPL|  Chris|350.0|\n",
      "|   GOOG|  Frank|340.0|\n",
      "|   APPL|   John|250.0|\n",
      "|   MSFT|Vanessa|243.0|\n",
      "|   GOOG|    Sam|200.0|\n",
      "|   APPL|  Linda|130.0|\n",
      "|   MSFT|    Amy|124.0|\n",
      "|   GOOG|Charlie|120.0|\n",
      "+-------+-------+-----+\n",
      "\n"
     ]
    }
   ],
   "source": [
    "# Sorting Descreasing Order\n",
    "# In this we have to pass the column itself\n",
    "df.orderBy(df['Sales'].desc()).show()"
   ]
  },
  {
   "cell_type": "markdown",
   "metadata": {},
   "source": [
    "# Session  : 4"
   ]
  },
  {
   "cell_type": "markdown",
   "metadata": {},
   "source": [
    "### Dates and TimeStamp"
   ]
  },
  {
   "cell_type": "code",
   "execution_count": 75,
   "metadata": {},
   "outputs": [],
   "source": [
    "df = spark.read.csv('/home/bluepi/Documents/AAPL.csv',inferSchema=True, header=True )"
   ]
  },
  {
   "cell_type": "code",
   "execution_count": 76,
   "metadata": {},
   "outputs": [
    {
     "name": "stdout",
     "output_type": "stream",
     "text": [
      "+-------------------+----------+----------+----------+----------+----------+---------+\n",
      "|               Date|      Open|      High|       Low|     Close| Adj Close|   Volume|\n",
      "+-------------------+----------+----------+----------+----------+----------+---------+\n",
      "|2014-09-29 00:00:00|100.589996|100.690002| 98.040001| 99.620003|  93.51429|142718700|\n",
      "|2014-10-06 00:00:00| 99.949997|102.379997| 98.309998|100.730003| 94.556244|280258200|\n",
      "|2014-10-13 00:00:00|101.330002|101.779999|     95.18| 97.669998| 91.683792|358539800|\n",
      "|2014-10-20 00:00:00|     98.32|105.489998| 98.220001|105.220001| 98.771042|358532900|\n",
      "|2014-10-27 00:00:00|104.849998|108.040001|104.699997|     108.0|101.380676|220230600|\n",
      "|2014-11-03 00:00:00|108.220001|110.300003|107.720001|109.010002|102.328766|199952900|\n",
      "|2014-11-10 00:00:00|109.019997|114.190002|108.400002|    114.18|107.646675|205166700|\n",
      "|2014-11-17 00:00:00|114.269997|    117.57|113.300003|116.470001|109.805626|233414700|\n",
      "|2014-11-24 00:00:00|116.849998|    119.75|116.620003|    118.93|112.124863|181873900|\n",
      "|2014-12-01 00:00:00|118.809998|    119.25|111.269997|     115.0|108.419746|266589700|\n",
      "|2014-12-08 00:00:00|114.099998|114.849998|109.349998|109.730003|103.451294|259868000|\n",
      "|2014-12-15 00:00:00|110.699997|113.239998|106.260002|111.779999| 105.38398|328856600|\n",
      "|2014-12-22 00:00:00|112.160004|114.519997|111.970001|113.989998|107.467529|119396500|\n",
      "|2014-12-29 00:00:00|113.790001|114.769997|107.349998|109.330002|103.074181|152088400|\n",
      "|2015-01-05 00:00:00|108.290001|    113.25|104.629997|112.010002| 105.60083|283252500|\n",
      "|2015-01-12 00:00:00|112.599998|112.800003|105.199997|105.989998| 99.925285|303607000|\n",
      "|2015-01-19 00:00:00|107.839996|    113.75|     106.5|112.980003|106.515343|198737000|\n",
      "|2015-01-26 00:00:00|113.739998|     120.0|109.029999|117.160004|110.456146|465842700|\n",
      "|2015-02-02 00:00:00|118.050003|120.510002|116.080002|    118.93|112.124863|270757300|\n",
      "|2015-02-09 00:00:00|118.550003|127.480003|    118.43|127.080002|120.281372|303206800|\n",
      "+-------------------+----------+----------+----------+----------+----------+---------+\n",
      "only showing top 20 rows\n",
      "\n"
     ]
    }
   ],
   "source": [
    "df.show()"
   ]
  },
  {
   "cell_type": "code",
   "execution_count": 77,
   "metadata": {},
   "outputs": [
    {
     "data": {
      "text/plain": [
       "datetime.datetime(2014, 9, 29, 0, 0)"
      ]
     },
     "execution_count": 77,
     "metadata": {},
     "output_type": "execute_result"
    }
   ],
   "source": [
    "df.head(1)[0][0]"
   ]
  },
  {
   "cell_type": "code",
   "execution_count": 78,
   "metadata": {},
   "outputs": [],
   "source": [
    "from pyspark.sql.functions import dayofmonth,hour,dayofyear,month,year,weekofyear, \\\n",
    "                                    format_number,date_format"
   ]
  },
  {
   "cell_type": "code",
   "execution_count": 79,
   "metadata": {},
   "outputs": [
    {
     "name": "stdout",
     "output_type": "stream",
     "text": [
      "+----------+\n",
      "|year(Date)|\n",
      "+----------+\n",
      "|      2014|\n",
      "|      2014|\n",
      "|      2014|\n",
      "|      2014|\n",
      "|      2014|\n",
      "|      2014|\n",
      "|      2014|\n",
      "|      2014|\n",
      "|      2014|\n",
      "|      2014|\n",
      "|      2014|\n",
      "|      2014|\n",
      "|      2014|\n",
      "|      2014|\n",
      "|      2015|\n",
      "|      2015|\n",
      "|      2015|\n",
      "|      2015|\n",
      "|      2015|\n",
      "|      2015|\n",
      "+----------+\n",
      "only showing top 20 rows\n",
      "\n"
     ]
    }
   ],
   "source": [
    "df.select( year( df['Date'] ) ).show()"
   ]
  },
  {
   "cell_type": "code",
   "execution_count": null,
   "metadata": {},
   "outputs": [],
   "source": []
  }
 ],
 "metadata": {
  "kernelspec": {
   "display_name": "Python 3",
   "language": "python",
   "name": "python3"
  },
  "language_info": {
   "codemirror_mode": {
    "name": "ipython",
    "version": 3
   },
   "file_extension": ".py",
   "mimetype": "text/x-python",
   "name": "python",
   "nbconvert_exporter": "python",
   "pygments_lexer": "ipython3",
   "version": "3.7.4"
  },
  "varInspector": {
   "cols": {
    "lenName": 16,
    "lenType": 16,
    "lenVar": 40
   },
   "kernels_config": {
    "python": {
     "delete_cmd_postfix": "",
     "delete_cmd_prefix": "del ",
     "library": "var_list.py",
     "varRefreshCmd": "print(var_dic_list())"
    },
    "r": {
     "delete_cmd_postfix": ") ",
     "delete_cmd_prefix": "rm(",
     "library": "var_list.r",
     "varRefreshCmd": "cat(var_dic_list()) "
    }
   },
   "types_to_exclude": [
    "module",
    "function",
    "builtin_function_or_method",
    "instance",
    "_Feature"
   ],
   "window_display": false
  }
 },
 "nbformat": 4,
 "nbformat_minor": 4
}
