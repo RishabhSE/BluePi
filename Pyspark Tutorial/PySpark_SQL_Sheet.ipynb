{
 "cells": [
  {
   "cell_type": "markdown",
   "metadata": {},
   "source": [
    "# SQL Session"
   ]
  },
  {
   "cell_type": "markdown",
   "metadata": {},
   "source": [
    "### Main entry point for DataFrame and SQL functionality"
   ]
  },
  {
   "cell_type": "code",
   "execution_count": 1,
   "metadata": {
    "ExecuteTime": {
     "end_time": "2020-03-11T05:45:51.898048Z",
     "start_time": "2020-03-11T05:45:51.888873Z"
    }
   },
   "outputs": [],
   "source": [
    "from pyspark.sql import SparkSession\n",
    "# SparkSession --> entry point to programming Spark with the Dataset and DataFrame API"
   ]
  },
  {
   "cell_type": "markdown",
   "metadata": {},
   "source": [
    "### Start SPARK session"
   ]
  },
  {
   "cell_type": "code",
   "execution_count": 2,
   "metadata": {
    "ExecuteTime": {
     "end_time": "2020-03-11T05:45:51.926750Z",
     "start_time": "2020-03-11T05:45:51.903387Z"
    }
   },
   "outputs": [],
   "source": [
    "spark = SparkSession.builder.appName('Basics').getOrCreate()\n",
    "\n",
    "# Builder Class ---> To create SparkSession Instances\n",
    "# AppName ---> Sets a name for the application, which will be shown in the Spark web UI\n"
   ]
  },
  {
   "cell_type": "markdown",
   "metadata": {},
   "source": [
    "### Import JSON File"
   ]
  },
  {
   "cell_type": "code",
   "execution_count": 3,
   "metadata": {
    "ExecuteTime": {
     "end_time": "2020-03-11T05:45:58.636451Z",
     "start_time": "2020-03-11T05:45:51.930074Z"
    }
   },
   "outputs": [],
   "source": [
    "Apply =spark.read.json('/home/bluepi/Documents/BluePi/Apply.json')\n",
    "College =spark.read.json('/home/bluepi/Documents/BluePi/College.json')\n",
    "Student =spark.read.json('/home/bluepi/Documents/BluePi/Student.json')"
   ]
  },
  {
   "cell_type": "markdown",
   "metadata": {},
   "source": [
    "### Show the Data"
   ]
  },
  {
   "cell_type": "code",
   "execution_count": 4,
   "metadata": {
    "ExecuteTime": {
     "end_time": "2020-03-11T05:45:59.441157Z",
     "start_time": "2020-03-11T05:45:58.642583Z"
    },
    "scrolled": false
   },
   "outputs": [
    {
     "name": "stdout",
     "output_type": "stream",
     "text": [
      "+--------+--------+--------------+---+\n",
      "|   cName|decision|         major|sID|\n",
      "+--------+--------+--------------+---+\n",
      "|Stanford|       Y|            CS|123|\n",
      "|Stanford|       N|            EE|123|\n",
      "|Berkeley|       Y|            CS|123|\n",
      "| Cornell|       Y|            EE|123|\n",
      "|Berkeley|       N|       biology|234|\n",
      "|     MIT|       Y|bioengineering|345|\n",
      "| Cornell|       N|bioengineering|345|\n",
      "| Cornell|       Y|            CS|345|\n",
      "| Cornell|       N|            EE|345|\n",
      "|Stanford|       Y|       history|678|\n",
      "|Stanford|       Y|            CS|987|\n",
      "|Berkeley|       Y|            CS|987|\n",
      "|Stanford|       N|            CS|876|\n",
      "|     MIT|       Y|       biology|876|\n",
      "|     MIT|       N|marine biology|876|\n",
      "|Stanford|       Y|       history|765|\n",
      "| Cornell|       N|       history|765|\n",
      "| Cornell|       Y|    psychology|765|\n",
      "|     MIT|       N|            CS|543|\n",
      "+--------+--------+--------------+---+\n",
      "\n"
     ]
    }
   ],
   "source": [
    "Apply.show()"
   ]
  },
  {
   "cell_type": "code",
   "execution_count": 5,
   "metadata": {
    "ExecuteTime": {
     "end_time": "2020-03-11T05:45:59.819838Z",
     "start_time": "2020-03-11T05:45:59.444082Z"
    }
   },
   "outputs": [
    {
     "name": "stdout",
     "output_type": "stream",
     "text": [
      "+--------+----------+-----+\n",
      "|   cName|enrollment|state|\n",
      "+--------+----------+-----+\n",
      "|Stanford|     15000|   CA|\n",
      "|Berkeley|     36000|   CA|\n",
      "|     MIT|     10000|   MA|\n",
      "| Cornell|     21000|   NY|\n",
      "| Harvard|     50040|   MA|\n",
      "+--------+----------+-----+\n",
      "\n"
     ]
    }
   ],
   "source": [
    "College.show()"
   ]
  },
  {
   "cell_type": "code",
   "execution_count": 6,
   "metadata": {
    "ExecuteTime": {
     "end_time": "2020-03-11T05:46:00.190432Z",
     "start_time": "2020-03-11T05:45:59.821989Z"
    }
   },
   "outputs": [
    {
     "name": "stdout",
     "output_type": "stream",
     "text": [
      "+---+---+------+------+\n",
      "|GPA|sID| sName|sizeHS|\n",
      "+---+---+------+------+\n",
      "|3.9|123|   Amy|  1000|\n",
      "|3.6|234|   Bob|  1500|\n",
      "|3.5|345| Craig|   500|\n",
      "|3.9|456| Doris|  1000|\n",
      "|2.9|567|Edward|  2000|\n",
      "|3.8|678|   Fay|   200|\n",
      "|3.4|789|  Gary|   800|\n",
      "|3.7|987| Helen|   800|\n",
      "|3.9|876| Irene|   400|\n",
      "|2.9|765|   Jay|  1500|\n",
      "|3.9|654|   Amy|  1000|\n",
      "|3.4|543| Craig|  2000|\n",
      "+---+---+------+------+\n",
      "\n"
     ]
    }
   ],
   "source": [
    "Student.show()"
   ]
  },
  {
   "cell_type": "markdown",
   "metadata": {},
   "source": [
    "### PRINT Schema of DataFrame"
   ]
  },
  {
   "cell_type": "code",
   "execution_count": 7,
   "metadata": {
    "ExecuteTime": {
     "end_time": "2020-03-11T05:46:00.245524Z",
     "start_time": "2020-03-11T05:46:00.198381Z"
    }
   },
   "outputs": [
    {
     "name": "stdout",
     "output_type": "stream",
     "text": [
      "root\n",
      " |-- cName: string (nullable = true)\n",
      " |-- decision: string (nullable = true)\n",
      " |-- major: string (nullable = true)\n",
      " |-- sID: long (nullable = true)\n",
      "\n"
     ]
    }
   ],
   "source": [
    "\n",
    "Apply.printSchema()"
   ]
  },
  {
   "cell_type": "code",
   "execution_count": 8,
   "metadata": {
    "ExecuteTime": {
     "end_time": "2020-03-11T05:46:00.268291Z",
     "start_time": "2020-03-11T05:46:00.248670Z"
    },
    "scrolled": true
   },
   "outputs": [
    {
     "name": "stdout",
     "output_type": "stream",
     "text": [
      "root\n",
      " |-- cName: string (nullable = true)\n",
      " |-- enrollment: long (nullable = true)\n",
      " |-- state: string (nullable = true)\n",
      "\n"
     ]
    }
   ],
   "source": [
    "College.printSchema()"
   ]
  },
  {
   "cell_type": "code",
   "execution_count": 9,
   "metadata": {
    "ExecuteTime": {
     "end_time": "2020-03-11T05:46:00.285873Z",
     "start_time": "2020-03-11T05:46:00.280327Z"
    }
   },
   "outputs": [
    {
     "name": "stdout",
     "output_type": "stream",
     "text": [
      "root\n",
      " |-- GPA: double (nullable = true)\n",
      " |-- sID: long (nullable = true)\n",
      " |-- sName: string (nullable = true)\n",
      " |-- sizeHS: long (nullable = true)\n",
      "\n"
     ]
    }
   ],
   "source": [
    "Student.printSchema()"
   ]
  },
  {
   "cell_type": "markdown",
   "metadata": {},
   "source": [
    "### Registering DataFrame as a SQL temp VIEW"
   ]
  },
  {
   "cell_type": "code",
   "execution_count": 10,
   "metadata": {
    "ExecuteTime": {
     "end_time": "2020-03-11T05:46:00.706372Z",
     "start_time": "2020-03-11T05:46:00.288129Z"
    }
   },
   "outputs": [],
   "source": [
    "Apply.createOrReplaceTempView(\"ApplyTable\")\n",
    "College.createOrReplaceTempView(\"CollegeTable\")\n",
    "Student.createOrReplaceTempView(\"StudentTable\")"
   ]
  },
  {
   "cell_type": "markdown",
   "metadata": {},
   "source": [
    "### To run SQL Queries Directly"
   ]
  },
  {
   "cell_type": "code",
   "execution_count": 11,
   "metadata": {
    "ExecuteTime": {
     "end_time": "2020-03-11T05:46:07.762174Z",
     "start_time": "2020-03-11T05:46:00.708588Z"
    },
    "scrolled": true
   },
   "outputs": [
    {
     "name": "stdout",
     "output_type": "stream",
     "text": [
      "+---+---+------+------+\n",
      "|GPA|sID| sName|sizeHS|\n",
      "+---+---+------+------+\n",
      "|3.9|123|   Amy|  1000|\n",
      "|3.6|234|   Bob|  1500|\n",
      "|3.5|345| Craig|   500|\n",
      "|3.9|456| Doris|  1000|\n",
      "|2.9|567|Edward|  2000|\n",
      "|3.8|678|   Fay|   200|\n",
      "|3.4|789|  Gary|   800|\n",
      "|3.7|987| Helen|   800|\n",
      "|3.9|876| Irene|   400|\n",
      "|2.9|765|   Jay|  1500|\n",
      "|3.9|654|   Amy|  1000|\n",
      "|3.4|543| Craig|  2000|\n",
      "+---+---+------+------+\n",
      "\n"
     ]
    }
   ],
   "source": [
    "result = spark.sql(\"SELECT * FROM StudentTable\")\n",
    "result.show()"
   ]
  },
  {
   "cell_type": "markdown",
   "metadata": {},
   "source": [
    "- Q1 Produce a combine table in which each student is combine with every other application."
   ]
  },
  {
   "cell_type": "code",
   "execution_count": 12,
   "metadata": {
    "ExecuteTime": {
     "end_time": "2020-03-11T05:46:11.377439Z",
     "start_time": "2020-03-11T05:46:07.764933Z"
    }
   },
   "outputs": [
    {
     "name": "stdout",
     "output_type": "stream",
     "text": [
      "+---+---+------+------+--------+--------+--------------+\n",
      "|GPA|sID| sName|sizeHS|   cName|decision|         major|\n",
      "+---+---+------+------+--------+--------+--------------+\n",
      "|3.9|876| Irene|   400|Stanford|       N|            CS|\n",
      "|3.9|876| Irene|   400|     MIT|       Y|       biology|\n",
      "|3.9|876| Irene|   400|     MIT|       N|marine biology|\n",
      "|3.4|789|  Gary|   800|    null|    null|          null|\n",
      "|3.6|234|   Bob|  1500|Berkeley|       N|       biology|\n",
      "|3.8|678|   Fay|   200|Stanford|       Y|       history|\n",
      "|3.9|654|   Amy|  1000|    null|    null|          null|\n",
      "|3.9|123|   Amy|  1000|Stanford|       Y|            CS|\n",
      "|3.9|123|   Amy|  1000|Stanford|       N|            EE|\n",
      "|3.9|123|   Amy|  1000|Berkeley|       Y|            CS|\n",
      "|3.9|123|   Amy|  1000| Cornell|       Y|            EE|\n",
      "|3.5|345| Craig|   500|     MIT|       Y|bioengineering|\n",
      "|3.5|345| Craig|   500| Cornell|       N|bioengineering|\n",
      "|3.5|345| Craig|   500| Cornell|       Y|            CS|\n",
      "|3.5|345| Craig|   500| Cornell|       N|            EE|\n",
      "|2.9|567|Edward|  2000|    null|    null|          null|\n",
      "|3.4|543| Craig|  2000|     MIT|       N|            CS|\n",
      "|2.9|765|   Jay|  1500|Stanford|       Y|       history|\n",
      "|2.9|765|   Jay|  1500| Cornell|       N|       history|\n",
      "|2.9|765|   Jay|  1500| Cornell|       Y|    psychology|\n",
      "+---+---+------+------+--------+--------+--------------+\n",
      "only showing top 20 rows\n",
      "\n"
     ]
    }
   ],
   "source": [
    "spark.sql(\" select S.GPA,s.sID,s.sName,s.sizeHS,a.cName,a.decision,a.major \\\n",
    "              from StudentTable S full outer join ApplyTable A \\\n",
    "                  on s.sid = a.sid \").show()"
   ]
  },
  {
   "cell_type": "markdown",
   "metadata": {},
   "source": [
    "- Q2 Give Student ID, name, GPA and name of college and major each student applied to."
   ]
  },
  {
   "cell_type": "code",
   "execution_count": 13,
   "metadata": {
    "ExecuteTime": {
     "end_time": "2020-03-11T05:46:12.086675Z",
     "start_time": "2020-03-11T05:46:11.386018Z"
    }
   },
   "outputs": [
    {
     "name": "stdout",
     "output_type": "stream",
     "text": [
      "+---+-----+---+--------+--------------+\n",
      "|sid|sname|gpa|   cname|         major|\n",
      "+---+-----+---+--------+--------------+\n",
      "|123|  Amy|3.9|Stanford|            CS|\n",
      "|123|  Amy|3.9|Stanford|            EE|\n",
      "|123|  Amy|3.9|Berkeley|            CS|\n",
      "|123|  Amy|3.9| Cornell|            EE|\n",
      "|234|  Bob|3.6|Berkeley|       biology|\n",
      "|345|Craig|3.5|     MIT|bioengineering|\n",
      "|345|Craig|3.5| Cornell|bioengineering|\n",
      "|345|Craig|3.5| Cornell|            CS|\n",
      "|345|Craig|3.5| Cornell|            EE|\n",
      "|678|  Fay|3.8|Stanford|       history|\n",
      "|987|Helen|3.7|Stanford|            CS|\n",
      "|987|Helen|3.7|Berkeley|            CS|\n",
      "|876|Irene|3.9|Stanford|            CS|\n",
      "|876|Irene|3.9|     MIT|       biology|\n",
      "|876|Irene|3.9|     MIT|marine biology|\n",
      "|765|  Jay|2.9|Stanford|       history|\n",
      "|765|  Jay|2.9| Cornell|       history|\n",
      "|765|  Jay|2.9| Cornell|    psychology|\n",
      "|543|Craig|3.4|     MIT|            CS|\n",
      "+---+-----+---+--------+--------------+\n",
      "\n"
     ]
    }
   ],
   "source": [
    "spark.sql(\" select s.sid, s.sname, s.gpa, a.cname, a.major from studenttable s inner join applytable a \\\n",
    "                on s.sid = a.sid \").show()"
   ]
  },
  {
   "cell_type": "markdown",
   "metadata": {},
   "source": [
    "- Q3. Find detail of applications who applied to California State."
   ]
  },
  {
   "cell_type": "code",
   "execution_count": 14,
   "metadata": {
    "ExecuteTime": {
     "end_time": "2020-03-11T05:46:12.563375Z",
     "start_time": "2020-03-11T05:46:12.088707Z"
    }
   },
   "outputs": [
    {
     "name": "stdout",
     "output_type": "stream",
     "text": [
      "+---+--------+-------+--------+\n",
      "|sid|   cname|  major|decision|\n",
      "+---+--------+-------+--------+\n",
      "|123|Stanford|     CS|       Y|\n",
      "|123|Stanford|     EE|       N|\n",
      "|123|Berkeley|     CS|       Y|\n",
      "|234|Berkeley|biology|       N|\n",
      "|678|Stanford|history|       Y|\n",
      "|987|Stanford|     CS|       Y|\n",
      "|987|Berkeley|     CS|       Y|\n",
      "|876|Stanford|     CS|       N|\n",
      "|765|Stanford|history|       Y|\n",
      "+---+--------+-------+--------+\n",
      "\n"
     ]
    }
   ],
   "source": [
    "spark.sql(\" select a.sid,a.cname,a.major,a.decision from ApplyTable A left join CollegeTable C \\\n",
    "                on a.cname = c.cname where c.state = 'CA' \").show()"
   ]
  },
  {
   "cell_type": "markdown",
   "metadata": {},
   "source": [
    "- Q4. IDs, name, GPA of students and name of college with GPA > 3.7 applying to Stanford"
   ]
  },
  {
   "cell_type": "code",
   "execution_count": 15,
   "metadata": {
    "ExecuteTime": {
     "end_time": "2020-03-11T05:46:13.064413Z",
     "start_time": "2020-03-11T05:46:12.565481Z"
    }
   },
   "outputs": [
    {
     "name": "stdout",
     "output_type": "stream",
     "text": [
      "+---+-----+---+--------+\n",
      "|sid|sname|gpa|   cname|\n",
      "+---+-----+---+--------+\n",
      "|123|  Amy|3.9|Stanford|\n",
      "|123|  Amy|3.9|Stanford|\n",
      "|123|  Amy|3.9|Berkeley|\n",
      "|123|  Amy|3.9| Cornell|\n",
      "|678|  Fay|3.8|Stanford|\n",
      "|876|Irene|3.9|Stanford|\n",
      "|876|Irene|3.9|     MIT|\n",
      "|876|Irene|3.9|     MIT|\n",
      "+---+-----+---+--------+\n",
      "\n"
     ]
    }
   ],
   "source": [
    "spark.sql(\" select s.sid, s.sname, s.gpa, a.cname from studenttable s inner join applytable a \\\n",
    "                on s.sid = a.sid where gpa > 3.7 \").show()"
   ]
  },
  {
   "cell_type": "markdown",
   "metadata": {},
   "source": [
    "- Q5. Find detail of Student who apply to CS major and their application are rejected"
   ]
  },
  {
   "cell_type": "code",
   "execution_count": 16,
   "metadata": {
    "ExecuteTime": {
     "end_time": "2020-03-11T05:46:13.371397Z",
     "start_time": "2020-03-11T05:46:13.066506Z"
    }
   },
   "outputs": [
    {
     "name": "stdout",
     "output_type": "stream",
     "text": [
      "+---+-----+---+\n",
      "|sid|sname|gpa|\n",
      "+---+-----+---+\n",
      "|876|Irene|3.9|\n",
      "|543|Craig|3.4|\n",
      "+---+-----+---+\n",
      "\n"
     ]
    }
   ],
   "source": [
    "spark.sql(\" select s.sid, s.sname, s.gpa from studenttable s inner join applytable a \\\n",
    "                on s.sid = a.sid where a.major = 'CS' and a.decision = 'N' \").show()"
   ]
  },
  {
   "cell_type": "markdown",
   "metadata": {},
   "source": [
    "- Q6. Find detail of student and application who applied to colleges at New York\n"
   ]
  },
  {
   "cell_type": "code",
   "execution_count": 17,
   "metadata": {
    "ExecuteTime": {
     "end_time": "2020-03-11T05:46:13.762171Z",
     "start_time": "2020-03-11T05:46:13.373252Z"
    }
   },
   "outputs": [
    {
     "name": "stdout",
     "output_type": "stream",
     "text": [
      "+---+-----+---+-------+--------------+--------+\n",
      "|sid|sname|gpa|  cname|         major|decision|\n",
      "+---+-----+---+-------+--------------+--------+\n",
      "|123|  Amy|3.9|Cornell|            EE|       Y|\n",
      "|345|Craig|3.5|Cornell|bioengineering|       N|\n",
      "|345|Craig|3.5|Cornell|            CS|       Y|\n",
      "|345|Craig|3.5|Cornell|            EE|       N|\n",
      "|765|  Jay|2.9|Cornell|       history|       N|\n",
      "|765|  Jay|2.9|Cornell|    psychology|       Y|\n",
      "+---+-----+---+-------+--------------+--------+\n",
      "\n"
     ]
    }
   ],
   "source": [
    "spark.sql(\" select s.sid, s.sname, s.gpa, a.cname, a.major, a.decision \\\n",
    "                from studenttable s inner join applytable a \\\n",
    "                    on s.sid = a.sid \\\n",
    "                        inner join collegetable c \\\n",
    "                            on a.cname = c.cname \\\n",
    "                                where c.state = 'NY' \").show()"
   ]
  },
  {
   "cell_type": "markdown",
   "metadata": {},
   "source": [
    "- Q7. Find detail of student who have not applied to any of college\n"
   ]
  },
  {
   "cell_type": "code",
   "execution_count": 18,
   "metadata": {
    "ExecuteTime": {
     "end_time": "2020-03-11T05:46:14.065053Z",
     "start_time": "2020-03-11T05:46:13.764118Z"
    }
   },
   "outputs": [
    {
     "name": "stdout",
     "output_type": "stream",
     "text": [
      "+---+------+---+\n",
      "|sid| sname|gpa|\n",
      "+---+------+---+\n",
      "|456| Doris|3.9|\n",
      "|567|Edward|2.9|\n",
      "|789|  Gary|3.4|\n",
      "|654|   Amy|3.9|\n",
      "+---+------+---+\n",
      "\n"
     ]
    }
   ],
   "source": [
    "#spark.sql(\" select s.sid, s.sname, s.gpa from studenttable s where s.sid not in ( select sid from applytable ) \").show()\n",
    "spark.sql(\" select s.sid, s.sname, s.gpa from studenttable s left join applytable a \\\n",
    "                on s.sid = a.sid where a.cname is NULL \").show()"
   ]
  },
  {
   "cell_type": "markdown",
   "metadata": {},
   "source": [
    "- Q8. Find college where no student have applied\n"
   ]
  },
  {
   "cell_type": "code",
   "execution_count": 19,
   "metadata": {
    "ExecuteTime": {
     "end_time": "2020-03-11T05:46:14.322817Z",
     "start_time": "2020-03-11T05:46:14.074838Z"
    }
   },
   "outputs": [
    {
     "name": "stdout",
     "output_type": "stream",
     "text": [
      "+-------+\n",
      "|  cname|\n",
      "+-------+\n",
      "|Harvard|\n",
      "+-------+\n",
      "\n"
     ]
    }
   ],
   "source": [
    "# spark.sql(\" select cname from collegetable where cname not in ( select cname from applytable)\").show()\n",
    "spark.sql(\" select c.cname from collegetable c left join applytable a on c.cname = a.cname \\\n",
    "                where a.sid is NULL \").show()"
   ]
  },
  {
   "cell_type": "markdown",
   "metadata": {},
   "source": [
    "- Q9. Find sID who have only one application\n"
   ]
  },
  {
   "cell_type": "code",
   "execution_count": 20,
   "metadata": {
    "ExecuteTime": {
     "end_time": "2020-03-11T05:46:15.557002Z",
     "start_time": "2020-03-11T05:46:14.331563Z"
    }
   },
   "outputs": [
    {
     "name": "stdout",
     "output_type": "stream",
     "text": [
      "+---+\n",
      "|sid|\n",
      "+---+\n",
      "|234|\n",
      "|678|\n",
      "|543|\n",
      "+---+\n",
      "\n"
     ]
    }
   ],
   "source": [
    "spark.sql(\" select a1.sid from applytable as a1 inner join \\\n",
    "          (select sid, count(sid) as c_sid from applytable group by sid having count(sid) = 1) as a2 \\\n",
    "          on a1.sid = a2.sid\").show()\n",
    "\n"
   ]
  },
  {
   "cell_type": "markdown",
   "metadata": {},
   "source": [
    "- Q10. Find name and GPA of applicants who apply to any college whose enrollment is not more than 25000.\n"
   ]
  },
  {
   "cell_type": "code",
   "execution_count": 21,
   "metadata": {
    "ExecuteTime": {
     "end_time": "2020-03-11T05:46:15.935371Z",
     "start_time": "2020-03-11T05:46:15.561869Z"
    }
   },
   "outputs": [
    {
     "name": "stdout",
     "output_type": "stream",
     "text": [
      "+-----+---+\n",
      "|sname|gpa|\n",
      "+-----+---+\n",
      "|  Amy|3.9|\n",
      "|  Amy|3.9|\n",
      "|  Amy|3.9|\n",
      "|Craig|3.5|\n",
      "|Craig|3.5|\n",
      "|Craig|3.5|\n",
      "|Craig|3.5|\n",
      "|  Fay|3.8|\n",
      "|Helen|3.7|\n",
      "|Irene|3.9|\n",
      "|Irene|3.9|\n",
      "|Irene|3.9|\n",
      "|  Jay|2.9|\n",
      "|  Jay|2.9|\n",
      "|  Jay|2.9|\n",
      "|Craig|3.4|\n",
      "+-----+---+\n",
      "\n"
     ]
    }
   ],
   "source": [
    "spark.sql(\" select s.sname, s.gpa from studenttable as s \\\n",
    "                inner join applytable as a on s.sid=a.sid \\\n",
    "                      inner join collegetable as c on a.cname=c.cname \\\n",
    "                          where c.enrollment < 25000 \").show()"
   ]
  },
  {
   "cell_type": "markdown",
   "metadata": {},
   "source": [
    "- **Q11. Find pair of students (sID) having same GPA. (each pair should occur just once in result)** ?\n"
   ]
  },
  {
   "cell_type": "code",
   "execution_count": 22,
   "metadata": {
    "ExecuteTime": {
     "end_time": "2020-03-11T05:46:16.340644Z",
     "start_time": "2020-03-11T05:46:15.937232Z"
    },
    "scrolled": true
   },
   "outputs": [
    {
     "name": "stdout",
     "output_type": "stream",
     "text": [
      "+---+---+\n",
      "| s1| s2|\n",
      "+---+---+\n",
      "|123|654|\n",
      "|123|876|\n",
      "|123|456|\n",
      "|456|654|\n",
      "|456|876|\n",
      "|456|123|\n",
      "|567|765|\n",
      "|789|543|\n",
      "|876|654|\n",
      "|876|456|\n",
      "|876|123|\n",
      "|765|567|\n",
      "|654|876|\n",
      "|654|456|\n",
      "|654|123|\n",
      "|543|789|\n",
      "+---+---+\n",
      "\n"
     ]
    }
   ],
   "source": [
    "spark.sql(\"  select s1.sid as s1, s2.sid as s2 from studenttable as s1 left join studenttable as s2 \\\n",
    "                where s1.sid <> s2.sid and s1.gpa = s2.gpa \").show()"
   ]
  },
  {
   "cell_type": "markdown",
   "metadata": {},
   "source": [
    "- Q12. Find various majors student applied in at college in state MA. "
   ]
  },
  {
   "cell_type": "code",
   "execution_count": 23,
   "metadata": {
    "ExecuteTime": {
     "end_time": "2020-03-11T05:46:16.658956Z",
     "start_time": "2020-03-11T05:46:16.342858Z"
    }
   },
   "outputs": [
    {
     "name": "stdout",
     "output_type": "stream",
     "text": [
      "+---+-----+--------------+\n",
      "|sid|sname|         major|\n",
      "+---+-----+--------------+\n",
      "|345|Craig|bioengineering|\n",
      "|876|Irene|       biology|\n",
      "|876|Irene|marine biology|\n",
      "|543|Craig|            CS|\n",
      "+---+-----+--------------+\n",
      "\n"
     ]
    }
   ],
   "source": [
    "spark.sql(\" select s.sid,s.sname,a.major from studenttable s inner join applytable a \\\n",
    "                on s.sid = a.sid inner join collegetable c on a.cname = c.cname \\\n",
    "                    where c.state = 'MA' \").show()"
   ]
  },
  {
   "cell_type": "markdown",
   "metadata": {},
   "source": [
    "- **Find the college name in which student has not applyed**"
   ]
  },
  {
   "cell_type": "code",
   "execution_count": null,
   "metadata": {},
   "outputs": [],
   "source": []
  },
  {
   "cell_type": "markdown",
   "metadata": {},
   "source": [
    "- Q1. IDs and names of students who have applied to major in CS at some college.\n"
   ]
  },
  {
   "cell_type": "code",
   "execution_count": 24,
   "metadata": {
    "ExecuteTime": {
     "end_time": "2020-03-11T05:46:16.893027Z",
     "start_time": "2020-03-11T05:46:16.660968Z"
    }
   },
   "outputs": [
    {
     "name": "stdout",
     "output_type": "stream",
     "text": [
      "+---+-----+\n",
      "|sid|sname|\n",
      "+---+-----+\n",
      "|123|  Amy|\n",
      "|345|Craig|\n",
      "|987|Helen|\n",
      "|876|Irene|\n",
      "|543|Craig|\n",
      "+---+-----+\n",
      "\n"
     ]
    }
   ],
   "source": [
    "spark.sql(\" select sid,sname from studenttable where sid in \\\n",
    "                (select sid from applytable where major ='CS')  \").show()"
   ]
  },
  {
   "cell_type": "markdown",
   "metadata": {},
   "source": [
    "- Q2. Find ID and name of student having same high school size as Jay.\n"
   ]
  },
  {
   "cell_type": "code",
   "execution_count": 25,
   "metadata": {
    "ExecuteTime": {
     "end_time": "2020-03-11T05:46:17.175600Z",
     "start_time": "2020-03-11T05:46:16.895112Z"
    }
   },
   "outputs": [
    {
     "name": "stdout",
     "output_type": "stream",
     "text": [
      "+---+-----+\n",
      "|sid|sname|\n",
      "+---+-----+\n",
      "|234|  Bob|\n",
      "|765|  Jay|\n",
      "+---+-----+\n",
      "\n"
     ]
    }
   ],
   "source": [
    "spark.sql(\" select sid,sname from studenttable \\\n",
    "                where sizehs in (select sizehs from studenttable where sname in ('Jay')) \").show()"
   ]
  },
  {
   "cell_type": "markdown",
   "metadata": {},
   "source": [
    "- Q3. Find ID and name of student having same high school size as Jay but result should not include Jay.\n"
   ]
  },
  {
   "cell_type": "code",
   "execution_count": 26,
   "metadata": {
    "ExecuteTime": {
     "end_time": "2020-03-11T05:46:17.404250Z",
     "start_time": "2020-03-11T05:46:17.177920Z"
    }
   },
   "outputs": [
    {
     "name": "stdout",
     "output_type": "stream",
     "text": [
      "+---+-----+\n",
      "|sid|sname|\n",
      "+---+-----+\n",
      "|234|  Bob|\n",
      "+---+-----+\n",
      "\n"
     ]
    }
   ],
   "source": [
    "spark.sql(\" select sid,sname from studenttable \\\n",
    "                where sizehs in (select sizehs from studenttable where sname in ('Jay')) \\\n",
    "                    and sname <> 'Jay' \").show()"
   ]
  },
  {
   "cell_type": "markdown",
   "metadata": {},
   "source": [
    "- Q4. Find the name of student with their GPA and Sid whose GPA not equal to GPA of Irene?\n"
   ]
  },
  {
   "cell_type": "code",
   "execution_count": 27,
   "metadata": {
    "ExecuteTime": {
     "end_time": "2020-03-11T05:46:17.783234Z",
     "start_time": "2020-03-11T05:46:17.408803Z"
    }
   },
   "outputs": [
    {
     "name": "stdout",
     "output_type": "stream",
     "text": [
      "+------+---+\n",
      "| sname|gpa|\n",
      "+------+---+\n",
      "|   Bob|3.6|\n",
      "| Craig|3.5|\n",
      "|Edward|2.9|\n",
      "|   Fay|3.8|\n",
      "|  Gary|3.4|\n",
      "| Helen|3.7|\n",
      "|   Jay|2.9|\n",
      "| Craig|3.4|\n",
      "+------+---+\n",
      "\n"
     ]
    }
   ],
   "source": [
    "spark.sql(\" select a.sname, a.gpa from studenttable a \\\n",
    "                where exists (select * from studenttable b where b.sname = 'Irene' and a.gpa <> b.gpa ) \").show()"
   ]
  },
  {
   "cell_type": "markdown",
   "metadata": {},
   "source": [
    "- Q5. Find college where any student having their name started from J have applied?\n"
   ]
  },
  {
   "cell_type": "code",
   "execution_count": 28,
   "metadata": {
    "ExecuteTime": {
     "end_time": "2020-03-11T05:46:18.770484Z",
     "start_time": "2020-03-11T05:46:17.785277Z"
    }
   },
   "outputs": [
    {
     "name": "stdout",
     "output_type": "stream",
     "text": [
      "+--------+\n",
      "|   cname|\n",
      "+--------+\n",
      "| Cornell|\n",
      "|Stanford|\n",
      "+--------+\n",
      "\n"
     ]
    }
   ],
   "source": [
    "spark.sql(\" select distinct(cname) from applytable \\\n",
    "                where sid in ( select sid from studenttable where sname like 'J%' ) \").show()"
   ]
  },
  {
   "cell_type": "markdown",
   "metadata": {},
   "source": [
    "- Q6. Find all different major where Irene has applied?\n"
   ]
  },
  {
   "cell_type": "code",
   "execution_count": 29,
   "metadata": {
    "ExecuteTime": {
     "end_time": "2020-03-11T05:46:19.007081Z",
     "start_time": "2020-03-11T05:46:18.772607Z"
    }
   },
   "outputs": [
    {
     "name": "stdout",
     "output_type": "stream",
     "text": [
      "+--------------+\n",
      "|         major|\n",
      "+--------------+\n",
      "|            CS|\n",
      "|       biology|\n",
      "|marine biology|\n",
      "+--------------+\n",
      "\n"
     ]
    }
   ],
   "source": [
    "spark.sql(\"select major from applytable a \\\n",
    "                where exists ( select sid,sname from studenttable s \\\n",
    "                        where s.sid=a.sid and sname ='Irene'  ) \").show()"
   ]
  },
  {
   "cell_type": "markdown",
   "metadata": {},
   "source": [
    "- Q7. Find IDs of student and major who applied in any of major Irene had applied to?\n"
   ]
  },
  {
   "cell_type": "code",
   "execution_count": 30,
   "metadata": {
    "ExecuteTime": {
     "end_time": "2020-03-11T05:46:19.283149Z",
     "start_time": "2020-03-11T05:46:19.009490Z"
    }
   },
   "outputs": [
    {
     "name": "stdout",
     "output_type": "stream",
     "text": [
      "+---+--------------+\n",
      "|sid|         major|\n",
      "+---+--------------+\n",
      "|123|            CS|\n",
      "|123|            CS|\n",
      "|234|       biology|\n",
      "|345|            CS|\n",
      "|987|            CS|\n",
      "|987|            CS|\n",
      "|876|            CS|\n",
      "|876|       biology|\n",
      "|876|marine biology|\n",
      "|543|            CS|\n",
      "+---+--------------+\n",
      "\n"
     ]
    }
   ],
   "source": [
    "spark.sql(\" select sid,major from applytable \\\n",
    "                where major in ( select major from applytable \\\n",
    "                    where sid in ( select sid from studenttable where sname = 'Irene' ) ) \").show()"
   ]
  },
  {
   "cell_type": "code",
   "execution_count": 31,
   "metadata": {
    "ExecuteTime": {
     "end_time": "2020-03-11T05:46:19.565096Z",
     "start_time": "2020-03-11T05:46:19.285063Z"
    }
   },
   "outputs": [
    {
     "name": "stdout",
     "output_type": "stream",
     "text": [
      "+---+--------------+\n",
      "|sid|         major|\n",
      "+---+--------------+\n",
      "|123|            CS|\n",
      "|123|            CS|\n",
      "|234|       biology|\n",
      "|345|            CS|\n",
      "|987|            CS|\n",
      "|987|            CS|\n",
      "|876|            CS|\n",
      "|876|       biology|\n",
      "|876|marine biology|\n",
      "|543|            CS|\n",
      "+---+--------------+\n",
      "\n"
     ]
    }
   ],
   "source": [
    "spark.sql(\" select sid,major from applytable a1 \\\n",
    "                where major in ( select major from applytable a2 \\\n",
    "                    where  a1.major=a2.major \\\n",
    "                        and exists ( select sid,sname from studenttable s where sname = 'Irene' and \\\n",
    "                             s.sid = a2.sid ) ) \").show()"
   ]
  },
  {
   "cell_type": "markdown",
   "metadata": {},
   "source": [
    "- Q8. Find IDs of student and major who applied in any of major Irene had applied to? But this time exclude Irene sID from the list.\n"
   ]
  },
  {
   "cell_type": "code",
   "execution_count": 32,
   "metadata": {
    "ExecuteTime": {
     "end_time": "2020-03-11T05:46:19.750623Z",
     "start_time": "2020-03-11T05:46:19.567243Z"
    }
   },
   "outputs": [
    {
     "name": "stdout",
     "output_type": "stream",
     "text": [
      "+---+--------------+\n",
      "|sid|         major|\n",
      "+---+--------------+\n",
      "|123|            CS|\n",
      "|123|            CS|\n",
      "|234|       biology|\n",
      "|345|            CS|\n",
      "|987|            CS|\n",
      "|987|            CS|\n",
      "|876|            CS|\n",
      "|876|       biology|\n",
      "|876|marine biology|\n",
      "|543|            CS|\n",
      "+---+--------------+\n",
      "\n"
     ]
    }
   ],
   "source": [
    "spark.sql(\" select sid,major from applytable \\\n",
    "                where major in ( select major from applytable \\\n",
    "                    where sid in ( select sid from studenttable where sname = 'Irene' ) \\\n",
    "                          ) \").show()"
   ]
  },
  {
   "cell_type": "markdown",
   "metadata": {},
   "source": [
    "- Q9. Give the number of colleges Jay applied to? (Remember count each college once no matter if he applied to same college twice with different major)\n"
   ]
  },
  {
   "cell_type": "code",
   "execution_count": 33,
   "metadata": {
    "ExecuteTime": {
     "end_time": "2020-03-11T05:46:20.389713Z",
     "start_time": "2020-03-11T05:46:19.752672Z"
    }
   },
   "outputs": [
    {
     "name": "stdout",
     "output_type": "stream",
     "text": [
      "+--------+\n",
      "|   cname|\n",
      "+--------+\n",
      "| Cornell|\n",
      "|Stanford|\n",
      "+--------+\n",
      "\n"
     ]
    }
   ],
   "source": [
    "spark.sql(\" select distinct(cname) from applytable where sid in \\\n",
    "                ( select sid from studenttable where sname = 'Jay' ) \").show()"
   ]
  },
  {
   "cell_type": "markdown",
   "metadata": {},
   "source": [
    "- Q10. Find sID of student who applied to more or same number of college where Jay has applied?\n"
   ]
  },
  {
   "cell_type": "code",
   "execution_count": 46,
   "metadata": {
    "ExecuteTime": {
     "end_time": "2020-03-11T07:05:19.286513Z",
     "start_time": "2020-03-11T07:05:17.050522Z"
    }
   },
   "outputs": [
    {
     "name": "stdout",
     "output_type": "stream",
     "text": [
      "+---+-------+\n",
      "|sid|count_c|\n",
      "+---+-------+\n",
      "|876|      2|\n",
      "|123|      3|\n",
      "|345|      2|\n",
      "|765|      2|\n",
      "|987|      2|\n",
      "+---+-------+\n",
      "\n"
     ]
    }
   ],
   "source": [
    "spark.sql(\" select s.sid,count(distinct a.cname) as count_c \\\n",
    "                from studenttable s inner join applytable a on s.sid=a.sid \\\n",
    "                    group by s.sid  having count_c >= \\\n",
    "                        ( select count( distinct cname ) from applytable \\\n",
    "                            where sid in ( select sid from studenttable where sname = 'Jay' ) ) \").show()\n"
   ]
  },
  {
   "cell_type": "markdown",
   "metadata": {},
   "source": [
    "- Q11. Find details of Students who applied to major CS but not applied to major EE? (sID 987, 876, 543 should only be include in result)\n"
   ]
  },
  {
   "cell_type": "code",
   "execution_count": 71,
   "metadata": {
    "ExecuteTime": {
     "end_time": "2020-03-11T08:10:08.184359Z",
     "start_time": "2020-03-11T08:10:07.985586Z"
    }
   },
   "outputs": [
    {
     "name": "stdout",
     "output_type": "stream",
     "text": [
      "+---+-----+\n",
      "|sid|sname|\n",
      "+---+-----+\n",
      "|987|Helen|\n",
      "|876|Irene|\n",
      "|543|Craig|\n",
      "+---+-----+\n",
      "\n"
     ]
    }
   ],
   "source": [
    "spark.sql(\" select sid,sname from studenttable \\\n",
    "                where sid in ( select sid from applytable where major = 'CS'and \\\n",
    "                    sid not in ( select sid from applytable where major = 'EE' ) ) \").show()"
   ]
  },
  {
   "cell_type": "markdown",
   "metadata": {},
   "source": [
    "- Q12. All colleges such that some other college is in same state. (Cornell should not be part of result as no other college in New York Hint: use exists)\n"
   ]
  },
  {
   "cell_type": "code",
   "execution_count": null,
   "metadata": {
    "ExecuteTime": {
     "end_time": "2020-03-11T05:46:20.922246Z",
     "start_time": "2020-03-11T05:45:52.071Z"
    }
   },
   "outputs": [],
   "source": [
    "spark.sql(\" select  \").show()"
   ]
  },
  {
   "cell_type": "markdown",
   "metadata": {},
   "source": [
    "- Q13. Find the college with highest enrollment.\n"
   ]
  },
  {
   "cell_type": "code",
   "execution_count": 76,
   "metadata": {
    "ExecuteTime": {
     "end_time": "2020-03-11T08:31:11.416773Z",
     "start_time": "2020-03-11T08:31:11.219205Z"
    }
   },
   "outputs": [
    {
     "name": "stdout",
     "output_type": "stream",
     "text": [
      "+-------+\n",
      "|  cname|\n",
      "+-------+\n",
      "|Harvard|\n",
      "+-------+\n",
      "\n"
     ]
    }
   ],
   "source": [
    "spark.sql(\" select cname from collegetable where enrollment = (select max(enrollment) from collegetable) \").show()"
   ]
  },
  {
   "cell_type": "markdown",
   "metadata": {},
   "source": [
    "- Q14. Find name of student having lowest GPA."
   ]
  },
  {
   "cell_type": "code",
   "execution_count": null,
   "metadata": {
    "ExecuteTime": {
     "end_time": "2020-03-11T05:46:20.925658Z",
     "start_time": "2020-03-11T05:45:52.083Z"
    }
   },
   "outputs": [],
   "source": [
    "spark.sql(\"  \").show()"
   ]
  },
  {
   "cell_type": "markdown",
   "metadata": {},
   "source": [
    "- Q15. Find the most popular major.\n"
   ]
  },
  {
   "cell_type": "code",
   "execution_count": null,
   "metadata": {},
   "outputs": [],
   "source": [
    "spark.sql(\"  \").show()"
   ]
  },
  {
   "cell_type": "markdown",
   "metadata": {},
   "source": [
    "- Q16. Find sID, sName, sizeHS of all students NOT from smallest HS"
   ]
  },
  {
   "cell_type": "code",
   "execution_count": null,
   "metadata": {},
   "outputs": [],
   "source": [
    "spark.sql(\"  \").show()"
   ]
  },
  {
   "cell_type": "markdown",
   "metadata": {},
   "source": [
    "- Q17. Find the name of student who applies to all the colleges where sID 987 has applied?"
   ]
  },
  {
   "cell_type": "code",
   "execution_count": null,
   "metadata": {},
   "outputs": [],
   "source": [
    "spark.sql(\"  \").show()"
   ]
  }
 ],
 "metadata": {
  "kernelspec": {
   "display_name": "Python 3",
   "language": "python",
   "name": "python3"
  },
  "language_info": {
   "codemirror_mode": {
    "name": "ipython",
    "version": 3
   },
   "file_extension": ".py",
   "mimetype": "text/x-python",
   "name": "python",
   "nbconvert_exporter": "python",
   "pygments_lexer": "ipython3",
   "version": "3.7.4"
  },
  "varInspector": {
   "cols": {
    "lenName": 16,
    "lenType": 16,
    "lenVar": 40
   },
   "kernels_config": {
    "python": {
     "delete_cmd_postfix": "",
     "delete_cmd_prefix": "del ",
     "library": "var_list.py",
     "varRefreshCmd": "print(var_dic_list())"
    },
    "r": {
     "delete_cmd_postfix": ") ",
     "delete_cmd_prefix": "rm(",
     "library": "var_list.r",
     "varRefreshCmd": "cat(var_dic_list()) "
    }
   },
   "types_to_exclude": [
    "module",
    "function",
    "builtin_function_or_method",
    "instance",
    "_Feature"
   ],
   "window_display": false
  }
 },
 "nbformat": 4,
 "nbformat_minor": 4
}
