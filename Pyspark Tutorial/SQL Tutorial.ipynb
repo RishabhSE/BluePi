{
 "cells": [
  {
   "cell_type": "markdown",
   "metadata": {},
   "source": [
    "###  CASE statement in SQL\n",
    "\n",
    "1) **CASE statement expression**\n",
    "\n",
    "        SELECT CASE Expression\n",
    "            When expression1 Then Result1\n",
    "            When expression2 Then Result2\n",
    "            ...\n",
    "            ELSE Result\n",
    "            END\n",
    "\n",
    "  > **select ( CASE g.grade>=8 WHEN TRUE THEN s.name ELSE null END ), column 2, ...**\n",
    "\n",
    "2) **CASE statement and comparison operator**\n",
    "\n",
    "          Select EmployeeName,\n",
    "            CASE\n",
    "            WHEN Salary >=80000 AND Salary <=100000 THEN 'Director'\n",
    "            WHEN Salary >=50000 AND Salary <80000 THEN 'Senior Consultant'\n",
    "                Else 'Director'\n",
    "                    END AS Designation\n",
    "        from Employee\n",
    "\n",
    "\n",
    "3) **With Order by clause**\n",
    "        \n",
    "- For Female employee, employee salaries should come in descending order\n",
    "- For Male employee, we should get employee salaries in ascending order\n",
    "\n",
    "        Select EmployeeName,Gender,Salary\n",
    "         from Employee\n",
    "             ORDER BY  CASE WHEN Gender = 'F' THEN Salary END DESC,\n",
    "                       CASE WHEN Gender = 'M' THEN Salary END\n",
    "\n",
    "\n",
    "\n",
    "\n",
    "\n",
    "\n",
    "\n",
    "\n",
    "\n"
   ]
  }
 ],
 "metadata": {
  "kernelspec": {
   "display_name": "Python 3",
   "language": "python",
   "name": "python3"
  },
  "language_info": {
   "codemirror_mode": {
    "name": "ipython",
    "version": 3
   },
   "file_extension": ".py",
   "mimetype": "text/x-python",
   "name": "python",
   "nbconvert_exporter": "python",
   "pygments_lexer": "ipython3",
   "version": "3.7.4"
  },
  "varInspector": {
   "cols": {
    "lenName": 16,
    "lenType": 16,
    "lenVar": 40
   },
   "kernels_config": {
    "python": {
     "delete_cmd_postfix": "",
     "delete_cmd_prefix": "del ",
     "library": "var_list.py",
     "varRefreshCmd": "print(var_dic_list())"
    },
    "r": {
     "delete_cmd_postfix": ") ",
     "delete_cmd_prefix": "rm(",
     "library": "var_list.r",
     "varRefreshCmd": "cat(var_dic_list()) "
    }
   },
   "types_to_exclude": [
    "module",
    "function",
    "builtin_function_or_method",
    "instance",
    "_Feature"
   ],
   "window_display": false
  }
 },
 "nbformat": 4,
 "nbformat_minor": 2
}
