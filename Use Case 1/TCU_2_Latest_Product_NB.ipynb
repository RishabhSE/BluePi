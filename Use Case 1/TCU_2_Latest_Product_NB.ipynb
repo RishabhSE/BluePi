{
 "cells": [
  {
   "cell_type": "markdown",
   "metadata": {},
   "source": [
    "## Libraries Used"
   ]
  },
  {
   "cell_type": "code",
   "execution_count": 38,
   "metadata": {
    "ExecuteTime": {
     "end_time": "2020-04-08T15:03:01.623222Z",
     "start_time": "2020-04-08T15:03:01.615157Z"
    }
   },
   "outputs": [],
   "source": [
    "import datetime\n",
    "\n",
    "# Main entry point for DataFrame and SQL functionality.\n",
    "from pyspark.sql import SparkSession\n",
    "# Start SPARK Session\n",
    "spark = SparkSession.builder.appName('Basics').getOrCreate()\n",
    "\n",
    "from pyspark.sql.functions import *\n"
   ]
  },
  {
   "cell_type": "markdown",
   "metadata": {},
   "source": [
    "### Read the Main Table"
   ]
  },
  {
   "cell_type": "code",
   "execution_count": 39,
   "metadata": {
    "ExecuteTime": {
     "end_time": "2020-04-08T15:03:03.248506Z",
     "start_time": "2020-04-08T15:03:02.845778Z"
    },
    "scrolled": true
   },
   "outputs": [
    {
     "name": "stdout",
     "output_type": "stream",
     "text": [
      "root\n",
      " |-- p_id: integer (nullable = true)\n",
      " |-- p_name: string (nullable = true)\n",
      " |-- price: integer (nullable = true)\n",
      " |-- date_timestamp: timestamp (nullable = true)\n",
      "\n"
     ]
    }
   ],
   "source": [
    "mainTable = spark.read.format('csv').options(\n",
    "    header=True, inferschema=True).load(\n",
    "        \"/home/bluepi/Downloads/Update/product_info/main table/main table.csv\",header =True)\n",
    "\n",
    "# Main Table Schema\n",
    "mainTable.printSchema()"
   ]
  },
  {
   "cell_type": "markdown",
   "metadata": {},
   "source": [
    "### New Main Table with added columns"
   ]
  },
  {
   "cell_type": "code",
   "execution_count": 40,
   "metadata": {
    "ExecuteTime": {
     "end_time": "2020-04-08T15:03:04.217289Z",
     "start_time": "2020-04-08T15:03:04.183010Z"
    },
    "scrolled": true
   },
   "outputs": [
    {
     "name": "stdout",
     "output_type": "stream",
     "text": [
      "root\n",
      " |-- p_id: integer (nullable = true)\n",
      " |-- p_name: string (nullable = true)\n",
      " |-- price: integer (nullable = true)\n",
      " |-- date_timestamp: timestamp (nullable = true)\n",
      " |-- record_type: string (nullable = false)\n",
      "\n"
     ]
    }
   ],
   "source": [
    "from pyspark.sql.functions import year, month, dayofyear, hour, minute, second\n",
    "\n",
    "# Add record type to main table\n",
    "mainTable_new = mainTable.withColumn('record_type',lit(\"A\"))\n",
    "\n",
    "# mainTable_new = mainTable_new.select(['p_id', 'p_name', 'price', 'date_timestamp','record_type',\n",
    "#                               year(mainTable['date_timestamp']).alias(\"Year\"),\n",
    "#                               month(mainTable['date_timestamp']).alias(\"Month\"),\n",
    "#                               dayofyear(mainTable['date_timestamp']).alias(\"DayOfYear\"),\n",
    "#                               hour(mainTable['date_timestamp']).alias(\"Hour\"),\n",
    "#                               minute(mainTable['date_timestamp']).alias(\"Minute\"),\n",
    "#                               second(mainTable['date_timestamp']).alias(\"Second\")])\n",
    "mainTable_new.printSchema()"
   ]
  },
  {
   "cell_type": "code",
   "execution_count": 41,
   "metadata": {
    "ExecuteTime": {
     "end_time": "2020-04-08T15:03:05.412379Z",
     "start_time": "2020-04-08T15:03:05.189248Z"
    }
   },
   "outputs": [
    {
     "name": "stdout",
     "output_type": "stream",
     "text": [
      "+----+---------+-----+-------------------+\n",
      "|p_id|   p_name|price|     date_timestamp|\n",
      "+----+---------+-----+-------------------+\n",
      "|   1|      Job| 1464|2020-05-02 08:06:42|\n",
      "|   2|   Keylex|  208|2020-02-02 08:02:22|\n",
      "|   3|   Duobam| 1684|2020-02-28 07:58:08|\n",
      "|   4|Ronstring| 1961|2020-04-02 07:10:33|\n",
      "|   5|  Bitwolf| 1338|2020-04-02 17:11:15|\n",
      "|   6|  Andalax|   22|2020-02-18 00:42:19|\n",
      "|   7|   Duobam| 1167|2020-12-02 19:45:42|\n",
      "|   8|    Alpha| 1573|2020-02-26 07:04:01|\n",
      "|   9|  Fix San| 1516|2020-02-23 06:06:54|\n",
      "|  10|   Biodex| 1916|2020-04-02 18:36:24|\n",
      "|  11|  Bitwolf|  422|2020-02-26 14:32:13|\n",
      "|  12|  Bitchip| 1289|2020-08-02 12:35:48|\n",
      "|  13|  Bitwolf|  794|2020-03-02 18:07:28|\n",
      "|  14|   Bigtax| 1327|2020-01-02 09:08:05|\n",
      "|  15|  Konklab| 1275|2020-02-14 03:03:11|\n",
      "|  16|Gembucket|  188|2020-02-25 21:37:01|\n",
      "|  17|  Fix San| 1008|2020-02-26 03:50:43|\n",
      "|  18|   Lotlux|  565|2020-05-02 13:07:57|\n",
      "|  19|   Tresom|  176|2020-02-19 20:48:07|\n",
      "|  20|  Zontrax| 1491|2020-02-24 07:53:33|\n",
      "+----+---------+-----+-------------------+\n",
      "only showing top 20 rows\n",
      "\n"
     ]
    }
   ],
   "source": [
    "mainTable.show()"
   ]
  },
  {
   "cell_type": "markdown",
   "metadata": {},
   "source": [
    "### Read the Previous Day Folders"
   ]
  },
  {
   "cell_type": "code",
   "execution_count": 56,
   "metadata": {
    "ExecuteTime": {
     "end_time": "2020-04-08T15:07:21.959940Z",
     "start_time": "2020-04-08T15:07:21.569623Z"
    }
   },
   "outputs": [
    {
     "name": "stdout",
     "output_type": "stream",
     "text": [
      "Previous Date ---->29-03-2020\n",
      "\n",
      "New Address to read the folder ---->/home/bluepi/Downloads/Update/product_info/29-03-2020\n"
     ]
    }
   ],
   "source": [
    "# Address to the product_info folder\n",
    "address = \"/home/bluepi/Downloads/Update/product_info/\"\n",
    "previous_day = (datetime.datetime.today() - datetime.timedelta(days=10)).strftime('%d-%m-%Y')\n",
    "print(\"Previous Date ---->\"+previous_day)\n",
    "\n",
    "# Address to the Previous Day folder\n",
    "new_address = address + previous_day\n",
    "print(\"\\nNew Address to read the folder ---->\"+new_address)\n",
    "\n",
    "# Read the Previous Day folder\n",
    "per_day_data = spark.read.format('csv') \\\n",
    "          .options( header=True, inferschema=True ) \\\n",
    "          .load(new_address)"
   ]
  },
  {
   "cell_type": "code",
   "execution_count": 57,
   "metadata": {
    "ExecuteTime": {
     "end_time": "2020-04-08T15:07:22.459896Z",
     "start_time": "2020-04-08T15:07:22.248445Z"
    }
   },
   "outputs": [
    {
     "name": "stdout",
     "output_type": "stream",
     "text": [
      "+----+-----------+-----+-------------------+-----------+\n",
      "|p_id|     p_name|price|     date_timestamp|record_type|\n",
      "+----+-----------+-----+-------------------+-----------+\n",
      "|  32|     Latlux|  976|2020-03-28 03:17:10|          D|\n",
      "| 170|    Fix San| 1375|2020-03-28 03:19:10|          U|\n",
      "|  56|     Zathin|   65|2020-03-28 03:19:38|          U|\n",
      "|  12|    Bitchip|  540|2020-03-28 03:23:45|          U|\n",
      "|  83|    Fintone|  530|2020-03-28 03:26:51|          U|\n",
      "|  86|   Alphazap|  913|2020-03-28 03:29:10|          U|\n",
      "| 102|       Temp| 1264|2020-03-28 03:37:47|          I|\n",
      "|  74|     Sonair|  988|2020-03-28 03:38:43|          U|\n",
      "| 131|  Daltfresh|  493|2020-03-28 03:41:13|          I|\n",
      "|  98|  Ronstring| 1678|2020-03-28 03:41:32|          D|\n",
      "| 109|Ventosanzap|  453|2020-03-28 03:48:09|          I|\n",
      "|  72|         It| 1489|2020-03-28 03:53:06|          U|\n",
      "|  12|    Bitchip|  437|2020-03-28 03:53:24|          U|\n",
      "| 117|Ventosanzap| 1498|2020-03-28 03:54:10|          I|\n",
      "|  24|         It| 1352|2020-03-28 04:00:33|          U|\n",
      "| 170|    Fix San| 1296|2020-03-28 09:23:12|          I|\n",
      "| 134|   Bytecard|  326|2020-03-28 09:31:57|          I|\n",
      "|  97|  Voyatouch|  364|2020-03-28 09:40:22|          U|\n",
      "|   3|     Duobam| 1684|2020-03-28 09:43:16|          D|\n",
      "|  56|     Zathin| 1282|2020-03-28 09:50:55|          U|\n",
      "|  47|   Transcof|  715|2020-03-28 15:18:40|          U|\n",
      "|  76|     Bigtax| 1472|2020-03-28 15:18:41|          D|\n",
      "|  33|     Bigtax| 1979|2020-03-28 15:20:40|          D|\n",
      "|  13|    Bitwolf|  794|2020-03-28 15:27:17|          D|\n",
      "| 103|      Alpha| 1900|2020-03-28 15:28:22|          I|\n",
      "|  52|   Flowdesk|  564|2020-03-28 15:44:13|          D|\n",
      "| 158|    Matsoft|  370|2020-03-28 15:49:11|          I|\n",
      "|   5|    Bitwolf| 1078|2020-03-28 15:53:20|          U|\n",
      "| 191|     Keylex|  851|2020-03-28 15:57:16|          I|\n",
      "| 192| Stronghold|  410|2020-03-28 21:22:16|          I|\n",
      "|  35|     Lotlux|  533|2020-03-28 21:23:17|          D|\n",
      "| 160|    Sonsing| 1909|2020-03-28 21:28:07|          I|\n",
      "| 133| Y-Solowarm|  848|2020-03-28 21:42:46|          I|\n",
      "|  95|  Ronstring|  150|2020-03-28 21:42:50|          U|\n",
      "| 184|  Ronstring| 1310|2020-03-28 21:58:46|          I|\n",
      "+----+-----------+-----+-------------------+-----------+\n",
      "\n"
     ]
    }
   ],
   "source": [
    "# per_day_data.show(3)\n",
    "per_day_data.orderBy(per_day_data.date_timestamp.asc()).show(60)\n",
    "# per_day_data.printSchema()"
   ]
  },
  {
   "cell_type": "markdown",
   "metadata": {},
   "source": [
    "### Added new columns"
   ]
  },
  {
   "cell_type": "code",
   "execution_count": 58,
   "metadata": {
    "ExecuteTime": {
     "end_time": "2020-04-08T15:07:28.839772Z",
     "start_time": "2020-04-08T15:07:28.824338Z"
    },
    "scrolled": false
   },
   "outputs": [
    {
     "name": "stdout",
     "output_type": "stream",
     "text": [
      "root\n",
      " |-- p_id: integer (nullable = true)\n",
      " |-- p_name: string (nullable = true)\n",
      " |-- price: integer (nullable = true)\n",
      " |-- date_timestamp: timestamp (nullable = true)\n",
      " |-- record_type: string (nullable = true)\n",
      "\n"
     ]
    }
   ],
   "source": [
    "# per_day_data_new = per_day_data.select(['p_id', 'p_name', 'price', 'date_timestamp','record_type',\n",
    "#                               year(per_day_data['date_timestamp']).alias(\"Year\"),\n",
    "#                               month(per_day_data['date_timestamp']).alias(\"Month\"),\n",
    "#                               dayofyear(per_day_data['date_timestamp']).alias(\"DayOfYear\"),\n",
    "#                               hour(per_day_data['date_timestamp']).alias(\"Hour\"),\n",
    "#                               minute(per_day_data['date_timestamp']).alias(\"Minute\"),\n",
    "#                               second(per_day_data['date_timestamp']).alias(\"Second\")])\n",
    "\n",
    "per_day_data.printSchema()"
   ]
  },
  {
   "cell_type": "code",
   "execution_count": 59,
   "metadata": {
    "ExecuteTime": {
     "end_time": "2020-04-08T15:07:29.728980Z",
     "start_time": "2020-04-08T15:07:29.519941Z"
    },
    "scrolled": false
   },
   "outputs": [
    {
     "name": "stdout",
     "output_type": "stream",
     "text": [
      "+----+-----------+-----+-------------------+-----------+\n",
      "|p_id|     p_name|price|     date_timestamp|record_type|\n",
      "+----+-----------+-----+-------------------+-----------+\n",
      "|  32|     Latlux|  976|2020-03-28 03:17:10|          D|\n",
      "| 170|    Fix San| 1375|2020-03-28 03:19:10|          U|\n",
      "|  56|     Zathin|   65|2020-03-28 03:19:38|          U|\n",
      "|  12|    Bitchip|  540|2020-03-28 03:23:45|          U|\n",
      "|  83|    Fintone|  530|2020-03-28 03:26:51|          U|\n",
      "|  86|   Alphazap|  913|2020-03-28 03:29:10|          U|\n",
      "| 102|       Temp| 1264|2020-03-28 03:37:47|          I|\n",
      "|  74|     Sonair|  988|2020-03-28 03:38:43|          U|\n",
      "| 131|  Daltfresh|  493|2020-03-28 03:41:13|          I|\n",
      "|  98|  Ronstring| 1678|2020-03-28 03:41:32|          D|\n",
      "| 109|Ventosanzap|  453|2020-03-28 03:48:09|          I|\n",
      "|  72|         It| 1489|2020-03-28 03:53:06|          U|\n",
      "|  12|    Bitchip|  437|2020-03-28 03:53:24|          U|\n",
      "| 117|Ventosanzap| 1498|2020-03-28 03:54:10|          I|\n",
      "|  24|         It| 1352|2020-03-28 04:00:33|          U|\n",
      "| 170|    Fix San| 1296|2020-03-28 09:23:12|          I|\n",
      "| 134|   Bytecard|  326|2020-03-28 09:31:57|          I|\n",
      "|  97|  Voyatouch|  364|2020-03-28 09:40:22|          U|\n",
      "|   3|     Duobam| 1684|2020-03-28 09:43:16|          D|\n",
      "|  56|     Zathin| 1282|2020-03-28 09:50:55|          U|\n",
      "|  47|   Transcof|  715|2020-03-28 15:18:40|          U|\n",
      "|  76|     Bigtax| 1472|2020-03-28 15:18:41|          D|\n",
      "|  33|     Bigtax| 1979|2020-03-28 15:20:40|          D|\n",
      "|  13|    Bitwolf|  794|2020-03-28 15:27:17|          D|\n",
      "| 103|      Alpha| 1900|2020-03-28 15:28:22|          I|\n",
      "|  52|   Flowdesk|  564|2020-03-28 15:44:13|          D|\n",
      "| 158|    Matsoft|  370|2020-03-28 15:49:11|          I|\n",
      "|   5|    Bitwolf| 1078|2020-03-28 15:53:20|          U|\n",
      "| 191|     Keylex|  851|2020-03-28 15:57:16|          I|\n",
      "| 192| Stronghold|  410|2020-03-28 21:22:16|          I|\n",
      "|  35|     Lotlux|  533|2020-03-28 21:23:17|          D|\n",
      "| 160|    Sonsing| 1909|2020-03-28 21:28:07|          I|\n",
      "| 133| Y-Solowarm|  848|2020-03-28 21:42:46|          I|\n",
      "|  95|  Ronstring|  150|2020-03-28 21:42:50|          U|\n",
      "| 184|  Ronstring| 1310|2020-03-28 21:58:46|          I|\n",
      "+----+-----------+-----+-------------------+-----------+\n",
      "\n"
     ]
    }
   ],
   "source": [
    "per_day_data.orderBy(per_day_data.date_timestamp.asc()).show(60)"
   ]
  },
  {
   "cell_type": "markdown",
   "metadata": {},
   "source": [
    "### Directly append new Inserted products"
   ]
  },
  {
   "cell_type": "code",
   "execution_count": 60,
   "metadata": {
    "ExecuteTime": {
     "end_time": "2020-04-08T15:07:35.346958Z",
     "start_time": "2020-04-08T15:07:35.119617Z"
    },
    "scrolled": false
   },
   "outputs": [
    {
     "name": "stdout",
     "output_type": "stream",
     "text": [
      "\n",
      "Table of Products to be insterted in Main_Table from Per_Day_Table \n",
      "\n",
      "+----+-----------+-----+-------------------+-----------+\n",
      "|p_id|     p_name|price|     date_timestamp|record_type|\n",
      "+----+-----------+-----+-------------------+-----------+\n",
      "| 102|       Temp| 1264|2020-03-28 03:37:47|          I|\n",
      "| 103|      Alpha| 1900|2020-03-28 15:28:22|          I|\n",
      "| 109|Ventosanzap|  453|2020-03-28 03:48:09|          I|\n",
      "| 117|Ventosanzap| 1498|2020-03-28 03:54:10|          I|\n",
      "| 131|  Daltfresh|  493|2020-03-28 03:41:13|          I|\n",
      "| 133| Y-Solowarm|  848|2020-03-28 21:42:46|          I|\n",
      "| 134|   Bytecard|  326|2020-03-28 09:31:57|          I|\n",
      "| 158|    Matsoft|  370|2020-03-28 15:49:11|          I|\n",
      "| 160|    Sonsing| 1909|2020-03-28 21:28:07|          I|\n",
      "| 170|    Fix San| 1296|2020-03-28 09:23:12|          I|\n",
      "| 184|  Ronstring| 1310|2020-03-28 21:58:46|          I|\n",
      "| 191|     Keylex|  851|2020-03-28 15:57:16|          I|\n",
      "| 192| Stronghold|  410|2020-03-28 21:22:16|          I|\n",
      "+----+-----------+-----+-------------------+-----------+\n",
      "\n"
     ]
    }
   ],
   "source": [
    "print(\"\\nTable of Products to be insterted in Main_Table from Per_Day_Table \\n\")\n",
    "per_day_data.filter(\"record_type == 'I' \").orderBy(per_day_data.p_id.asc()).show()"
   ]
  },
  {
   "cell_type": "code",
   "execution_count": 61,
   "metadata": {
    "ExecuteTime": {
     "end_time": "2020-04-08T15:07:41.515748Z",
     "start_time": "2020-04-08T15:07:41.484867Z"
    },
    "scrolled": true
   },
   "outputs": [],
   "source": [
    "# Insert into mainTable using union operation\n",
    "mainTable_I_inserted = mainTable_new.union(per_day_data.filter(\"record_type == 'I' \"))\n",
    "#mainTable_I_inserted.filter(\"record_type == 'I' \").show()"
   ]
  },
  {
   "cell_type": "code",
   "execution_count": 62,
   "metadata": {
    "ExecuteTime": {
     "end_time": "2020-04-08T15:07:44.045285Z",
     "start_time": "2020-04-08T15:07:43.569752Z"
    },
    "scrolled": true
   },
   "outputs": [
    {
     "name": "stdout",
     "output_type": "stream",
     "text": [
      "Total no. of products before adding in Main_Table ----> 100\n",
      "Total no. of products after adding in Main_Table----> 113\n",
      "Total no. of products with record \"Inserted I\" in Main_Table----> 13\n"
     ]
    }
   ],
   "source": [
    "before_insert = str(mainTable_new.count())\n",
    "after_insert = str(mainTable_I_inserted.count())\n",
    "total_insert = str(mainTable_I_inserted.filter(\"record_type == 'I' \").count())\n",
    "\n",
    "print(\"Total no. of products before adding in Main_Table ----> \"+ before_insert)\n",
    "print(\"Total no. of products after adding in Main_Table----> \"+ after_insert)\n",
    "print(\"Total no. of products with record \\\"Inserted I\\\" in Main_Table----> \"+ total_insert)"
   ]
  },
  {
   "cell_type": "markdown",
   "metadata": {},
   "source": [
    "### Update the Products"
   ]
  },
  {
   "cell_type": "code",
   "execution_count": 64,
   "metadata": {
    "ExecuteTime": {
     "end_time": "2020-04-08T15:08:25.667432Z",
     "start_time": "2020-04-08T15:08:25.490675Z"
    }
   },
   "outputs": [
    {
     "name": "stdout",
     "output_type": "stream",
     "text": [
      "\n",
      "Table of Products to be Updated in Main_Table taken from Per_Day_Table \n",
      "\n",
      "+----+---------+-----+-------------------+-----------+\n",
      "|p_id|   p_name|price|     date_timestamp|record_type|\n",
      "+----+---------+-----+-------------------+-----------+\n",
      "|   5|  Bitwolf| 1078|2020-03-28 15:53:20|          U|\n",
      "|  12|  Bitchip|  540|2020-03-28 03:23:45|          U|\n",
      "|  12|  Bitchip|  437|2020-03-28 03:53:24|          U|\n",
      "|  24|       It| 1352|2020-03-28 04:00:33|          U|\n",
      "|  47| Transcof|  715|2020-03-28 15:18:40|          U|\n",
      "|  56|   Zathin| 1282|2020-03-28 09:50:55|          U|\n",
      "|  56|   Zathin|   65|2020-03-28 03:19:38|          U|\n",
      "|  72|       It| 1489|2020-03-28 03:53:06|          U|\n",
      "|  74|   Sonair|  988|2020-03-28 03:38:43|          U|\n",
      "|  83|  Fintone|  530|2020-03-28 03:26:51|          U|\n",
      "|  86| Alphazap|  913|2020-03-28 03:29:10|          U|\n",
      "|  95|Ronstring|  150|2020-03-28 21:42:50|          U|\n",
      "|  97|Voyatouch|  364|2020-03-28 09:40:22|          U|\n",
      "| 170|  Fix San| 1375|2020-03-28 03:19:10|          U|\n",
      "+----+---------+-----+-------------------+-----------+\n",
      "\n"
     ]
    }
   ],
   "source": [
    "print(\"\\nTable of Products to be Updated in Main_Table taken from Per_Day_Table \\n\")\n",
    "per_day_data.filter(\"record_type == 'U' \").orderBy(per_day_data.p_id.asc()).show()\n",
    "\n",
    "# Created a new DataFrame of records to be updated\n",
    "from_per_day_data_U = per_day_data.filter(\"record_type == 'U' \")"
   ]
  },
  {
   "cell_type": "code",
   "execution_count": 65,
   "metadata": {
    "ExecuteTime": {
     "end_time": "2020-04-08T15:08:29.228342Z",
     "start_time": "2020-04-08T15:08:29.091997Z"
    }
   },
   "outputs": [
    {
     "name": "stdout",
     "output_type": "stream",
     "text": [
      "Output of our collect operation---->  Row(p_id=72)\n",
      "get the value of p_id ----->  72\n",
      "\n",
      "List of p_id which we have to update taken from \"per_day_data\"\n",
      "[72, 24, 12, 83, 74, 56, 86, 170, 12, 47, 5, 95, 97, 56]\n",
      "Total no. of products with record \"Updated\" ------>14\n"
     ]
    }
   ],
   "source": [
    "from_per_day_data_U_list = from_per_day_data_U.select(\"p_id\").collect()\n",
    "\n",
    "print(\"Output of our collect operation----> \",from_per_day_data_U_list[0])\n",
    "print(\"get the value of p_id -----> \",from_per_day_data_U_list[0].p_id)\n",
    "\n",
    "# List comprehension\n",
    "p_id_list_U = [ i.p_id for i in from_per_day_data_U_list ]\n",
    "print(\"\\nList of p_id which we have to update taken from \\\"per_day_data\\\"\")\n",
    "print(p_id_list_U)\n",
    "\n",
    "total_update = str(len((p_id_list_U)))\n",
    "print(\"Total no. of products with record \\\"Updated\\\" ------>\"+total_update)"
   ]
  },
  {
   "cell_type": "code",
   "execution_count": 66,
   "metadata": {
    "ExecuteTime": {
     "end_time": "2020-04-08T15:08:32.438097Z",
     "start_time": "2020-04-08T15:08:32.083156Z"
    },
    "scrolled": false
   },
   "outputs": [
    {
     "name": "stdout",
     "output_type": "stream",
     "text": [
      "\n",
      "Table of Products to be Updated in Main_Table taken from Main_Table \n",
      "\n",
      "+----+---------+-----+-------------------+-----------+\n",
      "|p_id|   p_name|price|     date_timestamp|record_type|\n",
      "+----+---------+-----+-------------------+-----------+\n",
      "|   5|  Bitwolf| 1338|2020-04-02 17:11:15|          A|\n",
      "|  12|  Bitchip| 1289|2020-08-02 12:35:48|          A|\n",
      "|  24|       It|  352|2020-02-14 07:22:21|          A|\n",
      "|  47| Transcof| 1987|2020-02-17 20:30:59|          A|\n",
      "|  56|   Zathin|  892|2020-11-02 23:25:21|          A|\n",
      "|  72|       It| 1426|2020-09-02 03:43:06|          A|\n",
      "|  74|   Sonair|  271|2020-02-25 13:47:52|          A|\n",
      "|  83|  Fintone|  828|2020-02-26 16:03:20|          A|\n",
      "|  86| Alphazap|  701|2020-02-02 04:04:37|          A|\n",
      "|  95|Ronstring|  672|2020-02-19 01:59:56|          A|\n",
      "|  97|Voyatouch|  544|2020-02-14 14:52:43|          A|\n",
      "| 170|  Fix San| 1296|2020-03-28 09:23:12|          I|\n",
      "+----+---------+-----+-------------------+-----------+\n",
      "\n"
     ]
    }
   ],
   "source": [
    "# mainTable_U_inserted.groupBy(\"p_id\").count().filter(\"count > 1\").show()\n",
    "\n",
    "print(\"\\nTable of Products to be Updated in Main_Table taken from Main_Table \\n\")\n",
    "from_mainTable_U = mainTable_I_inserted.filter( col('p_id').isin(p_id_list_U))\n",
    "from_mainTable_U.show()"
   ]
  },
  {
   "cell_type": "code",
   "execution_count": 67,
   "metadata": {
    "ExecuteTime": {
     "end_time": "2020-04-08T15:08:33.941623Z",
     "start_time": "2020-04-08T15:08:33.497589Z"
    },
    "scrolled": false
   },
   "outputs": [
    {
     "name": "stdout",
     "output_type": "stream",
     "text": [
      "+----+--------+-----+-------------------+-----------+\n",
      "|p_id|  p_name|price|     date_timestamp|record_type|\n",
      "+----+--------+-----+-------------------+-----------+\n",
      "|   5| Bitwolf| 1338|2020-04-02 17:11:15|          A|\n",
      "|   5| Bitwolf| 1078|2020-03-28 15:53:20|          U|\n",
      "|  12| Bitchip| 1289|2020-08-02 12:35:48|          A|\n",
      "|  12| Bitchip|  437|2020-03-28 03:53:24|          U|\n",
      "|  12| Bitchip|  540|2020-03-28 03:23:45|          U|\n",
      "|  24|      It| 1352|2020-03-28 04:00:33|          U|\n",
      "|  24|      It|  352|2020-02-14 07:22:21|          A|\n",
      "|  47|Transcof|  715|2020-03-28 15:18:40|          U|\n",
      "|  47|Transcof| 1987|2020-02-17 20:30:59|          A|\n",
      "|  56|  Zathin| 1282|2020-03-28 09:50:55|          U|\n",
      "|  56|  Zathin|  892|2020-11-02 23:25:21|          A|\n",
      "|  56|  Zathin|   65|2020-03-28 03:19:38|          U|\n",
      "|  72|      It| 1426|2020-09-02 03:43:06|          A|\n",
      "|  72|      It| 1489|2020-03-28 03:53:06|          U|\n",
      "|  74|  Sonair|  988|2020-03-28 03:38:43|          U|\n",
      "|  74|  Sonair|  271|2020-02-25 13:47:52|          A|\n",
      "|  83| Fintone|  530|2020-03-28 03:26:51|          U|\n",
      "|  83| Fintone|  828|2020-02-26 16:03:20|          A|\n",
      "|  86|Alphazap|  913|2020-03-28 03:29:10|          U|\n",
      "|  86|Alphazap|  701|2020-02-02 04:04:37|          A|\n",
      "+----+--------+-----+-------------------+-----------+\n",
      "only showing top 20 rows\n",
      "\n"
     ]
    }
   ],
   "source": [
    "# Performed Union operation on the above tables\n",
    "mT_and_pDD_union = from_mainTable_U.union(from_per_day_data_U)\n",
    "mT_and_pDD_union.orderBy(mT_and_pDD_union.p_id).show()"
   ]
  },
  {
   "cell_type": "code",
   "execution_count": 68,
   "metadata": {
    "ExecuteTime": {
     "end_time": "2020-04-08T15:08:36.033115Z",
     "start_time": "2020-04-08T15:08:34.484664Z"
    }
   },
   "outputs": [
    {
     "name": "stdout",
     "output_type": "stream",
     "text": [
      "+------+-------------------+\n",
      "|p_id_1|   date_timestamp_1|\n",
      "+------+-------------------+\n",
      "|    12|2020-08-02 12:35:48|\n",
      "|    47|2020-03-28 15:18:40|\n",
      "|    86|2020-03-28 03:29:10|\n",
      "|     5|2020-04-02 17:11:15|\n",
      "|    72|2020-09-02 03:43:06|\n",
      "|    97|2020-03-28 09:40:22|\n",
      "|    24|2020-03-28 04:00:33|\n",
      "|    95|2020-03-28 21:42:50|\n",
      "|    56|2020-11-02 23:25:21|\n",
      "|   170|2020-03-28 09:23:12|\n",
      "|    83|2020-03-28 03:26:51|\n",
      "|    74|2020-03-28 03:38:43|\n",
      "+------+-------------------+\n",
      "\n"
     ]
    }
   ],
   "source": [
    "# Performed GroupBy operation on P_ID and took the latest date\n",
    "for_join_mT_and_pDD = mT_and_pDD_union.groupBy(\"p_id\").agg({\"date_timestamp\":\"max\"}).withColumnRenamed(\"max(date_timestamp)\",\"date_timestamp_1\")\n",
    "for_join_mT_and_pDD = for_join_mT_and_pDD.withColumnRenamed(\"p_id\",\"p_id_1\")\n",
    "for_join_mT_and_pDD.show()"
   ]
  },
  {
   "cell_type": "code",
   "execution_count": 69,
   "metadata": {
    "ExecuteTime": {
     "end_time": "2020-04-08T15:08:39.424812Z",
     "start_time": "2020-04-08T15:08:37.852535Z"
    }
   },
   "outputs": [
    {
     "data": {
      "text/plain": [
       "12"
      ]
     },
     "execution_count": 69,
     "metadata": {},
     "output_type": "execute_result"
    }
   ],
   "source": [
    "# Performed Join opteration to pick only latest updates only\n",
    "joined = mT_and_pDD_union.join(for_join_mT_and_pDD, (\n",
    "    mT_and_pDD_union.p_id == for_join_mT_and_pDD.p_id_1) & (\n",
    "    mT_and_pDD_union.date_timestamp == for_join_mT_and_pDD.date_timestamp_1) ,'inner')\n",
    "\n",
    "joined = joined.select(['p_id','p_name','price','date_timestamp','record_type'])\n",
    "joined.count()"
   ]
  },
  {
   "cell_type": "code",
   "execution_count": 79,
   "metadata": {
    "ExecuteTime": {
     "end_time": "2020-04-08T15:11:46.392279Z",
     "start_time": "2020-04-08T15:11:45.955083Z"
    },
    "scrolled": true
   },
   "outputs": [
    {
     "name": "stdout",
     "output_type": "stream",
     "text": [
      "+----+------+-----+-------------------+-----------+\n",
      "|p_id|p_name|price|     date_timestamp|record_type|\n",
      "+----+------+-----+-------------------+-----------+\n",
      "|  74|Sonair|  271|2020-02-25 13:47:52|          A|\n",
      "|  74|Sonair|  988|2020-03-28 03:38:43|          U|\n",
      "+----+------+-----+-------------------+-----------+\n",
      "\n"
     ]
    }
   ],
   "source": [
    "mT_and_pDD_union.filter(\"p_id == 74\").show()"
   ]
  },
  {
   "cell_type": "code",
   "execution_count": 72,
   "metadata": {
    "ExecuteTime": {
     "end_time": "2020-04-08T15:09:58.575936Z",
     "start_time": "2020-04-08T15:09:57.500414Z"
    }
   },
   "outputs": [
    {
     "data": {
      "text/plain": [
       "101"
      ]
     },
     "execution_count": 72,
     "metadata": {},
     "output_type": "execute_result"
    }
   ],
   "source": [
    "# First remove the p_id from Main_Table which we have to update\n",
    "mainTable_U_updated = mainTable_I_inserted.filter(~col('p_id').isin(p_id_list_U))\n",
    "mainTable_U_updated.orderBy(\"p_id\").count()"
   ]
  },
  {
   "cell_type": "code",
   "execution_count": 80,
   "metadata": {
    "ExecuteTime": {
     "end_time": "2020-04-08T15:12:01.426998Z",
     "start_time": "2020-04-08T15:11:58.088360Z"
    }
   },
   "outputs": [
    {
     "data": {
      "text/plain": [
       "113"
      ]
     },
     "execution_count": 80,
     "metadata": {},
     "output_type": "execute_result"
    }
   ],
   "source": [
    "# Then Add the Updated P_ID to the Main_Table\n",
    "mainTable_U_updated_new = mainTable_U_updated.union(joined)\n",
    "after_update = str(mainTable_U_updated_new.orderBy(\"p_id\").count())\n",
    "mainTable_U_updated_new.orderBy(\"p_id\").count()"
   ]
  },
  {
   "cell_type": "markdown",
   "metadata": {},
   "source": [
    "### Drop deleted products"
   ]
  },
  {
   "cell_type": "code",
   "execution_count": null,
   "metadata": {
    "ExecuteTime": {
     "end_time": "2020-04-08T15:12:01.467909Z",
     "start_time": "2020-04-08T15:11:59.299Z"
    },
    "scrolled": false
   },
   "outputs": [],
   "source": [
    "# Get the list of p_id which we have to delete\n",
    "to_be_deleted = per_day_data.filter(\"record_type == 'D' \").collect()\n",
    "p_id_list_D = [ i.p_id for i in to_be_deleted ]\n",
    "\n",
    "print(\"\\nList of p_id which we have to deleted taken from \\\"per_day_data\\\"\")\n",
    "print(p_id_list_D)\n",
    "total_deleted = str(len((p_id_list_D)))\n",
    "print(\"\\nTotal no. of products with record \\\"Updated\\\" ------>\"+str(len((p_id_list_D))))"
   ]
  },
  {
   "cell_type": "code",
   "execution_count": null,
   "metadata": {
    "ExecuteTime": {
     "end_time": "2020-04-08T15:12:01.471113Z",
     "start_time": "2020-04-08T15:12:00.733Z"
    }
   },
   "outputs": [],
   "source": [
    "# Remove the deleted p_id from main_table\n",
    "mainTable_D_deleted = mainTable_U_updated_new.filter(~col('p_id').isin(p_id_list_D))\n",
    "\n",
    "after_delete = str(mainTable_D_deleted.count())"
   ]
  },
  {
   "cell_type": "code",
   "execution_count": null,
   "metadata": {
    "ExecuteTime": {
     "end_time": "2020-04-08T15:12:01.477857Z",
     "start_time": "2020-04-08T15:12:01.446Z"
    }
   },
   "outputs": [],
   "source": [
    "print(\"\\nSummary of the process\\n\")\n",
    "print(\"Total no. of products before insert----->\"+before_insert)\n",
    "print(\"Total no. of products after insert------>\"+after_insert)\n",
    "print(\"Total no. of inserted  ----------------->\"+total_insert)\n",
    "print(\"Total no. of products after update ----->\"+after_update)\n",
    "print(\"Total no. of products to be deleting---->\"+total_deleted)\n",
    "print(\"Total no. of products after deleting---->\"+after_delete)"
   ]
  },
  {
   "cell_type": "code",
   "execution_count": 81,
   "metadata": {
    "ExecuteTime": {
     "end_time": "2020-04-08T15:12:04.916897Z",
     "start_time": "2020-04-08T15:12:02.951578Z"
    }
   },
   "outputs": [],
   "source": [
    "path = \"/home/bluepi/Downloads/Update/Updated Product/Latest Product/\"\n",
    "\n",
    "# This writes the DF in different files becaues of parallism \n",
    "try :\n",
    "    mainTable_D_deleted.write.format('csv').save(os.path.join(path, 'main_table'))\n",
    "except :\n",
    "    mainTable_D_deleted.write.mode('overwrite').format('csv').save(os.path.join(path, 'main_table'))\n",
    "\n",
    "# When we want our DF in one file only\n",
    "# when we use coalesce function we loses parallelism.\n",
    "# mainTable_D_deleted.coalesce(1).write.csv(os.path.join(path,'main_table'))"
   ]
  },
  {
   "cell_type": "code",
   "execution_count": null,
   "metadata": {},
   "outputs": [],
   "source": []
  },
  {
   "cell_type": "code",
   "execution_count": null,
   "metadata": {},
   "outputs": [],
   "source": []
  }
 ],
 "metadata": {
  "hide_input": false,
  "kernelspec": {
   "display_name": "Python 3",
   "language": "python",
   "name": "python3"
  },
  "language_info": {
   "codemirror_mode": {
    "name": "ipython",
    "version": 3
   },
   "file_extension": ".py",
   "mimetype": "text/x-python",
   "name": "python",
   "nbconvert_exporter": "python",
   "pygments_lexer": "ipython3",
   "version": "3.7.7"
  },
  "varInspector": {
   "cols": {
    "lenName": 16,
    "lenType": 16,
    "lenVar": 40
   },
   "kernels_config": {
    "python": {
     "delete_cmd_postfix": "",
     "delete_cmd_prefix": "del ",
     "library": "var_list.py",
     "varRefreshCmd": "print(var_dic_list())"
    },
    "r": {
     "delete_cmd_postfix": ") ",
     "delete_cmd_prefix": "rm(",
     "library": "var_list.r",
     "varRefreshCmd": "cat(var_dic_list()) "
    }
   },
   "oldHeight": 384.5,
   "position": {
    "height": "193px",
    "left": "898px",
    "right": "20px",
    "top": "120px",
    "width": "347px"
   },
   "types_to_exclude": [
    "module",
    "function",
    "builtin_function_or_method",
    "instance",
    "_Feature"
   ],
   "varInspector_section_display": "none",
   "window_display": false
  }
 },
 "nbformat": 4,
 "nbformat_minor": 2
}
