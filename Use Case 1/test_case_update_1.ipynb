{
 "cells": [
  {
   "cell_type": "code",
   "execution_count": 1,
   "metadata": {
    "ExecuteTime": {
     "end_time": "2020-03-27T11:02:19.365538Z",
     "start_time": "2020-03-27T11:02:19.330256Z"
    }
   },
   "outputs": [],
   "source": [
    "from pyspark.sql import SparkSession\n",
    "spark = SparkSession.builder.appName('Basics').getOrCreate()"
   ]
  },
  {
   "cell_type": "code",
   "execution_count": 16,
   "metadata": {
    "ExecuteTime": {
     "end_time": "2020-03-20T08:54:00.384528Z",
     "start_time": "2020-03-20T08:53:59.751503Z"
    },
    "scrolled": true
   },
   "outputs": [
    {
     "name": "stdout",
     "output_type": "stream",
     "text": [
      "+----+-----------+-----+\n",
      "|p_id|       name|Price|\n",
      "+----+-----------+-----+\n",
      "|   1|   Alphazap|   65|\n",
      "|   2|     Hatity|   75|\n",
      "|   3|    Cookley|   38|\n",
      "|   4|Mat Lam Tam|   93|\n",
      "|   5|       Stim|   88|\n",
      "|   6|       Stim|   99|\n",
      "|   7| Y-Solowarm|   80|\n",
      "|   8|    Sonsing|   29|\n",
      "|   9|     Keylex|   24|\n",
      "|  10| Stronghold|   51|\n",
      "+----+-----------+-----+\n",
      "\n"
     ]
    }
   ],
   "source": [
    "spark.read.format('csv') \\\n",
    "          .options( header=True, inferschema=True ) \\\n",
    "          .load(\"/home/bluepi/Downloads/Update/product_info/main table/\").show()\n",
    "            "
   ]
  },
  {
   "cell_type": "code",
   "execution_count": 23,
   "metadata": {
    "ExecuteTime": {
     "end_time": "2020-03-20T08:54:56.059946Z",
     "start_time": "2020-03-20T08:54:56.002571Z"
    }
   },
   "outputs": [],
   "source": [
    "# This module allows us to execute a system command, and collect its result\n",
    "import subprocess\n",
    "\n",
    "# capture_output -- > is used to capture standard output and standard error\n",
    "p1 = subprocess.run(['ls',\"/home/bluepi/Downloads/Update/product_info\"],capture_output=True)\n",
    "\n",
    "# decode bytes into string\n",
    "l = str(p1.stdout.decode('utf-8'))"
   ]
  },
  {
   "cell_type": "code",
   "execution_count": 24,
   "metadata": {
    "ExecuteTime": {
     "end_time": "2020-03-20T08:54:56.713954Z",
     "start_time": "2020-03-20T08:54:56.698922Z"
    }
   },
   "outputs": [
    {
     "data": {
      "text/plain": [
       "['12032020', '13032020', '15032020', '19032020', 'main table', '']"
      ]
     },
     "execution_count": 24,
     "metadata": {},
     "output_type": "execute_result"
    }
   ],
   "source": [
    "# Splitting and getting names of the respective folders\n",
    "l.split('\\n')\n",
    "\n",
    "# eg :- 12032020 --> 12th of March, 2020\n",
    "# main table --> folder in which our main table is present"
   ]
  },
  {
   "cell_type": "code",
   "execution_count": 25,
   "metadata": {
    "ExecuteTime": {
     "end_time": "2020-03-20T08:54:57.903265Z",
     "start_time": "2020-03-20T08:54:57.880741Z"
    }
   },
   "outputs": [],
   "source": [
    "import pandas as pd\n",
    "\n",
    "# to get today's date\n",
    "d1 = pd.to_datetime('today').strftime('%d%m%Y')"
   ]
  },
  {
   "cell_type": "code",
   "execution_count": 26,
   "metadata": {
    "ExecuteTime": {
     "end_time": "2020-03-20T08:54:58.831568Z",
     "start_time": "2020-03-20T08:54:58.809738Z"
    }
   },
   "outputs": [
    {
     "data": {
      "text/plain": [
       "True"
      ]
     },
     "execution_count": 26,
     "metadata": {},
     "output_type": "execute_result"
    }
   ],
   "source": [
    "# (int(d1) - 1000000) -- > With this we can decrease our current date by 1 day\n",
    "# str(int(d1) - 1000000) -- > converting back to string\n",
    "\n",
    "# date time funciotn***\n",
    "\n",
    "# Checking whether the previous date folder is present or not\n",
    "str(int(d1) - 1000000) in l"
   ]
  },
  {
   "cell_type": "code",
   "execution_count": 27,
   "metadata": {
    "ExecuteTime": {
     "end_time": "2020-03-20T08:55:00.706008Z",
     "start_time": "2020-03-20T08:55:00.692041Z"
    }
   },
   "outputs": [],
   "source": [
    "# Storing \"previous date\" into \"previous_day\" variable\n",
    "previous_day = str(int(d1) - 1000000)"
   ]
  },
  {
   "cell_type": "code",
   "execution_count": 28,
   "metadata": {
    "ExecuteTime": {
     "end_time": "2020-03-20T08:55:01.927027Z",
     "start_time": "2020-03-20T08:55:01.914905Z"
    }
   },
   "outputs": [],
   "source": [
    "# Address to the product_info folder\n",
    "address = \"/home/bluepi/Downloads/Update/product_info/\"\n",
    "\n",
    "# Address to the previous day folder\n",
    "new_address = address + previous_day"
   ]
  },
  {
   "cell_type": "code",
   "execution_count": 29,
   "metadata": {
    "ExecuteTime": {
     "end_time": "2020-03-20T08:55:06.160436Z",
     "start_time": "2020-03-20T08:55:05.628066Z"
    }
   },
   "outputs": [],
   "source": [
    "# read the previous day folder\n",
    "data = spark.read.format('csv') \\\n",
    "          .options( header=True, inferschema=True ) \\\n",
    "          .load(new_address)"
   ]
  },
  {
   "cell_type": "code",
   "execution_count": 30,
   "metadata": {
    "ExecuteTime": {
     "end_time": "2020-03-20T08:55:10.270652Z",
     "start_time": "2020-03-20T08:55:10.204917Z"
    }
   },
   "outputs": [],
   "source": [
    "from  pyspark.sql.functions import input_file_name\n",
    "\n",
    "# adding file names to column with there respective complete path\n",
    "data_1 =  data.withColumn(\"filename\", input_file_name())"
   ]
  },
  {
   "cell_type": "code",
   "execution_count": 31,
   "metadata": {
    "ExecuteTime": {
     "end_time": "2020-03-20T08:55:12.970603Z",
     "start_time": "2020-03-20T08:55:12.564983Z"
    }
   },
   "outputs": [
    {
     "name": "stdout",
     "output_type": "stream",
     "text": [
      "+----+---------------+-----+--------------------+\n",
      "|p_id|           name|Price|            filename|\n",
      "+----+---------------+-----+--------------------+\n",
      "|   1|       Alphazap|  615|file:///home/blue...|\n",
      "|   5|     Stim_trial| 9911|file:///home/blue...|\n",
      "|   6| Stim_trial_exp| 1022|file:///home/blue...|\n",
      "|   7|Y-Solowarm_2020|  344|file:///home/blue...|\n",
      "|   8|        Sonsing|  556|file:///home/blue...|\n",
      "|   9|    Keylex_2020| 7786|file:///home/blue...|\n",
      "|   1|       Alphazap|   99|file:///home/blue...|\n",
      "|   2|    Hatity_2020|  975|file:///home/blue...|\n",
      "|   3|        Cookley|  999|file:///home/blue...|\n",
      "|   4|    Mat Lam Tam|99999|file:///home/blue...|\n",
      "|   1|       Alphazap| 9999|file:///home/blue...|\n",
      "|   2|    Hatity_2020|  230|file:///home/blue...|\n",
      "|   1|       Alphazap|   10|file:///home/blue...|\n",
      "+----+---------------+-----+--------------------+\n",
      "\n"
     ]
    }
   ],
   "source": [
    "data_1.show()"
   ]
  },
  {
   "cell_type": "code",
   "execution_count": 12,
   "metadata": {
    "ExecuteTime": {
     "end_time": "2020-03-16T15:00:13.285764Z",
     "start_time": "2020-03-16T15:00:13.280326Z"
    }
   },
   "outputs": [
    {
     "data": {
      "text/plain": [
       "pyspark.sql.dataframe.DataFrame"
      ]
     },
     "execution_count": 12,
     "metadata": {},
     "output_type": "execute_result"
    }
   ],
   "source": [
    "# Checking type\n",
    "type(data_1)"
   ]
  },
  {
   "cell_type": "code",
   "execution_count": 33,
   "metadata": {
    "ExecuteTime": {
     "end_time": "2020-03-20T08:57:27.078183Z",
     "start_time": "2020-03-20T08:57:26.835223Z"
    }
   },
   "outputs": [
    {
     "data": {
      "text/plain": [
       "Row(filename='file:///home/bluepi/Downloads/Update/product_info/19032020/Untitled4.csv')"
      ]
     },
     "execution_count": 33,
     "metadata": {},
     "output_type": "execute_result"
    }
   ],
   "source": [
    "# get the address of the file\n",
    "data_1.select('filename').head(5)[0]"
   ]
  },
  {
   "cell_type": "code",
   "execution_count": 35,
   "metadata": {
    "ExecuteTime": {
     "end_time": "2020-03-20T08:57:31.077333Z",
     "start_time": "2020-03-20T08:57:31.072401Z"
    }
   },
   "outputs": [],
   "source": [
    "from pyspark.sql.functions import split"
   ]
  },
  {
   "cell_type": "code",
   "execution_count": 36,
   "metadata": {
    "ExecuteTime": {
     "end_time": "2020-03-20T08:57:31.907312Z",
     "start_time": "2020-03-20T08:57:31.743605Z"
    }
   },
   "outputs": [],
   "source": [
    "# to select only the file name present in the folder instead of the complete path\n",
    "d2 = data_1.withColumn(\"filename_file\", split(\"filename\", \"/\")[9])"
   ]
  },
  {
   "cell_type": "code",
   "execution_count": 37,
   "metadata": {
    "ExecuteTime": {
     "end_time": "2020-03-20T08:58:25.395329Z",
     "start_time": "2020-03-20T08:58:25.018278Z"
    }
   },
   "outputs": [
    {
     "name": "stdout",
     "output_type": "stream",
     "text": [
      "+----+---------------+-----+--------------------+-------------+\n",
      "|p_id|           name|Price|            filename|filename_file|\n",
      "+----+---------------+-----+--------------------+-------------+\n",
      "|   1|       Alphazap|  615|file:///home/blue...|Untitled4.csv|\n",
      "|   5|     Stim_trial| 9911|file:///home/blue...|Untitled4.csv|\n",
      "|   6| Stim_trial_exp| 1022|file:///home/blue...|Untitled4.csv|\n",
      "|   7|Y-Solowarm_2020|  344|file:///home/blue...|Untitled4.csv|\n",
      "|   8|        Sonsing|  556|file:///home/blue...|Untitled4.csv|\n",
      "|   9|    Keylex_2020| 7786|file:///home/blue...|Untitled4.csv|\n",
      "|   1|       Alphazap|   99|file:///home/blue...|Untitled3.csv|\n",
      "|   2|    Hatity_2020|  975|file:///home/blue...|Untitled3.csv|\n",
      "|   3|        Cookley|  999|file:///home/blue...|Untitled3.csv|\n",
      "|   4|    Mat Lam Tam|99999|file:///home/blue...|Untitled3.csv|\n",
      "|   1|       Alphazap| 9999|file:///home/blue...|Untitled2.csv|\n",
      "|   2|    Hatity_2020|  230|file:///home/blue...|Untitled2.csv|\n",
      "|   1|       Alphazap|   10|file:///home/blue...|Untitled1.csv|\n",
      "+----+---------------+-----+--------------------+-------------+\n",
      "\n"
     ]
    }
   ],
   "source": [
    "d2.show()"
   ]
  },
  {
   "cell_type": "code",
   "execution_count": 38,
   "metadata": {
    "ExecuteTime": {
     "end_time": "2020-03-20T08:58:31.118103Z",
     "start_time": "2020-03-20T08:58:31.105321Z"
    }
   },
   "outputs": [],
   "source": [
    "d3 = d2.drop(\"filename\")"
   ]
  },
  {
   "cell_type": "code",
   "execution_count": 39,
   "metadata": {
    "ExecuteTime": {
     "end_time": "2020-03-20T08:58:32.204677Z",
     "start_time": "2020-03-20T08:58:31.936101Z"
    },
    "scrolled": false
   },
   "outputs": [
    {
     "name": "stdout",
     "output_type": "stream",
     "text": [
      "+----+---------------+-----+-------------+\n",
      "|p_id|           name|Price|filename_file|\n",
      "+----+---------------+-----+-------------+\n",
      "|   1|       Alphazap|  615|Untitled4.csv|\n",
      "|   5|     Stim_trial| 9911|Untitled4.csv|\n",
      "|   6| Stim_trial_exp| 1022|Untitled4.csv|\n",
      "|   7|Y-Solowarm_2020|  344|Untitled4.csv|\n",
      "|   8|        Sonsing|  556|Untitled4.csv|\n",
      "|   9|    Keylex_2020| 7786|Untitled4.csv|\n",
      "|   1|       Alphazap|   99|Untitled3.csv|\n",
      "|   2|    Hatity_2020|  975|Untitled3.csv|\n",
      "|   3|        Cookley|  999|Untitled3.csv|\n",
      "|   4|    Mat Lam Tam|99999|Untitled3.csv|\n",
      "|   1|       Alphazap| 9999|Untitled2.csv|\n",
      "|   2|    Hatity_2020|  230|Untitled2.csv|\n",
      "|   1|       Alphazap|   10|Untitled1.csv|\n",
      "+----+---------------+-----+-------------+\n",
      "\n"
     ]
    }
   ],
   "source": [
    "# Added the filename(only) to the dataset\n",
    "d3.show()"
   ]
  },
  {
   "cell_type": "code",
   "execution_count": 40,
   "metadata": {
    "ExecuteTime": {
     "end_time": "2020-03-20T08:58:41.696133Z",
     "start_time": "2020-03-20T08:58:41.673037Z"
    }
   },
   "outputs": [
    {
     "data": {
      "text/plain": [
       "pyspark.sql.dataframe.DataFrame"
      ]
     },
     "execution_count": 40,
     "metadata": {},
     "output_type": "execute_result"
    }
   ],
   "source": [
    "type(d3)"
   ]
  },
  {
   "cell_type": "code",
   "execution_count": 41,
   "metadata": {
    "ExecuteTime": {
     "end_time": "2020-03-20T08:58:42.846605Z",
     "start_time": "2020-03-20T08:58:42.608671Z"
    }
   },
   "outputs": [],
   "source": [
    "d3.createOrReplaceTempView(\"Each_day_data\")"
   ]
  },
  {
   "cell_type": "code",
   "execution_count": 42,
   "metadata": {
    "ExecuteTime": {
     "end_time": "2020-03-20T08:58:54.284781Z",
     "start_time": "2020-03-20T08:58:48.946215Z"
    },
    "scrolled": false
   },
   "outputs": [],
   "source": [
    "# SQL Query to find the latest update of each product \n",
    "# max not on string\n",
    "table = spark.sql(\" select * from Each_day_data \\\n",
    "            where (p_id,filename_file) \\\n",
    "            in (select p_id,max(filename_file) from Each_day_data group by p_id order by p_id) \\\n",
    "            order by p_id,filename_file desc  \")"
   ]
  },
  {
   "cell_type": "code",
   "execution_count": 22,
   "metadata": {
    "ExecuteTime": {
     "end_time": "2020-03-16T15:00:19.949599Z",
     "start_time": "2020-03-16T15:00:18.221870Z"
    }
   },
   "outputs": [
    {
     "name": "stdout",
     "output_type": "stream",
     "text": [
      "+----+---------------+-----+-------------+\n",
      "|p_id|           name|Price|filename_file|\n",
      "+----+---------------+-----+-------------+\n",
      "|   1|       Alphazap|  615|Untitled4.csv|\n",
      "|   2|    Hatity_2020|  975|Untitled3.csv|\n",
      "|   3|        Cookley|  999|Untitled3.csv|\n",
      "|   4|    Mat Lam Tam|99999|Untitled3.csv|\n",
      "|   5|     Stim_trial| 9911|Untitled4.csv|\n",
      "|   6| Stim_trial_exp| 1022|Untitled4.csv|\n",
      "|   7|Y-Solowarm_2020|  344|Untitled4.csv|\n",
      "|   8|        Sonsing|  556|Untitled4.csv|\n",
      "|   9|    Keylex_2020| 1786|Untitled4.csv|\n",
      "+----+---------------+-----+-------------+\n",
      "\n"
     ]
    }
   ],
   "source": [
    "table.show()"
   ]
  },
  {
   "cell_type": "code",
   "execution_count": 43,
   "metadata": {
    "ExecuteTime": {
     "end_time": "2020-03-20T09:01:42.837812Z",
     "start_time": "2020-03-20T09:01:42.746487Z"
    }
   },
   "outputs": [],
   "source": [
    "table.createOrReplaceTempView(\"Table\")"
   ]
  },
  {
   "cell_type": "code",
   "execution_count": 44,
   "metadata": {
    "ExecuteTime": {
     "end_time": "2020-03-20T09:01:43.935837Z",
     "start_time": "2020-03-20T09:01:43.483929Z"
    },
    "scrolled": true
   },
   "outputs": [],
   "source": [
    "# Updating the MAIN_TABLE\n",
    "\n",
    "product_info = spark.read.format('csv') \\\n",
    "          .options( header=True, inferschema=True ) \\\n",
    "          .load(\"/home/bluepi/Downloads/Update/product_info/main table/product_info.csv\")"
   ]
  },
  {
   "cell_type": "code",
   "execution_count": 45,
   "metadata": {
    "ExecuteTime": {
     "end_time": "2020-03-20T09:01:47.693057Z",
     "start_time": "2020-03-20T09:01:47.668579Z"
    }
   },
   "outputs": [],
   "source": [
    "product_info.createOrReplaceTempView(\"Product_info\")"
   ]
  },
  {
   "cell_type": "code",
   "execution_count": 26,
   "metadata": {
    "ExecuteTime": {
     "end_time": "2020-03-16T15:00:20.703034Z",
     "start_time": "2020-03-16T15:00:20.482162Z"
    },
    "scrolled": true
   },
   "outputs": [
    {
     "name": "stdout",
     "output_type": "stream",
     "text": [
      "+----+-----------+-----+\n",
      "|p_id|       name|Price|\n",
      "+----+-----------+-----+\n",
      "|   1|   Alphazap|   65|\n",
      "|   2|     Hatity|   75|\n",
      "|   3|    Cookley|   38|\n",
      "|   4|Mat Lam Tam|   93|\n",
      "|   5|       Stim|   88|\n",
      "|   6|       Stim|   99|\n",
      "|   7| Y-Solowarm|   80|\n",
      "|   8|    Sonsing|   29|\n",
      "|   9|     Keylex|   24|\n",
      "|  10| Stronghold|   51|\n",
      "+----+-----------+-----+\n",
      "\n"
     ]
    }
   ],
   "source": [
    "# Main Table\n",
    "spark.sql(\" select * from Product_info \").show()"
   ]
  },
  {
   "cell_type": "code",
   "execution_count": 27,
   "metadata": {
    "ExecuteTime": {
     "end_time": "2020-03-16T15:00:23.408617Z",
     "start_time": "2020-03-16T15:00:20.707279Z"
    }
   },
   "outputs": [
    {
     "name": "stdout",
     "output_type": "stream",
     "text": [
      "+----+---------------+-----+\n",
      "|p_id|           name|Price|\n",
      "+----+---------------+-----+\n",
      "|   1|       Alphazap|  615|\n",
      "|   2|    Hatity_2020|  975|\n",
      "|   3|        Cookley|  999|\n",
      "|   4|    Mat Lam Tam|99999|\n",
      "|   5|     Stim_trial| 9911|\n",
      "|   6| Stim_trial_exp| 1022|\n",
      "|   7|Y-Solowarm_2020|  344|\n",
      "|   8|        Sonsing|  556|\n",
      "|   9|    Keylex_2020| 1786|\n",
      "|  10|     Stronghold|   51|\n",
      "+----+---------------+-----+\n",
      "\n"
     ]
    }
   ],
   "source": [
    "# Query to update the main table\n",
    "spark.sql(\" select * from Product_info \\\n",
    "            where p_id not in ( select p_id from Table ) \\\n",
    "            union \\\n",
    "            select p_id,name,Price from Table \\\n",
    "            order by p_id \\\n",
    "          \").show()"
   ]
  },
  {
   "cell_type": "code",
   "execution_count": null,
   "metadata": {},
   "outputs": [],
   "source": []
  }
 ],
 "metadata": {
  "hide_input": false,
  "kernelspec": {
   "display_name": "Python 3",
   "language": "python",
   "name": "python3"
  },
  "language_info": {
   "codemirror_mode": {
    "name": "ipython",
    "version": 3
   },
   "file_extension": ".py",
   "mimetype": "text/x-python",
   "name": "python",
   "nbconvert_exporter": "python",
   "pygments_lexer": "ipython3",
   "version": "3.7.7"
  },
  "varInspector": {
   "cols": {
    "lenName": 16,
    "lenType": 16,
    "lenVar": 40
   },
   "kernels_config": {
    "python": {
     "delete_cmd_postfix": "",
     "delete_cmd_prefix": "del ",
     "library": "var_list.py",
     "varRefreshCmd": "print(var_dic_list())"
    },
    "r": {
     "delete_cmd_postfix": ") ",
     "delete_cmd_prefix": "rm(",
     "library": "var_list.r",
     "varRefreshCmd": "cat(var_dic_list()) "
    }
   },
   "types_to_exclude": [
    "module",
    "function",
    "builtin_function_or_method",
    "instance",
    "_Feature"
   ],
   "window_display": false
  }
 },
 "nbformat": 4,
 "nbformat_minor": 2
}
