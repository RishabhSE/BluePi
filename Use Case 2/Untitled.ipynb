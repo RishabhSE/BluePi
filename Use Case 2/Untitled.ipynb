{
 "cells": [
  {
   "cell_type": "code",
   "execution_count": 1,
   "metadata": {
    "ExecuteTime": {
     "end_time": "2020-04-05T13:16:46.744049Z",
     "start_time": "2020-04-05T13:16:46.339651Z"
    }
   },
   "outputs": [],
   "source": [
    "import pandas as pd\n",
    "import re"
   ]
  },
  {
   "cell_type": "code",
   "execution_count": 2,
   "metadata": {
    "ExecuteTime": {
     "end_time": "2020-04-03T16:39:29.317827Z",
     "start_time": "2020-04-03T16:39:29.297635Z"
    }
   },
   "outputs": [],
   "source": [
    "df = pd.read_csv('/home/bluepi/Downloads/date_1.csv')\n",
    "l = df['Date'].tolist()"
   ]
  },
  {
   "cell_type": "code",
   "execution_count": 3,
   "metadata": {
    "ExecuteTime": {
     "end_time": "2020-04-03T16:39:30.015392Z",
     "start_time": "2020-04-03T16:39:29.959753Z"
    }
   },
   "outputs": [
    {
     "data": {
      "text/plain": [
       "str"
      ]
     },
     "execution_count": 3,
     "metadata": {},
     "output_type": "execute_result"
    }
   ],
   "source": [
    "type(l[1])"
   ]
  },
  {
   "cell_type": "code",
   "execution_count": 4,
   "metadata": {
    "ExecuteTime": {
     "end_time": "2020-04-03T16:39:30.607300Z",
     "start_time": "2020-04-03T16:39:30.587907Z"
    }
   },
   "outputs": [],
   "source": [
    "def func(n) :\n",
    "    return re.sub(\"-\",\" \",n)\n",
    "l2 = list(map( func, l ))"
   ]
  },
  {
   "cell_type": "code",
   "execution_count": 5,
   "metadata": {
    "ExecuteTime": {
     "end_time": "2020-04-03T16:39:31.263735Z",
     "start_time": "2020-04-03T16:39:31.247657Z"
    }
   },
   "outputs": [
    {
     "data": {
      "text/plain": [
       "'11 Jan 2020'"
      ]
     },
     "execution_count": 5,
     "metadata": {},
     "output_type": "execute_result"
    }
   ],
   "source": [
    "l2[0]"
   ]
  },
  {
   "cell_type": "code",
   "execution_count": 24,
   "metadata": {
    "ExecuteTime": {
     "end_time": "2020-04-05T14:10:30.809460Z",
     "start_time": "2020-04-05T14:10:30.795469Z"
    },
    "scrolled": true
   },
   "outputs": [
    {
     "name": "stdout",
     "output_type": "stream",
     "text": [
      "No match\n"
     ]
    }
   ],
   "source": [
    "txt = '03 Dec 2020'\n",
    "# x = re.search(\"\\d\", txt)\n",
    "\n",
    "x = re.findall('((?:[012][0-9]|31|30)\\s(?:Jan|Mar|Apr|May|Jun|Jul|Aug|Sep|Nov|Dec)\\s\\d{4})',txt)\n",
    "# y = x[0]\n",
    "# y = int( y[-4:] )\n",
    "# if True\n",
    "#     if (y%4 == 0) and (y%100 ==0) and (y%400 ==0) :\n",
    "#         print(x)\n",
    "#     else :\n",
    "#         print(\"No match\")\n",
    "\n",
    "if (x):\n",
    "  print(\"Yes, there is at least one match!\")\n",
    "else:\n",
    "  print(\"No match\")"
   ]
  }
 ],
 "metadata": {
  "hide_input": false,
  "kernelspec": {
   "display_name": "Python 3",
   "language": "python",
   "name": "python3"
  },
  "language_info": {
   "codemirror_mode": {
    "name": "ipython",
    "version": 3
   },
   "file_extension": ".py",
   "mimetype": "text/x-python",
   "name": "python",
   "nbconvert_exporter": "python",
   "pygments_lexer": "ipython3",
   "version": "3.7.7"
  },
  "varInspector": {
   "cols": {
    "lenName": 16,
    "lenType": 16,
    "lenVar": 40
   },
   "kernels_config": {
    "python": {
     "delete_cmd_postfix": "",
     "delete_cmd_prefix": "del ",
     "library": "var_list.py",
     "varRefreshCmd": "print(var_dic_list())"
    },
    "r": {
     "delete_cmd_postfix": ") ",
     "delete_cmd_prefix": "rm(",
     "library": "var_list.r",
     "varRefreshCmd": "cat(var_dic_list()) "
    }
   },
   "types_to_exclude": [
    "module",
    "function",
    "builtin_function_or_method",
    "instance",
    "_Feature"
   ],
   "window_display": false
  }
 },
 "nbformat": 4,
 "nbformat_minor": 4
}
