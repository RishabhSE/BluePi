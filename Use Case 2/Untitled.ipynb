{
 "cells": [
  {
   "cell_type": "code",
   "execution_count": 1,
   "metadata": {
    "ExecuteTime": {
     "end_time": "2020-03-28T09:07:24.117947Z",
     "start_time": "2020-03-28T09:07:24.090208Z"
    }
   },
   "outputs": [],
   "source": [
    "# import logging\n",
    "# import boto3\n",
    "# from botocore.exceptions import ClientError\n"
   ]
  },
  {
   "cell_type": "code",
   "execution_count": 35,
   "metadata": {
    "ExecuteTime": {
     "end_time": "2020-03-28T10:03:59.461721Z",
     "start_time": "2020-03-28T10:03:59.418952Z"
    }
   },
   "outputs": [
    {
     "name": "stdout",
     "output_type": "stream",
     "text": [
      "['main table.csv', 'new_added.csv']\n",
      "741 Bytes\n"
     ]
    },
    {
     "data": {
      "text/plain": [
       "'221 Goodbye.'"
      ]
     },
     "execution_count": 35,
     "metadata": {},
     "output_type": "execute_result"
    }
   ],
   "source": [
    "# It allows us to write Python programs that perform a variety of automated FTP jobs\n",
    "import ftplib\n",
    "\n",
    "# Return a new instance of the FTP class\n",
    "# connect to host, default port\n",
    "ftp = ftplib.FTP(host=\"192.168.1.7\")\n",
    "# Use \"FTP_TLS\" when FTP is over TLS\n",
    "\n",
    "\n",
    "# Log in as the given user\n",
    "# Default user --> 'anonymous'\n",
    "# Default password --> 'anonymous@'\n",
    "ftp.login(user=\"test_user\",passwd=\"rishabh\")\n",
    "\n",
    "# Set the current directory on the server\n",
    "ftp.cwd('/Test/maintable/')\n",
    "\n",
    "# Return a list of file names\n",
    "lst = ftp.nlst()\n",
    "print(lst,end='\\n')\n",
    "\n",
    "# Request the size of the file\n",
    "f_size = ftp.size('main table.csv')\n",
    "print( str(f_size) + ' Bytes' )\n",
    "\n",
    "# close the connection\n",
    "ftp.quit()"
   ]
  }
 ],
 "metadata": {
  "hide_input": false,
  "kernelspec": {
   "display_name": "Python 3",
   "language": "python",
   "name": "python3"
  },
  "language_info": {
   "codemirror_mode": {
    "name": "ipython",
    "version": 3
   },
   "file_extension": ".py",
   "mimetype": "text/x-python",
   "name": "python",
   "nbconvert_exporter": "python",
   "pygments_lexer": "ipython3",
   "version": "3.7.7"
  },
  "varInspector": {
   "cols": {
    "lenName": 16,
    "lenType": 16,
    "lenVar": 40
   },
   "kernels_config": {
    "python": {
     "delete_cmd_postfix": "",
     "delete_cmd_prefix": "del ",
     "library": "var_list.py",
     "varRefreshCmd": "print(var_dic_list())"
    },
    "r": {
     "delete_cmd_postfix": ") ",
     "delete_cmd_prefix": "rm(",
     "library": "var_list.r",
     "varRefreshCmd": "cat(var_dic_list()) "
    }
   },
   "types_to_exclude": [
    "module",
    "function",
    "builtin_function_or_method",
    "instance",
    "_Feature"
   ],
   "window_display": false
  }
 },
 "nbformat": 4,
 "nbformat_minor": 4
}
