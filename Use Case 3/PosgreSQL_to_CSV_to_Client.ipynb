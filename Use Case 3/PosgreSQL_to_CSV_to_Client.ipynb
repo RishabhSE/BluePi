{
 "cells": [
  {
   "cell_type": "markdown",
   "metadata": {},
   "source": [
    "# PosgreSQL Connection"
   ]
  },
  {
   "cell_type": "markdown",
   "metadata": {},
   "source": [
    "### Libraries Used"
   ]
  },
  {
   "cell_type": "code",
   "execution_count": 1,
   "metadata": {
    "ExecuteTime": {
     "end_time": "2020-04-21T09:26:43.393181Z",
     "start_time": "2020-04-21T09:26:43.043830Z"
    }
   },
   "outputs": [],
   "source": [
    "import psycopg2\n",
    "import pandas as pd"
   ]
  },
  {
   "cell_type": "markdown",
   "metadata": {},
   "source": [
    "### Connection Parameters"
   ]
  },
  {
   "cell_type": "code",
   "execution_count": 2,
   "metadata": {
    "ExecuteTime": {
     "end_time": "2020-04-21T09:26:43.403616Z",
     "start_time": "2020-04-21T09:26:43.395810Z"
    }
   },
   "outputs": [],
   "source": [
    "HOST = \"localhost\"\n",
    "DATABASE = \"postgres\"\n",
    "USER = \"postgres\"\n",
    "PASSWORD = \"rishabh\""
   ]
  },
  {
   "cell_type": "markdown",
   "metadata": {},
   "source": [
    "### Connect to DataBase"
   ]
  },
  {
   "cell_type": "code",
   "execution_count": 3,
   "metadata": {
    "ExecuteTime": {
     "end_time": "2020-04-21T09:26:43.420377Z",
     "start_time": "2020-04-21T09:26:43.406661Z"
    }
   },
   "outputs": [],
   "source": [
    "# connect() ---> creates a new database session and returns a new instance of the connection class\n",
    "conn = psycopg2.connect(host=HOST,database=DATABASE, user=USER, password=PASSWORD)\n",
    "\n",
    "# Open a cursor to perform database operations\n",
    "db_cursor = conn.cursor()\n",
    "\n",
    "# Close communication with the database\n",
    "# db_cursor.close()"
   ]
  },
  {
   "cell_type": "markdown",
   "metadata": {},
   "source": [
    "### Get the list of Tables"
   ]
  },
  {
   "cell_type": "code",
   "execution_count": 4,
   "metadata": {
    "ExecuteTime": {
     "end_time": "2020-04-21T09:26:43.445374Z",
     "start_time": "2020-04-21T09:26:43.424291Z"
    }
   },
   "outputs": [
    {
     "data": {
      "text/plain": [
       "[('public', 'actor'),\n",
       " ('public', 'actor_info'),\n",
       " ('public', 'customer_list'),\n",
       " ('public', 'film_list'),\n",
       " ('public', 'nicer_but_slower_film_list'),\n",
       " ('public', 'sales_by_film_category'),\n",
       " ('public', 'store'),\n",
       " ('public', 'sales_by_store'),\n",
       " ('public', 'staff_list'),\n",
       " ('public', 'address'),\n",
       " ('public', 'category'),\n",
       " ('public', 'city'),\n",
       " ('public', 'country'),\n",
       " ('public', 'customer'),\n",
       " ('public', 'film_actor'),\n",
       " ('public', 'film_category'),\n",
       " ('public', 'inventory'),\n",
       " ('public', 'language'),\n",
       " ('public', 'rental'),\n",
       " ('public', 'staff'),\n",
       " ('public', 'payment'),\n",
       " ('public', 'film')]"
      ]
     },
     "execution_count": 4,
     "metadata": {},
     "output_type": "execute_result"
    }
   ],
   "source": [
    "# Execute a command: this creates a new table\n",
    "db_cursor.execute(\n",
    "    \"SELECT table_schema,table_name FROM information_schema.tables WHERE table_schema = 'public';\")\n",
    "\n",
    "# retrieve data from the database \n",
    "list_tables = db_cursor.fetchall()\n",
    "list_tables"
   ]
  },
  {
   "cell_type": "markdown",
   "metadata": {},
   "source": [
    "### Get the Table"
   ]
  },
  {
   "cell_type": "code",
   "execution_count": 5,
   "metadata": {
    "ExecuteTime": {
     "end_time": "2020-04-21T09:26:43.604501Z",
     "start_time": "2020-04-21T09:26:43.453024Z"
    }
   },
   "outputs": [],
   "source": [
    "# table = db_cursor.execute(\"select * from actor\")\n",
    "table = \"select * from staff\" \n",
    "\n",
    "# Read SQL query or database table into a DataFrame\n",
    "df = pd.read_sql(table,conn)"
   ]
  },
  {
   "cell_type": "markdown",
   "metadata": {},
   "source": [
    "### Rename the columns"
   ]
  },
  {
   "cell_type": "code",
   "execution_count": 11,
   "metadata": {
    "ExecuteTime": {
     "end_time": "2020-04-21T09:27:46.211659Z",
     "start_time": "2020-04-21T09:27:46.204683Z"
    },
    "scrolled": false
   },
   "outputs": [],
   "source": [
    "# df.rename(columns={\"A\": \"Order Date - Order Date\", \"B\": \"c\"})"
   ]
  },
  {
   "cell_type": "markdown",
   "metadata": {},
   "source": [
    "### Write it to EXCEL"
   ]
  },
  {
   "cell_type": "code",
   "execution_count": 7,
   "metadata": {
    "ExecuteTime": {
     "end_time": "2020-04-21T09:26:43.701712Z",
     "start_time": "2020-04-21T09:26:43.647299Z"
    }
   },
   "outputs": [],
   "source": [
    "filename ='staff.xlsx' \n",
    "df.to_excel(filename,header=True)"
   ]
  },
  {
   "cell_type": "markdown",
   "metadata": {},
   "source": [
    "# Mail Connection"
   ]
  },
  {
   "cell_type": "markdown",
   "metadata": {},
   "source": [
    "## Setting up the Mail Address "
   ]
  },
  {
   "cell_type": "markdown",
   "metadata": {},
   "source": [
    "> Instead of turning ON the **Less Secure App Access** option in your google account. \n",
    "> We will follow this procedure.\n",
    "\n",
    "1. First, you need to enable **2-Step Verification** ( Goto **Manage Your Google Account > Security** ) \n",
    "<img src=\"files/w1.png\" width=\"600\" />\n",
    "2. Next, create an app password. Just select **App passwords**\n",
    "    <img src=\"files/w2.png\" width=\"600\" />\n",
    "3. Type the name(any)\n",
    "4. Generate the password\n",
    "5. Use this password inplace of mail password\n",
    "6. Done.\n",
    "\n",
    "\n",
    "\n"
   ]
  },
  {
   "cell_type": "markdown",
   "metadata": {},
   "source": [
    "### Libraries Used"
   ]
  },
  {
   "cell_type": "code",
   "execution_count": 8,
   "metadata": {
    "ExecuteTime": {
     "end_time": "2020-04-21T09:26:43.722899Z",
     "start_time": "2020-04-21T09:26:43.704482Z"
    }
   },
   "outputs": [],
   "source": [
    "import email, smtplib, ssl\n",
    "\n",
    "from email import encoders\n",
    "\n",
    "# This is the base class for all the MIME-specific subclasses of Message\n",
    "from email.mime.base import MIMEBase\n",
    "\n",
    "# A subclass of MIMEBase\n",
    "# It is an intermediate base class for MIME messages that are multipart\n",
    "from email.mime.multipart import MIMEMultipart\n",
    "\n",
    "# MIMEText is used to create MIME objects of major_type : text\n",
    "from email.mime.text import MIMEText\n",
    "\n",
    "port = 465  # For SSL"
   ]
  },
  {
   "cell_type": "markdown",
   "metadata": {},
   "source": [
    "### Connection Parameters"
   ]
  },
  {
   "cell_type": "code",
   "execution_count": 9,
   "metadata": {
    "ExecuteTime": {
     "end_time": "2020-04-21T09:26:43.730111Z",
     "start_time": "2020-04-21T09:26:43.725305Z"
    }
   },
   "outputs": [],
   "source": [
    "sender_email = \"test.mail.bluepi@gmail.com\"\n",
    "receiver_email = \"test.mail.bluepi@gmail.com\"\n",
    "\n",
    "subject = \"An email with attachment from Python\"\n",
    "body = \"This is an email with attachment sent from Python\"\n",
    "\n",
    "password = \"wfsgwvsegjnukxzt\"\n",
    "# input(\"Type your password and press enter: \")"
   ]
  },
  {
   "cell_type": "markdown",
   "metadata": {},
   "source": [
    "### Send the Email"
   ]
  },
  {
   "cell_type": "code",
   "execution_count": 10,
   "metadata": {
    "ExecuteTime": {
     "end_time": "2020-04-21T09:26:50.144763Z",
     "start_time": "2020-04-21T09:26:43.733369Z"
    }
   },
   "outputs": [],
   "source": [
    "# Create a multipart message and set headers\n",
    "message = MIMEMultipart()\n",
    "message[\"From\"] = sender_email\n",
    "message[\"To\"] = receiver_email\n",
    "message[\"Subject\"] = subject\n",
    "# message[\"Bcc\"] = receiver_email\n",
    "\n",
    "# Add body to email\n",
    "message.attach(MIMEText(body, \"plain\"))\n",
    "\n",
    "# filename = list_tables[0][1] + '.xlsx'  # In same directory as script\n",
    "\n",
    "# Open CSV file in binary mode\n",
    "with open(filename, \"rb\") as attachment:\n",
    "# Add file as application/octet-stream\n",
    "# Email client can usually download this automatically as attachment\n",
    "    part = MIMEBase(\"application\", \"octet-stream\")\n",
    "    part.set_payload(attachment.read())\n",
    "\n",
    "# Encode file in ASCII characters to send by email    \n",
    "encoders.encode_base64(part)\n",
    "\n",
    "# Add header as key/value pair to attachment part\n",
    "part.add_header(\n",
    "    \"Content-Disposition\",\n",
    "    f\"attachment; filename= {filename}\",\n",
    ")\n",
    "\n",
    "# Add attachment to message and convert message to string\n",
    "message.attach(part)\n",
    "text = message.as_string()\n",
    "\n",
    "# Create a secure SSL context\n",
    "context = ssl.create_default_context()\n",
    "with smtplib.SMTP_SSL(\"smtp.gmail.com\", port, context=context) as server:\n",
    "    server.login(sender_email, password)\n",
    "    server.sendmail(sender_email, receiver_email, text)\n"
   ]
  }
 ],
 "metadata": {
  "hide_input": false,
  "kernelspec": {
   "display_name": "Python 3",
   "language": "python",
   "name": "python3"
  },
  "language_info": {
   "codemirror_mode": {
    "name": "ipython",
    "version": 3
   },
   "file_extension": ".py",
   "mimetype": "text/x-python",
   "name": "python",
   "nbconvert_exporter": "python",
   "pygments_lexer": "ipython3",
   "version": "3.7.7"
  },
  "toc": {
   "base_numbering": 1,
   "nav_menu": {},
   "number_sections": true,
   "sideBar": true,
   "skip_h1_title": false,
   "title_cell": "Table of Contents",
   "title_sidebar": "Contents",
   "toc_cell": false,
   "toc_position": {},
   "toc_section_display": true,
   "toc_window_display": false
  },
  "varInspector": {
   "cols": {
    "lenName": 16,
    "lenType": 16,
    "lenVar": 40
   },
   "kernels_config": {
    "python": {
     "delete_cmd_postfix": "",
     "delete_cmd_prefix": "del ",
     "library": "var_list.py",
     "varRefreshCmd": "print(var_dic_list())"
    },
    "r": {
     "delete_cmd_postfix": ") ",
     "delete_cmd_prefix": "rm(",
     "library": "var_list.r",
     "varRefreshCmd": "cat(var_dic_list()) "
    }
   },
   "types_to_exclude": [
    "module",
    "function",
    "builtin_function_or_method",
    "instance",
    "_Feature"
   ],
   "window_display": false
  }
 },
 "nbformat": 4,
 "nbformat_minor": 4
}
