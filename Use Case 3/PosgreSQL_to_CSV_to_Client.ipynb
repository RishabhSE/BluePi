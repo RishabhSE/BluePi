{
 "cells": [
  {
   "cell_type": "markdown",
   "metadata": {},
   "source": [
    "# PosgreSQL Connection"
   ]
  },
  {
   "cell_type": "markdown",
   "metadata": {},
   "source": [
    "### Libraries Used"
   ]
  },
  {
   "cell_type": "code",
   "execution_count": 1,
   "metadata": {
    "ExecuteTime": {
     "end_time": "2020-04-23T09:49:05.354951Z",
     "start_time": "2020-04-23T09:49:04.926020Z"
    }
   },
   "outputs": [],
   "source": [
    "import psycopg2\n",
    "import pandas as pd"
   ]
  },
  {
   "cell_type": "markdown",
   "metadata": {},
   "source": [
    "### Connection Parameters"
   ]
  },
  {
   "cell_type": "code",
   "execution_count": 2,
   "metadata": {
    "ExecuteTime": {
     "end_time": "2020-04-22T03:11:33.179115Z",
     "start_time": "2020-04-22T03:11:33.173702Z"
    }
   },
   "outputs": [],
   "source": [
    "HOST = \"localhost\"\n",
    "DATABASE = \"postgres\"\n",
    "USER = \"postgres\"\n",
    "PASSWORD = \"rishabh\""
   ]
  },
  {
   "cell_type": "markdown",
   "metadata": {},
   "source": [
    "### Connect to DataBase"
   ]
  },
  {
   "cell_type": "code",
   "execution_count": 3,
   "metadata": {
    "ExecuteTime": {
     "end_time": "2020-04-22T03:11:34.238368Z",
     "start_time": "2020-04-22T03:11:34.216076Z"
    }
   },
   "outputs": [],
   "source": [
    "# connect() ---> creates a new database session and returns a new instance of the connection class\n",
    "conn = psycopg2.connect(host=HOST,database=DATABASE, user=USER, password=PASSWORD)\n",
    "\n",
    "# Open a cursor to perform database operations\n",
    "db_cursor = conn.cursor()\n",
    "\n",
    "# Close communication with the database\n",
    "# db_cursor.close()"
   ]
  },
  {
   "cell_type": "markdown",
   "metadata": {},
   "source": [
    "### Get the list of Tables"
   ]
  },
  {
   "cell_type": "code",
   "execution_count": 4,
   "metadata": {
    "ExecuteTime": {
     "end_time": "2020-04-22T03:11:35.227175Z",
     "start_time": "2020-04-22T03:11:35.224139Z"
    }
   },
   "outputs": [],
   "source": [
    "# # Execute a command: this creates a new table\n",
    "# db_cursor.execute(\n",
    "#     \"SELECT table_schema,table_name FROM information_schema.tables WHERE table_schema = 'public';\")\n",
    "\n",
    "# # retrieve data from the database \n",
    "# list_tables = db_cursor.fetchall()\n",
    "# list_tables"
   ]
  },
  {
   "cell_type": "markdown",
   "metadata": {},
   "source": [
    "### Get the Table"
   ]
  },
  {
   "cell_type": "code",
   "execution_count": 5,
   "metadata": {
    "ExecuteTime": {
     "end_time": "2020-04-22T03:11:36.354765Z",
     "start_time": "2020-04-22T03:11:36.157528Z"
    }
   },
   "outputs": [],
   "source": [
    "# table = db_cursor.execute(\"select * from actor\")\n",
    "table = \"select * from staff\" \n",
    "\n",
    "# Read SQL query or database table into a DataFrame\n",
    "df = pd.read_sql(table,conn)"
   ]
  },
  {
   "cell_type": "code",
   "execution_count": 13,
   "metadata": {
    "ExecuteTime": {
     "end_time": "2020-04-23T10:01:02.002612Z",
     "start_time": "2020-04-23T10:01:00.655253Z"
    },
    "cell_style": "center",
    "scrolled": true
   },
   "outputs": [],
   "source": [
    "df1 = pd.read_excel(\"/home/bluepi/Documents/dashboard_city_view.xlsx\", index_col=0)"
   ]
  },
  {
   "cell_type": "markdown",
   "metadata": {},
   "source": [
    "### Rename the columns"
   ]
  },
  {
   "cell_type": "code",
   "execution_count": 16,
   "metadata": {
    "ExecuteTime": {
     "end_time": "2020-04-23T10:02:17.412759Z",
     "start_time": "2020-04-23T10:02:17.391022Z"
    },
    "cell_style": "center",
    "scrolled": true
   },
   "outputs": [],
   "source": [
    "renamed_columns = {\"order_date\": \"Order Date\",\n",
    "                   \"city\": \"City\", \n",
    "                   \"article\": \"MAT\", \n",
    "                   \"qoh\": \"SIH\",\n",
    "                   \"last_year_same_day_sale\": \"LY-Sales\",\n",
    "                   \"last_week_same_day_sale\": \"LW-Sales\", \n",
    "                   \"d2_sit\": \"D-2-SIT\", \n",
    "                   \"d1_sit\": \"D-1-SIT\",\n",
    "                   \"forecast\": \"Sales Forecast\", \n",
    "                   \"actual_ordering_qty\": \"Sys Suggested Order Qty\", \n",
    "                   \"modified_ordering_qty\": \"Store Order Qty\", \n",
    "                   \"sourcer_modified_ordering_qty\": \"HO Order Qty\", \n",
    "                   \"final_order_qty \": \"Final Order Qty\"\n",
    "                 }\n",
    "\n",
    "df1 = df1.rename(columns=renamed_columns)\n",
    "header_list = list(df1.columns)\n",
    "header_list.extend([\"MDESC\",\"CAT\",\"SUB CAT\",\"MTD Dump%\",\"Order Variation\"])\n",
    "df1 = df1.reindex(columns=header_list)\n"
   ]
  },
  {
   "cell_type": "code",
   "execution_count": 17,
   "metadata": {
    "ExecuteTime": {
     "end_time": "2020-04-23T10:02:19.961121Z",
     "start_time": "2020-04-23T10:02:19.885940Z"
    },
    "scrolled": true
   },
   "outputs": [
    {
     "data": {
      "text/html": [
       "<div>\n",
       "<style scoped>\n",
       "    .dataframe tbody tr th:only-of-type {\n",
       "        vertical-align: middle;\n",
       "    }\n",
       "\n",
       "    .dataframe tbody tr th {\n",
       "        vertical-align: top;\n",
       "    }\n",
       "\n",
       "    .dataframe thead th {\n",
       "        text-align: right;\n",
       "    }\n",
       "</style>\n",
       "<table border=\"1\" class=\"dataframe\">\n",
       "  <thead>\n",
       "    <tr style=\"text-align: right;\">\n",
       "      <th></th>\n",
       "      <th>City</th>\n",
       "      <th>MAT</th>\n",
       "      <th>Order Date</th>\n",
       "      <th>sales_prev</th>\n",
       "      <th>Sys Suggested Order Qty</th>\n",
       "      <th>Store Order Qty</th>\n",
       "      <th>dump_qty</th>\n",
       "      <th>Sales Forecast</th>\n",
       "      <th>LY-Sales</th>\n",
       "      <th>LW-Sales</th>\n",
       "      <th>...</th>\n",
       "      <th>MDESC</th>\n",
       "      <th>CAT</th>\n",
       "      <th>SUB CAT</th>\n",
       "      <th>MTD Dump%</th>\n",
       "      <th>Order Variation</th>\n",
       "      <th>MDESC</th>\n",
       "      <th>CAT</th>\n",
       "      <th>SUB CAT</th>\n",
       "      <th>MTD Dump%</th>\n",
       "      <th>Order Variation</th>\n",
       "    </tr>\n",
       "  </thead>\n",
       "  <tbody>\n",
       "    <tr>\n",
       "      <th>0</th>\n",
       "      <td>AHM</td>\n",
       "      <td>1008699</td>\n",
       "      <td>2020-04-11</td>\n",
       "      <td>215.040</td>\n",
       "      <td>174.768</td>\n",
       "      <td>NaN</td>\n",
       "      <td>-18.256001</td>\n",
       "      <td>196.0</td>\n",
       "      <td>NaN</td>\n",
       "      <td>134.496</td>\n",
       "      <td>...</td>\n",
       "      <td>NaN</td>\n",
       "      <td>NaN</td>\n",
       "      <td>NaN</td>\n",
       "      <td>NaN</td>\n",
       "      <td>NaN</td>\n",
       "      <td>NaN</td>\n",
       "      <td>NaN</td>\n",
       "      <td>NaN</td>\n",
       "      <td>NaN</td>\n",
       "      <td>NaN</td>\n",
       "    </tr>\n",
       "    <tr>\n",
       "      <th>1</th>\n",
       "      <td>AHM</td>\n",
       "      <td>1008699</td>\n",
       "      <td>2020-04-12</td>\n",
       "      <td>241.052</td>\n",
       "      <td>174.016</td>\n",
       "      <td>NaN</td>\n",
       "      <td>-12.780000</td>\n",
       "      <td>236.0</td>\n",
       "      <td>NaN</td>\n",
       "      <td>170.440</td>\n",
       "      <td>...</td>\n",
       "      <td>NaN</td>\n",
       "      <td>NaN</td>\n",
       "      <td>NaN</td>\n",
       "      <td>NaN</td>\n",
       "      <td>NaN</td>\n",
       "      <td>NaN</td>\n",
       "      <td>NaN</td>\n",
       "      <td>NaN</td>\n",
       "      <td>NaN</td>\n",
       "      <td>NaN</td>\n",
       "    </tr>\n",
       "    <tr>\n",
       "      <th>2</th>\n",
       "      <td>AHM</td>\n",
       "      <td>1008699</td>\n",
       "      <td>2020-04-13</td>\n",
       "      <td>183.716</td>\n",
       "      <td>124.084</td>\n",
       "      <td>NaN</td>\n",
       "      <td>-8.000000</td>\n",
       "      <td>162.0</td>\n",
       "      <td>NaN</td>\n",
       "      <td>162.776</td>\n",
       "      <td>...</td>\n",
       "      <td>NaN</td>\n",
       "      <td>NaN</td>\n",
       "      <td>NaN</td>\n",
       "      <td>NaN</td>\n",
       "      <td>NaN</td>\n",
       "      <td>NaN</td>\n",
       "      <td>NaN</td>\n",
       "      <td>NaN</td>\n",
       "      <td>NaN</td>\n",
       "      <td>NaN</td>\n",
       "    </tr>\n",
       "    <tr>\n",
       "      <th>3</th>\n",
       "      <td>AHM</td>\n",
       "      <td>1008699</td>\n",
       "      <td>2020-04-14</td>\n",
       "      <td>182.196</td>\n",
       "      <td>54.000</td>\n",
       "      <td>NaN</td>\n",
       "      <td>-15.280000</td>\n",
       "      <td>146.0</td>\n",
       "      <td>NaN</td>\n",
       "      <td>187.048</td>\n",
       "      <td>...</td>\n",
       "      <td>NaN</td>\n",
       "      <td>NaN</td>\n",
       "      <td>NaN</td>\n",
       "      <td>NaN</td>\n",
       "      <td>NaN</td>\n",
       "      <td>NaN</td>\n",
       "      <td>NaN</td>\n",
       "      <td>NaN</td>\n",
       "      <td>NaN</td>\n",
       "      <td>NaN</td>\n",
       "    </tr>\n",
       "    <tr>\n",
       "      <th>4</th>\n",
       "      <td>AHM</td>\n",
       "      <td>1008699</td>\n",
       "      <td>2020-04-15</td>\n",
       "      <td>224.452</td>\n",
       "      <td>61.888</td>\n",
       "      <td>NaN</td>\n",
       "      <td>-4.800000</td>\n",
       "      <td>158.0</td>\n",
       "      <td>NaN</td>\n",
       "      <td>228.480</td>\n",
       "      <td>...</td>\n",
       "      <td>NaN</td>\n",
       "      <td>NaN</td>\n",
       "      <td>NaN</td>\n",
       "      <td>NaN</td>\n",
       "      <td>NaN</td>\n",
       "      <td>NaN</td>\n",
       "      <td>NaN</td>\n",
       "      <td>NaN</td>\n",
       "      <td>NaN</td>\n",
       "      <td>NaN</td>\n",
       "    </tr>\n",
       "    <tr>\n",
       "      <th>...</th>\n",
       "      <td>...</td>\n",
       "      <td>...</td>\n",
       "      <td>...</td>\n",
       "      <td>...</td>\n",
       "      <td>...</td>\n",
       "      <td>...</td>\n",
       "      <td>...</td>\n",
       "      <td>...</td>\n",
       "      <td>...</td>\n",
       "      <td>...</td>\n",
       "      <td>...</td>\n",
       "      <td>...</td>\n",
       "      <td>...</td>\n",
       "      <td>...</td>\n",
       "      <td>...</td>\n",
       "      <td>...</td>\n",
       "      <td>...</td>\n",
       "      <td>...</td>\n",
       "      <td>...</td>\n",
       "      <td>...</td>\n",
       "      <td>...</td>\n",
       "    </tr>\n",
       "    <tr>\n",
       "      <th>10615</th>\n",
       "      <td>SUR</td>\n",
       "      <td>1336054</td>\n",
       "      <td>2020-04-16</td>\n",
       "      <td>0.000</td>\n",
       "      <td>0.000</td>\n",
       "      <td>NaN</td>\n",
       "      <td>NaN</td>\n",
       "      <td>0.0</td>\n",
       "      <td>NaN</td>\n",
       "      <td>0.000</td>\n",
       "      <td>...</td>\n",
       "      <td>NaN</td>\n",
       "      <td>NaN</td>\n",
       "      <td>NaN</td>\n",
       "      <td>NaN</td>\n",
       "      <td>NaN</td>\n",
       "      <td>NaN</td>\n",
       "      <td>NaN</td>\n",
       "      <td>NaN</td>\n",
       "      <td>NaN</td>\n",
       "      <td>NaN</td>\n",
       "    </tr>\n",
       "    <tr>\n",
       "      <th>10616</th>\n",
       "      <td>SUR</td>\n",
       "      <td>1336054</td>\n",
       "      <td>2020-04-17</td>\n",
       "      <td>0.000</td>\n",
       "      <td>0.000</td>\n",
       "      <td>NaN</td>\n",
       "      <td>NaN</td>\n",
       "      <td>0.0</td>\n",
       "      <td>NaN</td>\n",
       "      <td>0.000</td>\n",
       "      <td>...</td>\n",
       "      <td>NaN</td>\n",
       "      <td>NaN</td>\n",
       "      <td>NaN</td>\n",
       "      <td>NaN</td>\n",
       "      <td>NaN</td>\n",
       "      <td>NaN</td>\n",
       "      <td>NaN</td>\n",
       "      <td>NaN</td>\n",
       "      <td>NaN</td>\n",
       "      <td>NaN</td>\n",
       "    </tr>\n",
       "    <tr>\n",
       "      <th>10617</th>\n",
       "      <td>SUR</td>\n",
       "      <td>1336054</td>\n",
       "      <td>2020-04-18</td>\n",
       "      <td>NaN</td>\n",
       "      <td>0.000</td>\n",
       "      <td>NaN</td>\n",
       "      <td>NaN</td>\n",
       "      <td>0.0</td>\n",
       "      <td>NaN</td>\n",
       "      <td>0.000</td>\n",
       "      <td>...</td>\n",
       "      <td>NaN</td>\n",
       "      <td>NaN</td>\n",
       "      <td>NaN</td>\n",
       "      <td>NaN</td>\n",
       "      <td>NaN</td>\n",
       "      <td>NaN</td>\n",
       "      <td>NaN</td>\n",
       "      <td>NaN</td>\n",
       "      <td>NaN</td>\n",
       "      <td>NaN</td>\n",
       "    </tr>\n",
       "    <tr>\n",
       "      <th>10618</th>\n",
       "      <td>SUR</td>\n",
       "      <td>1336054</td>\n",
       "      <td>2020-04-19</td>\n",
       "      <td>NaN</td>\n",
       "      <td>0.000</td>\n",
       "      <td>NaN</td>\n",
       "      <td>NaN</td>\n",
       "      <td>0.0</td>\n",
       "      <td>NaN</td>\n",
       "      <td>0.000</td>\n",
       "      <td>...</td>\n",
       "      <td>NaN</td>\n",
       "      <td>NaN</td>\n",
       "      <td>NaN</td>\n",
       "      <td>NaN</td>\n",
       "      <td>NaN</td>\n",
       "      <td>NaN</td>\n",
       "      <td>NaN</td>\n",
       "      <td>NaN</td>\n",
       "      <td>NaN</td>\n",
       "      <td>NaN</td>\n",
       "    </tr>\n",
       "    <tr>\n",
       "      <th>10619</th>\n",
       "      <td>SUR</td>\n",
       "      <td>1336054</td>\n",
       "      <td>2020-04-20</td>\n",
       "      <td>NaN</td>\n",
       "      <td>0.000</td>\n",
       "      <td>NaN</td>\n",
       "      <td>NaN</td>\n",
       "      <td>0.0</td>\n",
       "      <td>NaN</td>\n",
       "      <td>0.000</td>\n",
       "      <td>...</td>\n",
       "      <td>NaN</td>\n",
       "      <td>NaN</td>\n",
       "      <td>NaN</td>\n",
       "      <td>NaN</td>\n",
       "      <td>NaN</td>\n",
       "      <td>NaN</td>\n",
       "      <td>NaN</td>\n",
       "      <td>NaN</td>\n",
       "      <td>NaN</td>\n",
       "      <td>NaN</td>\n",
       "    </tr>\n",
       "  </tbody>\n",
       "</table>\n",
       "<p>10620 rows × 26 columns</p>\n",
       "</div>"
      ],
      "text/plain": [
       "      City      MAT Order Date  sales_prev  Sys Suggested Order Qty  \\\n",
       "0      AHM  1008699 2020-04-11     215.040                  174.768   \n",
       "1      AHM  1008699 2020-04-12     241.052                  174.016   \n",
       "2      AHM  1008699 2020-04-13     183.716                  124.084   \n",
       "3      AHM  1008699 2020-04-14     182.196                   54.000   \n",
       "4      AHM  1008699 2020-04-15     224.452                   61.888   \n",
       "...    ...      ...        ...         ...                      ...   \n",
       "10615  SUR  1336054 2020-04-16       0.000                    0.000   \n",
       "10616  SUR  1336054 2020-04-17       0.000                    0.000   \n",
       "10617  SUR  1336054 2020-04-18         NaN                    0.000   \n",
       "10618  SUR  1336054 2020-04-19         NaN                    0.000   \n",
       "10619  SUR  1336054 2020-04-20         NaN                    0.000   \n",
       "\n",
       "       Store Order Qty   dump_qty  Sales Forecast  LY-Sales  LW-Sales  ...  \\\n",
       "0                  NaN -18.256001           196.0       NaN   134.496  ...   \n",
       "1                  NaN -12.780000           236.0       NaN   170.440  ...   \n",
       "2                  NaN  -8.000000           162.0       NaN   162.776  ...   \n",
       "3                  NaN -15.280000           146.0       NaN   187.048  ...   \n",
       "4                  NaN  -4.800000           158.0       NaN   228.480  ...   \n",
       "...                ...        ...             ...       ...       ...  ...   \n",
       "10615              NaN        NaN             0.0       NaN     0.000  ...   \n",
       "10616              NaN        NaN             0.0       NaN     0.000  ...   \n",
       "10617              NaN        NaN             0.0       NaN     0.000  ...   \n",
       "10618              NaN        NaN             0.0       NaN     0.000  ...   \n",
       "10619              NaN        NaN             0.0       NaN     0.000  ...   \n",
       "\n",
       "       MDESC  CAT  SUB CAT  MTD Dump%  Order Variation  MDESC  CAT  SUB CAT  \\\n",
       "0        NaN  NaN      NaN        NaN              NaN    NaN  NaN      NaN   \n",
       "1        NaN  NaN      NaN        NaN              NaN    NaN  NaN      NaN   \n",
       "2        NaN  NaN      NaN        NaN              NaN    NaN  NaN      NaN   \n",
       "3        NaN  NaN      NaN        NaN              NaN    NaN  NaN      NaN   \n",
       "4        NaN  NaN      NaN        NaN              NaN    NaN  NaN      NaN   \n",
       "...      ...  ...      ...        ...              ...    ...  ...      ...   \n",
       "10615    NaN  NaN      NaN        NaN              NaN    NaN  NaN      NaN   \n",
       "10616    NaN  NaN      NaN        NaN              NaN    NaN  NaN      NaN   \n",
       "10617    NaN  NaN      NaN        NaN              NaN    NaN  NaN      NaN   \n",
       "10618    NaN  NaN      NaN        NaN              NaN    NaN  NaN      NaN   \n",
       "10619    NaN  NaN      NaN        NaN              NaN    NaN  NaN      NaN   \n",
       "\n",
       "       MTD Dump%  Order Variation  \n",
       "0            NaN              NaN  \n",
       "1            NaN              NaN  \n",
       "2            NaN              NaN  \n",
       "3            NaN              NaN  \n",
       "4            NaN              NaN  \n",
       "...          ...              ...  \n",
       "10615        NaN              NaN  \n",
       "10616        NaN              NaN  \n",
       "10617        NaN              NaN  \n",
       "10618        NaN              NaN  \n",
       "10619        NaN              NaN  \n",
       "\n",
       "[10620 rows x 26 columns]"
      ]
     },
     "execution_count": 17,
     "metadata": {},
     "output_type": "execute_result"
    }
   ],
   "source": [
    "df1"
   ]
  },
  {
   "cell_type": "markdown",
   "metadata": {},
   "source": [
    "### Write it to EXCEL"
   ]
  },
  {
   "cell_type": "code",
   "execution_count": 8,
   "metadata": {
    "ExecuteTime": {
     "end_time": "2020-04-22T03:11:40.627599Z",
     "start_time": "2020-04-22T03:11:40.513806Z"
    }
   },
   "outputs": [],
   "source": [
    "filename ='staff.xlsx' \n",
    "df.to_excel(filename,header=True)"
   ]
  },
  {
   "cell_type": "markdown",
   "metadata": {},
   "source": [
    "# Mail Connection"
   ]
  },
  {
   "cell_type": "markdown",
   "metadata": {},
   "source": [
    "## Setting up the Mail Address "
   ]
  },
  {
   "cell_type": "markdown",
   "metadata": {},
   "source": [
    "> Instead of turning ON the **Less Secure App Access** option in your google account. \n",
    "> We will follow this procedure.\n",
    "\n",
    "1. First, you need to enable **2-Step Verification** ( Goto **Manage Your Google Account > Security** ) \n",
    "<img src=\"files/w1.png\" width=\"600\" />\n",
    "2. Next, create an app password. Just select **App passwords**\n",
    "    <img src=\"files/w2.png\" width=\"600\" />\n",
    "3. Type the name(any)\n",
    "4. Generate the password\n",
    "5. Use this password inplace of mail password\n",
    "6. Done.\n",
    "\n",
    "\n",
    "\n"
   ]
  },
  {
   "cell_type": "markdown",
   "metadata": {},
   "source": [
    "### Libraries Used"
   ]
  },
  {
   "cell_type": "code",
   "execution_count": 9,
   "metadata": {
    "ExecuteTime": {
     "end_time": "2020-04-21T10:20:41.510405Z",
     "start_time": "2020-04-21T10:20:41.428416Z"
    }
   },
   "outputs": [],
   "source": [
    "import email, smtplib, ssl\n",
    "\n",
    "from email import encoders\n",
    "\n",
    "# This is the base class for all the MIME-specific subclasses of Message\n",
    "from email.mime.base import MIMEBase\n",
    "\n",
    "# A subclass of MIMEBase\n",
    "# It is an intermediate base class for MIME messages that are multipart\n",
    "from email.mime.multipart import MIMEMultipart\n",
    "\n",
    "# MIMEText is used to create MIME objects of major_type : text\n",
    "from email.mime.text import MIMEText\n",
    "\n",
    "port = 465  # For SSL"
   ]
  },
  {
   "cell_type": "markdown",
   "metadata": {},
   "source": [
    "### Connection Parameters"
   ]
  },
  {
   "cell_type": "code",
   "execution_count": 9,
   "metadata": {
    "ExecuteTime": {
     "end_time": "2020-04-22T03:11:48.409632Z",
     "start_time": "2020-04-22T03:11:48.404892Z"
    }
   },
   "outputs": [],
   "source": [
    "sender_email = \"test.mail.bluepi@gmail.com\"\n",
    "receiver_email = \"rishabh@bluepi.in\"\n",
    "\n",
    "subject = \"An email with attachment from Python\"\n",
    "body = \"This is an email with attachment sent from Python\"\n",
    "\n",
    "password = \"wfsgwvsegjnukxzt\"\n",
    "# input(\"Type your password and press enter: \")"
   ]
  },
  {
   "cell_type": "markdown",
   "metadata": {},
   "source": [
    "### Send the Email"
   ]
  },
  {
   "cell_type": "code",
   "execution_count": 10,
   "metadata": {
    "ExecuteTime": {
     "end_time": "2020-04-22T03:11:49.960027Z",
     "start_time": "2020-04-22T03:11:49.810364Z"
    }
   },
   "outputs": [
    {
     "ename": "NameError",
     "evalue": "name 'MIMEMultipart' is not defined",
     "output_type": "error",
     "traceback": [
      "\u001b[0;31m---------------------------------------------------------------------\u001b[0m",
      "\u001b[0;31mNameError\u001b[0m                           Traceback (most recent call last)",
      "\u001b[0;32m<ipython-input-10-b6430f4e5b8b>\u001b[0m in \u001b[0;36m<module>\u001b[0;34m\u001b[0m\n\u001b[1;32m      1\u001b[0m \u001b[0;31m# Create a multipart message and set headers\u001b[0m\u001b[0;34m\u001b[0m\u001b[0;34m\u001b[0m\u001b[0;34m\u001b[0m\u001b[0m\n\u001b[0;32m----> 2\u001b[0;31m \u001b[0mmessage\u001b[0m \u001b[0;34m=\u001b[0m \u001b[0mMIMEMultipart\u001b[0m\u001b[0;34m(\u001b[0m\u001b[0;34m)\u001b[0m\u001b[0;34m\u001b[0m\u001b[0;34m\u001b[0m\u001b[0m\n\u001b[0m\u001b[1;32m      3\u001b[0m \u001b[0mmessage\u001b[0m\u001b[0;34m[\u001b[0m\u001b[0;34m\"From\"\u001b[0m\u001b[0;34m]\u001b[0m \u001b[0;34m=\u001b[0m \u001b[0msender_email\u001b[0m\u001b[0;34m\u001b[0m\u001b[0;34m\u001b[0m\u001b[0m\n\u001b[1;32m      4\u001b[0m \u001b[0mmessage\u001b[0m\u001b[0;34m[\u001b[0m\u001b[0;34m\"To\"\u001b[0m\u001b[0;34m]\u001b[0m \u001b[0;34m=\u001b[0m \u001b[0mreceiver_email\u001b[0m\u001b[0;34m\u001b[0m\u001b[0;34m\u001b[0m\u001b[0m\n\u001b[1;32m      5\u001b[0m \u001b[0mmessage\u001b[0m\u001b[0;34m[\u001b[0m\u001b[0;34m\"Subject\"\u001b[0m\u001b[0;34m]\u001b[0m \u001b[0;34m=\u001b[0m \u001b[0msubject\u001b[0m\u001b[0;34m\u001b[0m\u001b[0;34m\u001b[0m\u001b[0m\n",
      "\u001b[0;31mNameError\u001b[0m: name 'MIMEMultipart' is not defined"
     ]
    }
   ],
   "source": [
    "# Create a multipart message and set headers\n",
    "message = MIMEMultipart()\n",
    "message[\"From\"] = sender_email\n",
    "message[\"To\"] = receiver_email\n",
    "message[\"Subject\"] = subject\n",
    "# message[\"Bcc\"] = receiver_email\n",
    "\n",
    "# Add body to email\n",
    "message.attach(MIMEText(body, \"plain\"))\n",
    "\n",
    "# filename = list_tables[0][1] + '.xlsx'  # In same directory as script\n",
    "\n",
    "# Open CSV file in binary mode\n",
    "with open(filename, \"rb\") as attachment:\n",
    "# Add file as application/octet-stream\n",
    "# Email client can usually download this automatically as attachment\n",
    "    part = MIMEBase(\"application\", \"octet-stream\")\n",
    "    part.set_payload(attachment.read())\n",
    "\n",
    "# Encode file in ASCII characters to send by email    \n",
    "encoders.encode_base64(part)\n",
    "\n",
    "# Add header as key/value pair to attachment part\n",
    "part.add_header(\n",
    "    \"Content-Disposition\",\n",
    "    f\"attachment; filename= {filename}\",\n",
    ")\n",
    "\n",
    "# Add attachment to message and convert message to string\n",
    "message.attach(part)\n",
    "text = message.as_string()\n",
    "\n",
    "# Create a secure SSL context\n",
    "context = ssl.create_default_context()\n",
    "with smtplib.SMTP_SSL(\"smtp.gmail.com\", port, context=context) as server:\n",
    "    server.login(sender_email, password)\n",
    "    server.sendmail(sender_email, receiver_email, text)\n"
   ]
  },
  {
   "cell_type": "code",
   "execution_count": null,
   "metadata": {},
   "outputs": [],
   "source": []
  }
 ],
 "metadata": {
  "hide_input": false,
  "kernelspec": {
   "display_name": "Python 3",
   "language": "python",
   "name": "python3"
  },
  "language_info": {
   "codemirror_mode": {
    "name": "ipython",
    "version": 3
   },
   "file_extension": ".py",
   "mimetype": "text/x-python",
   "name": "python",
   "nbconvert_exporter": "python",
   "pygments_lexer": "ipython3",
   "version": "3.7.7"
  },
  "toc": {
   "base_numbering": 1,
   "nav_menu": {},
   "number_sections": true,
   "sideBar": true,
   "skip_h1_title": false,
   "title_cell": "Table of Contents",
   "title_sidebar": "Contents",
   "toc_cell": false,
   "toc_position": {},
   "toc_section_display": true,
   "toc_window_display": false
  },
  "varInspector": {
   "cols": {
    "lenName": 16,
    "lenType": 16,
    "lenVar": 40
   },
   "kernels_config": {
    "python": {
     "delete_cmd_postfix": "",
     "delete_cmd_prefix": "del ",
     "library": "var_list.py",
     "varRefreshCmd": "print(var_dic_list())"
    },
    "r": {
     "delete_cmd_postfix": ") ",
     "delete_cmd_prefix": "rm(",
     "library": "var_list.r",
     "varRefreshCmd": "cat(var_dic_list()) "
    }
   },
   "types_to_exclude": [
    "module",
    "function",
    "builtin_function_or_method",
    "instance",
    "_Feature"
   ],
   "window_display": false
  }
 },
 "nbformat": 4,
 "nbformat_minor": 4
}
