{
 "cells": [
  {
   "cell_type": "code",
   "execution_count": 1,
   "metadata": {
    "ExecuteTime": {
     "end_time": "2020-03-25T18:59:17.019881Z",
     "start_time": "2020-03-25T18:59:17.013805Z"
    }
   },
   "outputs": [],
   "source": [
    "import datetime\n",
    "\n",
    "# Main entry point for DataFrame and SQL functionality.\n",
    "from pyspark.sql import SparkSession"
   ]
  },
  {
   "cell_type": "code",
   "execution_count": 2,
   "metadata": {
    "ExecuteTime": {
     "end_time": "2020-03-25T18:59:17.031011Z",
     "start_time": "2020-03-25T18:59:17.023068Z"
    }
   },
   "outputs": [],
   "source": [
    "# Start SPARK Session\n",
    "spark = SparkSession.builder.appName('Basics').getOrCreate()"
   ]
  },
  {
   "cell_type": "code",
   "execution_count": 3,
   "metadata": {
    "ExecuteTime": {
     "end_time": "2020-03-25T18:59:17.037571Z",
     "start_time": "2020-03-25T18:59:17.033996Z"
    }
   },
   "outputs": [],
   "source": [
    "# import pandas as pd\n",
    "\n",
    "# # import data\n",
    "# data = pd.read_csv(\"/home/bluepi/Downloads/Update/product_info/main table/product_info.csv\")\n",
    "\n",
    "# # convert day column type to datetime\n",
    "# data['day'] = pd.to_datetime( data['day'], infer_datetime_format=True, yearfirst=True)\n",
    "\n",
    "# # create new column\n",
    "# data['date_timestamp'] = pd.to_datetime(data.day.astype(str) + ' ' + data.time)\n",
    "\n",
    "# # Drop old columns\n",
    "# data.drop(['day','time'],inplace=True,axis=1)\n",
    "\n",
    "# # Write to csv\n",
    "# data.to_csv(\"/home/bluepi/Downloads/Update/Updated Product/Latest Product/main table.csv\", index=False)"
   ]
  },
  {
   "cell_type": "code",
   "execution_count": 4,
   "metadata": {
    "ExecuteTime": {
     "end_time": "2020-03-25T18:59:21.767486Z",
     "start_time": "2020-03-25T18:59:17.039888Z"
    }
   },
   "outputs": [],
   "source": [
    "mainTable = spark.read.format('csv').options(\n",
    "    header=True, inferschema=True).load(\n",
    "        \"/home/bluepi/Downloads/Update/product_info/main table/main table.csv\")"
   ]
  },
  {
   "cell_type": "code",
   "execution_count": 5,
   "metadata": {
    "ExecuteTime": {
     "end_time": "2020-03-25T18:59:21.816647Z",
     "start_time": "2020-03-25T18:59:21.772177Z"
    },
    "scrolled": true
   },
   "outputs": [
    {
     "name": "stdout",
     "output_type": "stream",
     "text": [
      "root\n",
      " |-- p_id: integer (nullable = true)\n",
      " |-- p_name: string (nullable = true)\n",
      " |-- price: integer (nullable = true)\n",
      " |-- date_timestamp: timestamp (nullable = true)\n",
      "\n"
     ]
    }
   ],
   "source": [
    "mainTable.printSchema()"
   ]
  },
  {
   "cell_type": "code",
   "execution_count": 6,
   "metadata": {
    "ExecuteTime": {
     "end_time": "2020-03-25T18:59:22.360897Z",
     "start_time": "2020-03-25T18:59:21.819093Z"
    },
    "scrolled": true
   },
   "outputs": [
    {
     "name": "stdout",
     "output_type": "stream",
     "text": [
      "+----+-----+---------+----+------+------+\n",
      "|Year|Month|DayOfYear|Hour|Minute|Second|\n",
      "+----+-----+---------+----+------+------+\n",
      "|2020|    5|      123|   8|     6|    42|\n",
      "|2020|    2|       33|   8|     2|    22|\n",
      "|2020|    2|       59|   7|    58|     8|\n",
      "+----+-----+---------+----+------+------+\n",
      "only showing top 3 rows\n",
      "\n"
     ]
    }
   ],
   "source": [
    "from pyspark.sql.functions import year, month, dayofyear, hour, minute, second\n",
    "\n",
    "mainTable.select([year(mainTable['date_timestamp']).alias(\"Year\"),\n",
    "                  month(mainTable['date_timestamp']).alias(\"Month\"),\n",
    "                  dayofyear(mainTable['date_timestamp']).alias(\"DayOfYear\"),\n",
    "                  hour(mainTable['date_timestamp']).alias(\"Hour\"),\n",
    "                  minute(mainTable['date_timestamp']).alias(\"Minute\"),\n",
    "                  second(mainTable['date_timestamp']).alias(\"Second\")]).show(3)"
   ]
  },
  {
   "cell_type": "code",
   "execution_count": 7,
   "metadata": {
    "ExecuteTime": {
     "end_time": "2020-03-25T18:59:22.750366Z",
     "start_time": "2020-03-25T18:59:22.366585Z"
    }
   },
   "outputs": [
    {
     "name": "stdout",
     "output_type": "stream",
     "text": [
      "+-------------------+\n",
      "|     date_timestamp|\n",
      "+-------------------+\n",
      "|2020-01-02 01:25:16|\n",
      "|2020-01-02 05:05:59|\n",
      "+-------------------+\n",
      "only showing top 2 rows\n",
      "\n"
     ]
    }
   ],
   "source": [
    "mainTable.select('date_timestamp').orderBy(mainTable.date_timestamp.asc()).show(2)"
   ]
  },
  {
   "cell_type": "code",
   "execution_count": 8,
   "metadata": {
    "ExecuteTime": {
     "end_time": "2020-03-25T18:59:23.375320Z",
     "start_time": "2020-03-25T18:59:22.755358Z"
    }
   },
   "outputs": [],
   "source": [
    "# Address to the product_info folder\n",
    "address = \"/home/bluepi/Downloads/Update/product_info/\"\n",
    "previous_day = (datetime.datetime.today() - datetime.timedelta(days=8)).strftime('%d-%m-%Y')\n",
    "\n",
    "# Address to the Previous Day folder\n",
    "new_address = address + previous_day\n",
    "\n",
    "# Read the Previous Day folder\n",
    "per_day_data = spark.read.format('csv') \\\n",
    "          .options( header=True, inferschema=True ) \\\n",
    "          .load(new_address)"
   ]
  },
  {
   "cell_type": "code",
   "execution_count": 33,
   "metadata": {
    "ExecuteTime": {
     "end_time": "2020-03-25T20:05:24.802801Z",
     "start_time": "2020-03-25T20:05:24.631370Z"
    }
   },
   "outputs": [
    {
     "name": "stdout",
     "output_type": "stream",
     "text": [
      "+----+----------+-----+-------------------+-----------+\n",
      "|p_id|    p_name|price|     Date_timestamp|record_type|\n",
      "+----+----------+-----+-------------------+-----------+\n",
      "|  70|  Aerified| 1149|2020-03-18 00:56:32|          D|\n",
      "| 248|Y-Solowarm| 1829|2020-03-18 01:00:27|          I|\n",
      "| 220|    Keylex| 1516|2020-03-18 01:16:02|          I|\n",
      "| 155|Trippledex|  535|2020-03-18 01:17:27|          U|\n",
      "| 179|   Pannier| 1673|2020-03-18 01:30:18|          D|\n",
      "+----+----------+-----+-------------------+-----------+\n",
      "only showing top 5 rows\n",
      "\n"
     ]
    }
   ],
   "source": [
    "# per_day_data.show(3)\n",
    "per_day_data.orderBy(per_day_data.Date_timestamp.asc()).show(5)\n",
    "# per_day_data.printSchema()"
   ]
  },
  {
   "cell_type": "code",
   "execution_count": 10,
   "metadata": {
    "ExecuteTime": {
     "end_time": "2020-03-25T18:59:23.776675Z",
     "start_time": "2020-03-25T18:59:23.766567Z"
    }
   },
   "outputs": [],
   "source": [
    "# # Create the schema\n",
    "# from pyspark.sql.types import *\n",
    "\n",
    "# schema = StructType([StructField(\"p_id\", IntegerType(), True),\n",
    "#                      StructField(\"p_name\", StringType(), True),\n",
    "#                      StructField(\"price\", IntegerType(), True),\n",
    "#                      StructField(\"Date_timestamp\", TimestampType() , True),\n",
    "#                      StructField(\"record_type\", StringType(), True)\n",
    "#                      ])\n",
    "# # Create latest proct table\n",
    "# # Initially it is empty no updates\n",
    "# Latest_Product_Table = spark.createDataFrame([], schema)"
   ]
  },
  {
   "cell_type": "code",
   "execution_count": 63,
   "metadata": {
    "ExecuteTime": {
     "end_time": "2020-03-25T20:44:10.533667Z",
     "start_time": "2020-03-25T20:44:10.290255Z"
    }
   },
   "outputs": [
    {
     "name": "stdout",
     "output_type": "stream",
     "text": [
      "+----+--------------+----+--------------+\n",
      "|p_id|date_timestamp|p_id|date_timestamp|\n",
      "+----+--------------+----+--------------+\n",
      "+----+--------------+----+--------------+\n",
      "\n"
     ]
    }
   ],
   "source": [
    "# Directly append new Inserted products\n",
    "from pyspark.sql.functions import *\n",
    "per_day_data_1 = per_day_data.filter(\n",
    "    per_day_data.record_type == 'I').select(['p_id', 'date_timestamp'])\n",
    "\n",
    "ppd_1 = per_day_data_1.alias('ppd_1')\n",
    "ppd_2 = per_day_data_1.alias('ppd_2')\n",
    "\n",
    "per_day_data_2 = ppd_1.join(\n",
    "    ppd_2, ppd_1.p_id == ppd_2.p_id, 'inner').filter(ppd_1.date_timestamp > ppd_2.date_timestamp)\n",
    "\n",
    "per_day_data_2.show()\n",
    "# per_day_data_2 = per_day_data_1.select(\n",
    "#     ['p_id', 'p_name', 'price', 'Date_timestamp'])\n",
    "# mainTable_1 = mainTable.union(per_day_data_2)\n",
    "\n",
    "# # mainTable_1.count()"
   ]
  },
  {
   "cell_type": "code",
   "execution_count": 45,
   "metadata": {
    "ExecuteTime": {
     "end_time": "2020-03-25T20:30:42.151328Z",
     "start_time": "2020-03-25T20:30:42.042512Z"
    }
   },
   "outputs": [],
   "source": [
    "# Drop deleted products\n",
    "\n",
    "# Registers this DataFrame as a temporary table using the given name\n",
    "mainTable_1.registerTempTable(\"table_main\")\n",
    "per_day_data.registerTempTable(\"table_day\")\n",
    "\n",
    "mainTable_2 = spark.sql(\n",
    "    \"select * from table_main where p_id not in ( select p_id from table_day where record_type = 'D' )\")\n",
    "\n",
    "# mainTable_2.count()"
   ]
  },
  {
   "cell_type": "code",
   "execution_count": 25,
   "metadata": {
    "ExecuteTime": {
     "end_time": "2020-03-25T19:46:22.670782Z",
     "start_time": "2020-03-25T19:46:21.108652Z"
    }
   },
   "outputs": [
    {
     "name": "stdout",
     "output_type": "stream",
     "text": [
      "+--------------------+\n",
      "|count(DISTINCT p_id)|\n",
      "+--------------------+\n",
      "|                 206|\n",
      "+--------------------+\n",
      "\n"
     ]
    }
   ],
   "source": [
    "# update products\n",
    "from pyspark.sql.functions import *\n",
    "mainTable_2.select( countDistinct(mainTable_2.p_id) ).show()"
   ]
  },
  {
   "cell_type": "code",
   "execution_count": 32,
   "metadata": {
    "ExecuteTime": {
     "end_time": "2020-03-25T20:00:34.094014Z",
     "start_time": "2020-03-25T20:00:33.084834Z"
    }
   },
   "outputs": [
    {
     "name": "stdout",
     "output_type": "stream",
     "text": [
      "+----+-----+\n",
      "|p_id|count|\n",
      "+----+-----+\n",
      "| 206|    2|\n",
      "| 220|    2|\n",
      "+----+-----+\n",
      "\n"
     ]
    }
   ],
   "source": [
    "mainTable_2.select('p_id').groupBy(\"p_id\").count().filter( \"count > 1\" ).show()"
   ]
  }
 ],
 "metadata": {
  "kernelspec": {
   "display_name": "Python 3",
   "language": "python",
   "name": "python3"
  },
  "language_info": {
   "codemirror_mode": {
    "name": "ipython",
    "version": 3
   },
   "file_extension": ".py",
   "mimetype": "text/x-python",
   "name": "python",
   "nbconvert_exporter": "python",
   "pygments_lexer": "ipython3",
   "version": "3.7.7"
  },
  "varInspector": {
   "cols": {
    "lenName": 16,
    "lenType": 16,
    "lenVar": 40
   },
   "kernels_config": {
    "python": {
     "delete_cmd_postfix": "",
     "delete_cmd_prefix": "del ",
     "library": "var_list.py",
     "varRefreshCmd": "print(var_dic_list())"
    },
    "r": {
     "delete_cmd_postfix": ") ",
     "delete_cmd_prefix": "rm(",
     "library": "var_list.r",
     "varRefreshCmd": "cat(var_dic_list()) "
    }
   },
   "types_to_exclude": [
    "module",
    "function",
    "builtin_function_or_method",
    "instance",
    "_Feature"
   ],
   "window_display": false
  }
 },
 "nbformat": 4,
 "nbformat_minor": 2
}
