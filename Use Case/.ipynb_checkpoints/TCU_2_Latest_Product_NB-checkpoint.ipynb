{
 "cells": [
  {
   "cell_type": "markdown",
   "metadata": {},
   "source": [
    "## Libraries Used"
   ]
  },
  {
   "cell_type": "code",
   "execution_count": 1,
   "metadata": {
    "ExecuteTime": {
     "end_time": "2020-04-07T15:51:49.233631Z",
     "start_time": "2020-04-07T15:51:49.202260Z"
    }
   },
   "outputs": [],
   "source": [
    "import datetime\n",
    "\n",
    "# Main entry point for DataFrame and SQL functionality.\n",
    "from pyspark.sql import SparkSession\n",
    "# Start SPARK Session\n",
    "spark = SparkSession.builder.appName('Basics').getOrCreate()\n",
    "\n",
    "from pyspark.sql.functions import *\n"
   ]
  },
  {
   "cell_type": "markdown",
   "metadata": {},
   "source": [
    "### Read the Main Table"
   ]
  },
  {
   "cell_type": "code",
   "execution_count": 2,
   "metadata": {
    "ExecuteTime": {
     "end_time": "2020-04-07T15:51:53.260201Z",
     "start_time": "2020-04-07T15:51:49.235573Z"
    },
    "scrolled": true
   },
   "outputs": [
    {
     "name": "stdout",
     "output_type": "stream",
     "text": [
      "root\n",
      " |-- p_id: integer (nullable = true)\n",
      " |-- p_name: string (nullable = true)\n",
      " |-- price: integer (nullable = true)\n",
      " |-- date_timestamp: timestamp (nullable = true)\n",
      "\n"
     ]
    }
   ],
   "source": [
    "mainTable = spark.read.format('csv').options(\n",
    "    header=True, inferschema=True).load(\n",
    "        \"/home/bluepi/Downloads/Update/product_info/main table/main table.csv\")\n",
    "\n",
    "# Main Table Schema\n",
    "mainTable.printSchema()"
   ]
  },
  {
   "cell_type": "markdown",
   "metadata": {},
   "source": [
    "### New Main Table with added columns"
   ]
  },
  {
   "cell_type": "code",
   "execution_count": 3,
   "metadata": {
    "ExecuteTime": {
     "end_time": "2020-04-07T15:51:53.341026Z",
     "start_time": "2020-04-07T15:51:53.262532Z"
    },
    "scrolled": false
   },
   "outputs": [
    {
     "name": "stdout",
     "output_type": "stream",
     "text": [
      "root\n",
      " |-- p_id: integer (nullable = true)\n",
      " |-- p_name: string (nullable = true)\n",
      " |-- price: integer (nullable = true)\n",
      " |-- date_timestamp: timestamp (nullable = true)\n",
      " |-- record_type: string (nullable = false)\n",
      "\n"
     ]
    }
   ],
   "source": [
    "from pyspark.sql.functions import year, month, dayofyear, hour, minute, second\n",
    "\n",
    "# Add record type to main table\n",
    "mainTable_new = mainTable.withColumn('record_type',lit(\"A\"))\n",
    "\n",
    "# mainTable_new = mainTable_new.select(['p_id', 'p_name', 'price', 'date_timestamp','record_type',\n",
    "#                               year(mainTable['date_timestamp']).alias(\"Year\"),\n",
    "#                               month(mainTable['date_timestamp']).alias(\"Month\"),\n",
    "#                               dayofyear(mainTable['date_timestamp']).alias(\"DayOfYear\"),\n",
    "#                               hour(mainTable['date_timestamp']).alias(\"Hour\"),\n",
    "#                               minute(mainTable['date_timestamp']).alias(\"Minute\"),\n",
    "#                               second(mainTable['date_timestamp']).alias(\"Second\")])\n",
    "mainTable_new.printSchema()"
   ]
  },
  {
   "cell_type": "markdown",
   "metadata": {},
   "source": [
    "### Read the Previous Day Folders"
   ]
  },
  {
   "cell_type": "code",
   "execution_count": 4,
   "metadata": {
    "ExecuteTime": {
     "end_time": "2020-04-07T15:51:53.861519Z",
     "start_time": "2020-04-07T15:51:53.355167Z"
    }
   },
   "outputs": [
    {
     "name": "stdout",
     "output_type": "stream",
     "text": [
      "Previous Date ---->05-04-2020\n",
      "\n",
      "New Address to read the folder ---->/home/bluepi/Downloads/Update/product_info/05-04-2020\n"
     ]
    }
   ],
   "source": [
    "# Address to the product_info folder\n",
    "address = \"/home/bluepi/Downloads/Update/product_info/\"\n",
    "previous_day = (datetime.datetime.today() - datetime.timedelta(days=2)).strftime('%d-%m-%Y')\n",
    "print(\"Previous Date ---->\"+previous_day)\n",
    "\n",
    "# Address to the Previous Day folder\n",
    "new_address = address + previous_day\n",
    "print(\"\\nNew Address to read the folder ---->\"+new_address)\n",
    "\n",
    "# Read the Previous Day folder\n",
    "per_day_data = spark.read.format('csv') \\\n",
    "          .options( header=True, inferschema=True ) \\\n",
    "          .load(new_address)"
   ]
  },
  {
   "cell_type": "code",
   "execution_count": 5,
   "metadata": {
    "ExecuteTime": {
     "end_time": "2020-04-07T15:51:54.289629Z",
     "start_time": "2020-04-07T15:51:53.863067Z"
    }
   },
   "outputs": [
    {
     "name": "stdout",
     "output_type": "stream",
     "text": [
      "+----+-----------+-----+-------------------+-----------+\n",
      "|p_id|     p_name|price|     date_timestamp|record_type|\n",
      "+----+-----------+-----+-------------------+-----------+\n",
      "| 192| Stronghold|  730|2020-04-04 03:22:13|          U|\n",
      "| 244|  Daltfresh|  169|2020-04-04 03:24:04|          I|\n",
      "| 171|     Zathin|  700|2020-04-04 03:29:18|          U|\n",
      "| 193|   Treeflex|  556|2020-04-04 03:30:19|          U|\n",
      "|   1|        Job|  307|2020-04-04 03:45:40|          U|\n",
      "|  40|   Treeflex| 1359|2020-04-04 03:49:39|          U|\n",
      "| 232|     Latlux| 1316|2020-04-04 03:54:29|          I|\n",
      "| 233|     Tresom| 1690|2020-04-04 03:56:43|          I|\n",
      "| 153|        Job|  366|2020-04-04 09:13:15|          U|\n",
      "|  52|   Flowdesk|  737|2020-04-04 09:13:57|          U|\n",
      "| 235|    Sonsing|  583|2020-04-04 09:14:01|          I|\n",
      "|  82|     Bamity|  322|2020-04-04 09:16:26|          U|\n",
      "|   1|        Job| 1360|2020-04-04 09:22:27|          U|\n",
      "| 163|    Redhold| 1346|2020-04-04 09:37:17|          U|\n",
      "|  42|   Alphazap|  940|2020-04-04 09:45:40|          U|\n",
      "|  64|    Flexidy|  870|2020-04-04 09:50:17|          U|\n",
      "| 233|     Tresom| 1690|2020-04-04 09:53:46|          I|\n",
      "| 177|   Bytecard| 1688|2020-04-04 10:00:02|          D|\n",
      "| 178|   Home Ing|  219|2020-04-04 15:26:12|          D|\n",
      "|  18|     Lotlux|  888|2020-04-04 15:36:23|          U|\n",
      "| 141|  Lotstring|  273|2020-04-04 15:38:11|          D|\n",
      "| 249|    Andalax| 1857|2020-04-04 15:41:36|          I|\n",
      "| 244|  Daltfresh|  169|2020-04-04 15:47:31|          I|\n",
      "| 156|     Namfix|  762|2020-04-04 15:49:23|          U|\n",
      "| 233|     Tresom| 1690|2020-04-04 15:51:21|          I|\n",
      "| 176|     Sonair|  318|2020-04-04 21:11:56|          U|\n",
      "| 219|      Zamit|  833|2020-04-04 21:12:18|          I|\n",
      "| 182|Ventosanzap|  197|2020-04-04 21:13:23|          U|\n",
      "| 113|     Zathin| 1260|2020-04-04 21:22:06|          U|\n",
      "|  86|   Alphazap|  701|2020-04-04 21:35:09|          D|\n",
      "| 164|      Alpha|  218|2020-04-04 21:37:11|          D|\n",
      "|  38|  Gembucket|    6|2020-04-04 21:41:47|          U|\n",
      "| 121|      Opela|  334|2020-04-04 21:44:42|          U|\n",
      "| 129|    Bitwolf| 1475|2020-04-04 21:45:47|          U|\n",
      "| 244|  Daltfresh|  169|2020-04-04 21:47:38|          I|\n",
      "| 100|Stringtough|  826|2020-04-04 21:57:18|          U|\n",
      "| 203|   Transcof| 1701|2020-04-04 21:58:59|          I|\n",
      "| 125|     Bigtax|  111|2020-04-04 21:59:39|          D|\n",
      "+----+-----------+-----+-------------------+-----------+\n",
      "\n"
     ]
    }
   ],
   "source": [
    "# per_day_data.show(3)\n",
    "per_day_data.orderBy(per_day_data.date_timestamp.asc()).show(60)\n",
    "# per_day_data.printSchema()"
   ]
  },
  {
   "cell_type": "markdown",
   "metadata": {},
   "source": [
    "### Added new columns"
   ]
  },
  {
   "cell_type": "code",
   "execution_count": 6,
   "metadata": {
    "ExecuteTime": {
     "end_time": "2020-04-07T15:51:54.301857Z",
     "start_time": "2020-04-07T15:51:54.291305Z"
    },
    "scrolled": false
   },
   "outputs": [
    {
     "name": "stdout",
     "output_type": "stream",
     "text": [
      "root\n",
      " |-- p_id: integer (nullable = true)\n",
      " |-- p_name: string (nullable = true)\n",
      " |-- price: integer (nullable = true)\n",
      " |-- date_timestamp: timestamp (nullable = true)\n",
      " |-- record_type: string (nullable = true)\n",
      "\n"
     ]
    }
   ],
   "source": [
    "# per_day_data_new = per_day_data.select(['p_id', 'p_name', 'price', 'date_timestamp','record_type',\n",
    "#                               year(per_day_data['date_timestamp']).alias(\"Year\"),\n",
    "#                               month(per_day_data['date_timestamp']).alias(\"Month\"),\n",
    "#                               dayofyear(per_day_data['date_timestamp']).alias(\"DayOfYear\"),\n",
    "#                               hour(per_day_data['date_timestamp']).alias(\"Hour\"),\n",
    "#                               minute(per_day_data['date_timestamp']).alias(\"Minute\"),\n",
    "#                               second(per_day_data['date_timestamp']).alias(\"Second\")])\n",
    "\n",
    "per_day_data.printSchema()"
   ]
  },
  {
   "cell_type": "code",
   "execution_count": 7,
   "metadata": {
    "ExecuteTime": {
     "end_time": "2020-04-07T15:51:54.548401Z",
     "start_time": "2020-04-07T15:51:54.304844Z"
    },
    "scrolled": true
   },
   "outputs": [
    {
     "name": "stdout",
     "output_type": "stream",
     "text": [
      "+----+-----------+-----+-------------------+-----------+\n",
      "|p_id|     p_name|price|     date_timestamp|record_type|\n",
      "+----+-----------+-----+-------------------+-----------+\n",
      "| 192| Stronghold|  730|2020-04-04 03:22:13|          U|\n",
      "| 244|  Daltfresh|  169|2020-04-04 03:24:04|          I|\n",
      "| 171|     Zathin|  700|2020-04-04 03:29:18|          U|\n",
      "| 193|   Treeflex|  556|2020-04-04 03:30:19|          U|\n",
      "|   1|        Job|  307|2020-04-04 03:45:40|          U|\n",
      "|  40|   Treeflex| 1359|2020-04-04 03:49:39|          U|\n",
      "| 232|     Latlux| 1316|2020-04-04 03:54:29|          I|\n",
      "| 233|     Tresom| 1690|2020-04-04 03:56:43|          I|\n",
      "| 153|        Job|  366|2020-04-04 09:13:15|          U|\n",
      "|  52|   Flowdesk|  737|2020-04-04 09:13:57|          U|\n",
      "| 235|    Sonsing|  583|2020-04-04 09:14:01|          I|\n",
      "|  82|     Bamity|  322|2020-04-04 09:16:26|          U|\n",
      "|   1|        Job| 1360|2020-04-04 09:22:27|          U|\n",
      "| 163|    Redhold| 1346|2020-04-04 09:37:17|          U|\n",
      "|  42|   Alphazap|  940|2020-04-04 09:45:40|          U|\n",
      "|  64|    Flexidy|  870|2020-04-04 09:50:17|          U|\n",
      "| 233|     Tresom| 1690|2020-04-04 09:53:46|          I|\n",
      "| 177|   Bytecard| 1688|2020-04-04 10:00:02|          D|\n",
      "| 178|   Home Ing|  219|2020-04-04 15:26:12|          D|\n",
      "|  18|     Lotlux|  888|2020-04-04 15:36:23|          U|\n",
      "| 141|  Lotstring|  273|2020-04-04 15:38:11|          D|\n",
      "| 249|    Andalax| 1857|2020-04-04 15:41:36|          I|\n",
      "| 244|  Daltfresh|  169|2020-04-04 15:47:31|          I|\n",
      "| 156|     Namfix|  762|2020-04-04 15:49:23|          U|\n",
      "| 233|     Tresom| 1690|2020-04-04 15:51:21|          I|\n",
      "| 176|     Sonair|  318|2020-04-04 21:11:56|          U|\n",
      "| 219|      Zamit|  833|2020-04-04 21:12:18|          I|\n",
      "| 182|Ventosanzap|  197|2020-04-04 21:13:23|          U|\n",
      "| 113|     Zathin| 1260|2020-04-04 21:22:06|          U|\n",
      "|  86|   Alphazap|  701|2020-04-04 21:35:09|          D|\n",
      "| 164|      Alpha|  218|2020-04-04 21:37:11|          D|\n",
      "|  38|  Gembucket|    6|2020-04-04 21:41:47|          U|\n",
      "| 121|      Opela|  334|2020-04-04 21:44:42|          U|\n",
      "| 129|    Bitwolf| 1475|2020-04-04 21:45:47|          U|\n",
      "| 244|  Daltfresh|  169|2020-04-04 21:47:38|          I|\n",
      "| 100|Stringtough|  826|2020-04-04 21:57:18|          U|\n",
      "| 203|   Transcof| 1701|2020-04-04 21:58:59|          I|\n",
      "| 125|     Bigtax|  111|2020-04-04 21:59:39|          D|\n",
      "+----+-----------+-----+-------------------+-----------+\n",
      "\n"
     ]
    }
   ],
   "source": [
    "per_day_data.orderBy(per_day_data.date_timestamp.asc()).show(60)"
   ]
  },
  {
   "cell_type": "markdown",
   "metadata": {},
   "source": [
    "### Directly append new Inserted products"
   ]
  },
  {
   "cell_type": "code",
   "execution_count": 8,
   "metadata": {
    "ExecuteTime": {
     "end_time": "2020-04-07T15:51:55.149751Z",
     "start_time": "2020-04-07T15:51:54.551292Z"
    },
    "scrolled": false
   },
   "outputs": [
    {
     "name": "stdout",
     "output_type": "stream",
     "text": [
      "+----+---------+-----+-------------------+-----------+\n",
      "|p_id|   p_name|price|     date_timestamp|record_type|\n",
      "+----+---------+-----+-------------------+-----------+\n",
      "| 203| Transcof| 1701|2020-04-04 21:58:59|          I|\n",
      "| 219|    Zamit|  833|2020-04-04 21:12:18|          I|\n",
      "| 232|   Latlux| 1316|2020-04-04 03:54:29|          I|\n",
      "| 233|   Tresom| 1690|2020-04-04 03:56:43|          I|\n",
      "| 233|   Tresom| 1690|2020-04-04 09:53:46|          I|\n",
      "| 233|   Tresom| 1690|2020-04-04 15:51:21|          I|\n",
      "| 235|  Sonsing|  583|2020-04-04 09:14:01|          I|\n",
      "| 244|Daltfresh|  169|2020-04-04 03:24:04|          I|\n",
      "| 244|Daltfresh|  169|2020-04-04 15:47:31|          I|\n",
      "| 244|Daltfresh|  169|2020-04-04 21:47:38|          I|\n",
      "| 249|  Andalax| 1857|2020-04-04 15:41:36|          I|\n",
      "+----+---------+-----+-------------------+-----------+\n",
      "\n"
     ]
    }
   ],
   "source": [
    "per_day_data.filter(\"record_type == 'I' \").orderBy(per_day_data.p_id.asc()).show()"
   ]
  },
  {
   "cell_type": "code",
   "execution_count": 9,
   "metadata": {
    "ExecuteTime": {
     "end_time": "2020-04-07T15:51:55.516124Z",
     "start_time": "2020-04-07T15:51:55.151545Z"
    },
    "scrolled": true
   },
   "outputs": [
    {
     "name": "stdout",
     "output_type": "stream",
     "text": [
      "+----+---------+-----+-------------------+-----------+\n",
      "|p_id|   p_name|price|     date_timestamp|record_type|\n",
      "+----+---------+-----+-------------------+-----------+\n",
      "| 219|    Zamit|  833|2020-04-04 21:12:18|          I|\n",
      "| 203| Transcof| 1701|2020-04-04 21:58:59|          I|\n",
      "| 244|Daltfresh|  169|2020-04-04 21:47:38|          I|\n",
      "| 235|  Sonsing|  583|2020-04-04 09:14:01|          I|\n",
      "| 233|   Tresom| 1690|2020-04-04 09:53:46|          I|\n",
      "| 233|   Tresom| 1690|2020-04-04 03:56:43|          I|\n",
      "| 244|Daltfresh|  169|2020-04-04 03:24:04|          I|\n",
      "| 232|   Latlux| 1316|2020-04-04 03:54:29|          I|\n",
      "| 233|   Tresom| 1690|2020-04-04 15:51:21|          I|\n",
      "| 244|Daltfresh|  169|2020-04-04 15:47:31|          I|\n",
      "| 249|  Andalax| 1857|2020-04-04 15:41:36|          I|\n",
      "+----+---------+-----+-------------------+-----------+\n",
      "\n"
     ]
    }
   ],
   "source": [
    "mainTable_I_inserted = mainTable_new.union(per_day_data.filter(\"record_type == 'I' \"))\n",
    "mainTable_I_inserted.filter(\"record_type == 'I' \").show()"
   ]
  },
  {
   "cell_type": "code",
   "execution_count": 10,
   "metadata": {
    "ExecuteTime": {
     "end_time": "2020-04-07T15:51:56.906252Z",
     "start_time": "2020-04-07T15:51:55.519758Z"
    },
    "scrolled": true
   },
   "outputs": [
    {
     "name": "stdout",
     "output_type": "stream",
     "text": [
      "Total no. of products before adding ----> 200\n",
      "Total no. of products after adding----> 211\n",
      "Total no. of products with record \"Inserted\"----> 11\n"
     ]
    }
   ],
   "source": [
    "before_insert = str(mainTable_new.count())\n",
    "after_insert = str(mainTable_I_inserted.count())\n",
    "total_insert = str(mainTable_I_inserted.filter(\"record_type == 'I' \").count())\n",
    "print(\"Total no. of products before adding ----> \"+ str(mainTable_new.count()))\n",
    "print(\"Total no. of products after adding----> \"+ str(mainTable_I_inserted.count()))\n",
    "print(\"Total no. of products with record \\\"Inserted\\\"----> \"+ str(mainTable_I_inserted.filter(\"record_type == 'I' \").count()))"
   ]
  },
  {
   "cell_type": "markdown",
   "metadata": {},
   "source": [
    "### Update the Products"
   ]
  },
  {
   "cell_type": "code",
   "execution_count": 11,
   "metadata": {
    "ExecuteTime": {
     "end_time": "2020-04-07T15:51:57.117120Z",
     "start_time": "2020-04-07T15:51:56.908433Z"
    }
   },
   "outputs": [
    {
     "name": "stdout",
     "output_type": "stream",
     "text": [
      "+----+-----------+-----+-------------------+-----------+\n",
      "|p_id|     p_name|price|     date_timestamp|record_type|\n",
      "+----+-----------+-----+-------------------+-----------+\n",
      "|   1|        Job|  307|2020-04-04 03:45:40|          U|\n",
      "|   1|        Job| 1360|2020-04-04 09:22:27|          U|\n",
      "|  18|     Lotlux|  888|2020-04-04 15:36:23|          U|\n",
      "|  38|  Gembucket|    6|2020-04-04 21:41:47|          U|\n",
      "|  40|   Treeflex| 1359|2020-04-04 03:49:39|          U|\n",
      "|  42|   Alphazap|  940|2020-04-04 09:45:40|          U|\n",
      "|  52|   Flowdesk|  737|2020-04-04 09:13:57|          U|\n",
      "|  64|    Flexidy|  870|2020-04-04 09:50:17|          U|\n",
      "|  82|     Bamity|  322|2020-04-04 09:16:26|          U|\n",
      "| 100|Stringtough|  826|2020-04-04 21:57:18|          U|\n",
      "| 113|     Zathin| 1260|2020-04-04 21:22:06|          U|\n",
      "| 121|      Opela|  334|2020-04-04 21:44:42|          U|\n",
      "| 129|    Bitwolf| 1475|2020-04-04 21:45:47|          U|\n",
      "| 153|        Job|  366|2020-04-04 09:13:15|          U|\n",
      "| 156|     Namfix|  762|2020-04-04 15:49:23|          U|\n",
      "| 163|    Redhold| 1346|2020-04-04 09:37:17|          U|\n",
      "| 171|     Zathin|  700|2020-04-04 03:29:18|          U|\n",
      "| 176|     Sonair|  318|2020-04-04 21:11:56|          U|\n",
      "| 182|Ventosanzap|  197|2020-04-04 21:13:23|          U|\n",
      "| 192| Stronghold|  730|2020-04-04 03:22:13|          U|\n",
      "+----+-----------+-----+-------------------+-----------+\n",
      "only showing top 20 rows\n",
      "\n"
     ]
    }
   ],
   "source": [
    "per_day_data.filter(\"record_type == 'U' \").orderBy(per_day_data.p_id.asc()).show()"
   ]
  },
  {
   "cell_type": "code",
   "execution_count": 12,
   "metadata": {
    "ExecuteTime": {
     "end_time": "2020-04-07T15:51:57.417651Z",
     "start_time": "2020-04-07T15:51:57.119749Z"
    },
    "scrolled": false
   },
   "outputs": [
    {
     "name": "stdout",
     "output_type": "stream",
     "text": [
      "+----+-----------+-----+-------------------+-----------+\n",
      "|p_id|     p_name|price|     date_timestamp|record_type|\n",
      "+----+-----------+-----+-------------------+-----------+\n",
      "| 182|Ventosanzap|  197|2020-04-04 21:13:23|          U|\n",
      "| 129|    Bitwolf| 1475|2020-04-04 21:45:47|          U|\n",
      "| 121|      Opela|  334|2020-04-04 21:44:42|          U|\n",
      "| 113|     Zathin| 1260|2020-04-04 21:22:06|          U|\n",
      "| 176|     Sonair|  318|2020-04-04 21:11:56|          U|\n",
      "|  38|  Gembucket|    6|2020-04-04 21:41:47|          U|\n",
      "| 100|Stringtough|  826|2020-04-04 21:57:18|          U|\n",
      "|  52|   Flowdesk|  737|2020-04-04 09:13:57|          U|\n",
      "|  42|   Alphazap|  940|2020-04-04 09:45:40|          U|\n",
      "| 153|        Job|  366|2020-04-04 09:13:15|          U|\n",
      "|  64|    Flexidy|  870|2020-04-04 09:50:17|          U|\n",
      "|   1|        Job| 1360|2020-04-04 09:22:27|          U|\n",
      "|  82|     Bamity|  322|2020-04-04 09:16:26|          U|\n",
      "| 163|    Redhold| 1346|2020-04-04 09:37:17|          U|\n",
      "| 193|   Treeflex|  556|2020-04-04 03:30:19|          U|\n",
      "| 171|     Zathin|  700|2020-04-04 03:29:18|          U|\n",
      "|   1|        Job|  307|2020-04-04 03:45:40|          U|\n",
      "|  40|   Treeflex| 1359|2020-04-04 03:49:39|          U|\n",
      "| 192| Stronghold|  730|2020-04-04 03:22:13|          U|\n",
      "|  18|     Lotlux|  888|2020-04-04 15:36:23|          U|\n",
      "+----+-----------+-----+-------------------+-----------+\n",
      "only showing top 20 rows\n",
      "\n"
     ]
    }
   ],
   "source": [
    "# mainTable_U_inserted = mainTable_I_inserted.union(per_day_data.filter(\"record_type == 'U' \"))\n",
    "# mainTable_U_inserted.filter(\"record_type == 'U' \").show()\n",
    "\n",
    "from_per_day_data_U = per_day_data.filter(\"record_type == 'U' \")\n",
    "from_per_day_data_U.show()"
   ]
  },
  {
   "cell_type": "code",
   "execution_count": 13,
   "metadata": {
    "ExecuteTime": {
     "end_time": "2020-04-07T15:51:57.643199Z",
     "start_time": "2020-04-07T15:51:57.420379Z"
    }
   },
   "outputs": [
    {
     "name": "stdout",
     "output_type": "stream",
     "text": [
      "Output of our collect operation---->  Row(p_id=182)\n",
      "get the value of p_id ----->  182\n",
      "\n",
      "List of p_id which we have to update taken from \"per_day_data\"\n",
      "[182, 129, 121, 113, 176, 38, 100, 52, 42, 153, 64, 1, 82, 163, 193, 171, 1, 40, 192, 18, 156]\n",
      "Total no. of products with record \"Updated\" ------>21\n"
     ]
    }
   ],
   "source": [
    "from_per_day_data_U_list = from_per_day_data_U.select(\"p_id\").collect()\n",
    "\n",
    "print(\"Output of our collect operation----> \",from_per_day_data_U_list[0])\n",
    "print(\"get the value of p_id -----> \",from_per_day_data_U_list[0].p_id)\n",
    "\n",
    "# List comprehension\n",
    "p_id_list = [ i.p_id for i in from_per_day_data_U_list ]\n",
    "print(\"\\nList of p_id which we have to update taken from \\\"per_day_data\\\"\")\n",
    "print(p_id_list)\n",
    "total_update = str(len((p_id_list)))\n",
    "print(\"Total no. of products with record \\\"Updated\\\" ------>\"+str(len((p_id_list))))"
   ]
  },
  {
   "cell_type": "code",
   "execution_count": 14,
   "metadata": {
    "ExecuteTime": {
     "end_time": "2020-04-07T15:51:58.200392Z",
     "start_time": "2020-04-07T15:51:57.645001Z"
    },
    "scrolled": true
   },
   "outputs": [
    {
     "name": "stdout",
     "output_type": "stream",
     "text": [
      "+----+-----------+-----+-------------------+-----------+\n",
      "|p_id|     p_name|price|     date_timestamp|record_type|\n",
      "+----+-----------+-----+-------------------+-----------+\n",
      "|   1|        Job| 1464|2020-05-02 08:06:42|          A|\n",
      "|  18|     Lotlux|  565|2020-05-02 13:07:57|          A|\n",
      "|  38|  Gembucket|  884|2020-02-20 03:31:07|          A|\n",
      "|  40|   Treeflex|  247|2020-02-25 09:26:43|          A|\n",
      "|  42|   Alphazap| 1783|2020-02-25 06:12:43|          A|\n",
      "|  52|   Flowdesk|  564|2020-02-14 19:42:02|          A|\n",
      "|  64|    Flexidy| 1409|2020-03-02 00:06:07|          A|\n",
      "|  82|     Bamity|  917|2020-02-27 21:52:09|          A|\n",
      "| 100|Stringtough|  911|2020-02-28 19:23:32|          A|\n",
      "| 113|     Zathin|  157|2020-02-27 11:15:09|          A|\n",
      "| 121|      Opela| 1055|2020-07-02 02:45:32|          A|\n",
      "| 129|    Bitwolf|  616|2020-02-27 09:43:38|          A|\n",
      "| 153|        Job| 1688|2020-02-20 11:33:22|          A|\n",
      "| 156|     Namfix|  915|2020-02-20 17:13:22|          A|\n",
      "| 163|    Redhold| 1868|2020-02-19 13:57:10|          A|\n",
      "| 171|     Zathin|  487|2020-02-02 22:08:52|          A|\n",
      "| 176|     Sonair| 1443|2020-04-02 03:51:52|          A|\n",
      "| 182|Ventosanzap|  102|2020-05-02 02:01:38|          A|\n",
      "| 192| Stronghold|  410|2020-01-02 05:54:01|          A|\n",
      "| 193|   Treeflex|  297|2020-02-18 16:31:11|          A|\n",
      "+----+-----------+-----+-------------------+-----------+\n",
      "\n"
     ]
    }
   ],
   "source": [
    "# mainTable_U_inserted.groupBy(\"p_id\").count().filter(\"count > 1\").show()\n",
    "\n",
    "from_mainTable_U = mainTable_I_inserted.filter( col('p_id').isin(p_id_list))\n",
    "from_mainTable_U.show()"
   ]
  },
  {
   "cell_type": "code",
   "execution_count": 15,
   "metadata": {
    "ExecuteTime": {
     "end_time": "2020-04-07T15:51:58.619235Z",
     "start_time": "2020-04-07T15:51:58.202468Z"
    },
    "scrolled": false
   },
   "outputs": [
    {
     "name": "stdout",
     "output_type": "stream",
     "text": [
      "+----+-----------+-----+-------------------+-----------+\n",
      "|p_id|     p_name|price|     date_timestamp|record_type|\n",
      "+----+-----------+-----+-------------------+-----------+\n",
      "|   1|        Job| 1360|2020-04-04 09:22:27|          U|\n",
      "|   1|        Job| 1464|2020-05-02 08:06:42|          A|\n",
      "|   1|        Job|  307|2020-04-04 03:45:40|          U|\n",
      "|  18|     Lotlux|  565|2020-05-02 13:07:57|          A|\n",
      "|  18|     Lotlux|  888|2020-04-04 15:36:23|          U|\n",
      "|  38|  Gembucket|    6|2020-04-04 21:41:47|          U|\n",
      "|  38|  Gembucket|  884|2020-02-20 03:31:07|          A|\n",
      "|  40|   Treeflex| 1359|2020-04-04 03:49:39|          U|\n",
      "|  40|   Treeflex|  247|2020-02-25 09:26:43|          A|\n",
      "|  42|   Alphazap| 1783|2020-02-25 06:12:43|          A|\n",
      "|  42|   Alphazap|  940|2020-04-04 09:45:40|          U|\n",
      "|  52|   Flowdesk|  564|2020-02-14 19:42:02|          A|\n",
      "|  52|   Flowdesk|  737|2020-04-04 09:13:57|          U|\n",
      "|  64|    Flexidy|  870|2020-04-04 09:50:17|          U|\n",
      "|  64|    Flexidy| 1409|2020-03-02 00:06:07|          A|\n",
      "|  82|     Bamity|  322|2020-04-04 09:16:26|          U|\n",
      "|  82|     Bamity|  917|2020-02-27 21:52:09|          A|\n",
      "| 100|Stringtough|  826|2020-04-04 21:57:18|          U|\n",
      "| 100|Stringtough|  911|2020-02-28 19:23:32|          A|\n",
      "| 113|     Zathin|  157|2020-02-27 11:15:09|          A|\n",
      "+----+-----------+-----+-------------------+-----------+\n",
      "only showing top 20 rows\n",
      "\n"
     ]
    }
   ],
   "source": [
    "mT_and_pDD_union = from_mainTable_U.union(from_per_day_data_U)\n",
    "mT_and_pDD_union.orderBy(mT_and_pDD_union.p_id).show()"
   ]
  },
  {
   "cell_type": "code",
   "execution_count": 16,
   "metadata": {
    "ExecuteTime": {
     "end_time": "2020-04-07T15:52:00.115843Z",
     "start_time": "2020-04-07T15:51:58.621852Z"
    },
    "scrolled": true
   },
   "outputs": [
    {
     "name": "stdout",
     "output_type": "stream",
     "text": [
      "+------+-------------------+\n",
      "|p_id_1|   date_timestamp_1|\n",
      "+------+-------------------+\n",
      "|   193|2020-04-04 03:30:19|\n",
      "|   192|2020-04-04 03:22:13|\n",
      "|     1|2020-05-02 08:06:42|\n",
      "|    52|2020-04-04 09:13:57|\n",
      "|   182|2020-05-02 02:01:38|\n",
      "|    40|2020-04-04 03:49:39|\n",
      "|   163|2020-04-04 09:37:17|\n",
      "|    64|2020-04-04 09:50:17|\n",
      "|   100|2020-04-04 21:57:18|\n",
      "|   176|2020-04-04 21:11:56|\n",
      "|   171|2020-04-04 03:29:18|\n",
      "|   129|2020-04-04 21:45:47|\n",
      "|    38|2020-04-04 21:41:47|\n",
      "|    82|2020-04-04 09:16:26|\n",
      "|   113|2020-04-04 21:22:06|\n",
      "|   121|2020-07-02 02:45:32|\n",
      "|   156|2020-04-04 15:49:23|\n",
      "|    42|2020-04-04 09:45:40|\n",
      "|   153|2020-04-04 09:13:15|\n",
      "|    18|2020-05-02 13:07:57|\n",
      "+------+-------------------+\n",
      "\n"
     ]
    }
   ],
   "source": [
    "for_join_mT_and_pDD = mT_and_pDD_union.groupBy(\"p_id\").agg({\"date_timestamp\":\"max\"}).withColumnRenamed(\"max(date_timestamp)\",\"date_timestamp_1\")\n",
    "for_join_mT_and_pDD = for_join_mT_and_pDD.withColumnRenamed(\"p_id\",\"p_id_1\")\n",
    "for_join_mT_and_pDD.show()"
   ]
  },
  {
   "cell_type": "code",
   "execution_count": 17,
   "metadata": {
    "ExecuteTime": {
     "end_time": "2020-04-07T15:52:01.686774Z",
     "start_time": "2020-04-07T15:52:00.119210Z"
    }
   },
   "outputs": [
    {
     "data": {
      "text/plain": [
       "20"
      ]
     },
     "execution_count": 17,
     "metadata": {},
     "output_type": "execute_result"
    }
   ],
   "source": [
    "joined = mT_and_pDD_union.join(for_join_mT_and_pDD, (\n",
    "    mT_and_pDD_union.p_id == for_join_mT_and_pDD.p_id_1) & (\n",
    "    mT_and_pDD_union.date_timestamp == for_join_mT_and_pDD.date_timestamp_1) ,'inner')\n",
    "\n",
    "joined = joined.select(['p_id','p_name','price','date_timestamp','record_type'])\n",
    "joined.count()"
   ]
  },
  {
   "cell_type": "code",
   "execution_count": 18,
   "metadata": {
    "ExecuteTime": {
     "end_time": "2020-04-07T15:52:02.233499Z",
     "start_time": "2020-04-07T15:52:01.696645Z"
    },
    "scrolled": true
   },
   "outputs": [
    {
     "name": "stdout",
     "output_type": "stream",
     "text": [
      "+----+------+-----+--------------+-----------+\n",
      "|p_id|p_name|price|date_timestamp|record_type|\n",
      "+----+------+-----+--------------+-----------+\n",
      "+----+------+-----+--------------+-----------+\n",
      "\n"
     ]
    }
   ],
   "source": [
    "mT_and_pDD_union.filter(\"p_id == 138\").show()"
   ]
  },
  {
   "cell_type": "code",
   "execution_count": 19,
   "metadata": {
    "ExecuteTime": {
     "end_time": "2020-04-07T15:52:03.626356Z",
     "start_time": "2020-04-07T15:52:02.235577Z"
    }
   },
   "outputs": [
    {
     "data": {
      "text/plain": [
       "191"
      ]
     },
     "execution_count": 19,
     "metadata": {},
     "output_type": "execute_result"
    }
   ],
   "source": [
    "mainTable_U_updated = mainTable_I_inserted.filter(~col('p_id').isin(p_id_list))\n",
    "mainTable_U_updated.orderBy(\"p_id\").count()"
   ]
  },
  {
   "cell_type": "code",
   "execution_count": 20,
   "metadata": {
    "ExecuteTime": {
     "end_time": "2020-04-07T15:52:07.442705Z",
     "start_time": "2020-04-07T15:52:03.628562Z"
    }
   },
   "outputs": [
    {
     "data": {
      "text/plain": [
       "211"
      ]
     },
     "execution_count": 20,
     "metadata": {},
     "output_type": "execute_result"
    }
   ],
   "source": [
    "mainTable_U_updated_new = mainTable_U_updated.union(joined)\n",
    "after_update = str(mainTable_U_updated_new.orderBy(\"p_id\").count())\n",
    "mainTable_U_updated_new.orderBy(\"p_id\").count()"
   ]
  },
  {
   "cell_type": "markdown",
   "metadata": {},
   "source": [
    "### Drop deleted products"
   ]
  },
  {
   "cell_type": "code",
   "execution_count": 27,
   "metadata": {
    "ExecuteTime": {
     "end_time": "2020-04-07T16:01:18.111576Z",
     "start_time": "2020-04-07T16:01:17.970031Z"
    },
    "scrolled": false
   },
   "outputs": [
    {
     "name": "stdout",
     "output_type": "stream",
     "text": [
      "\n",
      "List of p_id which we have to deleted taken from \"per_day_data\"\n",
      "[86, 125, 164, 177, 141, 178]\n",
      "Total no. of products with record \"Updated\" ------>6\n"
     ]
    }
   ],
   "source": [
    "# Drop deleted products\n",
    "\n",
    "to_be_deleted = per_day_data.filter(\"record_type == 'D' \").collect()\n",
    "p_id_list = [ i.p_id for i in to_be_deleted ]\n",
    "\n",
    "print(\"\\nList of p_id which we have to deleted taken from \\\"per_day_data\\\"\")\n",
    "print(p_id_list)\n",
    "total_deleted = str(len((p_id_list)))\n",
    "print(\"Total no. of products with record \\\"Updated\\\" ------>\"+str(len((p_id_list))))"
   ]
  },
  {
   "cell_type": "code",
   "execution_count": 25,
   "metadata": {
    "ExecuteTime": {
     "end_time": "2020-04-07T16:00:36.597955Z",
     "start_time": "2020-04-07T16:00:34.676643Z"
    }
   },
   "outputs": [],
   "source": [
    "mainTable_D_deleted = mainTable_U_updated_new.filter(~col('p_id').isin(p_id_list))\n",
    "mainTable_D_deleted.count()\n",
    "after_delete = str(mainTable_D_deleted.count())"
   ]
  },
  {
   "cell_type": "code",
   "execution_count": 33,
   "metadata": {
    "ExecuteTime": {
     "end_time": "2020-04-07T16:04:54.772350Z",
     "start_time": "2020-04-07T16:04:54.756080Z"
    }
   },
   "outputs": [
    {
     "name": "stdout",
     "output_type": "stream",
     "text": [
      "Total no. of products before insert----->200\n",
      "Total no. of products after insert------>211\n",
      "Total no. of inserted  ----------------->11\n",
      "Total no. of products after update ----->211\n",
      "Total no. of products to be deleting---->6\n",
      "Total no. of products after deleting---->205\n"
     ]
    }
   ],
   "source": [
    "print(\"Total no. of products before insert----->\"+before_insert)\n",
    "print(\"Total no. of products after insert------>\"+after_insert)\n",
    "print(\"Total no. of inserted  ----------------->\"+total_insert)\n",
    "print(\"Total no. of products after update ----->\"+after_update)\n",
    "print(\"Total no. of products to be deleting---->\"+total_deleted)\n",
    "print(\"Total no. of products after deleting---->\"+after_delete)"
   ]
  }
 ],
 "metadata": {
  "hide_input": false,
  "kernelspec": {
   "display_name": "Python 3",
   "language": "python",
   "name": "python3"
  },
  "language_info": {
   "codemirror_mode": {
    "name": "ipython",
    "version": 3
   },
   "file_extension": ".py",
   "mimetype": "text/x-python",
   "name": "python",
   "nbconvert_exporter": "python",
   "pygments_lexer": "ipython3",
   "version": "3.7.7"
  },
  "varInspector": {
   "cols": {
    "lenName": 16,
    "lenType": 16,
    "lenVar": 40
   },
   "kernels_config": {
    "python": {
     "delete_cmd_postfix": "",
     "delete_cmd_prefix": "del ",
     "library": "var_list.py",
     "varRefreshCmd": "print(var_dic_list())"
    },
    "r": {
     "delete_cmd_postfix": ") ",
     "delete_cmd_prefix": "rm(",
     "library": "var_list.r",
     "varRefreshCmd": "cat(var_dic_list()) "
    }
   },
   "oldHeight": 384.5,
   "position": {
    "height": "193px",
    "left": "898px",
    "right": "20px",
    "top": "120px",
    "width": "347px"
   },
   "types_to_exclude": [
    "module",
    "function",
    "builtin_function_or_method",
    "instance",
    "_Feature"
   ],
   "varInspector_section_display": "none",
   "window_display": false
  }
 },
 "nbformat": 4,
 "nbformat_minor": 2
}
