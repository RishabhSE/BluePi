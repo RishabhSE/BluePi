{
 "cells": [
  {
   "cell_type": "code",
   "execution_count": 1,
   "metadata": {
    "ExecuteTime": {
     "end_time": "2020-04-07T04:28:04.823300Z",
     "start_time": "2020-04-07T04:28:04.414177Z"
    }
   },
   "outputs": [],
   "source": [
    "import pandas as pd\n",
    "import numpy as np\n",
    "import random\n",
    "import os\n",
    "import datetime\n",
    "import string\n",
    "\n",
    "# import data\n",
    "data = pd.read_csv(\n",
    "    \"/home/bluepi/Downloads/Update/product_info/main table/product_info.csv\")\n",
    "new_product = pd.read_csv(\n",
    "    \"/home/bluepi/Downloads/Update/product_info/main table/new_added.csv\")"
   ]
  },
  {
   "cell_type": "code",
   "execution_count": 51,
   "metadata": {
    "ExecuteTime": {
     "end_time": "2020-04-07T05:26:41.925008Z",
     "start_time": "2020-04-07T05:26:41.128763Z"
    }
   },
   "outputs": [
    {
     "name": "stdout",
     "output_type": "stream",
     "text": [
      "Current Date is :\t2020-04-07 00:08:21\n",
      "folder name ---> 28-03-2020\n",
      "Current Date is :\t2020-04-07 00:08:21\n",
      "folder name ---> 29-03-2020\n",
      "Current Date is :\t2020-04-07 00:08:21\n",
      "folder name ---> 30-03-2020\n",
      "Current Date is :\t2020-04-07 00:08:21\n",
      "folder name ---> 31-03-2020\n",
      "Current Date is :\t2020-04-07 00:08:21\n",
      "folder name ---> 01-04-2020\n",
      "Current Date is :\t2020-04-07 00:08:21\n",
      "folder name ---> 02-04-2020\n",
      "Current Date is :\t2020-04-07 00:08:21\n",
      "folder name ---> 03-04-2020\n",
      "Current Date is :\t2020-04-07 00:08:21\n",
      "folder name ---> 04-04-2020\n",
      "Current Date is :\t2020-04-07 00:08:21\n",
      "folder name ---> 05-04-2020\n",
      "Current Date is :\t2020-04-07 00:08:21\n",
      "folder name ---> 06-04-2020\n"
     ]
    }
   ],
   "source": [
    "# Products which have been deleted\n",
    "deleted_product = []\n",
    "\n",
    "# Products which have been Inserted\n",
    "inserted_product = []\n",
    "\n",
    "# Getting list of all products present in main product table\n",
    "data_pid = data['p_id'].tolist()\n",
    "\n",
    "# *****************************************************************************************\n",
    "\n",
    "# This for-loop is created date wise directories in incremental order\n",
    "# If you want data of past 10 days\n",
    "for i in range(10, 0, -1):\n",
    "\n",
    "    # Get the current date\n",
    "    current_date = datetime.datetime.now() - datetime.timedelta(hours=now.hour,\n",
    "                                                                minutes=now.minute, seconds=now.second)\n",
    "    print(\"Current Date is :\\t\"+current_date.strftime(\"%Y-%m-%d %H:%M:%S\"))\n",
    "\n",
    "    # datetime.timedelta(days=1) ---> in order to get the previous date\n",
    "    # strftime ('%d-%m-%Y')  ---> To get the date in time desired format\n",
    "    date_folder_raw = current_date - datetime.timedelta(days=i)\n",
    "\n",
    "    date_folder = date_folder_raw.strftime('%d-%m-%Y')\n",
    "    print(\"folder name ---> \"+date_folder,end='\\n')\n",
    "\n",
    "    # Parent Directory path\n",
    "    parent_dir = \"/home/bluepi/Downloads/Update/product_info\"\n",
    "    # os.path.join --> join one or more path components\n",
    "    path = os.path.join(parent_dir, date_folder)\n",
    "\n",
    "    # Creating Directory\n",
    "    try:\n",
    "        os.mkdir(path)\n",
    "    except Exception:\n",
    "        if len(os.listdir(path)) == 0:\n",
    "            print(date_folder + \" --> directory already present and empty\")\n",
    "        else:\n",
    "            print(date_folder + \" --> directory already present and not empty\")\n",
    "            continue\n",
    "\n",
    "# *****************************************************************************************\n",
    "    limit = datetime.timedelta(hours=18)\n",
    "    day_hour_begin = datetime.timedelta(hours=3)\n",
    "    day_hour = datetime.timedelta(hours=3)\n",
    "\n",
    "# This for loop is to create files inside the folders\n",
    "# We are updating our product 4 times a day only\n",
    "    for j in range(4):\n",
    "\n",
    "        # This section is for updating existing products :-\n",
    "\n",
    "        # Since we want our day_hour variable to within a range of 24 hours\n",
    "        if day_hour > limit:\n",
    "            day_hour = datetime.timedelta(hours=3)\n",
    "        else:\n",
    "            # Since next file is created in an interval of 4 hours\n",
    "            day_hour += datetime.timedelta(hours=3) + day_hour_begin\n",
    "\n",
    "        # Generate random values\n",
    "        value = random.randint(1, 10)\n",
    "\n",
    "        # This is used to sample out random number of rows\n",
    "        data_random_subset = data.sample(n=value)\n",
    "\n",
    "# We dont want our deleted products to be included in as a updated product\n",
    "#        print(\"deleted_product\",end = '\\n')\n",
    "#        print(deleted_product,end = '\\n')\n",
    "\n",
    "################################################################\n",
    "\n",
    "#        print(\"data_random_subset before deleting--->\")\n",
    "#        print(data_random_subset['p_id'].values,end='\\n')\n",
    "        for k in deleted_product:\n",
    "            if (k in data_random_subset['p_id'].values):\n",
    "                # Get names of indexes for which p_id has value equal to i\n",
    "                indexNames = data_random_subset[data_random_subset['p_id'] == k].index\n",
    "\n",
    "                # Print it\n",
    "#                print(data_random_subset[data_random_subset['p_id'] == k],end = ' ')\n",
    "\n",
    "                # Delete these row indexes from dataFrame\n",
    "                data_random_subset.drop(indexNames, inplace=True)\n",
    "\n",
    "#        print(\"\\n data_random_subset after deleting--->\")\n",
    "#        print(data_random_subset['p_id'].values,end='\\n')\n",
    "\n",
    "#################################################################\n",
    "\n",
    "        # Drop the \"existing or old price\" price column\n",
    "        data_random_subset = data_random_subset.drop(['price', 'day', 'time'],\n",
    "                                                     axis=1)\n",
    "\n",
    "        # Add new price column with new prices\n",
    "        # size --> size of array which we want\n",
    "        data_random_subset['price'] = np.random.randint(\n",
    "            1, 1500, size=data_random_subset.shape[0])\n",
    "\n",
    "        # To create date_timestamp\n",
    "        # here we used list comprehensions\n",
    "        # datetime.datetime.today() ---> get the today's date\n",
    "\n",
    "        # datetime.timedelta(minutes= ...,seconds=...) ---> used for calculating differences in dates & date manipulations\n",
    "        data_random_subset['Date_timestamp'] = [\n",
    "            (date_folder_raw - datetime.timedelta(days=1) + day_hour +\n",
    "             datetime.timedelta(minutes=random.randint(10, 60),\n",
    "                                seconds=random.randint(\n",
    "                                    10, 100))).strftime(\"%Y-%m-%d %H:%M:%S\")\n",
    "            for i in range(data_random_subset.shape[0])\n",
    "        ]\n",
    "\n",
    "        # Adding record type data\n",
    "        data_random_subset['record_type'] = 'U'\n",
    "\n",
    "        # *****************************************************************************************\n",
    "\n",
    "# This section is for inserting New Products :-\n",
    "\n",
    "        # Generate random values\n",
    "        value_2 = random.randint(0, 5)\n",
    "\n",
    "        # new products picked at random\n",
    "        new_data_random_subset = new_product.sample(n=value_2)\n",
    "########################################################################################\n",
    "        # Updating new product file\n",
    "        new_product[~new_product['p_id'].isin(\n",
    "            new_data_random_subset['p_id'].values)]\n",
    "########################################################################################\n",
    "        # Adding the date timestamp\n",
    "        new_data_random_subset['Date_timestamp'] = [\n",
    "            (date_folder_raw - datetime.timedelta(days=1) + day_hour +\n",
    "             datetime.timedelta(minutes=random.randint(10, 60),\n",
    "                                seconds=random.randint(\n",
    "                                    10, 100))).strftime(\"%Y-%m-%d %H:%M:%S\")\n",
    "            for i in range(new_data_random_subset.shape[0])\n",
    "        ]\n",
    "\n",
    "        # Adding the record type\n",
    "        new_data_random_subset['record_type'] = 'I'\n",
    "\n",
    "        # Concating newly added and updated products\n",
    "        final_day_update = pd.concat(\n",
    "            [data_random_subset, new_data_random_subset], sort=False)\n",
    "\n",
    "        # *****************************************************************************************\n",
    "\n",
    "# # This section is for Deleting the Products :-\n",
    "\n",
    "        # Picking up the pid from main table which we want to delete\n",
    "        to_be_deleted = random.choices(data_pid, k=random.randint(0, 4))\n",
    "\n",
    "#        print(\" to be deleted products--> \");print(to_be_deleted,end = '\\n')\n",
    "\n",
    "        # Check wheather the product is already deleted or not\n",
    "        for i in to_be_deleted:\n",
    "            # If pid is already deleted\n",
    "            if i in deleted_product:\n",
    "                # REMOVE IT.\n",
    "                to_be_deleted.remove(i)\n",
    "            else:\n",
    "                # If not append it to the deleted products list\n",
    "                deleted_product.append(i)\n",
    "\n",
    "# Creating a dataframe of the products which have to be deleted\n",
    "        deleted_that_day = data[data['p_id'].isin(to_be_deleted)]\n",
    "        # Drop the \"existing or old price\" price column\n",
    "        deleted_that_day = deleted_that_day.drop(['day', 'time'], axis=1)\n",
    "\n",
    "        # Adding the date timestamp\n",
    "        deleted_that_day['Date_timestamp'] = [\n",
    "            (date_folder_raw - datetime.timedelta(days=1) + day_hour +\n",
    "             datetime.timedelta(minutes=random.randint(10, 60),\n",
    "                                seconds=random.randint(\n",
    "                                    10, 100))).strftime(\"%Y-%m-%d %H:%M:%S\")\n",
    "            for i in range(deleted_that_day.shape[0])\n",
    "        ]\n",
    "\n",
    "        # Adding the record type\n",
    "        deleted_that_day['record_type'] = 'D'\n",
    "\n",
    "        # Concating newly added and updated products\n",
    "        final_final_day_update = pd.concat(\n",
    "            [final_day_update, deleted_that_day], sort=False)\n",
    "\n",
    "        # *****************************************************************************************\n",
    "\n",
    "        # Create the file name as it would be random\n",
    "        file_name = str(''.join(\n",
    "            random.choices(string.ascii_uppercase + string.digits, k=10)))\n",
    "        # File path\n",
    "        path_csv = path + '/' + file_name + '.csv'\n",
    "        # Exporting the csv file\n",
    "#        print('\\n\\n')\n",
    "        final_final_day_update.to_csv(path_csv, index=False)"
   ]
  },
  {
   "cell_type": "markdown",
   "metadata": {},
   "source": [
    "## TO DO :-\n",
    "### - Change name of duplicate \"p_name\""
   ]
  },
  {
   "cell_type": "code",
   "execution_count": 25,
   "metadata": {
    "ExecuteTime": {
     "end_time": "2020-04-07T04:52:44.601995Z",
     "start_time": "2020-04-07T04:52:44.551924Z"
    },
    "collapsed": true
   },
   "outputs": [
    {
     "name": "stdout",
     "output_type": "stream",
     "text": [
      "\n",
      "\n",
      "[   '2020-04-06 19:21:13',\n",
      "    '2020-04-06 19:49:38',\n",
      "    '2020-04-06 19:46:11',\n",
      "    '2020-04-06 19:40:09',\n",
      "    '2020-04-06 19:35:26',\n",
      "    '2020-04-06 20:01:26',\n",
      "    '2020-04-06 19:56:02',\n",
      "    '2020-04-06 19:46:27',\n",
      "    '2020-04-06 19:46:06',\n",
      "    '2020-04-06 19:31:58']\n",
      "\n",
      "\n",
      "[   '2020-04-07 01:42:36',\n",
      "    '2020-04-07 01:57:52',\n",
      "    '2020-04-07 01:57:01',\n",
      "    '2020-04-07 01:52:09',\n",
      "    '2020-04-07 01:55:02',\n",
      "    '2020-04-07 01:41:12',\n",
      "    '2020-04-07 01:35:12',\n",
      "    '2020-04-07 01:28:40',\n",
      "    '2020-04-07 01:56:06',\n",
      "    '2020-04-07 01:44:35']\n",
      "\n",
      "\n",
      "[   '2020-04-07 08:02:07',\n",
      "    '2020-04-07 07:28:54',\n",
      "    '2020-04-07 08:00:47',\n",
      "    '2020-04-07 07:14:10',\n",
      "    '2020-04-07 07:39:57',\n",
      "    '2020-04-07 07:48:01',\n",
      "    '2020-04-07 07:34:25',\n",
      "    '2020-04-07 07:32:01',\n",
      "    '2020-04-07 07:38:28',\n",
      "    '2020-04-07 07:38:22']\n",
      "\n",
      "\n",
      "[   '2020-04-06 13:29:46',\n",
      "    '2020-04-06 13:41:13',\n",
      "    '2020-04-06 13:23:44',\n",
      "    '2020-04-06 13:27:40',\n",
      "    '2020-04-06 13:41:56',\n",
      "    '2020-04-06 13:50:44',\n",
      "    '2020-04-06 13:30:31',\n",
      "    '2020-04-06 13:44:40',\n",
      "    '2020-04-06 13:41:41',\n",
      "    '2020-04-06 13:15:10']\n"
     ]
    }
   ],
   "source": [
    "import pprint\n",
    "# prints the formatted representation of PrettyPrinter object\n",
    "pp = pprint.PrettyPrinter(indent=4)\n",
    "\n",
    "\n",
    "\n",
    "date_folder_raw = current_date - datetime.timedelta(days=1)\n",
    "\n",
    "limit = datetime.timedelta(hours=20)\n",
    "day_hour_begin = datetime.timedelta(hours=3)\n",
    "day_hour = datetime.timedelta(hours=3)\n",
    "    \n",
    "# This for loop is to create files inside the folders\n",
    "# We are updating our product 4 times a day only\n",
    "for j in range(4):\n",
    "\n",
    "# This section is for updating existing products :-\n",
    "        \n",
    "        # Since we want our day_hour variable to within a range of 24 hours\n",
    "    if day_hour > limit :\n",
    "        day_hour = datetime.timedelta(hours=3)\n",
    "    else :\n",
    "       # Since next file is created in an interval of 4 hours\n",
    "        day_hour += datetime.timedelta(hours=3) + day_hour_begin\n",
    "            \n",
    "    lst = [(date_folder_raw + day_hour +\n",
    "             datetime.timedelta(minutes=random.randint(10, 60),\n",
    "                                seconds=random.randint(10, 100))\n",
    "            ).strftime(\"%Y-%m-%d %H:%M:%S\")\n",
    "            for i in range(10)]\n",
    "    print('\\n')\n",
    "    pp.pprint(lst)"
   ]
  },
  {
   "cell_type": "code",
   "execution_count": 48,
   "metadata": {
    "ExecuteTime": {
     "end_time": "2020-04-07T05:18:20.016954Z",
     "start_time": "2020-04-07T05:18:19.994536Z"
    }
   },
   "outputs": [
    {
     "data": {
      "text/plain": [
       "'2020-04-07 00:00:00'"
      ]
     },
     "execution_count": 48,
     "metadata": {},
     "output_type": "execute_result"
    }
   ],
   "source": [
    "now = datetime.datetime.now()\n",
    "current_date = datetime.datetime.now() - datetime.timedelta(hours=now.hour,minutes=now.minute,seconds=now.second)\n",
    "(current_date).strftime(\"%Y-%m-%d %H:%M:%S\")"
   ]
  },
  {
   "cell_type": "code",
   "execution_count": 42,
   "metadata": {
    "ExecuteTime": {
     "end_time": "2020-04-07T05:12:26.223205Z",
     "start_time": "2020-04-07T05:12:26.212394Z"
    }
   },
   "outputs": [
    {
     "data": {
      "text/plain": [
       "datetime.timedelta(days=9, seconds=4514)"
      ]
     },
     "execution_count": 42,
     "metadata": {},
     "output_type": "execute_result"
    }
   ],
   "source": [
    "current_date"
   ]
  },
  {
   "cell_type": "code",
   "execution_count": 45,
   "metadata": {
    "ExecuteTime": {
     "end_time": "2020-04-07T05:16:49.809665Z",
     "start_time": "2020-04-07T05:16:49.794121Z"
    }
   },
   "outputs": [
    {
     "data": {
      "text/plain": [
       "datetime.datetime(2020, 4, 7, 0, 0, 6, 800201)"
      ]
     },
     "execution_count": 45,
     "metadata": {},
     "output_type": "execute_result"
    }
   ],
   "source": [
    "now = datetime.datetime.now()\n",
    "now - current_date"
   ]
  }
 ],
 "metadata": {
  "gist": {
   "data": {
    "description": "Documents/BluePi/Use Case/generate_data_script.ipynb",
    "public": true
   },
   "id": ""
  },
  "hide_input": false,
  "kernelspec": {
   "display_name": "Python 3",
   "language": "python",
   "name": "python3"
  },
  "language_info": {
   "codemirror_mode": {
    "name": "ipython",
    "version": 3
   },
   "file_extension": ".py",
   "mimetype": "text/x-python",
   "name": "python",
   "nbconvert_exporter": "python",
   "pygments_lexer": "ipython3",
   "version": "3.7.7"
  },
  "varInspector": {
   "cols": {
    "lenName": 16,
    "lenType": 16,
    "lenVar": 40
   },
   "kernels_config": {
    "python": {
     "delete_cmd_postfix": "",
     "delete_cmd_prefix": "del ",
     "library": "var_list.py",
     "varRefreshCmd": "print(var_dic_list())"
    },
    "r": {
     "delete_cmd_postfix": ") ",
     "delete_cmd_prefix": "rm(",
     "library": "var_list.r",
     "varRefreshCmd": "cat(var_dic_list()) "
    }
   },
   "position": {
    "height": "480.5px",
    "left": "919px",
    "right": "20px",
    "top": "121px",
    "width": "350px"
   },
   "types_to_exclude": [
    "module",
    "function",
    "builtin_function_or_method",
    "instance",
    "_Feature"
   ],
   "window_display": false
  }
 },
 "nbformat": 4,
 "nbformat_minor": 2
}
