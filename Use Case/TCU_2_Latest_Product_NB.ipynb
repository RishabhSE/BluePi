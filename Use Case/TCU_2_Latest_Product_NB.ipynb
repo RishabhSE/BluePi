{
 "cells": [
  {
   "cell_type": "code",
   "execution_count": 48,
   "metadata": {
    "ExecuteTime": {
     "end_time": "2020-03-25T12:03:58.852023Z",
     "start_time": "2020-03-25T12:03:58.834075Z"
    }
   },
   "outputs": [],
   "source": [
    "import datetime\n",
    "\n",
    "# Main entry point for DataFrame and SQL functionality.\n",
    "from pyspark.sql import SparkSession"
   ]
  },
  {
   "cell_type": "code",
   "execution_count": null,
   "metadata": {},
   "outputs": [],
   "source": [
    "# Start SPARK Session\n",
    "spark = SparkSession.builder.appName('Basics').getOrCreate()"
   ]
  },
  {
   "cell_type": "code",
   "execution_count": 2,
   "metadata": {
    "ExecuteTime": {
     "end_time": "2020-03-25T09:27:22.297290Z",
     "start_time": "2020-03-25T09:27:22.269375Z"
    }
   },
   "outputs": [],
   "source": [
    "# import pandas as pd\n",
    "# import datetime\n",
    "\n",
    "# # import data\n",
    "# data = pd.read_csv(\"/home/bluepi/Downloads/Update/product_info/main table/product_info.csv\")\n",
    "\n",
    "# # convert day column type to datetime\n",
    "# data['day'] = pd.to_datetime( data['day'], infer_datetime_format=True, yearfirst=True)\n",
    "\n",
    "# # create new column\n",
    "# data['date_timestamp'] = pd.to_datetime(data.day.astype(str) + ' ' + data.time)\n",
    "\n",
    "# # Drop old columns\n",
    "# data.drop(['day','time'],inplace=True,axis=1)\n",
    "\n",
    "# # Write to csv\n",
    "# data.to_csv(\"/home/bluepi/Downloads/Update/product_info/main table/main table.csv\", index=False)"
   ]
  },
  {
   "cell_type": "code",
   "execution_count": 3,
   "metadata": {
    "ExecuteTime": {
     "end_time": "2020-03-25T09:27:26.777019Z",
     "start_time": "2020-03-25T09:27:22.299889Z"
    }
   },
   "outputs": [],
   "source": [
    "mainTable = spark.read.format('csv').options(\n",
    "    header=True, inferschema=True).load(\n",
    "        \"/home/bluepi/Downloads/Update/product_info/main table/main table.csv\")"
   ]
  },
  {
   "cell_type": "code",
   "execution_count": 4,
   "metadata": {
    "ExecuteTime": {
     "end_time": "2020-03-25T09:27:26.808757Z",
     "start_time": "2020-03-25T09:27:26.778854Z"
    },
    "scrolled": true
   },
   "outputs": [
    {
     "name": "stdout",
     "output_type": "stream",
     "text": [
      "root\n",
      " |-- p_id: integer (nullable = true)\n",
      " |-- p_name: string (nullable = true)\n",
      " |-- price: integer (nullable = true)\n",
      " |-- date_timestamp: timestamp (nullable = true)\n",
      "\n"
     ]
    }
   ],
   "source": [
    "mainTable.printSchema()"
   ]
  },
  {
   "cell_type": "code",
   "execution_count": 36,
   "metadata": {
    "ExecuteTime": {
     "end_time": "2020-03-25T11:08:26.224356Z",
     "start_time": "2020-03-25T11:08:25.948882Z"
    },
    "scrolled": true
   },
   "outputs": [
    {
     "name": "stdout",
     "output_type": "stream",
     "text": [
      "+----+-----+---------+----+------+------+\n",
      "|Year|Month|DayOfYear|Hour|Minute|Second|\n",
      "+----+-----+---------+----+------+------+\n",
      "|2020|    9|      247|  19|    24|    25|\n",
      "|2020|    3|       78|  16|    41|    43|\n",
      "|2020|    8|      216|  22|    17|     5|\n",
      "+----+-----+---------+----+------+------+\n",
      "only showing top 3 rows\n",
      "\n",
      "None\n"
     ]
    }
   ],
   "source": [
    "from pyspark.sql.functions import year, month, dayofyear, hour, minute, second\n",
    "\n",
    "mainTable.select([year(mainTable['date_timestamp']).alias(\"Year\"),\n",
    "                  month(mainTable['date_timestamp']).alias(\"Month\"),\n",
    "                  dayofyear(mainTable['date_timestamp']).alias(\"DayOfYear\"),\n",
    "                  hour(mainTable['date_timestamp']).alias(\"Hour\"),\n",
    "                  minute(mainTable['date_timestamp']).alias(\"Minute\"),\n",
    "                  second(mainTable['date_timestamp']).alias(\"Second\")]).show(3)"
   ]
  },
  {
   "cell_type": "code",
   "execution_count": 47,
   "metadata": {
    "ExecuteTime": {
     "end_time": "2020-03-25T11:56:34.093300Z",
     "start_time": "2020-03-25T11:56:33.894528Z"
    },
    "collapsed": true
   },
   "outputs": [
    {
     "name": "stdout",
     "output_type": "stream",
     "text": [
      "+-------------------+\n",
      "|     date_timestamp|\n",
      "+-------------------+\n",
      "|2020-01-03 04:07:54|\n",
      "|2020-01-03 04:38:21|\n",
      "|2020-01-03 04:41:13|\n",
      "|2020-01-03 05:24:56|\n",
      "|2020-01-03 22:27:04|\n",
      "|2020-01-03 23:54:49|\n",
      "|2020-02-03 04:05:43|\n",
      "|2020-02-03 04:35:29|\n",
      "|2020-02-03 05:02:57|\n",
      "|2020-02-03 06:12:33|\n",
      "|2020-02-03 10:30:17|\n",
      "|2020-02-03 10:58:29|\n",
      "|2020-02-03 14:36:42|\n",
      "|2020-02-03 16:38:45|\n",
      "|2020-02-03 17:03:12|\n",
      "|2020-02-03 18:43:16|\n",
      "|2020-02-03 23:43:02|\n",
      "|2020-03-03 03:01:52|\n",
      "|2020-03-03 04:20:22|\n",
      "|2020-03-03 04:30:40|\n",
      "+-------------------+\n",
      "only showing top 20 rows\n",
      "\n"
     ]
    }
   ],
   "source": [
    "mainTable.select('date_timestamp').orderBy(mainTable.date_timestamp.asc()).show(20)"
   ]
  },
  {
   "cell_type": "code",
   "execution_count": 64,
   "metadata": {
    "ExecuteTime": {
     "end_time": "2020-03-25T12:16:45.192551Z",
     "start_time": "2020-03-25T12:16:44.850719Z"
    }
   },
   "outputs": [],
   "source": [
    "# Address to the product_info folder\n",
    "address = \"/home/bluepi/Downloads/Update/product_info/\"\n",
    "previous_day = (datetime.datetime.today() - datetime.timedelta(days=1)).strftime('%d-%m-%Y')\n",
    "\n",
    "# Address to the previous day folder\n",
    "new_address = address + previous_day\n",
    "\n",
    "# # read the previous day folder\n",
    "data = spark.read.format('csv') \\\n",
    "          .options( header=True, inferschema=True ) \\\n",
    "          .load(new_address)"
   ]
  },
  {
   "cell_type": "code",
   "execution_count": 65,
   "metadata": {
    "ExecuteTime": {
     "end_time": "2020-03-25T12:16:45.736354Z",
     "start_time": "2020-03-25T12:16:45.528335Z"
    }
   },
   "outputs": [
    {
     "name": "stdout",
     "output_type": "stream",
     "text": [
      "+----+----------+-----+-------------------+-----------+\n",
      "|p_id|    p_name|price|     Date_timestamp|record_type|\n",
      "+----+----------+-----+-------------------+-----------+\n",
      "| 862|       Tin|  457|2020-03-24 11:15:59|          U|\n",
      "| 184|Voltsillam|  671|2020-03-24 12:20:00|          U|\n",
      "| 642|   Cardify|  885|2020-03-24 11:41:13|          U|\n",
      "+----+----------+-----+-------------------+-----------+\n",
      "only showing top 3 rows\n",
      "\n"
     ]
    }
   ],
   "source": [
    "data.show(3)"
   ]
  },
  {
   "cell_type": "code",
   "execution_count": 66,
   "metadata": {
    "ExecuteTime": {
     "end_time": "2020-03-25T12:16:46.750134Z",
     "start_time": "2020-03-25T12:16:46.561550Z"
    }
   },
   "outputs": [
    {
     "name": "stdout",
     "output_type": "stream",
     "text": [
      "+----+---------+-----+-------------------+-----------+\n",
      "|p_id|   p_name|price|     Date_timestamp|record_type|\n",
      "+----+---------+-----+-------------------+-----------+\n",
      "| 127|  Andalax|  479|2020-03-24 04:36:35|          I|\n",
      "| 980|   Lotlux|  618|2020-03-24 04:37:04|          I|\n",
      "| 150|  Flexidy|  189|2020-03-24 04:46:52|          U|\n",
      "| 856|  Konklab|  677|2020-03-24 04:57:44|          I|\n",
      "| 910|    Alpha|  384|2020-03-24 05:05:08|          U|\n",
      "| 459|  Regrant|  454|2020-03-24 05:05:12|          U|\n",
      "| 625|Gembucket|  192|2020-03-24 05:12:03|          U|\n",
      "| 154|  Redhold|   62|2020-03-24 05:14:12|          I|\n",
      "| 260|     Stim|  998|2020-03-24 05:16:04|          U|\n",
      "| 764|  Fixflex|  446|2020-03-24 05:20:20|          I|\n",
      "| 163|    Asoka| 1387|2020-03-24 05:22:02|          U|\n",
      "| 764|  Fixflex|  446|2020-03-24 11:00:50|          I|\n",
      "| 625|Gembucket|  588|2020-03-24 11:12:12|          U|\n",
      "| 888|  Fix San| 1158|2020-03-24 11:13:53|          U|\n",
      "| 862|      Tin|  457|2020-03-24 11:15:59|          U|\n",
      "| 298|   Tresom|  499|2020-03-24 11:29:47|          U|\n",
      "| 947|  Regrant|  134|2020-03-24 11:32:25|          U|\n",
      "| 980|   Lotlux|  618|2020-03-24 11:36:46|          I|\n",
      "| 642|  Cardify|  885|2020-03-24 11:41:13|          U|\n",
      "| 409| Alphazap|  151|2020-03-24 11:51:00|          I|\n",
      "+----+---------+-----+-------------------+-----------+\n",
      "only showing top 20 rows\n",
      "\n"
     ]
    }
   ],
   "source": [
    "data.orderBy(data.Date_timestamp.asc()).show()"
   ]
  },
  {
   "cell_type": "code",
   "execution_count": null,
   "metadata": {},
   "outputs": [],
   "source": []
  }
 ],
 "metadata": {
  "kernelspec": {
   "display_name": "Python 3",
   "language": "python",
   "name": "python3"
  },
  "language_info": {
   "codemirror_mode": {
    "name": "ipython",
    "version": 3
   },
   "file_extension": ".py",
   "mimetype": "text/x-python",
   "name": "python",
   "nbconvert_exporter": "python",
   "pygments_lexer": "ipython3",
   "version": "3.7.7"
  },
  "varInspector": {
   "cols": {
    "lenName": 16,
    "lenType": 16,
    "lenVar": 40
   },
   "kernels_config": {
    "python": {
     "delete_cmd_postfix": "",
     "delete_cmd_prefix": "del ",
     "library": "var_list.py",
     "varRefreshCmd": "print(var_dic_list())"
    },
    "r": {
     "delete_cmd_postfix": ") ",
     "delete_cmd_prefix": "rm(",
     "library": "var_list.r",
     "varRefreshCmd": "cat(var_dic_list()) "
    }
   },
   "types_to_exclude": [
    "module",
    "function",
    "builtin_function_or_method",
    "instance",
    "_Feature"
   ],
   "window_display": false
  }
 },
 "nbformat": 4,
 "nbformat_minor": 2
}
