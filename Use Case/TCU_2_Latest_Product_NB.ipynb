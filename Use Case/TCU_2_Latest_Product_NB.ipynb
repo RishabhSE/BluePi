{
 "cells": [
  {
   "cell_type": "code",
   "execution_count": 54,
   "metadata": {
    "ExecuteTime": {
     "end_time": "2020-04-07T05:33:26.368989Z",
     "start_time": "2020-04-07T05:33:26.357418Z"
    }
   },
   "outputs": [],
   "source": [
    "import datetime\n",
    "\n",
    "# Main entry point for DataFrame and SQL functionality.\n",
    "from pyspark.sql import SparkSession"
   ]
  },
  {
   "cell_type": "code",
   "execution_count": 55,
   "metadata": {
    "ExecuteTime": {
     "end_time": "2020-04-07T05:33:26.398413Z",
     "start_time": "2020-04-07T05:33:26.380247Z"
    }
   },
   "outputs": [],
   "source": [
    "# Start SPARK Session\n",
    "spark = SparkSession.builder.appName('Basics').getOrCreate()"
   ]
  },
  {
   "cell_type": "code",
   "execution_count": 56,
   "metadata": {
    "ExecuteTime": {
     "end_time": "2020-04-07T05:33:26.421448Z",
     "start_time": "2020-04-07T05:33:26.410774Z"
    }
   },
   "outputs": [],
   "source": [
    "# import pandas as pd\n",
    "\n",
    "# # import data\n",
    "# data = pd.read_csv(\"/home/bluepi/Downloads/Update/product_info/main table/product_info.csv\")\n",
    "\n",
    "# # convert day column type to datetime\n",
    "# data['day'] = pd.to_datetime( data['day'], infer_datetime_format=True, yearfirst=True)\n",
    "\n",
    "# # create new column\n",
    "# data['date_timestamp'] = pd.to_datetime(data.day.astype(str) + ' ' + data.time)\n",
    "\n",
    "# # Drop old columns\n",
    "# data.drop(['day','time'],inplace=True,axis=1)\n",
    "\n",
    "# # Write to csv\n",
    "# data.to_csv(\"/home/bluepi/Downloads/Update/Updated Product/Latest Product/main table.csv\", index=False)"
   ]
  },
  {
   "cell_type": "code",
   "execution_count": 57,
   "metadata": {
    "ExecuteTime": {
     "end_time": "2020-04-07T05:33:26.766629Z",
     "start_time": "2020-04-07T05:33:26.431178Z"
    }
   },
   "outputs": [],
   "source": [
    "mainTable = spark.read.format('csv').options(\n",
    "    header=True, inferschema=True).load(\n",
    "        \"/home/bluepi/Downloads/Update/product_info/main table/main table.csv\")"
   ]
  },
  {
   "cell_type": "code",
   "execution_count": 58,
   "metadata": {
    "ExecuteTime": {
     "end_time": "2020-04-07T05:33:26.778079Z",
     "start_time": "2020-04-07T05:33:26.768379Z"
    },
    "scrolled": true
   },
   "outputs": [
    {
     "name": "stdout",
     "output_type": "stream",
     "text": [
      "root\n",
      " |-- p_id: integer (nullable = true)\n",
      " |-- p_name: string (nullable = true)\n",
      " |-- price: integer (nullable = true)\n",
      " |-- date_timestamp: timestamp (nullable = true)\n",
      "\n"
     ]
    }
   ],
   "source": [
    "mainTable.printSchema()"
   ]
  },
  {
   "cell_type": "code",
   "execution_count": 59,
   "metadata": {
    "ExecuteTime": {
     "end_time": "2020-04-07T05:33:26.947006Z",
     "start_time": "2020-04-07T05:33:26.781472Z"
    },
    "scrolled": true
   },
   "outputs": [
    {
     "name": "stdout",
     "output_type": "stream",
     "text": [
      "+----+-----+---------+----+------+------+\n",
      "|Year|Month|DayOfYear|Hour|Minute|Second|\n",
      "+----+-----+---------+----+------+------+\n",
      "|2020|    5|      123|   8|     6|    42|\n",
      "|2020|    2|       33|   8|     2|    22|\n",
      "|2020|    2|       59|   7|    58|     8|\n",
      "+----+-----+---------+----+------+------+\n",
      "only showing top 3 rows\n",
      "\n"
     ]
    }
   ],
   "source": [
    "from pyspark.sql.functions import year, month, dayofyear, hour, minute, second\n",
    "\n",
    "mainTable.select([year(mainTable['date_timestamp']).alias(\"Year\"),\n",
    "                  month(mainTable['date_timestamp']).alias(\"Month\"),\n",
    "                  dayofyear(mainTable['date_timestamp']).alias(\"DayOfYear\"),\n",
    "                  hour(mainTable['date_timestamp']).alias(\"Hour\"),\n",
    "                  minute(mainTable['date_timestamp']).alias(\"Minute\"),\n",
    "                  second(mainTable['date_timestamp']).alias(\"Second\")]).show(3)"
   ]
  },
  {
   "cell_type": "code",
   "execution_count": 60,
   "metadata": {
    "ExecuteTime": {
     "end_time": "2020-04-07T05:33:27.082224Z",
     "start_time": "2020-04-07T05:33:26.949935Z"
    }
   },
   "outputs": [
    {
     "name": "stdout",
     "output_type": "stream",
     "text": [
      "+-------------------+\n",
      "|     date_timestamp|\n",
      "+-------------------+\n",
      "|2020-01-02 01:25:16|\n",
      "|2020-01-02 05:05:59|\n",
      "|2020-01-02 05:54:01|\n",
      "|2020-01-02 09:08:05|\n",
      "|2020-01-02 20:11:17|\n",
      "|2020-02-02 01:16:34|\n",
      "+-------------------+\n",
      "only showing top 6 rows\n",
      "\n"
     ]
    }
   ],
   "source": [
    "mainTable.select('date_timestamp').orderBy(mainTable.date_timestamp.asc()).show(6)"
   ]
  },
  {
   "cell_type": "code",
   "execution_count": 61,
   "metadata": {
    "ExecuteTime": {
     "end_time": "2020-04-07T05:33:27.446676Z",
     "start_time": "2020-04-07T05:33:27.091912Z"
    }
   },
   "outputs": [],
   "source": [
    "# Address to the product_info folder\n",
    "address = \"/home/bluepi/Downloads/Update/product_info/\"\n",
    "previous_day = (datetime.datetime.today() - datetime.timedelta(days=1)).strftime('%d-%m-%Y')\n",
    "\n",
    "# Address to the Previous Day folder\n",
    "new_address = address + previous_day\n",
    "\n",
    "# Read the Previous Day folder\n",
    "per_day_data = spark.read.format('csv') \\\n",
    "          .options( header=True, inferschema=True ) \\\n",
    "          .load(new_address)"
   ]
  },
  {
   "cell_type": "code",
   "execution_count": 62,
   "metadata": {
    "ExecuteTime": {
     "end_time": "2020-04-07T05:33:30.375830Z",
     "start_time": "2020-04-07T05:33:30.169543Z"
    }
   },
   "outputs": [
    {
     "name": "stdout",
     "output_type": "stream",
     "text": [
      "+----+-----------+-----+-------------------+-----------+\n",
      "|p_id|     p_name|price|     Date_timestamp|record_type|\n",
      "+----+-----------+-----+-------------------+-----------+\n",
      "| 195|    Redhold|  734|2020-04-05 03:19:16|          U|\n",
      "|  68|   Alphazap|  442|2020-04-05 03:20:39|          U|\n",
      "| 180|Solarbreeze|  521|2020-04-05 03:27:13|          U|\n",
      "|  34|   Home Ing| 1063|2020-04-05 03:35:58|          U|\n",
      "| 187|        Tin|  919|2020-04-05 03:41:04|          U|\n",
      "|  50|     Bamity|  990|2020-04-05 09:10:40|          U|\n",
      "| 178|   Home Ing| 1481|2020-04-05 09:14:33|          U|\n",
      "|  79|   Zaam-Dox|  701|2020-04-05 09:31:11|          D|\n",
      "|  67|    Fintone|  121|2020-04-05 09:32:19|          U|\n",
      "|  37|  Ronstring|  462|2020-04-05 09:48:13|          U|\n",
      "| 138|  Lotstring|  694|2020-04-05 09:49:46|          U|\n",
      "|  31|    Matsoft|  122|2020-04-05 09:58:34|          U|\n",
      "|  59|    Matsoft|  565|2020-04-05 15:13:05|          U|\n",
      "|  35|     Lotlux|  831|2020-04-05 15:17:50|          U|\n",
      "| 218|      Subin|  856|2020-04-05 15:23:40|          I|\n",
      "| 157|    Regrant|  452|2020-04-05 15:28:13|          U|\n",
      "|  40|   Treeflex|  307|2020-04-05 15:29:18|          U|\n",
      "| 241|      Subin| 1462|2020-04-05 15:30:45|          I|\n",
      "| 128|   Overhold| 1254|2020-04-05 15:31:30|          U|\n",
      "| 123|    Veribet|  122|2020-04-05 15:31:40|          D|\n",
      "| 178|   Home Ing|  219|2020-04-05 15:39:49|          D|\n",
      "| 238| Stronghold|  498|2020-04-05 15:47:24|          I|\n",
      "| 210|Solarbreeze| 1630|2020-04-05 15:59:35|          I|\n",
      "|   4|  Ronstring| 1961|2020-04-05 21:25:31|          D|\n",
      "| 206|      Alpha| 1182|2020-04-05 21:39:35|          I|\n",
      "| 185|    Konklab|   29|2020-04-05 21:51:15|          U|\n",
      "+----+-----------+-----+-------------------+-----------+\n",
      "\n"
     ]
    }
   ],
   "source": [
    "# per_day_data.show(3)\n",
    "per_day_data.orderBy(per_day_data.Date_timestamp.asc()).show(60)\n",
    "# per_day_data.printSchema()"
   ]
  },
  {
   "cell_type": "code",
   "execution_count": 10,
   "metadata": {
    "ExecuteTime": {
     "end_time": "2020-04-07T04:29:26.033694Z",
     "start_time": "2020-04-07T04:29:26.022859Z"
    }
   },
   "outputs": [],
   "source": [
    "# # Create the schema\n",
    "# from pyspark.sql.types import *\n",
    "\n",
    "# schema = StructType([StructField(\"p_id\", IntegerType(), True),\n",
    "#                      StructField(\"p_name\", StringType(), True),\n",
    "#                      StructField(\"price\", IntegerType(), True),\n",
    "#                      StructField(\"Date_timestamp\", TimestampType() , True),\n",
    "#                      StructField(\"record_type\", StringType(), True)\n",
    "#                      ])\n",
    "# # Create latest proct table\n",
    "# # Initially it is empty no updates\n",
    "# Latest_Product_Table = spark.createDataFrame([], schema)"
   ]
  },
  {
   "cell_type": "code",
   "execution_count": 11,
   "metadata": {
    "ExecuteTime": {
     "end_time": "2020-04-07T04:29:27.262531Z",
     "start_time": "2020-04-07T04:29:26.631158Z"
    }
   },
   "outputs": [
    {
     "name": "stdout",
     "output_type": "stream",
     "text": [
      "+----+--------------+----+--------------+\n",
      "|p_id|date_timestamp|p_id|date_timestamp|\n",
      "+----+--------------+----+--------------+\n",
      "+----+--------------+----+--------------+\n",
      "\n"
     ]
    }
   ],
   "source": [
    "# Directly append new Inserted products\n",
    "from pyspark.sql.functions import *\n",
    "per_day_data_1 = per_day_data.filter(\n",
    "    per_day_data.record_type == 'U').select(['p_id', 'date_timestamp'])\n",
    "\n",
    "ppd_1 = per_day_data_1.alias('ppd_1')\n",
    "ppd_2 = per_day_data_1.alias('ppd_2')\n",
    "\n",
    "per_day_data_2 = ppd_1.join(\n",
    "    ppd_2, ppd_1.p_id == ppd_2.p_id, 'inner').where(ppd_1.date_timestamp > ppd_2.date_timestamp)\n",
    "\n",
    "per_day_data_2.show()\n",
    "# per_day_data_2 = per_day_data_1.select(\n",
    "#     ['p_id', 'p_name', 'price', 'Date_timestamp'])\n",
    "# mainTable_1 = mainTable.union(per_day_data_2)\n",
    "\n",
    "# # mainTable_1.count()"
   ]
  },
  {
   "cell_type": "code",
   "execution_count": 12,
   "metadata": {
    "ExecuteTime": {
     "end_time": "2020-04-07T04:29:28.400143Z",
     "start_time": "2020-04-07T04:29:28.385231Z"
    }
   },
   "outputs": [
    {
     "ename": "SyntaxError",
     "evalue": "invalid syntax (<ipython-input-12-3a1708ccd6af>, line 1)",
     "output_type": "error",
     "traceback": [
      "\u001b[0;36m  File \u001b[0;32m\"<ipython-input-12-3a1708ccd6af>\"\u001b[0;36m, line \u001b[0;32m1\u001b[0m\n\u001b[0;31m    ppd_2.select(\"hour(\"date_add_timestamp\").select()\u001b[0m\n\u001b[0m                                         ^\u001b[0m\n\u001b[0;31mSyntaxError\u001b[0m\u001b[0;31m:\u001b[0m invalid syntax\n"
     ]
    }
   ],
   "source": [
    "ppd_2.select(\"hour(\"date_add_timestamp\").select()"
   ]
  },
  {
   "cell_type": "code",
   "execution_count": 13,
   "metadata": {
    "ExecuteTime": {
     "end_time": "2020-04-07T04:29:29.256439Z",
     "start_time": "2020-04-07T04:29:29.224992Z"
    }
   },
   "outputs": [
    {
     "ename": "NameError",
     "evalue": "name 'mainTable_1' is not defined",
     "output_type": "error",
     "traceback": [
      "\u001b[0;31m---------------------------------------------------------------------\u001b[0m",
      "\u001b[0;31mNameError\u001b[0m                           Traceback (most recent call last)",
      "\u001b[0;32m<ipython-input-13-78cdcf56aae7>\u001b[0m in \u001b[0;36m<module>\u001b[0;34m\u001b[0m\n\u001b[1;32m      2\u001b[0m \u001b[0;34m\u001b[0m\u001b[0m\n\u001b[1;32m      3\u001b[0m \u001b[0;31m# Registers this DataFrame as a temporary table using the given name\u001b[0m\u001b[0;34m\u001b[0m\u001b[0;34m\u001b[0m\u001b[0;34m\u001b[0m\u001b[0m\n\u001b[0;32m----> 4\u001b[0;31m \u001b[0mmainTable_1\u001b[0m\u001b[0;34m.\u001b[0m\u001b[0mregisterTempTable\u001b[0m\u001b[0;34m(\u001b[0m\u001b[0;34m\"table_main\"\u001b[0m\u001b[0;34m)\u001b[0m\u001b[0;34m\u001b[0m\u001b[0;34m\u001b[0m\u001b[0m\n\u001b[0m\u001b[1;32m      5\u001b[0m \u001b[0mper_day_data\u001b[0m\u001b[0;34m.\u001b[0m\u001b[0mregisterTempTable\u001b[0m\u001b[0;34m(\u001b[0m\u001b[0;34m\"table_day\"\u001b[0m\u001b[0;34m)\u001b[0m\u001b[0;34m\u001b[0m\u001b[0;34m\u001b[0m\u001b[0m\n\u001b[1;32m      6\u001b[0m \u001b[0;34m\u001b[0m\u001b[0m\n",
      "\u001b[0;31mNameError\u001b[0m: name 'mainTable_1' is not defined"
     ]
    }
   ],
   "source": [
    "# Drop deleted products\n",
    "\n",
    "# Registers this DataFrame as a temporary table using the given name\n",
    "mainTable_1.registerTempTable(\"table_main\")\n",
    "per_day_data.registerTempTable(\"table_day\")\n",
    "\n",
    "mainTable_2 = spark.sql(\n",
    "    \"select * from table_main where p_id not in ( select p_id from table_day where record_type = 'D' )\")\n",
    "\n",
    "# mainTable_2.count()"
   ]
  },
  {
   "cell_type": "code",
   "execution_count": 14,
   "metadata": {
    "ExecuteTime": {
     "end_time": "2020-04-07T04:29:30.004700Z",
     "start_time": "2020-04-07T04:29:29.975876Z"
    }
   },
   "outputs": [
    {
     "ename": "NameError",
     "evalue": "name 'mainTable_2' is not defined",
     "output_type": "error",
     "traceback": [
      "\u001b[0;31m---------------------------------------------------------------------\u001b[0m",
      "\u001b[0;31mNameError\u001b[0m                           Traceback (most recent call last)",
      "\u001b[0;32m<ipython-input-14-ae82c6b08c96>\u001b[0m in \u001b[0;36m<module>\u001b[0;34m\u001b[0m\n\u001b[1;32m      1\u001b[0m \u001b[0;31m# update products\u001b[0m\u001b[0;34m\u001b[0m\u001b[0;34m\u001b[0m\u001b[0;34m\u001b[0m\u001b[0m\n\u001b[1;32m      2\u001b[0m \u001b[0;32mfrom\u001b[0m \u001b[0mpyspark\u001b[0m\u001b[0;34m.\u001b[0m\u001b[0msql\u001b[0m\u001b[0;34m.\u001b[0m\u001b[0mfunctions\u001b[0m \u001b[0;32mimport\u001b[0m \u001b[0;34m*\u001b[0m\u001b[0;34m\u001b[0m\u001b[0;34m\u001b[0m\u001b[0m\n\u001b[0;32m----> 3\u001b[0;31m \u001b[0mmainTable_2\u001b[0m\u001b[0;34m.\u001b[0m\u001b[0mselect\u001b[0m\u001b[0;34m(\u001b[0m \u001b[0mcountDistinct\u001b[0m\u001b[0;34m(\u001b[0m\u001b[0mmainTable_2\u001b[0m\u001b[0;34m.\u001b[0m\u001b[0mp_id\u001b[0m\u001b[0;34m)\u001b[0m \u001b[0;34m)\u001b[0m\u001b[0;34m.\u001b[0m\u001b[0mshow\u001b[0m\u001b[0;34m(\u001b[0m\u001b[0;34m)\u001b[0m\u001b[0;34m\u001b[0m\u001b[0;34m\u001b[0m\u001b[0m\n\u001b[0m",
      "\u001b[0;31mNameError\u001b[0m: name 'mainTable_2' is not defined"
     ]
    }
   ],
   "source": [
    "# update products\n",
    "from pyspark.sql.functions import *\n",
    "mainTable_2.select( countDistinct(mainTable_2.p_id) ).show()"
   ]
  },
  {
   "cell_type": "code",
   "execution_count": null,
   "metadata": {
    "ExecuteTime": {
     "end_time": "2020-03-26T10:09:09.851551Z",
     "start_time": "2020-03-26T10:09:02.795Z"
    }
   },
   "outputs": [],
   "source": [
    "mainTable_2.select('p_id').groupBy(\"p_id\").count().filter( \"count > 1\" ).show()"
   ]
  },
  {
   "cell_type": "code",
   "execution_count": null,
   "metadata": {},
   "outputs": [],
   "source": []
  }
 ],
 "metadata": {
  "hide_input": false,
  "kernelspec": {
   "display_name": "Python 3",
   "language": "python",
   "name": "python3"
  },
  "language_info": {
   "codemirror_mode": {
    "name": "ipython",
    "version": 3
   },
   "file_extension": ".py",
   "mimetype": "text/x-python",
   "name": "python",
   "nbconvert_exporter": "python",
   "pygments_lexer": "ipython3",
   "version": "3.7.7"
  },
  "varInspector": {
   "cols": {
    "lenName": 16,
    "lenType": 16,
    "lenVar": 40
   },
   "kernels_config": {
    "python": {
     "delete_cmd_postfix": "",
     "delete_cmd_prefix": "del ",
     "library": "var_list.py",
     "varRefreshCmd": "print(var_dic_list())"
    },
    "r": {
     "delete_cmd_postfix": ") ",
     "delete_cmd_prefix": "rm(",
     "library": "var_list.r",
     "varRefreshCmd": "cat(var_dic_list()) "
    }
   },
   "types_to_exclude": [
    "module",
    "function",
    "builtin_function_or_method",
    "instance",
    "_Feature"
   ],
   "window_display": false
  }
 },
 "nbformat": 4,
 "nbformat_minor": 2
}
