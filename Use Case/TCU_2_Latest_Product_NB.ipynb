{
 "cells": [
  {
   "cell_type": "code",
   "execution_count": 48,
   "metadata": {
    "ExecuteTime": {
     "end_time": "2020-03-25T12:03:58.852023Z",
     "start_time": "2020-03-25T12:03:58.834075Z"
    }
   },
   "outputs": [],
   "source": [
    "import datetime\n",
    "\n",
    "# Main entry point for DataFrame and SQL functionality.\n",
    "from pyspark.sql import SparkSession"
   ]
  },
  {
   "cell_type": "code",
   "execution_count": null,
   "metadata": {},
   "outputs": [],
   "source": [
    "# Start SPARK Session\n",
    "spark = SparkSession.builder.appName('Basics').getOrCreate()"
   ]
  },
  {
   "cell_type": "code",
   "execution_count": 2,
   "metadata": {
    "ExecuteTime": {
     "end_time": "2020-03-25T09:27:22.297290Z",
     "start_time": "2020-03-25T09:27:22.269375Z"
    }
   },
   "outputs": [],
   "source": [
    "# import pandas as pd\n",
    "# import datetime\n",
    "\n",
    "# # import data\n",
    "# data = pd.read_csv(\"/home/bluepi/Downloads/Update/product_info/main table/product_info.csv\")\n",
    "\n",
    "# # convert day column type to datetime\n",
    "# data['day'] = pd.to_datetime( data['day'], infer_datetime_format=True, yearfirst=True)\n",
    "\n",
    "# # create new column\n",
    "# data['date_timestamp'] = pd.to_datetime(data.day.astype(str) + ' ' + data.time)\n",
    "\n",
    "# # Drop old columns\n",
    "# data.drop(['day','time'],inplace=True,axis=1)\n",
    "\n",
    "# # Write to csv\n",
    "# data.to_csv(\"/home/bluepi/Downloads/Update/product_info/main table/main table.csv\", index=False)"
   ]
  },
  {
   "cell_type": "code",
   "execution_count": 3,
   "metadata": {
    "ExecuteTime": {
     "end_time": "2020-03-25T09:27:26.777019Z",
     "start_time": "2020-03-25T09:27:22.299889Z"
    }
   },
   "outputs": [],
   "source": [
    "mainTable = spark.read.format('csv').options(\n",
    "    header=True, inferschema=True).load(\n",
    "        \"/home/bluepi/Downloads/Update/product_info/main table/main table.csv\")"
   ]
  },
  {
   "cell_type": "code",
   "execution_count": 4,
   "metadata": {
    "ExecuteTime": {
     "end_time": "2020-03-25T09:27:26.808757Z",
     "start_time": "2020-03-25T09:27:26.778854Z"
    },
    "scrolled": true
   },
   "outputs": [
    {
     "name": "stdout",
     "output_type": "stream",
     "text": [
      "root\n",
      " |-- p_id: integer (nullable = true)\n",
      " |-- p_name: string (nullable = true)\n",
      " |-- price: integer (nullable = true)\n",
      " |-- date_timestamp: timestamp (nullable = true)\n",
      "\n"
     ]
    }
   ],
   "source": [
    "mainTable.printSchema()"
   ]
  },
  {
   "cell_type": "code",
   "execution_count": 36,
   "metadata": {
    "ExecuteTime": {
     "end_time": "2020-03-25T11:08:26.224356Z",
     "start_time": "2020-03-25T11:08:25.948882Z"
    },
    "scrolled": true
   },
   "outputs": [
    {
     "name": "stdout",
     "output_type": "stream",
     "text": [
      "+----+-----+---------+----+------+------+\n",
      "|Year|Month|DayOfYear|Hour|Minute|Second|\n",
      "+----+-----+---------+----+------+------+\n",
      "|2020|    9|      247|  19|    24|    25|\n",
      "|2020|    3|       78|  16|    41|    43|\n",
      "|2020|    8|      216|  22|    17|     5|\n",
      "+----+-----+---------+----+------+------+\n",
      "only showing top 3 rows\n",
      "\n",
      "None\n"
     ]
    }
   ],
   "source": [
    "from pyspark.sql.functions import year, month, dayofyear, hour, minute, second\n",
    "\n",
    "mainTable.select([year(mainTable['date_timestamp']).alias(\"Year\"),\n",
    "                  month(mainTable['date_timestamp']).alias(\"Month\"),\n",
    "                  dayofyear(mainTable['date_timestamp']).alias(\"DayOfYear\"),\n",
    "                  hour(mainTable['date_timestamp']).alias(\"Hour\"),\n",
    "                  minute(mainTable['date_timestamp']).alias(\"Minute\"),\n",
    "                  second(mainTable['date_timestamp']).alias(\"Second\")]).show(3)"
   ]
  },
  {
   "cell_type": "code",
   "execution_count": 47,
   "metadata": {
    "ExecuteTime": {
     "end_time": "2020-03-25T11:56:34.093300Z",
     "start_time": "2020-03-25T11:56:33.894528Z"
    },
    "collapsed": true
   },
   "outputs": [
    {
     "name": "stdout",
     "output_type": "stream",
     "text": [
      "+-------------------+\n",
      "|     date_timestamp|\n",
      "+-------------------+\n",
      "|2020-01-03 04:07:54|\n",
      "|2020-01-03 04:38:21|\n",
      "|2020-01-03 04:41:13|\n",
      "|2020-01-03 05:24:56|\n",
      "|2020-01-03 22:27:04|\n",
      "|2020-01-03 23:54:49|\n",
      "|2020-02-03 04:05:43|\n",
      "|2020-02-03 04:35:29|\n",
      "|2020-02-03 05:02:57|\n",
      "|2020-02-03 06:12:33|\n",
      "|2020-02-03 10:30:17|\n",
      "|2020-02-03 10:58:29|\n",
      "|2020-02-03 14:36:42|\n",
      "|2020-02-03 16:38:45|\n",
      "|2020-02-03 17:03:12|\n",
      "|2020-02-03 18:43:16|\n",
      "|2020-02-03 23:43:02|\n",
      "|2020-03-03 03:01:52|\n",
      "|2020-03-03 04:20:22|\n",
      "|2020-03-03 04:30:40|\n",
      "+-------------------+\n",
      "only showing top 20 rows\n",
      "\n"
     ]
    }
   ],
   "source": [
    "mainTable.select('date_timestamp').orderBy(mainTable.date_timestamp.asc()).show(20)"
   ]
  },
  {
   "cell_type": "code",
   "execution_count": 74,
   "metadata": {
    "ExecuteTime": {
     "end_time": "2020-03-25T13:32:41.795192Z",
     "start_time": "2020-03-25T13:32:41.473853Z"
    }
   },
   "outputs": [],
   "source": [
    "# Address to the product_info folder\n",
    "address = \"/home/bluepi/Downloads/Update/product_info/\"\n",
    "previous_day = (datetime.datetime.today() - datetime.timedelta(days=1)).strftime('%d-%m-%Y')\n",
    "\n",
    "# Address to the previous day folder\n",
    "new_address = address + previous_day\n",
    "\n",
    "# # read the previous day folder\n",
    "data = spark.read.format('csv') \\\n",
    "          .options( header=True, inferschema=True ) \\\n",
    "          .load(new_address)"
   ]
  },
  {
   "cell_type": "code",
   "execution_count": 75,
   "metadata": {
    "ExecuteTime": {
     "end_time": "2020-03-25T13:32:42.414130Z",
     "start_time": "2020-03-25T13:32:42.255572Z"
    }
   },
   "outputs": [
    {
     "name": "stdout",
     "output_type": "stream",
     "text": [
      "+----+--------+-----+-------------------+-----------+\n",
      "|p_id|  p_name|price|     Date_timestamp|record_type|\n",
      "+----+--------+-----+-------------------+-----------+\n",
      "| 179|Treeflex|  145|2020-03-24 22:05:51|          U|\n",
      "| 848| Regrant|  655|2020-03-24 21:55:48|          U|\n",
      "| 993| Fixflex|   21|2020-03-24 22:38:09|          U|\n",
      "+----+--------+-----+-------------------+-----------+\n",
      "only showing top 3 rows\n",
      "\n"
     ]
    }
   ],
   "source": [
    "data.show(3)"
   ]
  },
  {
   "cell_type": "code",
   "execution_count": 76,
   "metadata": {
    "ExecuteTime": {
     "end_time": "2020-03-25T13:32:43.293257Z",
     "start_time": "2020-03-25T13:32:43.088193Z"
    }
   },
   "outputs": [
    {
     "name": "stdout",
     "output_type": "stream",
     "text": [
      "+----+-----------+-----+-------------------+-----------+\n",
      "|p_id|     p_name|price|     Date_timestamp|record_type|\n",
      "+----+-----------+-----+-------------------+-----------+\n",
      "| 833|     Hatity|  277|2020-03-24 03:15:21|          D|\n",
      "| 855|    Veribet|  597|2020-03-24 03:17:59|          U|\n",
      "| 524|     Keylex|  264|2020-03-24 03:28:37|          D|\n",
      "| 153|    Quo Lux|  480|2020-03-24 03:34:15|          U|\n",
      "| 456|       Stim| 1302|2020-03-24 03:46:06|          U|\n",
      "| 251|         It| 1089|2020-03-24 03:48:56|          D|\n",
      "| 369|    Fintone|  525|2020-03-24 04:08:17|          U|\n",
      "| 524|       Stim| 1437|2020-03-24 04:09:53|          D|\n",
      "| 824|   Aerified| 1356|2020-03-24 04:22:22|          U|\n",
      "| 308|    Konklab|  387|2020-03-24 04:26:49|          U|\n",
      "| 251|    Zontrax|    7|2020-03-24 04:29:59|          D|\n",
      "| 851|      Alpha| 1019|2020-03-24 09:21:26|          U|\n",
      "| 853|    Konklab| 1315|2020-03-24 09:30:56|          U|\n",
      "| 669|    Sonsing|  309|2020-03-24 09:32:12|          U|\n",
      "| 466|    Fix San|  295|2020-03-24 09:34:32|          D|\n",
      "| 199| Voltsillam|   17|2020-03-24 09:35:53|          U|\n",
      "| 986|     Sub-Ex|   35|2020-03-24 09:41:02|          U|\n",
      "| 417|     Vagram|  782|2020-03-24 09:45:14|          I|\n",
      "| 944|    Cookley|  779|2020-03-24 09:47:10|          D|\n",
      "| 625|  Gembucket|  695|2020-03-24 09:49:32|          U|\n",
      "| 656|  Daltfresh|  271|2020-03-24 10:24:00|          D|\n",
      "| 965|       Stim|  753|2020-03-24 15:13:56|          D|\n",
      "| 947|    Regrant|  573|2020-03-24 15:15:08|          U|\n",
      "|1000|Stringtough|   73|2020-03-24 15:17:00|          D|\n",
      "| 745|    Fintone|  358|2020-03-24 15:30:49|          I|\n",
      "| 965|       Stim|  749|2020-03-24 15:31:51|          U|\n",
      "| 915|     Sub-Ex|  758|2020-03-24 15:32:34|          U|\n",
      "| 841|     Bamity|  678|2020-03-24 15:38:08|          U|\n",
      "| 308|    Konklab|  174|2020-03-24 16:02:59|          U|\n",
      "| 271|      Otcom| 1329|2020-03-24 16:14:10|          U|\n",
      "| 795|  Holdlamis|  940|2020-03-24 16:25:49|          U|\n",
      "| 469|      Zamit| 1339|2020-03-24 16:34:12|          U|\n",
      "| 644|  Lotstring|  107|2020-03-24 21:18:48|          U|\n",
      "| 469|      Zamit|  128|2020-03-24 21:21:08|          U|\n",
      "| 888|    Fix San| 1070|2020-03-24 21:39:41|          U|\n",
      "| 663|    Redhold|  462|2020-03-24 21:40:14|          U|\n",
      "| 199| Voltsillam| 1182|2020-03-24 21:53:43|          D|\n",
      "| 276|      Opela|  780|2020-03-24 21:55:19|          I|\n",
      "| 848|    Regrant|  655|2020-03-24 21:55:48|          U|\n",
      "| 761|  Lotstring|  605|2020-03-24 21:57:52|          U|\n",
      "+----+-----------+-----+-------------------+-----------+\n",
      "only showing top 40 rows\n",
      "\n"
     ]
    }
   ],
   "source": [
    "data.orderBy(data.Date_timestamp.asc()).show(40)"
   ]
  },
  {
   "cell_type": "code",
   "execution_count": null,
   "metadata": {},
   "outputs": [],
   "source": []
  }
 ],
 "metadata": {
  "kernelspec": {
   "display_name": "Python 3",
   "language": "python",
   "name": "python3"
  },
  "language_info": {
   "codemirror_mode": {
    "name": "ipython",
    "version": 3
   },
   "file_extension": ".py",
   "mimetype": "text/x-python",
   "name": "python",
   "nbconvert_exporter": "python",
   "pygments_lexer": "ipython3",
   "version": "3.7.7"
  },
  "varInspector": {
   "cols": {
    "lenName": 16,
    "lenType": 16,
    "lenVar": 40
   },
   "kernels_config": {
    "python": {
     "delete_cmd_postfix": "",
     "delete_cmd_prefix": "del ",
     "library": "var_list.py",
     "varRefreshCmd": "print(var_dic_list())"
    },
    "r": {
     "delete_cmd_postfix": ") ",
     "delete_cmd_prefix": "rm(",
     "library": "var_list.r",
     "varRefreshCmd": "cat(var_dic_list()) "
    }
   },
   "types_to_exclude": [
    "module",
    "function",
    "builtin_function_or_method",
    "instance",
    "_Feature"
   ],
   "window_display": false
  }
 },
 "nbformat": 4,
 "nbformat_minor": 2
}
