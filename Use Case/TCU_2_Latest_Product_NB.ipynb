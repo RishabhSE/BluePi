{
 "cells": [
  {
   "cell_type": "code",
   "execution_count": 1,
   "metadata": {
    "ExecuteTime": {
     "end_time": "2020-03-26T05:55:04.163537Z",
     "start_time": "2020-03-26T05:55:04.160257Z"
    }
   },
   "outputs": [],
   "source": [
    "import datetime\n",
    "\n",
    "# Main entry point for DataFrame and SQL functionality.\n",
    "from pyspark.sql import SparkSession"
   ]
  },
  {
   "cell_type": "code",
   "execution_count": 2,
   "metadata": {
    "ExecuteTime": {
     "end_time": "2020-03-26T05:55:06.439860Z",
     "start_time": "2020-03-26T05:55:06.430947Z"
    }
   },
   "outputs": [],
   "source": [
    "# Start SPARK Session\n",
    "spark = SparkSession.builder.appName('Basics').getOrCreate()"
   ]
  },
  {
   "cell_type": "code",
   "execution_count": 3,
   "metadata": {
    "ExecuteTime": {
     "end_time": "2020-03-25T18:59:17.037571Z",
     "start_time": "2020-03-25T18:59:17.033996Z"
    }
   },
   "outputs": [],
   "source": [
    "# import pandas as pd\n",
    "\n",
    "# # import data\n",
    "# data = pd.read_csv(\"/home/bluepi/Downloads/Update/product_info/main table/product_info.csv\")\n",
    "\n",
    "# # convert day column type to datetime\n",
    "# data['day'] = pd.to_datetime( data['day'], infer_datetime_format=True, yearfirst=True)\n",
    "\n",
    "# # create new column\n",
    "# data['date_timestamp'] = pd.to_datetime(data.day.astype(str) + ' ' + data.time)\n",
    "\n",
    "# # Drop old columns\n",
    "# data.drop(['day','time'],inplace=True,axis=1)\n",
    "\n",
    "# # Write to csv\n",
    "# data.to_csv(\"/home/bluepi/Downloads/Update/Updated Product/Latest Product/main table.csv\", index=False)"
   ]
  },
  {
   "cell_type": "code",
   "execution_count": 3,
   "metadata": {
    "ExecuteTime": {
     "end_time": "2020-03-26T05:55:13.420142Z",
     "start_time": "2020-03-26T05:55:09.084263Z"
    }
   },
   "outputs": [],
   "source": [
    "mainTable = spark.read.format('csv').options(\n",
    "    header=True, inferschema=True).load(\n",
    "        \"/home/bluepi/Downloads/Update/product_info/main table/main table.csv\")"
   ]
  },
  {
   "cell_type": "code",
   "execution_count": 4,
   "metadata": {
    "ExecuteTime": {
     "end_time": "2020-03-26T05:55:17.959605Z",
     "start_time": "2020-03-26T05:55:17.945731Z"
    },
    "scrolled": true
   },
   "outputs": [
    {
     "name": "stdout",
     "output_type": "stream",
     "text": [
      "root\n",
      " |-- p_id: integer (nullable = true)\n",
      " |-- p_name: string (nullable = true)\n",
      " |-- price: integer (nullable = true)\n",
      " |-- date_timestamp: timestamp (nullable = true)\n",
      "\n"
     ]
    }
   ],
   "source": [
    "mainTable.printSchema()"
   ]
  },
  {
   "cell_type": "code",
   "execution_count": 5,
   "metadata": {
    "ExecuteTime": {
     "end_time": "2020-03-26T05:55:23.287661Z",
     "start_time": "2020-03-26T05:55:22.919578Z"
    },
    "scrolled": true
   },
   "outputs": [
    {
     "name": "stdout",
     "output_type": "stream",
     "text": [
      "+----+-----+---------+----+------+------+\n",
      "|Year|Month|DayOfYear|Hour|Minute|Second|\n",
      "+----+-----+---------+----+------+------+\n",
      "|2020|    5|      123|   8|     6|    42|\n",
      "|2020|    2|       33|   8|     2|    22|\n",
      "|2020|    2|       59|   7|    58|     8|\n",
      "+----+-----+---------+----+------+------+\n",
      "only showing top 3 rows\n",
      "\n"
     ]
    }
   ],
   "source": [
    "from pyspark.sql.functions import year, month, dayofyear, hour, minute, second\n",
    "\n",
    "mainTable.select([year(mainTable['date_timestamp']).alias(\"Year\"),\n",
    "                  month(mainTable['date_timestamp']).alias(\"Month\"),\n",
    "                  dayofyear(mainTable['date_timestamp']).alias(\"DayOfYear\"),\n",
    "                  hour(mainTable['date_timestamp']).alias(\"Hour\"),\n",
    "                  minute(mainTable['date_timestamp']).alias(\"Minute\"),\n",
    "                  second(mainTable['date_timestamp']).alias(\"Second\")]).show(3)"
   ]
  },
  {
   "cell_type": "code",
   "execution_count": 8,
   "metadata": {
    "ExecuteTime": {
     "end_time": "2020-03-26T05:56:01.433999Z",
     "start_time": "2020-03-26T05:56:01.270456Z"
    }
   },
   "outputs": [
    {
     "name": "stdout",
     "output_type": "stream",
     "text": [
      "+-------------------+\n",
      "|     date_timestamp|\n",
      "+-------------------+\n",
      "|2020-01-02 01:25:16|\n",
      "|2020-01-02 05:05:59|\n",
      "|2020-01-02 05:54:01|\n",
      "|2020-01-02 09:08:05|\n",
      "|2020-01-02 20:11:17|\n",
      "|2020-02-02 01:16:34|\n",
      "+-------------------+\n",
      "only showing top 6 rows\n",
      "\n"
     ]
    }
   ],
   "source": [
    "mainTable.select('date_timestamp').orderBy(mainTable.date_timestamp.asc()).show(6)"
   ]
  },
  {
   "cell_type": "code",
   "execution_count": 26,
   "metadata": {
    "ExecuteTime": {
     "end_time": "2020-03-26T08:50:47.890018Z",
     "start_time": "2020-03-26T08:50:47.566238Z"
    }
   },
   "outputs": [],
   "source": [
    "# Address to the product_info folder\n",
    "address = \"/home/bluepi/Downloads/Update/product_info/\"\n",
    "previous_day = (datetime.datetime.today() - datetime.timedelta(days=6)).strftime('%d-%m-%Y')\n",
    "\n",
    "# Address to the Previous Day folder\n",
    "new_address = address + previous_day\n",
    "\n",
    "# Read the Previous Day folder\n",
    "per_day_data = spark.read.format('csv') \\\n",
    "          .options( header=True, inferschema=True ) \\\n",
    "          .load(new_address)"
   ]
  },
  {
   "cell_type": "code",
   "execution_count": 27,
   "metadata": {
    "ExecuteTime": {
     "end_time": "2020-03-26T08:50:48.347269Z",
     "start_time": "2020-03-26T08:50:48.049384Z"
    }
   },
   "outputs": [
    {
     "name": "stdout",
     "output_type": "stream",
     "text": [
      "+----+-----------+-----+-------------------+-----------+\n",
      "|p_id|     p_name|price|     Date_timestamp|record_type|\n",
      "+----+-----------+-----+-------------------+-----------+\n",
      "| 117|Ventosanzap| 1498|2020-03-20 01:01:40|          D|\n",
      "| 210|Solarbreeze| 1630|2020-03-20 01:09:29|          I|\n",
      "| 196|     Tresom| 1609|2020-03-20 01:21:52|          D|\n",
      "| 206|      Alpha| 1182|2020-03-20 01:30:40|          I|\n",
      "| 226|  Lotstring| 1515|2020-03-20 01:46:50|          I|\n",
      "|  50|     Bamity| 1567|2020-03-20 01:53:06|          D|\n",
      "| 132|         It| 1684|2020-03-20 01:58:20|          D|\n",
      "|  44|       Stim|  482|2020-03-20 06:52:19|          U|\n",
      "|  66|Toughjoyfax| 1248|2020-03-20 06:54:28|          U|\n",
      "|   6|    Andalax| 1173|2020-03-20 06:59:30|          U|\n",
      "|  71|      Opela| 1260|2020-03-20 07:02:18|          U|\n",
      "| 214|    Bitwolf|  910|2020-03-20 07:37:27|          I|\n",
      "| 233|     Tresom| 1690|2020-03-20 07:40:11|          I|\n",
      "| 216|     Lotlux|  613|2020-03-20 07:40:49|          I|\n",
      "|  55|      Alpha|  468|2020-03-20 07:52:07|          U|\n",
      "| 108| Trippledex| 1411|2020-03-20 08:06:28|          D|\n",
      "| 118|    Flexidy|  917|2020-03-20 08:07:59|          U|\n",
      "| 182|Ventosanzap| 1360|2020-03-20 08:10:48|          U|\n",
      "| 174|      Opela|  126|2020-03-20 12:48:49|          D|\n",
      "|  24|         It| 1236|2020-03-20 12:55:38|          U|\n",
      "|  26|   Alphazap|  590|2020-03-20 13:01:06|          U|\n",
      "| 228|   Aerified|  499|2020-03-20 13:28:37|          I|\n",
      "| 249|    Andalax| 1857|2020-03-20 13:29:38|          I|\n",
      "| 109|Ventosanzap|  453|2020-03-20 14:02:28|          D|\n",
      "| 171|     Zathin|  487|2020-03-20 14:06:11|          D|\n",
      "| 143|    Flexidy|  351|2020-03-20 18:59:21|          D|\n",
      "| 100|Stringtough|  911|2020-03-20 19:09:44|          D|\n",
      "| 112|    Zontrax|  644|2020-03-20 19:13:14|          U|\n",
      "| 130|Solarbreeze|  725|2020-03-20 19:15:38|          U|\n",
      "|  24|         It|  715|2020-03-20 19:33:39|          U|\n",
      "| 243|   Tampflex| 1341|2020-03-20 19:36:02|          I|\n",
      "| 250|   Alphazap| 1194|2020-03-20 19:42:54|          I|\n",
      "| 134|   Bytecard|  831|2020-03-20 19:47:30|          U|\n",
      "|  42|   Alphazap|  808|2020-03-20 19:49:28|          U|\n",
      "| 118|    Flexidy| 1615|2020-03-20 19:53:47|          D|\n",
      "| 224|   Wrapsafe|  935|2020-03-20 19:57:29|          I|\n",
      "| 237|   Aerified|  355|2020-03-20 20:00:52|          I|\n",
      "| 192| Stronghold|  239|2020-03-20 20:03:41|          U|\n",
      "| 228|   Aerified|  499|2020-03-20 20:03:41|          I|\n",
      "|  47|   Transcof|  434|2020-03-20 20:06:38|          U|\n",
      "+----+-----------+-----+-------------------+-----------+\n",
      "\n"
     ]
    }
   ],
   "source": [
    "# per_day_data.show(3)\n",
    "per_day_data.orderBy(per_day_data.Date_timestamp.asc()).show(60)\n",
    "# per_day_data.printSchema()"
   ]
  },
  {
   "cell_type": "code",
   "execution_count": 10,
   "metadata": {
    "ExecuteTime": {
     "end_time": "2020-03-25T18:59:23.776675Z",
     "start_time": "2020-03-25T18:59:23.766567Z"
    }
   },
   "outputs": [],
   "source": [
    "# # Create the schema\n",
    "# from pyspark.sql.types import *\n",
    "\n",
    "# schema = StructType([StructField(\"p_id\", IntegerType(), True),\n",
    "#                      StructField(\"p_name\", StringType(), True),\n",
    "#                      StructField(\"price\", IntegerType(), True),\n",
    "#                      StructField(\"Date_timestamp\", TimestampType() , True),\n",
    "#                      StructField(\"record_type\", StringType(), True)\n",
    "#                      ])\n",
    "# # Create latest proct table\n",
    "# # Initially it is empty no updates\n",
    "# Latest_Product_Table = spark.createDataFrame([], schema)"
   ]
  },
  {
   "cell_type": "code",
   "execution_count": 29,
   "metadata": {
    "ExecuteTime": {
     "end_time": "2020-03-26T08:52:05.521448Z",
     "start_time": "2020-03-26T08:52:05.233267Z"
    }
   },
   "outputs": [
    {
     "name": "stdout",
     "output_type": "stream",
     "text": [
      "+----+-------------------+----+-------------------+\n",
      "|p_id|     date_timestamp|p_id|     date_timestamp|\n",
      "+----+-------------------+----+-------------------+\n",
      "| 250|2020-03-20 19:42:54| 250|2020-03-20 19:42:54|\n",
      "| 228|2020-03-20 20:03:41| 228|2020-03-20 13:28:37|\n",
      "| 228|2020-03-20 20:03:41| 228|2020-03-20 20:03:41|\n",
      "| 243|2020-03-20 19:36:02| 243|2020-03-20 19:36:02|\n",
      "| 237|2020-03-20 20:00:52| 237|2020-03-20 20:00:52|\n",
      "| 224|2020-03-20 19:57:29| 224|2020-03-20 19:57:29|\n",
      "| 233|2020-03-20 07:40:11| 233|2020-03-20 07:40:11|\n",
      "| 216|2020-03-20 07:40:49| 216|2020-03-20 07:40:49|\n",
      "| 214|2020-03-20 07:37:27| 214|2020-03-20 07:37:27|\n",
      "| 210|2020-03-20 01:09:29| 210|2020-03-20 01:09:29|\n",
      "| 206|2020-03-20 01:30:40| 206|2020-03-20 01:30:40|\n",
      "| 226|2020-03-20 01:46:50| 226|2020-03-20 01:46:50|\n",
      "| 249|2020-03-20 13:29:38| 249|2020-03-20 13:29:38|\n",
      "| 228|2020-03-20 13:28:37| 228|2020-03-20 13:28:37|\n",
      "| 228|2020-03-20 13:28:37| 228|2020-03-20 20:03:41|\n",
      "+----+-------------------+----+-------------------+\n",
      "\n"
     ]
    }
   ],
   "source": [
    "# Directly append new Inserted products\n",
    "from pyspark.sql.functions import *\n",
    "per_day_data_1 = per_day_data.filter(\n",
    "    per_day_data.record_type == 'I').select(['p_id', 'date_timestamp'])\n",
    "\n",
    "ppd_1 = per_day_data_1.alias('ppd_1')\n",
    "ppd_2 = per_day_data_1.alias('ppd_2')\n",
    "\n",
    "per_day_data_2 = ppd_1.join(\n",
    "    ppd_2, ppd_1.p_id == ppd_2.p_id, 'inner').filter(ppd_1.date_timestamp > ppd_2.date_timestamp)\n",
    "\n",
    "per_day_data_2.show()\n",
    "# per_day_data_2 = per_day_data_1.select(\n",
    "#     ['p_id', 'p_name', 'price', 'Date_timestamp'])\n",
    "# mainTable_1 = mainTable.union(per_day_data_2)\n",
    "\n",
    "# # mainTable_1.count()"
   ]
  },
  {
   "cell_type": "code",
   "execution_count": 31,
   "metadata": {
    "ExecuteTime": {
     "end_time": "2020-03-26T08:52:50.333473Z",
     "start_time": "2020-03-26T08:52:50.288892Z"
    }
   },
   "outputs": [
    {
     "ename": "NameError",
     "evalue": "name 'mainTable_1' is not defined",
     "output_type": "error",
     "traceback": [
      "\u001b[0;31m---------------------------------------------------------------------------\u001b[0m",
      "\u001b[0;31mNameError\u001b[0m                                 Traceback (most recent call last)",
      "\u001b[0;32m<ipython-input-31-78cdcf56aae7>\u001b[0m in \u001b[0;36m<module>\u001b[0;34m\u001b[0m\n\u001b[1;32m      2\u001b[0m \u001b[0;34m\u001b[0m\u001b[0m\n\u001b[1;32m      3\u001b[0m \u001b[0;31m# Registers this DataFrame as a temporary table using the given name\u001b[0m\u001b[0;34m\u001b[0m\u001b[0;34m\u001b[0m\u001b[0;34m\u001b[0m\u001b[0m\n\u001b[0;32m----> 4\u001b[0;31m \u001b[0mmainTable_1\u001b[0m\u001b[0;34m.\u001b[0m\u001b[0mregisterTempTable\u001b[0m\u001b[0;34m(\u001b[0m\u001b[0;34m\"table_main\"\u001b[0m\u001b[0;34m)\u001b[0m\u001b[0;34m\u001b[0m\u001b[0;34m\u001b[0m\u001b[0m\n\u001b[0m\u001b[1;32m      5\u001b[0m \u001b[0mper_day_data\u001b[0m\u001b[0;34m.\u001b[0m\u001b[0mregisterTempTable\u001b[0m\u001b[0;34m(\u001b[0m\u001b[0;34m\"table_day\"\u001b[0m\u001b[0;34m)\u001b[0m\u001b[0;34m\u001b[0m\u001b[0;34m\u001b[0m\u001b[0m\n\u001b[1;32m      6\u001b[0m \u001b[0;34m\u001b[0m\u001b[0m\n",
      "\u001b[0;31mNameError\u001b[0m: name 'mainTable_1' is not defined"
     ]
    }
   ],
   "source": [
    "# Drop deleted products\n",
    "\n",
    "# Registers this DataFrame as a temporary table using the given name\n",
    "mainTable_1.registerTempTable(\"table_main\")\n",
    "per_day_data.registerTempTable(\"table_day\")\n",
    "\n",
    "mainTable_2 = spark.sql(\n",
    "    \"select * from table_main where p_id not in ( select p_id from table_day where record_type = 'D' )\")\n",
    "\n",
    "# mainTable_2.count()"
   ]
  },
  {
   "cell_type": "code",
   "execution_count": 25,
   "metadata": {
    "ExecuteTime": {
     "end_time": "2020-03-25T19:46:22.670782Z",
     "start_time": "2020-03-25T19:46:21.108652Z"
    }
   },
   "outputs": [
    {
     "name": "stdout",
     "output_type": "stream",
     "text": [
      "+--------------------+\n",
      "|count(DISTINCT p_id)|\n",
      "+--------------------+\n",
      "|                 206|\n",
      "+--------------------+\n",
      "\n"
     ]
    }
   ],
   "source": [
    "# update products\n",
    "from pyspark.sql.functions import *\n",
    "mainTable_2.select( countDistinct(mainTable_2.p_id) ).show()"
   ]
  },
  {
   "cell_type": "code",
   "execution_count": 30,
   "metadata": {
    "ExecuteTime": {
     "end_time": "2020-03-26T08:52:31.783439Z",
     "start_time": "2020-03-26T08:52:31.757764Z"
    }
   },
   "outputs": [
    {
     "ename": "NameError",
     "evalue": "name 'mainTable_2' is not defined",
     "output_type": "error",
     "traceback": [
      "\u001b[0;31m---------------------------------------------------------------------------\u001b[0m",
      "\u001b[0;31mNameError\u001b[0m                                 Traceback (most recent call last)",
      "\u001b[0;32m<ipython-input-30-5b3c68644f6e>\u001b[0m in \u001b[0;36m<module>\u001b[0;34m\u001b[0m\n\u001b[0;32m----> 1\u001b[0;31m \u001b[0mmainTable_2\u001b[0m\u001b[0;34m.\u001b[0m\u001b[0mselect\u001b[0m\u001b[0;34m(\u001b[0m\u001b[0;34m'p_id'\u001b[0m\u001b[0;34m)\u001b[0m\u001b[0;34m.\u001b[0m\u001b[0mgroupBy\u001b[0m\u001b[0;34m(\u001b[0m\u001b[0;34m\"p_id\"\u001b[0m\u001b[0;34m)\u001b[0m\u001b[0;34m.\u001b[0m\u001b[0mcount\u001b[0m\u001b[0;34m(\u001b[0m\u001b[0;34m)\u001b[0m\u001b[0;34m.\u001b[0m\u001b[0mfilter\u001b[0m\u001b[0;34m(\u001b[0m \u001b[0;34m\"count > 1\"\u001b[0m \u001b[0;34m)\u001b[0m\u001b[0;34m.\u001b[0m\u001b[0mshow\u001b[0m\u001b[0;34m(\u001b[0m\u001b[0;34m)\u001b[0m\u001b[0;34m\u001b[0m\u001b[0;34m\u001b[0m\u001b[0m\n\u001b[0m",
      "\u001b[0;31mNameError\u001b[0m: name 'mainTable_2' is not defined"
     ]
    }
   ],
   "source": [
    "mainTable_2.select('p_id').groupBy(\"p_id\").count().filter( \"count > 1\" ).show()"
   ]
  },
  {
   "cell_type": "code",
   "execution_count": null,
   "metadata": {},
   "outputs": [],
   "source": []
  }
 ],
 "metadata": {
  "kernelspec": {
   "display_name": "Python 3",
   "language": "python",
   "name": "python3"
  },
  "language_info": {
   "codemirror_mode": {
    "name": "ipython",
    "version": 3
   },
   "file_extension": ".py",
   "mimetype": "text/x-python",
   "name": "python",
   "nbconvert_exporter": "python",
   "pygments_lexer": "ipython3",
   "version": "3.7.7"
  },
  "varInspector": {
   "cols": {
    "lenName": 16,
    "lenType": 16,
    "lenVar": 40
   },
   "kernels_config": {
    "python": {
     "delete_cmd_postfix": "",
     "delete_cmd_prefix": "del ",
     "library": "var_list.py",
     "varRefreshCmd": "print(var_dic_list())"
    },
    "r": {
     "delete_cmd_postfix": ") ",
     "delete_cmd_prefix": "rm(",
     "library": "var_list.r",
     "varRefreshCmd": "cat(var_dic_list()) "
    }
   },
   "types_to_exclude": [
    "module",
    "function",
    "builtin_function_or_method",
    "instance",
    "_Feature"
   ],
   "window_display": false
  }
 },
 "nbformat": 4,
 "nbformat_minor": 2
}
