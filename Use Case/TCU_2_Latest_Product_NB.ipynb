{
 "cells": [
  {
   "cell_type": "code",
   "execution_count": 10,
   "metadata": {
    "ExecuteTime": {
     "end_time": "2020-03-25T15:21:53.396474Z",
     "start_time": "2020-03-25T15:21:53.389607Z"
    }
   },
   "outputs": [],
   "source": [
    "import datetime\n",
    "\n",
    "# Main entry point for DataFrame and SQL functionality.\n",
    "from pyspark.sql import SparkSession"
   ]
  },
  {
   "cell_type": "code",
   "execution_count": 11,
   "metadata": {
    "ExecuteTime": {
     "end_time": "2020-03-25T15:21:53.924092Z",
     "start_time": "2020-03-25T15:21:53.918204Z"
    }
   },
   "outputs": [],
   "source": [
    "# Start SPARK Session\n",
    "spark = SparkSession.builder.appName('Basics').getOrCreate()"
   ]
  },
  {
   "cell_type": "code",
   "execution_count": 12,
   "metadata": {
    "ExecuteTime": {
     "end_time": "2020-03-25T15:21:54.573246Z",
     "start_time": "2020-03-25T15:21:54.546433Z"
    }
   },
   "outputs": [],
   "source": [
    "import pandas as pd\n",
    "\n",
    "# import data\n",
    "data = pd.read_csv(\"/home/bluepi/Downloads/Update/product_info/main table/product_info_new.csv\")\n",
    "\n",
    "# convert day column type to datetime\n",
    "data['day'] = pd.to_datetime( data['day'], infer_datetime_format=True, yearfirst=True)\n",
    "\n",
    "# create new column\n",
    "data['date_timestamp'] = pd.to_datetime(data.day.astype(str) + ' ' + data.time)\n",
    "\n",
    "# Drop old columns\n",
    "data.drop(['day','time'],inplace=True,axis=1)\n",
    "\n",
    "# Write to csv\n",
    "data.to_csv(\"/home/bluepi/Downloads/Update/product_info/main table/main table.csv\", index=False)"
   ]
  },
  {
   "cell_type": "code",
   "execution_count": 13,
   "metadata": {
    "ExecuteTime": {
     "end_time": "2020-03-25T15:21:57.223648Z",
     "start_time": "2020-03-25T15:21:56.726701Z"
    }
   },
   "outputs": [],
   "source": [
    "mainTable = spark.read.format('csv').options(\n",
    "    header=True, inferschema=True).load(\n",
    "        \"/home/bluepi/Downloads/Update/product_info/main table/main table.csv\")"
   ]
  },
  {
   "cell_type": "code",
   "execution_count": 14,
   "metadata": {
    "ExecuteTime": {
     "end_time": "2020-03-25T15:21:58.207038Z",
     "start_time": "2020-03-25T15:21:58.195307Z"
    },
    "scrolled": true
   },
   "outputs": [
    {
     "name": "stdout",
     "output_type": "stream",
     "text": [
      "root\n",
      " |-- p_id: integer (nullable = true)\n",
      " |-- p_name: string (nullable = true)\n",
      " |-- price: integer (nullable = true)\n",
      " |-- date_timestamp: timestamp (nullable = true)\n",
      "\n"
     ]
    }
   ],
   "source": [
    "mainTable.printSchema()"
   ]
  },
  {
   "cell_type": "code",
   "execution_count": 6,
   "metadata": {
    "ExecuteTime": {
     "end_time": "2020-03-25T15:13:37.743333Z",
     "start_time": "2020-03-25T15:13:37.325916Z"
    },
    "scrolled": true
   },
   "outputs": [
    {
     "name": "stdout",
     "output_type": "stream",
     "text": [
      "+----+-----+---------+----+------+------+\n",
      "|Year|Month|DayOfYear|Hour|Minute|Second|\n",
      "+----+-----+---------+----+------+------+\n",
      "|2020|    3|       62|   0|    17|    38|\n",
      "|2020|    5|      124|  20|    40|    18|\n",
      "|2020|    2|       59|  23|     2|     1|\n",
      "+----+-----+---------+----+------+------+\n",
      "only showing top 3 rows\n",
      "\n"
     ]
    }
   ],
   "source": [
    "from pyspark.sql.functions import year, month, dayofyear, hour, minute, second\n",
    "\n",
    "mainTable.select([year(mainTable['date_timestamp']).alias(\"Year\"),\n",
    "                  month(mainTable['date_timestamp']).alias(\"Month\"),\n",
    "                  dayofyear(mainTable['date_timestamp']).alias(\"DayOfYear\"),\n",
    "                  hour(mainTable['date_timestamp']).alias(\"Hour\"),\n",
    "                  minute(mainTable['date_timestamp']).alias(\"Minute\"),\n",
    "                  second(mainTable['date_timestamp']).alias(\"Second\")]).show(3)"
   ]
  },
  {
   "cell_type": "code",
   "execution_count": 7,
   "metadata": {
    "ExecuteTime": {
     "end_time": "2020-03-25T15:13:42.092709Z",
     "start_time": "2020-03-25T15:13:41.798968Z"
    },
    "collapsed": true
   },
   "outputs": [
    {
     "name": "stdout",
     "output_type": "stream",
     "text": [
      "+-------------------+\n",
      "|     date_timestamp|\n",
      "+-------------------+\n",
      "|2020-01-01 01:07:06|\n",
      "|2020-01-01 06:29:06|\n",
      "|2020-01-01 15:55:41|\n",
      "|2020-01-01 20:13:51|\n",
      "|2020-01-01 22:26:12|\n",
      "|2020-01-01 23:28:07|\n",
      "|2020-01-02 11:32:34|\n",
      "|2020-01-03 02:03:55|\n",
      "|2020-01-03 09:41:29|\n",
      "|2020-01-03 18:46:47|\n",
      "|2020-01-03 20:53:19|\n",
      "|2020-01-03 23:08:46|\n",
      "|2020-01-13 02:20:05|\n",
      "|2020-01-13 11:13:07|\n",
      "|2020-01-13 20:58:38|\n",
      "|2020-01-14 00:14:04|\n",
      "|2020-01-14 00:15:12|\n",
      "|2020-01-14 15:37:46|\n",
      "|2020-01-14 21:56:14|\n",
      "|2020-01-15 03:06:00|\n",
      "+-------------------+\n",
      "only showing top 20 rows\n",
      "\n"
     ]
    }
   ],
   "source": [
    "mainTable.select('date_timestamp').orderBy(mainTable.date_timestamp.asc()).show(20)"
   ]
  },
  {
   "cell_type": "code",
   "execution_count": 104,
   "metadata": {
    "ExecuteTime": {
     "end_time": "2020-03-25T14:33:47.432308Z",
     "start_time": "2020-03-25T14:33:47.005288Z"
    }
   },
   "outputs": [],
   "source": [
    "# Address to the product_info folder\n",
    "address = \"/home/bluepi/Downloads/Update/product_info/\"\n",
    "previous_day = (datetime.datetime.today() - datetime.timedelta(days=6)).strftime('%d-%m-%Y')\n",
    "\n",
    "# Address to the Previous Day folder\n",
    "new_address = address + previous_day\n",
    "\n",
    "# Read the Previous Day folder\n",
    "per_day_data = spark.read.format('csv') \\\n",
    "          .options( header=True, inferschema=True ) \\\n",
    "          .load(new_address)"
   ]
  },
  {
   "cell_type": "code",
   "execution_count": 105,
   "metadata": {
    "ExecuteTime": {
     "end_time": "2020-03-25T14:33:49.402067Z",
     "start_time": "2020-03-25T14:33:49.390379Z"
    }
   },
   "outputs": [
    {
     "name": "stdout",
     "output_type": "stream",
     "text": [
      "root\n",
      " |-- p_id: integer (nullable = true)\n",
      " |-- p_name: string (nullable = true)\n",
      " |-- price: integer (nullable = true)\n",
      " |-- Date_timestamp: timestamp (nullable = true)\n",
      " |-- record_type: string (nullable = true)\n",
      "\n"
     ]
    }
   ],
   "source": [
    "# per_day_data.show(3)\n",
    "# per_day_data.orderBy(per_day_data.Date_timestamp.asc()).show(60)\n",
    "per_day_data.printSchema()"
   ]
  },
  {
   "cell_type": "code",
   "execution_count": 100,
   "metadata": {
    "ExecuteTime": {
     "end_time": "2020-03-25T14:17:27.162078Z",
     "start_time": "2020-03-25T14:17:26.866600Z"
    }
   },
   "outputs": [],
   "source": [
    "# # Create the schema\n",
    "# from pyspark.sql.types import *\n",
    "\n",
    "# schema = StructType([StructField(\"p_id\", IntegerType(), True),\n",
    "#                      StructField(\"p_name\", StringType(), True),\n",
    "#                      StructField(\"price\", IntegerType(), True),\n",
    "#                      StructField(\"Date_timestamp\", TimestampType() , True),\n",
    "#                      StructField(\"record_type\", StringType(), True)\n",
    "#                      ])\n",
    "# # Create latest proct table\n",
    "# # Initially it is empty no updates\n",
    "# Latest_Product_Table = spark.createDataFrame([], schema)"
   ]
  },
  {
   "cell_type": "code",
   "execution_count": 110,
   "metadata": {
    "ExecuteTime": {
     "end_time": "2020-03-25T14:46:24.374522Z",
     "start_time": "2020-03-25T14:46:24.133800Z"
    },
    "scrolled": true
   },
   "outputs": [
    {
     "name": "stdout",
     "output_type": "stream",
     "text": [
      "+----+-----------+-----+-------------------+-----------+\n",
      "|p_id|     p_name|price|     Date_timestamp|record_type|\n",
      "+----+-----------+-----+-------------------+-----------+\n",
      "| 929|     Latlux|   68|2020-03-19 16:14:38|          I|\n",
      "| 417|     Vagram|  782|2020-03-19 15:22:08|          I|\n",
      "| 279|Solarbreeze| 1368|2020-03-19 15:34:58|          I|\n",
      "| 725|    Sonsing|  640|2020-03-19 15:49:46|          I|\n",
      "| 675|     Tresom| 1368|2020-03-19 15:54:15|          I|\n",
      "| 929|     Latlux|   68|2020-03-19 03:34:46|          I|\n",
      "| 249|   Aerified|  265|2020-03-19 04:37:18|          I|\n",
      "| 335|       Rank|  165|2020-03-19 21:44:51|          I|\n",
      "| 834|       Span|  792|2020-03-19 10:04:51|          I|\n",
      "| 157|       Span| 1217|2020-03-19 10:33:53|          I|\n",
      "| 980|     Lotlux|  618|2020-03-19 10:05:23|          I|\n",
      "| 404|   Domainer| 1173|2020-03-19 10:37:48|          I|\n",
      "+----+-----------+-----+-------------------+-----------+\n",
      "\n"
     ]
    }
   ],
   "source": [
    "per_day_data.filter( per_day_data.record_type == 'I' ).show()"
   ]
  },
  {
   "cell_type": "code",
   "execution_count": 15,
   "metadata": {
    "ExecuteTime": {
     "end_time": "2020-03-25T15:22:17.053651Z",
     "start_time": "2020-03-25T15:22:15.709463Z"
    }
   },
   "outputs": [
    {
     "name": "stdout",
     "output_type": "stream",
     "text": [
      "+--------------------+\n",
      "|count(DISTINCT p_id)|\n",
      "+--------------------+\n",
      "|                 200|\n",
      "+--------------------+\n",
      "\n"
     ]
    }
   ],
   "source": [
    "from pyspark.sql.functions import countDistinct,count\n",
    "mainTable.select(countDistinct(mainTable.p_id)).show()\n",
    "# mainTable.count()"
   ]
  }
 ],
 "metadata": {
  "kernelspec": {
   "display_name": "Python 3",
   "language": "python",
   "name": "python3"
  },
  "language_info": {
   "codemirror_mode": {
    "name": "ipython",
    "version": 3
   },
   "file_extension": ".py",
   "mimetype": "text/x-python",
   "name": "python",
   "nbconvert_exporter": "python",
   "pygments_lexer": "ipython3",
   "version": "3.7.7"
  },
  "varInspector": {
   "cols": {
    "lenName": 16,
    "lenType": 16,
    "lenVar": 40
   },
   "kernels_config": {
    "python": {
     "delete_cmd_postfix": "",
     "delete_cmd_prefix": "del ",
     "library": "var_list.py",
     "varRefreshCmd": "print(var_dic_list())"
    },
    "r": {
     "delete_cmd_postfix": ") ",
     "delete_cmd_prefix": "rm(",
     "library": "var_list.r",
     "varRefreshCmd": "cat(var_dic_list()) "
    }
   },
   "types_to_exclude": [
    "module",
    "function",
    "builtin_function_or_method",
    "instance",
    "_Feature"
   ],
   "window_display": false
  }
 },
 "nbformat": 4,
 "nbformat_minor": 2
}
