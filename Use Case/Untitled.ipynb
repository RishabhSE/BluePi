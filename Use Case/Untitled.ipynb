{
 "cells": [
  {
   "cell_type": "code",
   "execution_count": 1,
   "metadata": {
    "ExecuteTime": {
     "end_time": "2020-04-09T12:08:30.545113Z",
     "start_time": "2020-04-09T12:08:30.524678Z"
    }
   },
   "outputs": [],
   "source": [
    "import datetime\n",
    "import os\n",
    "\n",
    "# Main entry point for DataFrame and SQL functionality.\n",
    "from pyspark.sql import SparkSession\n",
    "# Start SPARK Session\n",
    "spark = SparkSession.builder.appName('Basics').getOrCreate()\n",
    "\n",
    "from pyspark.sql.functions import *\n",
    "from pyspark.sql.types import *\n"
   ]
  },
  {
   "cell_type": "code",
   "execution_count": 2,
   "metadata": {
    "ExecuteTime": {
     "end_time": "2020-04-09T12:08:34.750217Z",
     "start_time": "2020-04-09T12:08:30.549416Z"
    }
   },
   "outputs": [],
   "source": [
    "# Read from main_table\n",
    "Table = spark.read.format('csv').options(\n",
    "    header=True, inferschema=True).load(\n",
    "        \"/home/bluepi/Downloads/Update/product_info/main table/main_table_new.csv\")\n",
    "\n",
    "# Add record type to main table\n",
    "Table_new = Table.withColumn('record_type', lit(\"A\"))\n",
    "\n",
    "# Write in main_table folder\n",
    "path = \"/home/bluepi/Downloads/Update/Updated Product/Product History/\"\n",
    "# try:\n",
    "#     Table_new.write.format('csv').save(\n",
    "#         os.path.join(path, 'past_days'), header=True)\n",
    "# except:\n",
    "#     Table_new.write.mode('overwrite').format('csv').save(\n",
    "#         os.path.join(path, 'past_days'), header=True)\n"
   ]
  },
  {
   "cell_type": "code",
   "execution_count": 3,
   "metadata": {
    "ExecuteTime": {
     "end_time": "2020-04-09T12:08:39.106451Z",
     "start_time": "2020-04-09T12:08:34.753152Z"
    },
    "run_control": {
     "marked": false
    }
   },
   "outputs": [
    {
     "name": "stdout",
     "output_type": "stream",
     "text": [
      "/home/bluepi/Downloads/Update/Updated Product/Product History/\n",
      "\n",
      "Date ----> 30-03-2020\n",
      "\n",
      "/home/bluepi/Downloads/Update/product_info/30-03-2020\n",
      "\n",
      "Date ----> 31-03-2020\n",
      "\n",
      "/home/bluepi/Downloads/Update/product_info/31-03-2020\n",
      "\n",
      "Date ----> 01-04-2020\n",
      "\n",
      "/home/bluepi/Downloads/Update/product_info/01-04-2020\n",
      "\n",
      "Date ----> 02-04-2020\n",
      "\n",
      "/home/bluepi/Downloads/Update/product_info/02-04-2020\n",
      "\n",
      "Date ----> 03-04-2020\n",
      "\n",
      "/home/bluepi/Downloads/Update/product_info/03-04-2020\n",
      "\n",
      "Date ----> 04-04-2020\n",
      "\n",
      "/home/bluepi/Downloads/Update/product_info/04-04-2020\n",
      "\n",
      "Date ----> 05-04-2020\n",
      "\n",
      "/home/bluepi/Downloads/Update/product_info/05-04-2020\n",
      "\n",
      "Date ----> 06-04-2020\n",
      "\n",
      "/home/bluepi/Downloads/Update/product_info/06-04-2020\n",
      "\n",
      "Date ----> 07-04-2020\n",
      "\n",
      "/home/bluepi/Downloads/Update/product_info/07-04-2020\n",
      "\n",
      "Date ----> 08-04-2020\n",
      "\n"
     ]
    }
   ],
   "source": [
    "\n",
    "for i in range(10, 0, -1):\n",
    "\n",
    "    data_schema = [\n",
    "        StructField('p_id', IntegerType(), True),\n",
    "        StructField('p_name', StringType(), True),\n",
    "        StructField('price', IntegerType(), True),\n",
    "        StructField('date_timestamp', TimestampType(), True),\n",
    "        StructField('record_type', StringType(), True)\n",
    "    ]\n",
    "    # Schema which we are accepting\n",
    "    final_struc = StructType(fields=data_schema)\n",
    "\n",
    "    # In this try-catch block we are only taking the previous day data, but initially there is\n",
    "    # no previous day, therefore we are taking main table at begining\n",
    "    try:\n",
    "        path1 = os.path.join(\n",
    "            \"/home/bluepi/Downloads/Update/product_info/\", t)\n",
    "        mainTable = spark.read.csv(path1, header=True, schema=final_struc)\n",
    "        print(path1,end='\\n')\n",
    "    except:\n",
    "        Table_new.write.format('csv').save(os.path.join(path, 'past_days'), header=True)\n",
    "        print(path,end='\\n')\n",
    "\n",
    "\n",
    "#     print(\"\\n File read from --\")\n",
    "#     print(path1, end='\\n')\n",
    "\n",
    "    # Address to the product_info folder\n",
    "    address = \"/home/bluepi/Downloads/Update/product_info/\"\n",
    "    previous_day = (datetime.datetime.today() -\n",
    "                    datetime.timedelta(days=i)).strftime('%d-%m-%Y')\n",
    "    print(\"\\nDate ----> \"+previous_day+\"\\n\")\n",
    "\n",
    "    # before_insert = str(mainTable.count())\n",
    "    #print(\"Main_Table Count ----> \" + str(mainTable.count()))\n",
    "\n",
    "    # Address to the Previous Day folder\n",
    "    new_address = address + previous_day\n",
    "#     print(\"\\nNew Address to read the folder ---->\"+new_address)\n",
    "    t = str(previous_day)\n",
    "    \n",
    "    try :\n",
    "        mainTable.write.format('csv').save(os.path.join(path, t), header=True)\n",
    "    except :\n",
    "        pass\n",
    "\n"
   ]
  },
  {
   "cell_type": "code",
   "execution_count": null,
   "metadata": {},
   "outputs": [],
   "source": []
  }
 ],
 "metadata": {
  "hide_input": false,
  "kernelspec": {
   "display_name": "Python 3",
   "language": "python",
   "name": "python3"
  },
  "language_info": {
   "codemirror_mode": {
    "name": "ipython",
    "version": 3
   },
   "file_extension": ".py",
   "mimetype": "text/x-python",
   "name": "python",
   "nbconvert_exporter": "python",
   "pygments_lexer": "ipython3",
   "version": "3.7.7"
  },
  "varInspector": {
   "cols": {
    "lenName": 16,
    "lenType": 16,
    "lenVar": 40
   },
   "kernels_config": {
    "python": {
     "delete_cmd_postfix": "",
     "delete_cmd_prefix": "del ",
     "library": "var_list.py",
     "varRefreshCmd": "print(var_dic_list())"
    },
    "r": {
     "delete_cmd_postfix": ") ",
     "delete_cmd_prefix": "rm(",
     "library": "var_list.r",
     "varRefreshCmd": "cat(var_dic_list()) "
    }
   },
   "types_to_exclude": [
    "module",
    "function",
    "builtin_function_or_method",
    "instance",
    "_Feature"
   ],
   "window_display": false
  }
 },
 "nbformat": 4,
 "nbformat_minor": 4
}
