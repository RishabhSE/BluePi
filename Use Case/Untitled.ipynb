{
 "cells": [
  {
   "cell_type": "code",
   "execution_count": 1,
   "metadata": {
    "ExecuteTime": {
     "end_time": "2020-04-09T08:20:21.971212Z",
     "start_time": "2020-04-09T08:20:21.940788Z"
    }
   },
   "outputs": [],
   "source": [
    "import datetime\n",
    "\n",
    "# Main entry point for DataFrame and SQL functionality.\n",
    "from pyspark.sql import SparkSession\n",
    "# Start SPARK Session\n",
    "spark = SparkSession.builder.appName('Basics').getOrCreate()\n",
    "\n",
    "from pyspark.sql.functions import *\n"
   ]
  },
  {
   "cell_type": "code",
   "execution_count": null,
   "metadata": {},
   "outputs": [],
   "source": [
    "total_products_updated = my_dictionary()\n",
    "total_products_inserted = my_dictionary()\n",
    "total_products_deleted = my_dictionary()\n",
    "\n",
    "\n",
    "for i in range(10, 0, -1):\n",
    "\n",
    "    data_schema = [\n",
    "        StructField('p_id', IntegerType(), True),\n",
    "        StructField('p_name', StringType(), True),\n",
    "        StructField('price', IntegerType(), True),\n",
    "        StructField('date_timestamp', TimestampType(), True),\n",
    "        StructField('record_type', StringType(), True)\n",
    "    ]\n",
    "    # Schema which we are accepting\n",
    "    final_struc = StructType(fields=data_schema)\n",
    "\n",
    "    # In this try-catch block we are only taking the previous day data, but initially there is\n",
    "    # no previous day, therefore we are taking main table at begining\n",
    "    try:\n",
    "        path1 = os.path.join(\n",
    "            \"/home/bluepi/Downloads/Update/Updated Product/Latest Product/\", t)\n",
    "        try:\n",
    "            os.remove(os.path.join(path1, '_SUCCESS'))\n",
    "        except:\n",
    "            pass\n",
    "\n",
    "        mainTable = spark.read.csv(path1, header=True, schema=final_struc)\n",
    "    except:\n",
    "        path1 = os.path.join(\n",
    "            \"/home/bluepi/Downloads/Update/Updated Product/Latest Product/\", \"main_table\")\n",
    "        try:\n",
    "            os.remove(os.path.join(path1, '_SUCCESS'))\n",
    "        except:\n",
    "            pass\n",
    "        mainTable = spark.read.csv(path1, header=True, schema=final_struc)\n",
    "\n",
    "    print(\"\\n File read from --\")\n",
    "    print(path1, end='\\n')\n",
    "\n",
    "    # Address to the product_info folder\n",
    "    address = \"/home/bluepi/Downloads/Update/product_info/\"\n",
    "    previous_day = (datetime.datetime.today() -\n",
    "                    datetime.timedelta(days=i)).strftime('%d-%m-%Y')\n",
    "    print(\"\\n\\t\\ Date ----> \"+previous_day+\"\\n\")\n",
    "\n",
    "    # before_insert = str(mainTable.count())\n",
    "    print(\"Main_Table Count ----> \" + str(mainTable.count()))\n",
    "\n",
    "    # Address to the Previous Day folder\n",
    "    new_address = address + previous_day\n",
    "#     print(\"\\nNew Address to read the folder ---->\"+new_address)\n",
    "\n"
   ]
  }
 ],
 "metadata": {
  "hide_input": false,
  "kernelspec": {
   "display_name": "Python 3",
   "language": "python",
   "name": "python3"
  },
  "language_info": {
   "codemirror_mode": {
    "name": "ipython",
    "version": 3
   },
   "file_extension": ".py",
   "mimetype": "text/x-python",
   "name": "python",
   "nbconvert_exporter": "python",
   "pygments_lexer": "ipython3",
   "version": "3.7.7"
  },
  "varInspector": {
   "cols": {
    "lenName": 16,
    "lenType": 16,
    "lenVar": 40
   },
   "kernels_config": {
    "python": {
     "delete_cmd_postfix": "",
     "delete_cmd_prefix": "del ",
     "library": "var_list.py",
     "varRefreshCmd": "print(var_dic_list())"
    },
    "r": {
     "delete_cmd_postfix": ") ",
     "delete_cmd_prefix": "rm(",
     "library": "var_list.r",
     "varRefreshCmd": "cat(var_dic_list()) "
    }
   },
   "types_to_exclude": [
    "module",
    "function",
    "builtin_function_or_method",
    "instance",
    "_Feature"
   ],
   "window_display": false
  }
 },
 "nbformat": 4,
 "nbformat_minor": 4
}
