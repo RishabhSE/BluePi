{
 "cells": [
  {
   "cell_type": "code",
   "execution_count": 1,
   "metadata": {
    "ExecuteTime": {
     "end_time": "2020-04-13T08:00:17.331653Z",
     "start_time": "2020-04-13T08:00:17.285102Z"
    }
   },
   "outputs": [],
   "source": [
    "import datetime\n",
    "\n",
    "# Main entry point for DataFrame and SQL functionality.\n",
    "from pyspark.sql import SparkSession\n",
    "# Start SPARK Session\n",
    "spark = SparkSession.builder.appName('Basics').getOrCreate()\n",
    "\n",
    "from pyspark.sql.functions import *\n"
   ]
  },
  {
   "cell_type": "code",
   "execution_count": 2,
   "metadata": {
    "ExecuteTime": {
     "end_time": "2020-04-13T08:00:21.664670Z",
     "start_time": "2020-04-13T08:00:17.836040Z"
    }
   },
   "outputs": [
    {
     "name": "stdout",
     "output_type": "stream",
     "text": [
      "Previous Date ---->03-04-2020\n",
      "\n",
      "New Address to read the folder ---->/home/bluepi/Downloads/Update/product_info/03-04-2020\n"
     ]
    }
   ],
   "source": [
    "# Address to the product_info folder\n",
    "address = \"/home/bluepi/Downloads/Update/product_info/\"\n",
    "previous_day = (datetime.datetime.today() - datetime.timedelta(days=10)).strftime('%d-%m-%Y')\n",
    "print(\"Previous Date ---->\"+previous_day)\n",
    "\n",
    "# Address to the Previous Day folder\n",
    "new_address = address + previous_day\n",
    "print(\"\\nNew Address to read the folder ---->\"+new_address)\n",
    "\n",
    "# Read the Previous Day folder\n",
    "per_day_data = spark.read.format('csv') \\\n",
    "          .options( header=True, inferschema=True ) \\\n",
    "          .load(new_address)"
   ]
  },
  {
   "cell_type": "code",
   "execution_count": null,
   "metadata": {
    "ExecuteTime": {
     "end_time": "2020-04-13T08:00:21.803386Z",
     "start_time": "2020-04-13T08:00:20.528Z"
    }
   },
   "outputs": [],
   "source": [
    "# Insert into mainTable using union operation\n",
    "mainTable_I_inserted = per_day_data.filter(\"record_type == 'I' \")\n",
    "mainTable_I_inserted.show()"
   ]
  },
  {
   "cell_type": "code",
   "execution_count": 3,
   "metadata": {
    "ExecuteTime": {
     "end_time": "2020-04-13T08:00:22.778966Z",
     "start_time": "2020-04-13T08:00:21.909323Z"
    }
   },
   "outputs": [
    {
     "name": "stdout",
     "output_type": "stream",
     "text": [
      "\n",
      "Table of Products to be Updated in Main_Table taken from Per_Day_Table \n",
      "\n",
      "+----+-----------+-----+-------------------+-----------+\n",
      "|p_id|     p_name|price|     date_timestamp|record_type|\n",
      "+----+-----------+-----+-------------------+-----------+\n",
      "|  10|   Home Ing|  777|2020-04-02 09:57:44|          U|\n",
      "|  14|Stringtough|  354|2020-04-02 21:35:48|          U|\n",
      "|  17|  Gembucket|  853|2020-04-02 15:57:41|          U|\n",
      "|  34|    Bitchip|  833|2020-04-02 15:40:31|          U|\n",
      "|  36|      Subin|  244|2020-04-02 21:41:57|          U|\n",
      "|  37|      Otcom|  260|2020-04-02 21:13:24|          U|\n",
      "|  49|       Stim|  285|2020-04-02 15:44:40|          U|\n",
      "|  50|    Matsoft|  730|2020-04-02 03:58:25|          U|\n",
      "|  56|  Voyatouch|  114|2020-04-02 21:17:30|          U|\n",
      "|  57|  Voyatouch|  175|2020-04-02 09:13:37|          U|\n",
      "|  65|   Tampflex|  257|2020-04-02 03:28:48|          U|\n",
      "|  66|  Gembucket|  212|2020-04-02 15:42:30|          U|\n",
      "|  66|  Gembucket| 1074|2020-04-02 03:46:21|          U|\n",
      "|  66|  Gembucket|  774|2020-04-02 21:58:57|          U|\n",
      "|  80|     Zathin|  721|2020-04-02 03:42:30|          U|\n",
      "|  81|      Opela|  243|2020-04-02 21:33:16|          U|\n",
      "|  81|      Opela|  997|2020-04-02 09:36:48|          U|\n",
      "|  98|   Tampflex| 1304|2020-04-02 09:16:28|          U|\n",
      "| 101|     Bigtax|  773|2020-04-02 03:56:54|          U|\n",
      "+----+-----------+-----+-------------------+-----------+\n",
      "\n"
     ]
    }
   ],
   "source": [
    "print(\"\\nTable of Products to be Updated in Main_Table taken from Per_Day_Table \\n\")\n",
    "per_day_data.filter(\"record_type == 'U' \").orderBy(per_day_data.p_id.asc()).show()\n",
    "\n",
    "# Created a new DataFrame of records to be updated\n",
    "from_per_day_data_U = per_day_data.filter(\"record_type == 'U' \")"
   ]
  },
  {
   "cell_type": "code",
   "execution_count": 4,
   "metadata": {
    "ExecuteTime": {
     "end_time": "2020-04-13T08:00:28.342528Z",
     "start_time": "2020-04-13T08:00:26.188753Z"
    }
   },
   "outputs": [
    {
     "name": "stdout",
     "output_type": "stream",
     "text": [
      "+------+-------------------+\n",
      "|p_id_1|   date_timestamp_1|\n",
      "+------+-------------------+\n",
      "|    10|2020-04-02 09:57:44|\n",
      "|    14|2020-04-02 21:35:48|\n",
      "|    17|2020-04-02 15:57:41|\n",
      "|    34|2020-04-02 15:40:31|\n",
      "|    36|2020-04-02 21:41:57|\n",
      "|    37|2020-04-02 21:13:24|\n",
      "|    49|2020-04-02 15:44:40|\n",
      "|    50|2020-04-02 03:58:25|\n",
      "|    56|2020-04-02 21:17:30|\n",
      "|    57|2020-04-02 09:13:37|\n",
      "|    65|2020-04-02 03:28:48|\n",
      "|    66|2020-04-02 21:58:57|\n",
      "|    80|2020-04-02 03:42:30|\n",
      "|    81|2020-04-02 21:33:16|\n",
      "|    98|2020-04-02 09:16:28|\n",
      "|   101|2020-04-02 03:56:54|\n",
      "+------+-------------------+\n",
      "\n"
     ]
    }
   ],
   "source": [
    "for_join_mT_and_pDD = from_per_day_data_U.groupBy(\"p_id\").agg({\"date_timestamp\":\"max\"}).withColumnRenamed(\"max(date_timestamp)\",\"date_timestamp_1\")\n",
    "for_join_mT_and_pDD = for_join_mT_and_pDD.withColumnRenamed(\"p_id\",\"p_id_1\")\n",
    "for_join_mT_and_pDD.orderBy(col(\"p_id_1\")).show()"
   ]
  },
  {
   "cell_type": "code",
   "execution_count": 5,
   "metadata": {
    "ExecuteTime": {
     "end_time": "2020-04-13T08:00:36.410231Z",
     "start_time": "2020-04-13T08:00:35.102174Z"
    }
   },
   "outputs": [
    {
     "name": "stdout",
     "output_type": "stream",
     "text": [
      "+----+-----------+-----+-------------------+-----------+\n",
      "|p_id|     p_name|price|     date_timestamp|record_type|\n",
      "+----+-----------+-----+-------------------+-----------+\n",
      "|  10|   Home Ing|  777|2020-04-02 09:57:44|          U|\n",
      "|  14|Stringtough|  354|2020-04-02 21:35:48|          U|\n",
      "|  17|  Gembucket|  853|2020-04-02 15:57:41|          U|\n",
      "|  34|    Bitchip|  833|2020-04-02 15:40:31|          U|\n",
      "|  36|      Subin|  244|2020-04-02 21:41:57|          U|\n",
      "|  37|      Otcom|  260|2020-04-02 21:13:24|          U|\n",
      "|  49|       Stim|  285|2020-04-02 15:44:40|          U|\n",
      "|  50|    Matsoft|  730|2020-04-02 03:58:25|          U|\n",
      "|  56|  Voyatouch|  114|2020-04-02 21:17:30|          U|\n",
      "|  57|  Voyatouch|  175|2020-04-02 09:13:37|          U|\n",
      "|  65|   Tampflex|  257|2020-04-02 03:28:48|          U|\n",
      "|  66|  Gembucket|  774|2020-04-02 21:58:57|          U|\n",
      "|  80|     Zathin|  721|2020-04-02 03:42:30|          U|\n",
      "|  81|      Opela|  243|2020-04-02 21:33:16|          U|\n",
      "|  98|   Tampflex| 1304|2020-04-02 09:16:28|          U|\n",
      "| 101|     Bigtax|  773|2020-04-02 03:56:54|          U|\n",
      "+----+-----------+-----+-------------------+-----------+\n",
      "\n"
     ]
    }
   ],
   "source": [
    "# Performed Join opteration to pick only latest updates only\n",
    "joined = from_per_day_data_U.join(for_join_mT_and_pDD, (\n",
    "    from_per_day_data_U.p_id == for_join_mT_and_pDD.p_id_1) & (\n",
    "    from_per_day_data_U.date_timestamp == for_join_mT_and_pDD.date_timestamp_1) ,'inner')\n",
    "\n",
    "joined = joined.select(['p_id','p_name','price','date_timestamp','record_type'])\n",
    "joined.orderBy(col(\"p_id\")).show()"
   ]
  },
  {
   "cell_type": "code",
   "execution_count": null,
   "metadata": {},
   "outputs": [],
   "source": []
  }
 ],
 "metadata": {
  "hide_input": false,
  "kernelspec": {
   "display_name": "Python 3",
   "language": "python",
   "name": "python3"
  },
  "language_info": {
   "codemirror_mode": {
    "name": "ipython",
    "version": 3
   },
   "file_extension": ".py",
   "mimetype": "text/x-python",
   "name": "python",
   "nbconvert_exporter": "python",
   "pygments_lexer": "ipython3",
   "version": "3.7.7"
  },
  "toc": {
   "base_numbering": 1,
   "nav_menu": {},
   "number_sections": true,
   "sideBar": true,
   "skip_h1_title": false,
   "title_cell": "Table of Contents",
   "title_sidebar": "Contents",
   "toc_cell": false,
   "toc_position": {},
   "toc_section_display": true,
   "toc_window_display": false
  },
  "varInspector": {
   "cols": {
    "lenName": 16,
    "lenType": 16,
    "lenVar": 40
   },
   "kernels_config": {
    "python": {
     "delete_cmd_postfix": "",
     "delete_cmd_prefix": "del ",
     "library": "var_list.py",
     "varRefreshCmd": "print(var_dic_list())"
    },
    "r": {
     "delete_cmd_postfix": ") ",
     "delete_cmd_prefix": "rm(",
     "library": "var_list.r",
     "varRefreshCmd": "cat(var_dic_list()) "
    }
   },
   "types_to_exclude": [
    "module",
    "function",
    "builtin_function_or_method",
    "instance",
    "_Feature"
   ],
   "window_display": false
  }
 },
 "nbformat": 4,
 "nbformat_minor": 4
}
